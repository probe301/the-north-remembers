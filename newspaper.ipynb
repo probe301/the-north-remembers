{
 "cells": [
  {
   "cell_type": "code",
   "execution_count": null,
   "metadata": {},
   "outputs": [],
   "source": []
  },
  {
   "cell_type": "markdown",
   "metadata": {},
   "source": [
    "# The North Remembers Project"
   ]
  },
  {
   "cell_type": "code",
   "execution_count": null,
   "metadata": {
    "ExecuteTime": {
     "end_time": "2019-08-31T09:34:13.583329Z",
     "start_time": "2019-08-31T09:34:13.519453Z"
    }
   },
   "outputs": [],
   "source": [
    "%load_ext autoreload\n",
    "%autoreload 2\n",
    "\n",
    "import os\n",
    "import sys\n",
    "import re\n",
    "import random\n",
    "from pprint import pprint\n",
    "from time import sleep\n",
    "import math\n",
    "from itertools import groupby\n",
    "from collections import OrderedDict as odict"
   ]
  },
  {
   "cell_type": "markdown",
   "metadata": {},
   "source": [
    "### 取舍\n",
    "\n",
    "数据存储用 github, 或者 bitbucket\n",
    "\n",
    "\n",
    "提供导出为 rss, epub, pdf, github 自带检查历史的功能\n",
    "\n",
    "不追求实效性\n",
    "\n",
    "\n",
    "\n",
    "外链图片不作为重点\n",
    "外链图片和视频链接, url 链接, 一并修复, 换行字符串等也一并处理, 七牛云?\n",
    "md 中的 Latex 和 代码检测也在这里修复, pygment"
   ]
  },
  {
   "cell_type": "markdown",
   "metadata": {},
   "source": [
    "### 调用关系\n",
    "\n",
    "\n",
    "\n"
   ]
  },
  {
   "cell_type": "markdown",
   "metadata": {},
   "source": [
    "#### Collector\n",
    "\n",
    "处理用户发出的命令\n",
    "\n",
    "可以是 zhihu answer url, 问题页, 收藏夹页, 需要带有过滤条件\n",
    "用户可能在过滤条件后再做修补删减\n",
    "\n",
    "需要转为具体的爬虫任务, 并创建文件夹\n",
    "单页收集到特定的文件夹, 否则收集到一个自动命名的文件夹\n",
    "\n",
    "在文件夹下生成task\n",
    "\n",
    "Resources\n",
    "global_config\n",
    "task_config (scanlist)\n",
    "\n",
    "\n",
    "Collector.append(url, options)\n",
    "\n",
    "\n",
    "\n",
    "#### Watcher\n",
    "\n",
    "\n",
    "\n",
    "任务调度, 监视文件夹, 根据 task.yaml 抓取页面\n",
    "\n",
    "task.yaml 也记录历史\n",
    "\n",
    "task_type: single_page, \n",
    "update_batch: 10\n",
    "\n",
    "\n",
    "track_new: true\n",
    "\n",
    "\n",
    "通过扫描已有的待抓取任务, 在手动触发, 达到特定时间后, 分派抓取任务\n",
    "\n",
    "    Watcher\n",
    "        .watch()\n",
    "        .remember()\n",
    "        .status()\n",
    "        .load_config_yaml\n",
    "        .save_config_yaml\n",
    "        .add_task add_tasks\n",
    "\n",
    "\n",
    "\n",
    "Task\n",
    "\n",
    "被调用抓取单一页面内容, 或者抓取一个 url 列表\n",
    "抓取单一页面内容将存为 md, 不存 html\n",
    "\n",
    "    Task\n",
    "        ZhihuAnswerPageTask\n",
    "        ZhihuAnswerIndexTask\n",
    "        ZhihuColumnPageTask\n",
    "        ZhihuColumnIndexTask\n",
    "\n",
    "Task 会使用 Page.save / load\n",
    "\n",
    "    .last_page()\n",
    "    .fetch()\n",
    "    .save() 传递一些参数给 page 如 watch_date\n",
    "    .to_yaml_text()\n",
    "    \n",
    "    .priority\n",
    "    .is_page_type\n",
    "    .should_fetch\n",
    "    .content_is_changed\n",
    "\n",
    "\n",
    "\n",
    "ZhihuColumnPage\n",
    "ZhihuColumnLister\n",
    "\n",
    "\n",
    "Fetcher.request(url) => dict()? Page()\n",
    "\n",
    "Page.write to / load from disk\n",
    "\n",
    "PageTask.run => Fetcher.request(url) => New Page\n",
    "PageTask.update => New Page.write\n",
    "IndexTask.run => Fetcher.request(url) => [New Tasks]\n",
    "\n",
    "\n",
    "Watcher -> PageTask -> Page (tmpl, fetcherAPI)\n",
    "                            ZhihuColumnPage\n",
    "                            ZhihuAnswerPage\n",
    "                            WeixinArticlePage\n",
    "\n",
    "\n",
    "Watcher -> IndexTask -> append more tasks\n",
    "                        ZhihuColumnIndex\n",
    "    \n",
    "\n",
    "\n",
    "\n"
   ]
  },
  {
   "cell_type": "markdown",
   "metadata": {},
   "source": [
    "#### Fetcher\n",
    "\n",
    "Page\n",
    "\n",
    "页面内容分为 元数据 + 文章主体 + 评论, 评论先放放\n",
    "\n",
    "\n",
    "Page.load()  返回一个读盘的页面\n",
    "\n",
    "以md文件为单位\n",
    "\n",
    "    ZhihuColumnPage\n",
    "        .load(path)\n",
    "        .write(path)\n",
    "        .compare()\n",
    "\n",
    "    attr\n",
    "        task = ForeignKeyField(Task, related_name='task')\n",
    "        watch_date = DateTimeField()\n",
    "        title = CharField(null=True)\n",
    "        author = CharField(null=True)\n",
    "        content = TextField(null=True)\n",
    "        metadata = TextField(null=True)\n",
    "        topic = TextField(null=True)\n",
    "        question = TextField(null=True)\n",
    "        comment = TextField(null=True)\n",
    "\n",
    "\n",
    "\n",
    "\n",
    "\n",
    "#### Cleaner\n",
    "\n",
    "处理, 清理文本的规则\n",
    "\n",
    "\n",
    "\n",
    "Exporter\n",
    "\n",
    "根据 Template 转换为 rss, epub, pdf, 以及 github diff 预览\n",
    "\n",
    "图片转存也算在 Template 里"
   ]
  },
  {
   "cell_type": "code",
   "execution_count": null,
   "metadata": {},
   "outputs": [],
   "source": [
    "描述\n",
    "\n",
    "以更加简洁清晰的排版阅读知乎. (这个需求有简悦)\n",
    "\n",
    "用户指定一个知乎网站上的问题, zhihumark 抓取相应的回答内容, 以 markdown 文档的形式提供给用户阅读和下载. (提供 md 下载没用)\n",
    "\n",
    "\n",
    "\n",
    "\n",
    "\n",
    "功能\n",
    "\n",
    "可以自由定制想抓取的内容, 这包括: 抓取指定答主/收藏夹名/问题/话题下的回答, 抓取赞同数量超过N的回答.\n",
    "可以设置黑名单, 不抓取特定的问题或者答主.\n",
    "抓取评论, 以会话的形式组织起来, 让上下文相关的评论出现在一起, 尽量滤除没有价值的评论.\n",
    "将收集到的一系列文档保存为epub或者pdf, 或者批量下载 markdown 文档, 以便离线阅读.\n",
    "制作成 feed 以便放入 rss 阅读器, 获取实时更新.\n",
    "\n",
    "\n",
    "观念\n",
    "\n",
    "我们也不显示其他人搜索了什么关键字, 获取了什么页面, 下载了哪些电子书, 看到什么取决于你\n",
    "\n",
    "我们相信评论是回答(或文章)可以分割的一部分, 许多评论很水, 有些很有价值.\n",
    "\n",
    "相信评论区是对回答的重要补充, 也有随回答保留的必要, 但需处理评论区良莠不齐, 引用回复混乱的问题.\n",
    "\n",
    "\n",
    "\n",
    "页面设计\n",
    "\n",
    "单页面网站应用, 基本上类似搜索引擎的风格和排版.\n",
    "\n",
    "输入框 - 接受输入ID或URL 答主/收藏夹名/问题名/话题名\n",
    "\n",
    "选项 - 保留最前的n个回答?\n",
    "选项 - 赞同数至少是?\n",
    "选项 - 保留评论? 评论对话中至少有多少 likes\n",
    "屏蔽 - 不感兴趣的话题, 问题, 答主\n",
    "返回 - markdown文件列表\n",
    "\n",
    "批量下载按钮"
   ]
  },
  {
   "cell_type": "code",
   "execution_count": null,
   "metadata": {},
   "outputs": [],
   "source": []
  },
  {
   "cell_type": "code",
   "execution_count": null,
   "metadata": {},
   "outputs": [],
   "source": [
    "\n"
   ]
  },
  {
   "cell_type": "code",
   "execution_count": null,
   "metadata": {},
   "outputs": [],
   "source": []
  },
  {
   "cell_type": "code",
   "execution_count": null,
   "metadata": {},
   "outputs": [],
   "source": []
  },
  {
   "cell_type": "code",
   "execution_count": null,
   "metadata": {},
   "outputs": [],
   "source": []
  },
  {
   "cell_type": "code",
   "execution_count": null,
   "metadata": {},
   "outputs": [],
   "source": []
  },
  {
   "cell_type": "code",
   "execution_count": null,
   "metadata": {},
   "outputs": [],
   "source": []
  },
  {
   "cell_type": "code",
   "execution_count": null,
   "metadata": {},
   "outputs": [],
   "source": []
  },
  {
   "cell_type": "code",
   "execution_count": null,
   "metadata": {},
   "outputs": [],
   "source": []
  },
  {
   "cell_type": "code",
   "execution_count": null,
   "metadata": {},
   "outputs": [],
   "source": []
  },
  {
   "cell_type": "code",
   "execution_count": null,
   "metadata": {},
   "outputs": [],
   "source": []
  },
  {
   "cell_type": "code",
   "execution_count": null,
   "metadata": {},
   "outputs": [],
   "source": []
  },
  {
   "cell_type": "code",
   "execution_count": null,
   "metadata": {},
   "outputs": [],
   "source": []
  },
  {
   "cell_type": "code",
   "execution_count": null,
   "metadata": {},
   "outputs": [],
   "source": []
  },
  {
   "cell_type": "code",
   "execution_count": null,
   "metadata": {},
   "outputs": [],
   "source": []
  },
  {
   "cell_type": "code",
   "execution_count": null,
   "metadata": {
    "ExecuteTime": {
     "end_time": "2019-08-31T16:24:52.530811Z",
     "start_time": "2019-08-31T16:24:52.319113Z"
    }
   },
   "outputs": [],
   "source": [
    "import tools\n",
    "tools.generate_ascii_title('flask')"
   ]
  },
  {
   "cell_type": "code",
   "execution_count": null,
   "metadata": {},
   "outputs": [],
   "source": []
  },
  {
   "cell_type": "code",
   "execution_count": null,
   "metadata": {},
   "outputs": [],
   "source": []
  },
  {
   "cell_type": "code",
   "execution_count": null,
   "metadata": {},
   "outputs": [],
   "source": []
  },
  {
   "cell_type": "code",
   "execution_count": null,
   "metadata": {},
   "outputs": [],
   "source": []
  },
  {
   "cell_type": "code",
   "execution_count": null,
   "metadata": {},
   "outputs": [],
   "source": []
  },
  {
   "cell_type": "code",
   "execution_count": null,
   "metadata": {},
   "outputs": [],
   "source": []
  },
  {
   "cell_type": "code",
   "execution_count": null,
   "metadata": {},
   "outputs": [],
   "source": []
  },
  {
   "cell_type": "code",
   "execution_count": null,
   "metadata": {},
   "outputs": [],
   "source": []
  },
  {
   "cell_type": "code",
   "execution_count": null,
   "metadata": {},
   "outputs": [],
   "source": []
  },
  {
   "cell_type": "code",
   "execution_count": null,
   "metadata": {},
   "outputs": [],
   "source": []
  },
  {
   "cell_type": "markdown",
   "metadata": {
    "ExecuteTime": {
     "end_time": "2019-06-27T07:39:48.453813Z",
     "start_time": "2019-06-27T07:39:48.285298Z"
    }
   },
   "source": [
    "### Test Collector"
   ]
  },
  {
   "cell_type": "code",
   "execution_count": null,
   "metadata": {
    "ExecuteTime": {
     "end_time": "2019-08-30T16:53:19.537788Z",
     "start_time": "2019-08-30T16:53:19.468004Z"
    }
   },
   "outputs": [],
   "source": [
    "%load_ext autoreload\n",
    "%autoreload 2"
   ]
  },
  {
   "cell_type": "code",
   "execution_count": null,
   "metadata": {
    "ExecuteTime": {
     "end_time": "2019-08-30T16:53:56.291566Z",
     "start_time": "2019-08-30T16:53:56.211781Z"
    }
   },
   "outputs": [],
   "source": [
    "from collector import Collector\n",
    "\n",
    "col = Collector(project_path='D:\\DataStore\\The North Remembers - Science')\n",
    "# col = Collector(project_path='/project')\n",
    "# topic_id = 19644231 # 古建筑\n",
    "# topic_id = 19582176 # 建筑设计\n",
    "# topic_id = 19573393 # 建筑史\n",
    "# topic_id = 19568972 # 建筑学"
   ]
  },
  {
   "cell_type": "code",
   "execution_count": null,
   "metadata": {
    "ExecuteTime": {
     "end_time": "2019-08-30T16:51:04.171708Z",
     "start_time": "2019-08-30T16:51:04.083942Z"
    }
   },
   "outputs": [],
   "source": [
    "# url = 'https://zhuanlan.zhihu.com/wision'\n",
    "# tip = '智堡研究所'\n",
    "# # col.add(url, tip, lister_option=None, page_option=None)\n",
    "# col.add(url, tip)\n",
    "# str(col)"
   ]
  },
  {
   "cell_type": "code",
   "execution_count": null,
   "metadata": {
    "ExecuteTime": {
     "end_time": "2019-08-30T16:53:58.670337Z",
     "start_time": "2019-08-30T16:53:57.379819Z"
    }
   },
   "outputs": [],
   "source": [
    "urls = [\n",
    "  'https://www.zhihu.com/topic/19577481/top-answers/', # 量子物理\n",
    "  'https://www.zhihu.com/topic/19803067/top-answers/', # 量子通信\n",
    "  'https://www.zhihu.com/topic/19938157/top-answers/', # 量子计算机\n",
    "]\n",
    "\n",
    "col.add_multiple(urls, lister_option={'zhihu_min_voteup': 1000})\n",
    "str(col)"
   ]
  },
  {
   "cell_type": "code",
   "execution_count": null,
   "metadata": {
    "ExecuteTime": {
     "end_time": "2019-08-30T16:52:37.344411Z",
     "start_time": "2019-08-30T16:52:37.274603Z"
    }
   },
   "outputs": [],
   "source": [
    "import tools\n",
    "\n",
    "t = tools.parse_type('https://www.zhihu.com/topic/19577481/top-answers/')"
   ]
  },
  {
   "cell_type": "code",
   "execution_count": null,
   "metadata": {
    "ExecuteTime": {
     "end_time": "2019-08-30T16:52:38.498412Z",
     "start_time": "2019-08-30T16:52:38.419617Z"
    }
   },
   "outputs": [],
   "source": [
    "t == tools.UrlType.ZhihuAnswerLister"
   ]
  },
  {
   "cell_type": "code",
   "execution_count": null,
   "metadata": {},
   "outputs": [],
   "source": [
    "# collector.add(weixin_page_url)\n",
    "# collector.add(zhihu_column_url)\n",
    "# collector.add(zhihu_anwser_id=xxx)\n",
    "# collector.add(zhihu_author_id=xxx)\n",
    "# collector.add(column_id=xxx)\n",
    "\n",
    "# collector.save(file=xxx)\n",
    "# ...\n",
    "# collector.rescan()\n",
    "# collector.save(file=xxx)\n",
    "# collector = Collector.load(file=xxx.yaml)"
   ]
  },
  {
   "cell_type": "code",
   "execution_count": null,
   "metadata": {},
   "outputs": [],
   "source": []
  },
  {
   "cell_type": "code",
   "execution_count": null,
   "metadata": {},
   "outputs": [],
   "source": []
  },
  {
   "cell_type": "code",
   "execution_count": null,
   "metadata": {},
   "outputs": [],
   "source": []
  },
  {
   "cell_type": "code",
   "execution_count": null,
   "metadata": {},
   "outputs": [],
   "source": []
  },
  {
   "cell_type": "code",
   "execution_count": null,
   "metadata": {},
   "outputs": [],
   "source": []
  },
  {
   "cell_type": "code",
   "execution_count": null,
   "metadata": {},
   "outputs": [],
   "source": []
  },
  {
   "cell_type": "code",
   "execution_count": null,
   "metadata": {},
   "outputs": [],
   "source": []
  },
  {
   "cell_type": "code",
   "execution_count": null,
   "metadata": {},
   "outputs": [],
   "source": []
  },
  {
   "cell_type": "markdown",
   "metadata": {},
   "source": [
    "### Test Watcher"
   ]
  },
  {
   "cell_type": "code",
   "execution_count": null,
   "metadata": {
    "ExecuteTime": {
     "end_time": "2019-08-31T09:34:19.244052Z",
     "start_time": "2019-08-31T09:34:19.193209Z"
    }
   },
   "outputs": [],
   "source": [
    "%load_ext autoreload\n",
    "%autoreload 2"
   ]
  },
  {
   "cell_type": "code",
   "execution_count": null,
   "metadata": {
    "ExecuteTime": {
     "end_time": "2019-09-01T15:39:52.718592Z",
     "start_time": "2019-09-01T15:39:52.374521Z"
    },
    "scrolled": false
   },
   "outputs": [],
   "source": [
    "from watcher import Watcher\n",
    "\n",
    "\n",
    "# w = Watcher(r'D:\\DataStore\\The North Remembers - Social\\篝火旁的故事')\n",
    "# w = Watcher(r'D:\\DataStore\\The North Remembers - Social\\沉思的托克维尔')\n",
    "# w = Watcher(r'D:\\DataStore\\The North Remembers - Science\\何为现实？拉普拉斯之妖与薛定谔猫之决战')\n",
    "\n",
    "# w = Watcher(r'D:\\DataStore\\The North Remembers - Art\\知乎话题 - 古建筑, 建筑设计, 建筑史, 建筑学')\n",
    "\n",
    "w = Watcher(r'D:\\DataStore\\test\\机票')\n",
    "# w = Watcher(r'D:\\DataStore\\The North Remembers - Game\\旗舰评论——战略航空军元帅的旗舰')\n",
    "# w = Watcher(r'D:\\DataStore\\test\\经济')\n",
    "# w = Watcher(r'D:\\DataStore\\The North Remembers - Social\\何瑫的写作工坊')\n",
    "# w = Watcher(r'D:\\DataStore\\The North Remembers - Science/知乎话题 - 量子物理, 量子通讯, 量子计算机')\n"
   ]
  },
  {
   "cell_type": "code",
   "execution_count": null,
   "metadata": {
    "ExecuteTime": {
     "end_time": "2019-09-01T15:41:25.940163Z",
     "start_time": "2019-09-01T15:40:06.101914Z"
    },
    "scrolled": false
   },
   "outputs": [],
   "source": [
    "for status in w.watch():\n",
    "  print(status)"
   ]
  },
  {
   "cell_type": "code",
   "execution_count": null,
   "metadata": {
    "ExecuteTime": {
     "end_time": "2019-08-31T09:39:58.751078Z",
     "start_time": "2019-08-31T09:39:58.676286Z"
    }
   },
   "outputs": [],
   "source": [
    "from werkzeug.contrib.atom import AtomFeed\n",
    "feed = AtomFeed('feed_name',\n",
    "                  feed_url=\"feed_url.request.url\", \n",
    "                  url=\"url.request.url_root\")\n",
    "\n",
    "\n"
   ]
  },
  {
   "cell_type": "code",
   "execution_count": null,
   "metadata": {},
   "outputs": [],
   "source": []
  },
  {
   "cell_type": "code",
   "execution_count": null,
   "metadata": {},
   "outputs": [],
   "source": []
  },
  {
   "cell_type": "code",
   "execution_count": null,
   "metadata": {},
   "outputs": [],
   "source": []
  },
  {
   "cell_type": "code",
   "execution_count": null,
   "metadata": {
    "ExecuteTime": {
     "end_time": "2019-08-28T06:27:51.264472Z",
     "start_time": "2019-08-28T06:27:51.194688Z"
    }
   },
   "outputs": [],
   "source": [
    "u = 'https://www.zhihu.com/question/19848582/answer/18231808'\n",
    "question = parse_question(u)\n",
    "answer = parse_answer(u)\n",
    "# try:\n",
    "#   title = question.title\n",
    "#   detail = question.detail\n",
    "# except GetDataErrorException:\n",
    "#   # zhihu_oauth.exception.GetDataErrorException:\n",
    "#   # A error happened when get data: 问题不存在\n",
    "#   raise QuestionDeleteError(msg='问题已删除', url=url)\n"
   ]
  },
  {
   "cell_type": "code",
   "execution_count": null,
   "metadata": {
    "ExecuteTime": {
     "end_time": "2019-08-28T06:27:52.466254Z",
     "start_time": "2019-08-28T06:27:51.989621Z"
    }
   },
   "outputs": [],
   "source": [
    "question.title"
   ]
  },
  {
   "cell_type": "code",
   "execution_count": null,
   "metadata": {
    "ExecuteTime": {
     "end_time": "2019-08-28T06:21:42.404885Z",
     "start_time": "2019-08-28T06:21:42.259128Z"
    }
   },
   "outputs": [],
   "source": [
    "# 为什么 9·11 恐怖袭击中双子塔在一段时间的燃烧后倒塌了？\n",
    "fetch_zhihu_answer('https://www.zhihu.com/question/19848582/answer/18231808')"
   ]
  },
  {
   "cell_type": "code",
   "execution_count": null,
   "metadata": {
    "ExecuteTime": {
     "end_time": "2019-08-27T06:44:39.894647Z",
     "start_time": "2019-08-27T06:44:39.824837Z"
    }
   },
   "outputs": [],
   "source": [
    "d = _\n",
    "print(d.get('comments'))"
   ]
  },
  {
   "cell_type": "markdown",
   "metadata": {},
   "source": [
    "### Test Generate Feed "
   ]
  },
  {
   "cell_type": "code",
   "execution_count": null,
   "metadata": {
    "ExecuteTime": {
     "end_time": "2019-08-23T06:22:50.749204Z",
     "start_time": "2019-08-23T06:22:50.001402Z"
    },
    "scrolled": true
   },
   "outputs": [],
   "source": [
    "from recorder import generate_feed\n",
    "\n",
    "resp = generate_feed(r'D:\\DataStore\\The North Remembers - Art\\知乎话题 - 古建筑, 建筑设计, 建筑史, 建筑学')\n",
    "print(bytes.decode(resp[0]))"
   ]
  },
  {
   "cell_type": "code",
   "execution_count": null,
   "metadata": {
    "ExecuteTime": {
     "end_time": "2019-08-22T10:17:54.523020Z",
     "start_time": "2019-08-22T10:17:54.463183Z"
    }
   },
   "outputs": [],
   "source": [
    "resp = _"
   ]
  },
  {
   "cell_type": "code",
   "execution_count": null,
   "metadata": {
    "ExecuteTime": {
     "end_time": "2019-08-23T05:44:09.783803Z",
     "start_time": "2019-08-23T05:44:09.725980Z"
    },
    "scrolled": true
   },
   "outputs": [],
   "source": []
  },
  {
   "cell_type": "code",
   "execution_count": null,
   "metadata": {
    "ExecuteTime": {
     "end_time": "2019-08-22T09:59:48.545802Z",
     "start_time": "2019-08-22T09:59:48.479979Z"
    },
    "scrolled": true
   },
   "outputs": [],
   "source": [
    "resp.response"
   ]
  },
  {
   "cell_type": "code",
   "execution_count": null,
   "metadata": {},
   "outputs": [],
   "source": []
  },
  {
   "cell_type": "code",
   "execution_count": null,
   "metadata": {},
   "outputs": [],
   "source": []
  },
  {
   "cell_type": "code",
   "execution_count": null,
   "metadata": {},
   "outputs": [],
   "source": []
  },
  {
   "cell_type": "markdown",
   "metadata": {},
   "source": [
    "### Test Zhihu Fetch Error"
   ]
  },
  {
   "cell_type": "code",
   "execution_count": null,
   "metadata": {
    "ExecuteTime": {
     "end_time": "2019-08-27T06:36:06.533108Z",
     "start_time": "2019-08-27T06:36:06.463294Z"
    }
   },
   "outputs": [],
   "source": [
    "from fetcher_api.zhihu import fetch_zhihu_answer\n",
    "from fetcher_api.zhihu import parse_answer\n",
    "from fetcher_api.zhihu import parse_question"
   ]
  },
  {
   "cell_type": "code",
   "execution_count": null,
   "metadata": {},
   "outputs": [],
   "source": []
  },
  {
   "cell_type": "code",
   "execution_count": null,
   "metadata": {},
   "outputs": [],
   "source": []
  },
  {
   "cell_type": "markdown",
   "metadata": {},
   "source": [
    "### Fetch comments MaxRetryError"
   ]
  },
  {
   "cell_type": "code",
   "execution_count": null,
   "metadata": {
    "ExecuteTime": {
     "end_time": "2019-08-28T06:27:47.338051Z",
     "start_time": "2019-08-28T06:27:47.266245Z"
    }
   },
   "outputs": [],
   "source": [
    "from pprint import pprint\n",
    "from fetcher_api.zhihu import parse_question\n",
    "from fetcher_api.zhihu import parse_answer\n",
    "from fetcher_api.zhihu import zhihu_detect_with_client\n",
    "from fetcher_api.zhihu import zhihu_detect\n",
    "from fetcher_api.zhihu import get_comments_api_v4\n",
    "from fetcher_api.zhihu import get_valuable_conversations_api_v4"
   ]
  },
  {
   "cell_type": "code",
   "execution_count": null,
   "metadata": {},
   "outputs": [],
   "source": []
  },
  {
   "cell_type": "code",
   "execution_count": null,
   "metadata": {},
   "outputs": [],
   "source": []
  },
  {
   "cell_type": "code",
   "execution_count": null,
   "metadata": {},
   "outputs": [],
   "source": []
  },
  {
   "cell_type": "code",
   "execution_count": null,
   "metadata": {},
   "outputs": [],
   "source": [
    "\n",
    "\n"
   ]
  },
  {
   "cell_type": "code",
   "execution_count": null,
   "metadata": {},
   "outputs": [],
   "source": []
  },
  {
   "cell_type": "code",
   "execution_count": null,
   "metadata": {},
   "outputs": [],
   "source": []
  },
  {
   "cell_type": "code",
   "execution_count": null,
   "metadata": {},
   "outputs": [],
   "source": []
  },
  {
   "cell_type": "code",
   "execution_count": null,
   "metadata": {},
   "outputs": [],
   "source": []
  },
  {
   "cell_type": "code",
   "execution_count": null,
   "metadata": {},
   "outputs": [],
   "source": []
  },
  {
   "cell_type": "code",
   "execution_count": null,
   "metadata": {},
   "outputs": [],
   "source": []
  },
  {
   "cell_type": "code",
   "execution_count": null,
   "metadata": {},
   "outputs": [],
   "source": []
  },
  {
   "cell_type": "code",
   "execution_count": null,
   "metadata": {},
   "outputs": [],
   "source": []
  },
  {
   "cell_type": "code",
   "execution_count": null,
   "metadata": {},
   "outputs": [],
   "source": []
  },
  {
   "cell_type": "code",
   "execution_count": null,
   "metadata": {},
   "outputs": [],
   "source": []
  },
  {
   "cell_type": "code",
   "execution_count": null,
   "metadata": {},
   "outputs": [],
   "source": []
  },
  {
   "cell_type": "code",
   "execution_count": null,
   "metadata": {},
   "outputs": [],
   "source": []
  },
  {
   "cell_type": "code",
   "execution_count": null,
   "metadata": {},
   "outputs": [],
   "source": []
  },
  {
   "cell_type": "code",
   "execution_count": null,
   "metadata": {},
   "outputs": [],
   "source": []
  },
  {
   "cell_type": "code",
   "execution_count": null,
   "metadata": {},
   "outputs": [],
   "source": []
  },
  {
   "cell_type": "code",
   "execution_count": null,
   "metadata": {},
   "outputs": [],
   "source": []
  },
  {
   "cell_type": "code",
   "execution_count": null,
   "metadata": {},
   "outputs": [],
   "source": []
  },
  {
   "cell_type": "code",
   "execution_count": null,
   "metadata": {},
   "outputs": [],
   "source": []
  },
  {
   "cell_type": "code",
   "execution_count": null,
   "metadata": {},
   "outputs": [],
   "source": []
  },
  {
   "cell_type": "markdown",
   "metadata": {},
   "source": [
    "### generate token"
   ]
  },
  {
   "cell_type": "code",
   "execution_count": null,
   "metadata": {
    "ExecuteTime": {
     "end_time": "2019-08-28T06:26:03.198075Z",
     "start_time": "2019-08-28T06:25:46.295654Z"
    }
   },
   "outputs": [],
   "source": [
    "from tools import generate_zhihu_token\n",
    "generate_zhihu_token()"
   ]
  },
  {
   "cell_type": "code",
   "execution_count": null,
   "metadata": {},
   "outputs": [],
   "source": []
  },
  {
   "cell_type": "code",
   "execution_count": null,
   "metadata": {
    "ExecuteTime": {
     "end_time": "2019-07-30T06:10:32.455557Z",
     "start_time": "2019-07-30T06:10:32.451553Z"
    }
   },
   "outputs": [],
   "source": [
    "from fetcher_api import zhihu"
   ]
  },
  {
   "cell_type": "code",
   "execution_count": null,
   "metadata": {
    "ExecuteTime": {
     "end_time": "2019-07-30T06:15:57.534182Z",
     "start_time": "2019-07-30T06:15:57.530195Z"
    }
   },
   "outputs": [],
   "source": [
    "client = zhihu.client"
   ]
  },
  {
   "cell_type": "code",
   "execution_count": null,
   "metadata": {
    "ExecuteTime": {
     "end_time": "2019-07-30T06:15:58.154508Z",
     "start_time": "2019-07-30T06:15:58.148523Z"
    }
   },
   "outputs": [],
   "source": [
    "c = client.collection(133030984)\n",
    "int(\"133030984\")"
   ]
  },
  {
   "cell_type": "code",
   "execution_count": null,
   "metadata": {
    "ExecuteTime": {
     "end_time": "2019-07-30T06:16:08.633200Z",
     "start_time": "2019-07-30T06:15:58.828719Z"
    },
    "scrolled": false
   },
   "outputs": [],
   "source": [
    "for ans in c.answers:\n",
    "  print(ans.author.name)"
   ]
  },
  {
   "cell_type": "code",
   "execution_count": null,
   "metadata": {
    "ExecuteTime": {
     "end_time": "2019-08-30T14:17:28.871303Z",
     "start_time": "2019-08-30T14:17:28.790522Z"
    }
   },
   "outputs": [],
   "source": [
    "from zhihu_oauth import ZhihuClient\n",
    "\n",
    "TOKEN_FILE = 'token.pkl'\n",
    "client = ZhihuClient()\n",
    "client.load_token(TOKEN_FILE)\n"
   ]
  },
  {
   "cell_type": "code",
   "execution_count": null,
   "metadata": {
    "ExecuteTime": {
     "end_time": "2019-07-19T05:00:14.139324Z",
     "start_time": "2019-07-19T05:00:14.077492Z"
    }
   },
   "outputs": [],
   "source": [
    "page = client.from_url('https://zhuanlan.zhihu.com/p/37509962')"
   ]
  },
  {
   "cell_type": "code",
   "execution_count": null,
   "metadata": {
    "ExecuteTime": {
     "end_time": "2019-07-19T05:27:57.591947Z",
     "start_time": "2019-07-19T05:27:57.525097Z"
    }
   },
   "outputs": [],
   "source": [
    "from fetcher_api.zhihu import fetch_zhihu_article"
   ]
  },
  {
   "cell_type": "code",
   "execution_count": null,
   "metadata": {
    "ExecuteTime": {
     "end_time": "2019-07-19T05:27:59.863061Z",
     "start_time": "2019-07-19T05:27:58.369270Z"
    },
    "scrolled": true
   },
   "outputs": [],
   "source": [
    "fetch_zhihu_article('https://zhuanlan.zhihu.com/p/37509962')"
   ]
  },
  {
   "cell_type": "code",
   "execution_count": null,
   "metadata": {},
   "outputs": [],
   "source": []
  },
  {
   "cell_type": "code",
   "execution_count": null,
   "metadata": {},
   "outputs": [],
   "source": []
  },
  {
   "cell_type": "code",
   "execution_count": null,
   "metadata": {
    "ExecuteTime": {
     "end_time": "2019-07-08T09:06:32.787716Z",
     "start_time": "2019-07-08T09:06:32.680993Z"
    }
   },
   "outputs": [],
   "source": [
    "import os\n",
    "os.path.basename('D:\\Coding\\TheNorthRemembers\\page.py')"
   ]
  },
  {
   "cell_type": "code",
   "execution_count": null,
   "metadata": {
    "ExecuteTime": {
     "end_time": "2019-07-08T09:06:11.093275Z",
     "start_time": "2019-07-08T09:06:10.984567Z"
    }
   },
   "outputs": [],
   "source": [
    "os.path.__file__"
   ]
  },
  {
   "cell_type": "code",
   "execution_count": null,
   "metadata": {
    "ExecuteTime": {
     "end_time": "2019-07-08T10:32:10.466236Z",
     "start_time": "2019-07-08T10:31:58.545Z"
    }
   },
   "outputs": [],
   "source": [
    "import wechatsogou"
   ]
  },
  {
   "cell_type": "code",
   "execution_count": null,
   "metadata": {
    "ExecuteTime": {
     "end_time": "2019-07-08T10:32:10.471223Z",
     "start_time": "2019-07-08T10:31:59.707Z"
    }
   },
   "outputs": [],
   "source": [
    "ws_api = wechatsogou.WechatSogouAPI()"
   ]
  },
  {
   "cell_type": "code",
   "execution_count": null,
   "metadata": {
    "ExecuteTime": {
     "end_time": "2019-07-08T10:32:24.548522Z",
     "start_time": "2019-07-08T10:32:13.261291Z"
    }
   },
   "outputs": [],
   "source": [
    "ws_api.get_gzh_info('南航青年志愿者')"
   ]
  },
  {
   "cell_type": "code",
   "execution_count": null,
   "metadata": {
    "ExecuteTime": {
     "end_time": "2019-07-08T10:33:00.761669Z",
     "start_time": "2019-07-08T10:32:58.763440Z"
    },
    "scrolled": false
   },
   "outputs": [],
   "source": [
    "list(ws_api.search_article('马前卒工作室'))"
   ]
  },
  {
   "cell_type": "code",
   "execution_count": null,
   "metadata": {
    "ExecuteTime": {
     "end_time": "2019-07-31T04:41:50.594610Z",
     "start_time": "2019-07-31T04:41:50.494868Z"
    }
   },
   "outputs": [],
   "source": [
    "topic_id = 11\n",
    "f'generate_tip {topic_id}'"
   ]
  },
  {
   "cell_type": "code",
   "execution_count": null,
   "metadata": {},
   "outputs": [],
   "source": []
  },
  {
   "cell_type": "code",
   "execution_count": null,
   "metadata": {},
   "outputs": [],
   "source": []
  },
  {
   "cell_type": "code",
   "execution_count": null,
   "metadata": {},
   "outputs": [],
   "source": []
  },
  {
   "cell_type": "code",
   "execution_count": null,
   "metadata": {},
   "outputs": [],
   "source": []
  },
  {
   "cell_type": "code",
   "execution_count": null,
   "metadata": {},
   "outputs": [],
   "source": []
  },
  {
   "cell_type": "code",
   "execution_count": null,
   "metadata": {},
   "outputs": [],
   "source": []
  },
  {
   "cell_type": "code",
   "execution_count": null,
   "metadata": {},
   "outputs": [],
   "source": []
  },
  {
   "cell_type": "code",
   "execution_count": null,
   "metadata": {},
   "outputs": [],
   "source": []
  },
  {
   "cell_type": "code",
   "execution_count": null,
   "metadata": {},
   "outputs": [],
   "source": []
  },
  {
   "cell_type": "code",
   "execution_count": null,
   "metadata": {},
   "outputs": [],
   "source": []
  },
  {
   "cell_type": "code",
   "execution_count": null,
   "metadata": {},
   "outputs": [],
   "source": []
  },
  {
   "cell_type": "code",
   "execution_count": null,
   "metadata": {},
   "outputs": [],
   "source": []
  },
  {
   "cell_type": "code",
   "execution_count": null,
   "metadata": {},
   "outputs": [],
   "source": []
  },
  {
   "cell_type": "code",
   "execution_count": null,
   "metadata": {},
   "outputs": [],
   "source": []
  },
  {
   "cell_type": "code",
   "execution_count": null,
   "metadata": {},
   "outputs": [],
   "source": []
  },
  {
   "cell_type": "code",
   "execution_count": null,
   "metadata": {},
   "outputs": [],
   "source": []
  },
  {
   "cell_type": "code",
   "execution_count": null,
   "metadata": {},
   "outputs": [],
   "source": []
  },
  {
   "cell_type": "code",
   "execution_count": null,
   "metadata": {},
   "outputs": [],
   "source": []
  },
  {
   "cell_type": "code",
   "execution_count": null,
   "metadata": {},
   "outputs": [],
   "source": []
  },
  {
   "cell_type": "markdown",
   "metadata": {},
   "source": [
    "### Playground"
   ]
  },
  {
   "cell_type": "code",
   "execution_count": null,
   "metadata": {
    "ExecuteTime": {
     "end_time": "2019-09-01T14:43:08.768764Z",
     "start_time": "2019-09-01T14:43:08.325162Z"
    }
   },
   "outputs": [],
   "source": [
    "from pprint import pprint\n",
    "from website.zhihu import zhihu_detect_with_client\n",
    "from website.zhihu import zhihu_detect\n",
    "from website.zhihu import get_comments_api_v4\n",
    "from website.zhihu import get_valuable_conversations_api_v4\n",
    "from website.zhihu import fetch_zhihu_answer\n",
    "from website.zhihu import fetch_zhihu_article\n",
    "import tools"
   ]
  },
  {
   "cell_type": "code",
   "execution_count": null,
   "metadata": {
    "ExecuteTime": {
     "end_time": "2019-08-28T06:21:03.854049Z",
     "start_time": "2019-08-28T06:21:03.719298Z"
    },
    "scrolled": false
   },
   "outputs": [],
   "source": [
    "u = 'https://zhuanlan.zhihu.com/p/30722439'\n",
    "\n",
    "fetch_zhihu_article(u)"
   ]
  },
  {
   "cell_type": "code",
   "execution_count": null,
   "metadata": {
    "ExecuteTime": {
     "end_time": "2019-08-31T10:15:01.399515Z",
     "start_time": "2019-08-31T10:15:01.316709Z"
    }
   },
   "outputs": [],
   "source": [
    "from markdown import markdown\n",
    "from mdx_gfm import GithubFlavoredMarkdownExtension\n",
    "\n",
    "\n",
    "\n",
    "def to_html(full_text, cut=0):\n",
    "  ''' 转换为 html 用于输出 RSS 等\n",
    "      必须有 data['full_text'] 才能 to_html() '''\n",
    "  if cut and len(full_text) > cut:\n",
    "    full_text = full_text[:cut] + f' ... (共 {len(full_text)} 字)'\n",
    "\n",
    "  html = markdown(full_text, output_format='html5', extensions=[GithubFlavoredMarkdownExtension()])\n",
    "  return html"
   ]
  },
  {
   "cell_type": "code",
   "execution_count": null,
   "metadata": {
    "ExecuteTime": {
     "end_time": "2019-08-31T11:54:42.785269Z",
     "start_time": "2019-08-31T11:54:42.703529Z"
    }
   },
   "outputs": [],
   "source": [
    "from feedgen.feed import FeedGenerator\n",
    "fg = FeedGenerator()\n",
    "fg.id('http://lernfunk.de/media/654321')\n",
    "fg.title('Some Testfeed')\n",
    "fg.author( {'name':'John Doe','email':'john@example.de'} )\n",
    "fg.link( href='http://example.com', rel='alternate' )\n",
    "fg.logo('http://ex.com/logo.jpg')\n",
    "fg.subtitle('This is a cool feed!')\n",
    "fg.link( href='http://larskiesow.de/test.atom', rel='self' )\n",
    "fg.language('en')\n",
    "\n",
    "\n",
    "fe = fg.add_entry()\n",
    "fe.id('http://lernfunk.de/media/654321/1')\n",
    "fe.title('The First Episode')\n",
    "fe.link(href=\"http://lernfunk.de/feed\")\n",
    "fe.description('page.to_html(cut=0)' )\n",
    "\n",
    "\n",
    "fe = fg.add_entry()\n",
    "fe.id('http://lernfunk.de/media/654321/12222')\n",
    "fe.title('The First Episode2222222')\n",
    "fe.link(href=\"http://lernfunk.de/feed22222\")\n",
    "fe.description('3333333333333333' )"
   ]
  },
  {
   "cell_type": "code",
   "execution_count": null,
   "metadata": {
    "ExecuteTime": {
     "end_time": "2019-08-31T11:54:44.137777Z",
     "start_time": "2019-08-31T11:54:44.062989Z"
    }
   },
   "outputs": [],
   "source": [
    "fg.rss_file('feed.xml', pretty=True)"
   ]
  },
  {
   "cell_type": "code",
   "execution_count": null,
   "metadata": {
    "ExecuteTime": {
     "end_time": "2019-08-31T10:42:35.495876Z",
     "start_time": "2019-08-31T10:42:35.427017Z"
    }
   },
   "outputs": [],
   "source": [
    "print(bytes.decode(fg.rss_str(pretty=True)))"
   ]
  }
 ],
 "metadata": {
  "hide_input": false,
  "kernelspec": {
   "display_name": "Python 3",
   "language": "python",
   "name": "python3"
  },
  "language_info": {
   "codemirror_mode": {
    "name": "ipython",
    "version": 3
   },
   "file_extension": ".py",
   "mimetype": "text/x-python",
   "name": "python",
   "nbconvert_exporter": "python",
   "pygments_lexer": "ipython3",
   "version": "3.6.3"
  },
  "toc": {
   "nav_menu": {
    "height": "316px",
    "width": "434px"
   },
   "number_sections": true,
   "sideBar": false,
   "skip_h1_title": false,
   "title_cell": "Table of Contents",
   "title_sidebar": "Contents",
   "toc_cell": false,
   "toc_position": {
    "height": "47px",
    "left": "681px",
    "top": "32px",
    "width": "159px"
   },
   "toc_section_display": false,
   "toc_window_display": true
  }
 },
 "nbformat": 4,
 "nbformat_minor": 1
}
