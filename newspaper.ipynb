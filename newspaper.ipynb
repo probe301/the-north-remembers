{
 "cells": [
  {
   "cell_type": "code",
   "execution_count": null,
   "metadata": {},
   "outputs": [],
   "source": []
  },
  {
   "cell_type": "markdown",
   "metadata": {},
   "source": [
    "# The North Remembers Project"
   ]
  },
  {
   "cell_type": "code",
   "execution_count": null,
   "metadata": {
    "ExecuteTime": {
     "end_time": "2019-08-27T05:14:47.012186Z",
     "start_time": "2019-08-27T05:14:46.970306Z"
    }
   },
   "outputs": [],
   "source": [
    "%load_ext autoreload\n",
    "%autoreload 2\n",
    "\n",
    "import os\n",
    "import sys\n",
    "import re\n",
    "import random\n",
    "from pprint import pprint\n",
    "from time import sleep\n",
    "import math\n",
    "from itertools import groupby\n",
    "from collections import OrderedDict as odict"
   ]
  },
  {
   "cell_type": "markdown",
   "metadata": {},
   "source": [
    "### 取舍\n",
    "\n",
    "数据存储用 github, 或者 bitbucket\n",
    "\n",
    "\n",
    "提供导出为 rss, epub, pdf, github 自带检查历史的功能\n",
    "\n",
    "不追求实效性\n",
    "\n",
    "\n",
    "\n",
    "外链图片不作为重点\n",
    "外链图片和视频链接, url 链接, 一并修复, 换行字符串等也一并处理, 七牛云?\n",
    "md 中的 Latex 和 代码检测也在这里修复, pygment"
   ]
  },
  {
   "cell_type": "markdown",
   "metadata": {},
   "source": [
    "### 调用关系\n",
    "\n",
    "\n",
    "\n"
   ]
  },
  {
   "cell_type": "markdown",
   "metadata": {},
   "source": [
    "#### Collector\n",
    "\n",
    "处理用户发出的命令\n",
    "\n",
    "可以是 zhihu answer url, 问题页, 收藏夹页, 需要带有过滤条件\n",
    "用户可能在过滤条件后再做修补删减\n",
    "\n",
    "需要转为具体的爬虫任务, 并创建文件夹\n",
    "单页收集到特定的文件夹, 否则收集到一个自动命名的文件夹\n",
    "\n",
    "在文件夹下生成task\n",
    "\n",
    "Resources\n",
    "global_config\n",
    "task_config (scanlist)\n",
    "\n",
    "\n",
    "Collector.append(url, options)\n",
    "\n",
    "\n",
    "\n",
    "#### Watcher\n",
    "\n",
    "\n",
    "\n",
    "任务调度, 监视文件夹, 根据 task.yaml 抓取页面\n",
    "\n",
    "task.yaml 也记录历史\n",
    "\n",
    "task_type: single_page, \n",
    "update_batch: 10\n",
    "\n",
    "\n",
    "track_new: true\n",
    "\n",
    "\n",
    "通过扫描已有的待抓取任务, 在手动触发, 达到特定时间后, 分派抓取任务\n",
    "\n",
    "    Watcher\n",
    "        .watch()\n",
    "        .remember()\n",
    "        .status()\n",
    "        .load_config_yaml\n",
    "        .save_config_yaml\n",
    "        .add_task add_tasks\n",
    "\n",
    "\n",
    "\n",
    "Task\n",
    "\n",
    "被调用抓取单一页面内容, 或者抓取一个 url 列表\n",
    "抓取单一页面内容将存为 md, 不存 html\n",
    "\n",
    "    Task\n",
    "        ZhihuAnswerPageTask\n",
    "        ZhihuAnswerIndexTask\n",
    "        ZhihuColumnPageTask\n",
    "        ZhihuColumnIndexTask\n",
    "\n",
    "Task 会使用 Page.save / load\n",
    "\n",
    "    .last_page()\n",
    "    .fetch()\n",
    "    .save() 传递一些参数给 page 如 watch_date\n",
    "    .to_yaml_text()\n",
    "    \n",
    "    .priority\n",
    "    .is_page_type\n",
    "    .should_fetch\n",
    "    .content_is_changed\n",
    "\n",
    "\n",
    "\n",
    "ZhihuColumnPage\n",
    "ZhihuColumnLister\n",
    "\n",
    "\n",
    "Fetcher.request(url) => dict()? Page()\n",
    "\n",
    "Page.write to / load from disk\n",
    "\n",
    "PageTask.run => Fetcher.request(url) => New Page\n",
    "PageTask.update => New Page.write\n",
    "IndexTask.run => Fetcher.request(url) => [New Tasks]\n",
    "\n",
    "\n",
    "Watcher -> PageTask -> Page (tmpl, fetcherAPI)\n",
    "                            ZhihuColumnPage\n",
    "                            ZhihuAnswerPage\n",
    "                            WeixinArticlePage\n",
    "\n",
    "\n",
    "Watcher -> IndexTask -> append more tasks\n",
    "                        ZhihuColumnIndex\n",
    "    \n",
    "\n",
    "\n",
    "\n"
   ]
  },
  {
   "cell_type": "markdown",
   "metadata": {},
   "source": [
    "#### Fetcher\n",
    "\n",
    "Page\n",
    "\n",
    "页面内容分为 元数据 + 文章主体 + 评论, 评论先放放\n",
    "\n",
    "\n",
    "Page.load()  返回一个读盘的页面\n",
    "\n",
    "以md文件为单位\n",
    "\n",
    "    ZhihuColumnPage\n",
    "        .load(path)\n",
    "        .write(path)\n",
    "        .compare()\n",
    "\n",
    "    attr\n",
    "        task = ForeignKeyField(Task, related_name='task')\n",
    "        watch_date = DateTimeField()\n",
    "        title = CharField(null=True)\n",
    "        author = CharField(null=True)\n",
    "        content = TextField(null=True)\n",
    "        metadata = TextField(null=True)\n",
    "        topic = TextField(null=True)\n",
    "        question = TextField(null=True)\n",
    "        comment = TextField(null=True)\n",
    "\n",
    "\n",
    "\n",
    "\n",
    "\n",
    "#### Cleaner\n",
    "\n",
    "处理, 清理文本的规则\n",
    "\n",
    "\n",
    "\n",
    "Exporter\n",
    "\n",
    "根据 Template 转换为 rss, epub, pdf, 以及 github diff 预览\n",
    "\n",
    "图片转存也算在 Template 里"
   ]
  },
  {
   "cell_type": "code",
   "execution_count": null,
   "metadata": {},
   "outputs": [],
   "source": [
    "描述\n",
    "\n",
    "以更加简洁清晰的排版阅读知乎. (这个需求有简悦)\n",
    "\n",
    "用户指定一个知乎网站上的问题, zhihumark 抓取相应的回答内容, 以 markdown 文档的形式提供给用户阅读和下载. (提供 md 下载没用)\n",
    "\n",
    "\n",
    "\n",
    "\n",
    "\n",
    "功能\n",
    "\n",
    "可以自由定制想抓取的内容, 这包括: 抓取指定答主/收藏夹名/问题/话题下的回答, 抓取赞同数量超过N的回答.\n",
    "可以设置黑名单, 不抓取特定的问题或者答主.\n",
    "抓取评论, 以会话的形式组织起来, 让上下文相关的评论出现在一起, 尽量滤除没有价值的评论.\n",
    "将收集到的一系列文档保存为epub或者pdf, 或者批量下载 markdown 文档, 以便离线阅读.\n",
    "制作成 feed 以便放入 rss 阅读器, 获取实时更新.\n",
    "\n",
    "\n",
    "观念\n",
    "\n",
    "我们也不显示其他人搜索了什么关键字, 获取了什么页面, 下载了哪些电子书, 看到什么取决于你\n",
    "\n",
    "我们相信评论是回答(或文章)可以分割的一部分, 许多评论很水, 有些很有价值.\n",
    "\n",
    "相信评论区是对回答的重要补充, 也有随回答保留的必要, 但需处理评论区良莠不齐, 引用回复混乱的问题.\n",
    "\n",
    "\n",
    "\n",
    "页面设计\n",
    "\n",
    "单页面网站应用, 基本上类似搜索引擎的风格和排版.\n",
    "\n",
    "输入框 - 接受输入ID或URL 答主/收藏夹名/问题名/话题名\n",
    "\n",
    "选项 - 保留最前的n个回答?\n",
    "选项 - 赞同数至少是?\n",
    "选项 - 保留评论? 评论对话中至少有多少 likes\n",
    "屏蔽 - 不感兴趣的话题, 问题, 答主\n",
    "返回 - markdown文件列表\n",
    "\n",
    "批量下载按钮"
   ]
  },
  {
   "cell_type": "code",
   "execution_count": null,
   "metadata": {},
   "outputs": [],
   "source": []
  },
  {
   "cell_type": "code",
   "execution_count": null,
   "metadata": {},
   "outputs": [],
   "source": [
    "\n"
   ]
  },
  {
   "cell_type": "code",
   "execution_count": null,
   "metadata": {},
   "outputs": [],
   "source": []
  },
  {
   "cell_type": "code",
   "execution_count": null,
   "metadata": {},
   "outputs": [],
   "source": []
  },
  {
   "cell_type": "code",
   "execution_count": null,
   "metadata": {},
   "outputs": [],
   "source": []
  },
  {
   "cell_type": "code",
   "execution_count": null,
   "metadata": {},
   "outputs": [],
   "source": []
  },
  {
   "cell_type": "code",
   "execution_count": null,
   "metadata": {},
   "outputs": [],
   "source": []
  },
  {
   "cell_type": "code",
   "execution_count": null,
   "metadata": {},
   "outputs": [],
   "source": []
  },
  {
   "cell_type": "code",
   "execution_count": null,
   "metadata": {},
   "outputs": [],
   "source": []
  },
  {
   "cell_type": "code",
   "execution_count": null,
   "metadata": {},
   "outputs": [],
   "source": []
  },
  {
   "cell_type": "code",
   "execution_count": null,
   "metadata": {},
   "outputs": [],
   "source": []
  },
  {
   "cell_type": "code",
   "execution_count": null,
   "metadata": {},
   "outputs": [],
   "source": []
  },
  {
   "cell_type": "code",
   "execution_count": null,
   "metadata": {},
   "outputs": [],
   "source": []
  },
  {
   "cell_type": "code",
   "execution_count": null,
   "metadata": {},
   "outputs": [],
   "source": []
  },
  {
   "cell_type": "code",
   "execution_count": null,
   "metadata": {},
   "outputs": [],
   "source": []
  },
  {
   "cell_type": "code",
   "execution_count": null,
   "metadata": {
    "ExecuteTime": {
     "end_time": "2017-04-19T13:27:37.834791",
     "start_time": "2017-04-19T13:27:37.741543"
    }
   },
   "outputs": [],
   "source": [
    "def test_fetch_history():\n",
    "  # 美国是不是正在为瓦解中国做准备？ - 张俊麒的回答\n",
    "  # url = 'https://www.zhihu.com/question/40622033/answer/88139460'\n",
    "  \n",
    "  # 有哪些令人拍案叫绝的临场反应？ - 大盗贼霍老爷的回答\n",
    "  url = 'https://www.zhihu.com/question/29125576/answer/54187388'\n",
    "  \n",
    "  # 机器人教育这种不考试、以娱乐为主的教育对于中小学生及幼儿的意义何在？ - 冷哲的回答\"\n",
    "  url = 'https://www.zhihu.com/question/26999365/answer/93421419'\n",
    "  \n",
    "  \n",
    "  # 2016 年，中国房地产泡沫是否会在一两年内破灭，从而引发金融危机？ - 小马的回答\"\n",
    "  url = 'https://www.zhihu.com/question/40910547/answer/123021503'\n",
    "  \n",
    "  # Smart Beta 投资方法 - 陈颖的专栏 量化哥\"\n",
    "  url = 'https://zhuanlan.zhihu.com/p/21936302'\n",
    "  \n",
    "  \n",
    "  # 美国南北战争的真正原因是什么？ - talich的回答\"\n",
    "  url = 'https://www.zhihu.com/question/19679278/answer/15122151'\n",
    "  # query = (Page.select(Page, Task)\n",
    "  #          .join(Task)\n",
    "  #          .where((Task.page_type == 'zhihu_article') & (Page.title.contains('最前沿')))\n",
    "  #          .group_by(Page.task)\n",
    "  #          .having(Page.watch_date == fn.MAX(Page.watch_date))\n",
    "  #          .limit(9999))\n",
    "  t = Task.select().where(Task.url == url).get()\n",
    "  \n",
    "  \n",
    "  contents = []\n",
    "  for page in t.pages:\n",
    "\n",
    "    print(page.version)\n",
    "    print(page.title)\n",
    "    print(page.topic)\n",
    "    contents.append(page.content)\n",
    "#     print(page.content)\n",
    "  return contents\n",
    "contents = test_fetch_history()"
   ]
  },
  {
   "cell_type": "code",
   "execution_count": null,
   "metadata": {
    "ExecuteTime": {
     "end_time": "2017-04-19T13:23:42.907993",
     "start_time": "2017-04-19T13:23:42.892989"
    },
    "scrolled": true
   },
   "outputs": [],
   "source": [
    "def split_text(text):\n",
    "  col = []\n",
    "  for sent in re.findall('.*?[！|，|。|？|\\n|；|~|～|：|\\)|\\]]', text):\n",
    "    col.append(sent)\n",
    "  \n",
    "  return col\n",
    "\n",
    "print(split_text(a))"
   ]
  },
  {
   "cell_type": "code",
   "execution_count": null,
   "metadata": {
    "ExecuteTime": {
     "end_time": "2017-04-19T13:27:40.003674",
     "start_time": "2017-04-19T13:27:39.965599"
    },
    "scrolled": false
   },
   "outputs": [],
   "source": [
    "print(len(contents))\n",
    "# c1, c2, c3, c4, *_, c7 = contents\n",
    "from difflib import unified_diff\n",
    "def compare_text(t1, t2, prefix=''):\n",
    "  changes = [l for l in unified_diff(t1, t2)]\n",
    "\n",
    "  return changes\n",
    "\n",
    "\n",
    "import re\n",
    "for i, (a, b) in enumerate(zip(contents[:-1], contents[1:])):\n",
    "#   if i == 0:\n",
    "#     continue\n",
    "  if (a!=b):\n",
    "    print('a!=b on', i, i+1)\n",
    "    \n",
    "    pat = re.compile('\\S')\n",
    "    for d in unified_diff(split_text(a), split_text(b), n=2, lineterm=''):\n",
    "      print(d)\n",
    "  \n",
    "  print('\\n\\n\\n\\n\\n\\n')\n",
    "#   if i >= 5:\n",
    "#     break\n",
    "  \n",
    "# compare_text(c1, c2)\n",
    "# compare_text(c2, c3)"
   ]
  },
  {
   "cell_type": "code",
   "execution_count": null,
   "metadata": {
    "ExecuteTime": {
     "end_time": "2019-06-27T05:03:58.837186Z",
     "start_time": "2019-06-27T05:03:58.810259Z"
    }
   },
   "outputs": [],
   "source": [
    "'iesytwe'.split('?')"
   ]
  },
  {
   "cell_type": "code",
   "execution_count": null,
   "metadata": {
    "ExecuteTime": {
     "end_time": "2017-04-19T12:37:24.575834",
     "start_time": "2017-04-19T12:37:24.506704"
    }
   },
   "outputs": [],
   "source": [
    "\n",
    "# from unidiff import PatchSet\n",
    "# diff = urllib2.urlopen('https://github.com/matiasb/python-unidiff/pull/3.diff')\n",
    "# encoding = diff.headers.getparam('charset')\n",
    "# patch = PatchSet(diff, encoding=encoding)\n"
   ]
  },
  {
   "cell_type": "code",
   "execution_count": null,
   "metadata": {},
   "outputs": [],
   "source": []
  },
  {
   "cell_type": "code",
   "execution_count": null,
   "metadata": {},
   "outputs": [],
   "source": []
  },
  {
   "cell_type": "code",
   "execution_count": null,
   "metadata": {},
   "outputs": [],
   "source": []
  },
  {
   "cell_type": "code",
   "execution_count": null,
   "metadata": {},
   "outputs": [],
   "source": []
  },
  {
   "cell_type": "code",
   "execution_count": null,
   "metadata": {},
   "outputs": [],
   "source": []
  },
  {
   "cell_type": "code",
   "execution_count": null,
   "metadata": {},
   "outputs": [],
   "source": []
  },
  {
   "cell_type": "code",
   "execution_count": null,
   "metadata": {},
   "outputs": [],
   "source": []
  },
  {
   "cell_type": "code",
   "execution_count": null,
   "metadata": {},
   "outputs": [],
   "source": []
  },
  {
   "cell_type": "markdown",
   "metadata": {
    "heading_collapsed": true
   },
   "source": [
    "### 原 models test exec\n",
    "\n",
    "\n"
   ]
  },
  {
   "cell_type": "code",
   "execution_count": null,
   "metadata": {
    "hidden": true
   },
   "outputs": [],
   "source": [
    "\n",
    "'''\n",
    "####### #######  ###### #######\n",
    "   ##   ##      ##         ##\n",
    "   ##   ######   #####     ##\n",
    "   ##   ##           ##    ##\n",
    "   ##   ####### ######     ##\n",
    "'''\n",
    "\n",
    "def test_new_task():\n",
    "  # url = 'https://www.zhihu.com/question/30595784/answer/49194862'\n",
    "  # 如何看待许知远在青年领袖颁奖典礼上愤怒「砸场」？\n",
    "  url = 'https://www.zhihu.com/question/22316395/answer/100909780'\n",
    "  url = 'https://www.zhihu.com/question/47220155/answer/118154455'\n",
    "  url = 'https://www.zhihu.com/question/49962599/answer/118716273'\n",
    "  url = 'https://zhuanlan.zhihu.com/p/19837940'\n",
    "  url = 'https://zhuanlan.zhihu.com/p/20639779'\n",
    "  url = 'https://zhuanlan.zhihu.com/p/20153329'\n",
    "  url = 'https://zhuanlan.zhihu.com/p/21281864'\n",
    "  url = 'https://zhuanlan.zhihu.com/p/19964142'\n",
    "  task = Task.add(url=url)\n",
    "  print(task)\n",
    "  # task.watch()\n",
    "\n",
    "\n",
    "def test_readd_task():\n",
    "  url = 'http://www.zhihu.com/question/22513722/answer/21967185' # 火车票涨价\n",
    "  task = Task.add(url=url)\n",
    "  task = Task.add(url=url)\n",
    "  url = 'https://www.zhihu.com/question/30957313/answer/50266448' # 古典音乐\n",
    "  task = Task.add(url=url)\n",
    "  url = 'https://www.zhihu.com/question/40056948/answer/110794550' # 四万亿\n",
    "  task = Task.add(url=url)\n",
    "\n",
    "def test_seed_add_tasks():\n",
    "  urls = '''\n",
    "    https://www.zhihu.com/question/40305228/answer/86179116\n",
    "    https://www.zhihu.com/question/36466762/answer/85475145\n",
    "    https://www.zhihu.com/question/33246348/answer/86919689\n",
    "    https://www.zhihu.com/question/39906815/answer/88534869\n",
    "\n",
    "    https://www.zhihu.com/question/40700155/answer/89002644\n",
    "    https://www.zhihu.com/question/36380091/answer/84690117\n",
    "    https://www.zhihu.com/question/33246348/answer/86919689\n",
    "    https://www.zhihu.com/question/35254746/answer/90252213\n",
    "    https://www.zhihu.com/question/23618517/answer/89823915\n",
    "\n",
    "    https://www.zhihu.com/question/40677000/answer/87886574\n",
    "\n",
    "    https://www.zhihu.com/question/41373242/answer/91417985\n",
    "    https://www.zhihu.com/question/47275087/answer/106335325\n",
    "    https://www.zhihu.com/question/47275087/answer/106335325 买不起房是房价太高还是工资太低？\n",
    "    https://www.zhihu.com/question/36129534/answer/91921682  印度经济会在本世纪追上中国吗？\n",
    "    https://www.zhihu.com/question/22513722/answer/21967185  火车票涨价是否能解决春运问题？\n",
    "    https://www.zhihu.com/question/27820755/answer/107267228 裸辞后怎样解释以获工作机会？\n",
    "  '''\n",
    "  for url in datalines(urls):\n",
    "    url = url.split(' ')[0]\n",
    "    task = Task.add(url=url)\n",
    "    task | puts()\n",
    "\n",
    "\n",
    "\n",
    "def test_one_watch():\n",
    "  task = Task.select().order_by(-Task.id).get()\n",
    "  task | puts()\n",
    "  task.watch()\n",
    "\n",
    "def test_another_watch():\n",
    "  url = 'http://www.zhihu.com/question/22513722/answer/21967185' # 火车票涨价\n",
    "  task = Task.select().where(Task.url == url).get()\n",
    "  task | puts()\n",
    "  task.watch()\n",
    "\n",
    "\n",
    "def test_hot_answer():\n",
    "  url = 'http://www.zhihu.com/question/39288165/answer/110207560'\n",
    "  url = 'https://www.zhihu.com/question/50763374/answer/122822226'\n",
    "  url = 'https://www.zhihu.com/question/40910547/answer/123021503'\n",
    "  url = 'https://zhuanlan.zhihu.com/p/21478575'\n",
    "  url = 'https://www.zhihu.com/question/40103788/answer/124499334'\n",
    "  task = Task.add(url=url)\n",
    "  task.watch()\n",
    "\n",
    "\n",
    "  task.last_page.to_local_file(folder='test', fetch_images=False)\n",
    "\n",
    "\n",
    "\n",
    "def test_watch_all():\n",
    "  Task.multiple_watch(sleep_seconds=10, limit=4)\n",
    "\n",
    "\n",
    "def test_report():\n",
    "  Task.report()\n",
    "\n",
    "\n",
    "\n",
    "def test_to_local_file():\n",
    "  # page = Page.select().order_by(-Page.id).get()\n",
    "\n",
    "  # page = Page.select(Page.topic).distinct().where(Page.topic.contains('房')).limit(5)\n",
    "  # q = Page.select(Page.id).distinct()\n",
    "  # for p in q:\n",
    "  #   print(p)\n",
    "  query = (Page.select(Page, Task)\n",
    "           .join(Task)\n",
    "           .where(Page.author == 'chenqin')  # .where(Page.topic.contains('建筑'))\n",
    "           .group_by(Page.task)\n",
    "           .having(Page.watch_date == fn.MAX(Page.watch_date))\n",
    "           .limit(8800))\n",
    "  for page in query:\n",
    "    log(page.title)\n",
    "    # log(page.metadata)\n",
    "    # page.to_local_file(folder='chen', fetch_images=False)\n",
    "# test_to_local_file()\n",
    "\n",
    "def test_tools():\n",
    "  import pylon\n",
    "  pylon.generate_figlet('task', fonts=['space_op'])\n",
    "  pylon.generate_figlet('page', fonts=['space_op'])\n",
    "  pylon.generate_figlet('test', fonts=['space_op'])\n",
    "\n",
    "\n",
    "def test_load_json():\n",
    "  import json\n",
    "\n",
    "  print(json.loads(open('mockup_topic_answers.json', encoding='utf-8').read()))\n",
    "\n",
    "\n",
    "def test_banned_modes():\n",
    "  url = 'https://www.zhihu.com/question/40679967/answer/88310495'\n",
    "  # 政府推出开放小区政策的真正目的是什么？ 2201 孟德尔 回答建议修改：政治敏感\n",
    "  pass\n",
    "\n",
    "\n",
    "def test_query_task():\n",
    "  s = 'https://www.zhihu.com/question/48737226/answer/113036453'\n",
    "  s = 'https://www.zhihu.com/question/47220155/answer/118154455'\n",
    "  s = 'https://www.zhihu.com/question/49545583/answer/116529877'\n",
    "\n",
    "  t = Task.select().where(Task.url == s)\n",
    "  t = t.get()\n",
    "  log(t.title)\n",
    "  log(t.id)\n",
    "\n",
    "\n",
    "\n",
    "\n",
    "\n",
    "\n",
    "def test_explore():\n",
    "  # Tweet.select(fn.COUNT(Tweet.id)).where(Tweet.user == User.id)\n",
    "  query = (Task\n",
    "           .select(Task, fn.COUNT(Page.id).alias('fetched_count'))\n",
    "           .join(Page)\n",
    "           .group_by(Task.title)\n",
    "           .limit(50)\n",
    "           .offset(200)\n",
    "           .order_by(fn.COUNT(Page.id).desc()))\n",
    "\n",
    "  for task in query:\n",
    "    log(task.title + ' : ' + str(task.fetched_count) + '  task_id ' + str(task.id))\n",
    "\n",
    "\n",
    "\n",
    "\n",
    "def test_explore_watching_results_diff():\n",
    "\n",
    "  s = '''\n",
    "  # 美国是不是正在为瓦解中国做准备？ - 张俊麒的回答 : 16  task_id 46\n",
    "  # 为什么很少看到患者砍莆田系医生的报道？ - 玄不救非氪不改命的回答 : 3  task_id 196\n",
    "  # 为什么很难证伪马克思主义理论？ - 玄不救非氪不改命的回答 : 3  task_id 360\n",
    "  # 为什么快速浏览一段内容的时候，很容易看到自己感兴趣的部分？ - 采铜的回答 : 3  task_id 742\n",
    "  # 为什么拿广州恒大淘宝队与中国国家男子足球队做对比？ - 玄不救非氪不改命的回答 : 3  task_id 492\n",
    "  # 如何看待里约奥运陈欣怡药检呈阳性反应？ - 玄不救非氪不改命的回答 : 3  task_id 2393\n",
    "  # 为什么厌恶「国粉」的知乎用户远多于厌恶「毛粉」的？ - chenqin的 : 3  task_id 3313\n",
    "  # 2016 年中国的经济状况很差吗？真实状况是怎样的？ - 垒起善城堡的积木 : 3 task_id 2387\n",
    "  # 如何看待2016年7月人民币贷款增幅里9.8成为房贷？ - 匿名用户的回答 : 3 task_id 2386\n",
    "\n",
    "\n",
    "\n",
    "\n",
    "  # 怎样评价「游戏不汉化就差评」的行为？ - cOMMANDO的回答 : 9  task_id 4471\n",
    "  # 既然有报道说人类的基因片段只占DNA序列总长的不到10%，那么这几个问题怎么解答？ - Mandelbrot的回答 : 9  task_id 676\n",
    "  # 智商低的人真的不适合玩需要动脑子的游戏么？ - 匿名用户的回答 : 9  task_id 3461\n",
    "  # 暴雪，Valve，拳头，谁更厉害？ - cOMMANDO的回答 : 9  task_id 2597\n",
    "  # 有一个稀有的姓是一种怎样的体验？ - 冷哲的回答 : 9  task_id 1041\n",
    "  # 有什么影视作品是当时演员名气不大，现在看来是全明星阵容出演？ - 玄不救非氪不改命的回答 : 9  task_id 484\n",
    "  # 有关白龙尾岛的历史，哪些是有据可查的？ - 书生的回答 : 9  task_id 712\n",
    "  # 有哪些「智商税」？ - 谢熊猫君的回答 : 9  task_id 2406\n",
    "  # 有哪些令人拍案叫绝的临场反应？ - 大盗贼霍老爷的回答 : 9  task_id 4107\n",
    "  # 有哪些可怕的故事？ - 大盗贼霍老爷的回答 : 9  task_id 4137\n",
    "  # 有哪些长得比较逆天的动物？ - Mandelbrot的回答 : 9  task_id 648\n",
    "  # 有文化有多可怕？ - 寺主人的回答 : 9  task_id 5787\n",
    "  # 机器人教育这种不考试、以娱乐为主的教育对于中小学生及幼儿的意义何在？ - 冷哲的回答 : 9  task_id 1015\n",
    "  # 毛花三年打败蒋然后走三十年弯路的目的，都是为后三十年的改革开放走资、大国崛起做铺垫扫平道路的么？ - 书生的回答 : 9  task_id 99\n",
    "  # 水旱蝗汤中的汤指的到底是谁？ - 书生的回答 : 9  task_id 104\n",
    "  # 河南的地理位置那么好，为什么经济落后？ - 大盗贼霍老爷的回答 : 9  task_id 4105\n",
    "  # 為什麼蒋介石被称为运输大队长？求详? - 书生的回答 : 9  task_id 701\n",
    "  # 玩《狼人杀》时你有什么屡试不爽的秘技诀窍？ - 汪诩文的回答 : 9  task_id 3526\n",
    "\n",
    "  现在网络上很多人黑一些伟人，比如说周半期，黑鲁迅。他们是什么心态？ - 书生的回答 : 9  task_id 97\n",
    "  看美剧、英剧学英语有什么有效的方法吗？ - 采铜的回答 : 9  task_id 787\n",
    "  章鱼的智商到底有多高，为什么有人说它们的智商可以统治世界? - Mandelbrot的回答 : 9  task_id 588\n",
    "  类似 AlphaGo 的人工智能在游戏王、万智牌等卡牌游戏中胜率如何？ - 莫名的回答 : 9  task_id 3724\n",
    "  给 59 分强行不给过的老师是一种怎么样的存在？ - chenqin的回答 : 9  task_id 3317\n",
    "  网络上有哪些广为流传的「历史真相」其实是谣言？ - 马前卒的回答 : 9  task_id 5089\n",
    "  美国南北战争的真正原因是什么？ - talich的回答 : 9  task_id 2571\n",
    "  美国发动伊拉克战争的核心原因到底是什么？ - 冷哲的回答 : 9  task_id 1332\n",
    "  美国最高法院大法官 Scalia 的去世将会带来怎样的影响？ - talich的回答 : 9  task_id 4423\n",
    "  美国有人在开车在路上故意把川普的竞选宣传牌碾倒，如何评价这种因为不同政见而破坏对方财物的行为？ - talich的回答 : 9  task_id 4412\n",
    "  装逼成功是怎样一种体验？ - 大盗贼霍老爷的回答 : 9  task_id 4048\n",
    "  谁最应该被印在人民币上面？ - 蜂鸟的回答 : 9  task_id 2274\n",
    "  豆瓣的核心用户都有什么特点？ - 十一点半的回答 : 9  task_id 84\n",
    "  赌场有哪些看似不起眼，实则心机颇深的设计？ - 第一喵的回答 : 9  task_id 3158\n",
    "  赌场有哪些看似不起眼，实则心机颇深的设计？ - 肥肥猫的回答 : 9  task_id 3151\n",
    "  雷锋是个什么样的人，怎么客观评价雷锋？ - 书生的回答 : 9  task_id 96\n",
    "  鲁迅和秋瑾的关系好吗？ - 书生的回答 : 9  task_id 91\n",
    "  1927 年蒋介石为什么要清党？ - 冷哲的回答 : 8  task_id 1415\n",
    "  1949年以后的中国本土设计的建筑中，哪些能称得上是有思想的好建筑？ - Chilly的回答 : 8  task_id 3104\n",
    "  2015 年初，中国制造业形势有多严峻？ - 稻可道 稻子的稻的回答 : 8  task_id 2239\n",
    "  2016 年，中国房地产泡沫是否会在一两年内破灭，从而引发金融危机？ - Bee Mad的回答 : 8  task_id 2104\n",
    "  2016 年，中国房地产泡沫是否会在一两年内破灭，从而引发金融危机？ - 君临的回答 : 8  task_id 2205\n",
    "  2016 年，中国房地产泡沫是否会在一两年内破灭，从而引发金融危机？ - 小马的回答 : 8  task_id 5752\n",
    "  ISIS 是一个什么样的组织？它的资金是哪来的？ - 罗晓川的回答 : 8  task_id 39\n",
    "  Lambda 表达式有何用处？如何使用？ - 涛吴的回答 : 8  task_id 2008\n",
    "  Signal Weighting---基于因子IC的因子权重优化模型 - 陈颖的专栏 量化哥 : 8  task_id 6007\n",
    "  Smart Beta 投资方法 - 陈颖的专栏 量化哥 : 8  task_id 6017\n",
    "  ofo 获滴滴数千万美元C轮投资，然后呢？ - 曲凯的专栏 创投方法论 : 8  task_id 5656\n",
    "  《文明 6 》中的背景音乐都有什么来历？ - PenguinKing的回答 : 8  task_id 6250\n",
    "  《权力的游戏》你觉得最可怜的人是谁？ - 苏鲁的回答 : 8  task_id 4576\n",
    "  《蒋介石日记》和《毛泽东选集》差距有多大？ - 马前卒的回答 : 8  task_id 5355\n",
    "  「心灵鸡汤」式的文章错在哪？ - 赵皓阳的回答 : 8  task_id 584\n",
    "  '''\n",
    "\n",
    "  for line in datalines(s):\n",
    "    task_id = int(line.split('task_id')[-1][1:])\n",
    "    # log(task_id)\n",
    "    task = Task.select().where(Task.id == task_id).get()\n",
    "    log(task)\n",
    "    # log(task.pages)\n",
    "    # log(task.last_page)\n",
    "    contents = [fix_in_compare(p.content) for p in task.pages]\n",
    "    # questions = [fix_in_compare(p.question) for p in task.pages]\n",
    "    titles = [p.title for p in task.pages]\n",
    "\n",
    "    # metas = [p.metadata for p in task.pages]\n",
    "    # for meta in metas:\n",
    "    #   log(meta)\n",
    "    # compare_text_sequence(titles, label='titles')\n",
    "    # compare_text_sequence(questions, label='questions')\n",
    "    compare_text_sequence(contents, label='contents')\n",
    "\n",
    "    log('\\n\\n\\n')\n",
    "\n",
    "\n",
    "\n",
    "def fix_in_compare(text):\n",
    "  import re\n",
    "  img_reg = r'\\n*\\!\\[\\]\\((https?://pic[^()]+?(\\.jpg|\\.png|\\.gif))\\)\\n*'\n",
    "  pattern_img_start_inline = re.compile(img_reg)\n",
    "  def replace_img_start_inline(mat):\n",
    "    # 保证生成的 *.md 图片在新的一行\n",
    "    s = mat.group(0)\n",
    "    while not s.startswith('\\n\\n'):\n",
    "      s = '\\n' + s\n",
    "    while not s.endswith('\\n\\n'):\n",
    "      s = s + '\\n'\n",
    "    return s\n",
    "\n",
    "  text = pattern_img_start_inline.sub(replace_img_start_inline, text)\n",
    "\n",
    "  pattern_img_https = re.compile(r'http://pic(\\d)\\.zhimg\\.com')\n",
    "  text = pattern_img_https.sub(r'https://pic\\1.zhimg.com', text)\n",
    "  return text\n",
    "\n",
    "\n",
    "def compare_text(t1, t2, prefix=''):\n",
    "  import difflib\n",
    "  changes = [l for l in difflib.ndiff(t1.split('\\n'), t2.split('\\n')) if l.startswith(('+ ', '- '))]\n",
    "  for change in changes:\n",
    "    log(prefix + change)\n",
    "  return changes\n",
    "\n",
    "\n",
    "def compare_text_sequence(texts, label=''):\n",
    "  from pylon import dedupe\n",
    "  from pylon import windows\n",
    "\n",
    "  texts = list(dedupe(texts))\n",
    "  if len(texts) > 1:\n",
    "    log('detect changed {}'.format(label))\n",
    "    for t1, t2 in windows(texts, length=2, overlap=1):\n",
    "      compare_text(t1, t2, prefix='  ')\n",
    "  else:\n",
    "    log('nothing changed {}'.format(label))\n",
    "\n",
    "\n",
    "\n",
    "def test_explore_voteup_thanks():\n",
    "  '''感谢赞同比跟文章质量没啥关系'''\n",
    "  query = (Page.select(Page, Task)\n",
    "           .join(Task)\n",
    "           .where((Task.page_type == 'zhihu_answer'))\n",
    "           .group_by(Page.task)\n",
    "           .having(Page.watch_date == fn.MAX(Page.watch_date))\n",
    "           .limit(50)\n",
    "           .order_by(fn.Random())\n",
    "           )\n",
    "\n",
    "  def thanks_voteup_ratio(page):\n",
    "    thanks = int(page.metadata.split('thanks: ')[1].split(' ')[0])\n",
    "    voteup = int(page.metadata.split('voteup: ')[1].split(' ')[0])\n",
    "    return round(thanks / voteup, 3)\n",
    "\n",
    "  # for page in query:\n",
    "  #   log(page.title)\n",
    "\n",
    "  pages = sorted(query, key=thanks_voteup_ratio)\n",
    "  for page in pages:\n",
    "    log(page.title)\n",
    "    log(repr(page.content[:500]))\n",
    "    log(thanks_voteup_ratio(page))\n",
    "    log('-----------------\\n\\n\\n')\n"
   ]
  },
  {
   "cell_type": "code",
   "execution_count": null,
   "metadata": {
    "hidden": true
   },
   "outputs": [],
   "source": []
  },
  {
   "cell_type": "code",
   "execution_count": null,
   "metadata": {
    "hidden": true
   },
   "outputs": [],
   "source": []
  },
  {
   "cell_type": "markdown",
   "metadata": {
    "ExecuteTime": {
     "end_time": "2019-06-27T07:39:48.453813Z",
     "start_time": "2019-06-27T07:39:48.285298Z"
    }
   },
   "source": [
    "### Test Collector"
   ]
  },
  {
   "cell_type": "code",
   "execution_count": null,
   "metadata": {
    "ExecuteTime": {
     "end_time": "2019-07-31T05:38:08.428572Z",
     "start_time": "2019-07-31T05:38:08.364681Z"
    }
   },
   "outputs": [],
   "source": [
    "%load_ext autoreload\n",
    "%autoreload 2"
   ]
  },
  {
   "cell_type": "code",
   "execution_count": null,
   "metadata": {
    "ExecuteTime": {
     "end_time": "2019-07-31T05:56:23.463491Z",
     "start_time": "2019-07-31T05:56:23.368788Z"
    }
   },
   "outputs": [],
   "source": [
    "from collector import Collector\n",
    "\n",
    "\n",
    "col = Collector(project_path='D:\\DataStore\\The North Remembers - Art')\n",
    "\n",
    "# topic_id = 19644231 # 古建筑\n",
    "# topic_id = 19582176 # 建筑设计\n",
    "# topic_id = 19573393 # 建筑史\n",
    "# topic_id = 19568972 # 建筑学"
   ]
  },
  {
   "cell_type": "code",
   "execution_count": null,
   "metadata": {
    "ExecuteTime": {
     "end_time": "2019-07-31T05:44:08.082547Z",
     "start_time": "2019-07-31T05:44:07.520931Z"
    }
   },
   "outputs": [],
   "source": [
    "url = 'https://zhuanlan.zhihu.com/c_186387023'\n",
    "tip = '何为现实？拉普拉斯之妖与薛定谔猫之决战'\n",
    "# col.add(url, tip, lister_option=None, page_option=None)\n",
    "col.add(url)\n",
    "str(col)"
   ]
  },
  {
   "cell_type": "code",
   "execution_count": null,
   "metadata": {
    "ExecuteTime": {
     "end_time": "2019-07-31T05:57:12.786689Z",
     "start_time": "2019-07-31T05:57:11.174151Z"
    }
   },
   "outputs": [],
   "source": [
    "urls = [\n",
    "  'https://www.zhihu.com/topic/19644231/top-answers', # 古建筑\n",
    "  'https://www.zhihu.com/topic/19582176/top-answers', # 建筑设计\n",
    "  'https://www.zhihu.com/topic/19573393/top-answers', # 建筑史\n",
    "  'https://www.zhihu.com/topic/19568972/top-answers', # 建筑学\n",
    "]\n",
    "\n",
    "col.add_multiple(urls, lister_option={'zhihu_min_voteup': 5000})\n",
    "str(col)"
   ]
  },
  {
   "cell_type": "code",
   "execution_count": null,
   "metadata": {},
   "outputs": [],
   "source": [
    "# collector.add(weixin_page_url)\n",
    "# collector.add(zhihu_column_url)\n",
    "# collector.add(zhihu_anwser_id=xxx)\n",
    "# collector.add(zhihu_author_id=xxx)\n",
    "# collector.add(column_id=xxx)\n",
    "\n",
    "# collector.save(file=xxx)\n",
    "# ...\n",
    "# collector.rescan()\n",
    "# collector.save(file=xxx)\n",
    "# collector = Collector.load(file=xxx.yaml)"
   ]
  },
  {
   "cell_type": "code",
   "execution_count": null,
   "metadata": {},
   "outputs": [],
   "source": []
  },
  {
   "cell_type": "code",
   "execution_count": null,
   "metadata": {},
   "outputs": [],
   "source": []
  },
  {
   "cell_type": "code",
   "execution_count": null,
   "metadata": {},
   "outputs": [],
   "source": []
  },
  {
   "cell_type": "code",
   "execution_count": null,
   "metadata": {},
   "outputs": [],
   "source": []
  },
  {
   "cell_type": "code",
   "execution_count": null,
   "metadata": {},
   "outputs": [],
   "source": []
  },
  {
   "cell_type": "code",
   "execution_count": null,
   "metadata": {},
   "outputs": [],
   "source": []
  },
  {
   "cell_type": "code",
   "execution_count": null,
   "metadata": {},
   "outputs": [],
   "source": []
  },
  {
   "cell_type": "code",
   "execution_count": null,
   "metadata": {},
   "outputs": [],
   "source": []
  },
  {
   "cell_type": "markdown",
   "metadata": {},
   "source": [
    "### Test Watcher"
   ]
  },
  {
   "cell_type": "code",
   "execution_count": null,
   "metadata": {
    "ExecuteTime": {
     "end_time": "2019-08-27T06:30:17.947849Z",
     "start_time": "2019-08-27T06:30:17.849107Z"
    }
   },
   "outputs": [],
   "source": [
    "%load_ext autoreload\n",
    "%autoreload 2"
   ]
  },
  {
   "cell_type": "code",
   "execution_count": 64,
   "metadata": {
    "ExecuteTime": {
     "end_time": "2019-08-27T06:46:08.715414Z",
     "start_time": "2019-08-27T06:46:06.921188Z"
    },
    "scrolled": false
   },
   "outputs": [
    {
     "name": "stdout",
     "output_type": "stream",
     "text": [
      "loaded config_data option lister: \n",
      "{'enabled': True,\n",
      " 'limit': 10,\n",
      " 'max_cycle': '15day',\n",
      " 'min_cycle': '10minutes',\n",
      " 'weight': 0.5,\n",
      " 'zhihu_min_thanks': 200,\n",
      " 'zhihu_min_voteup': 1000}\n",
      "loaded config_data option page: \n",
      "{'enabled': True, 'max_cycle': '1day', 'min_cycle': '60minutes', 'weight': 0.5}\n",
      "loaded config_data lister tasks 3\n",
      "loaded config_data page tasks 39\n",
      "Watcher.add_tasks result status , Counter({'added': 3})\n",
      "Watcher.add_tasks result status , Counter({'added': 39})\n"
     ]
    }
   ],
   "source": [
    "from watcher import Watcher\n",
    "# w = Watcher(r'D:\\Coding\\TheNorthRemembers\\test\\旗舰评论——战略航空军元帅的旗舰')\n",
    "#w = Watcher(r'D:\\Coding\\TheNorthRemembers\\test\\知乎 - 温酒的回答')\n",
    "# w = Watcher(r'D:\\Coding\\TheNorthRemembers\\test\\经济')\n",
    "# w = Watcher(r'D:\\Coding\\TheNorthRemembers\\test\\人文主义谈话录')\n",
    "# w = Watcher(r'D:\\DataStore\\The North Remembers - Science\\混乱博物馆')\n",
    "# w = Watcher(r'D:\\DataStore\\The North Remembers - Social\\篝火旁的故事')\n",
    "# w = Watcher(r'D:\\DataStore\\The North Remembers - Social\\沉思的托克维尔')\n",
    "# w = Watcher(r'D:\\DataStore\\The North Remembers - Social\\何为现实？拉普拉斯之妖与薛定谔猫之决战')\n",
    "\n",
    "# w = Watcher(r'D:\\DataStore\\The North Remembers - Art\\知乎话题 - 古建筑, 建筑设计, 建筑史, 建筑学')\n",
    "\n",
    "w = Watcher(r'D:\\DataStore\\test\\机票')\n"
   ]
  },
  {
   "cell_type": "code",
   "execution_count": 65,
   "metadata": {
    "ExecuteTime": {
     "end_time": "2019-08-27T06:48:41.541815Z",
     "start_time": "2019-08-27T06:46:10.734622Z"
    },
    "scrolled": false
   },
   "outputs": [
    {
     "name": "stdout",
     "output_type": "stream",
     "text": [
      "Watcher.watch should fetch 1 lister_type tasks\n",
      "\n",
      "Task.run lister request: <Task #2029463275728> https://www.zhihu.com/topic/20226937/ (ver. 2)\n",
      "    成都旅游\n",
      "    task add: an hour ago, last watch: 14 minutes ago, last change 14 minutes ago, next watch: 4 minutes ago \n",
      "request_ZhihuAnswerLister topic_id, 20226937\n",
      "成都旅游20226937\n",
      "detect https://www.zhihu.com/question/19871837/answer/20841600\n",
      "                 去成都旅游，都有哪些比较地道的美食和店铺推荐？ - 阿栗酥的回答\n",
      "detect https://www.zhihu.com/question/39861369/answer/85522359\n",
      "                 成都有哪些能让外地游客耳目一新的地方？ - sarahtang的回答\n",
      "detect https://www.zhihu.com/question/60378029/answer/520435193\n",
      "                 请问学生党如何用最少的钱在成都旅游？ - 北慕城南的回答\n",
      "detect https://www.zhihu.com/question/19871837/answer/140143386\n",
      "                 去成都旅游，都有哪些比较地道的美食和店铺推荐？ - 席妙雅的回答\n",
      "detect https://www.zhihu.com/question/35653408/answer/66730484\n",
      "                 求一个去成都旅游的攻略? - 祁Andy的回答\n",
      "detect https://www.zhihu.com/question/23087993/answer/106009326\n",
      "                 成都有哪些值得一看的建筑？ - sumeru的回答\n",
      "detect https://www.zhihu.com/question/36301374/answer/66871550\n",
      "                 在成都旅游需要担心被人狠宰吗？ - 柯阿卡的回答\n",
      "detect https://www.zhihu.com/question/66865850/answer/365647763\n",
      "                 求成都四天的旅游攻略？ - 若是果果的回答\n",
      "detect https://www.zhihu.com/question/21731011/answer/298257410\n",
      "                 求一个成都三日游的旅游攻略，包括成都美食，大概花销一千以下（学生木有钱）？ - 住多多的回答\n",
      "detect https://www.zhihu.com/question/54172602/answer/140423062\n",
      "                 成都有什么必去的景点？ - 芝麻酱的回答\n",
      "Task.run detect new tasks done: 10 tasks\n",
      "Watcher.add_tasks result status , Counter({'dropped': 10})\n",
      "Watcher.watch lister task done: \n",
      "<Task #2029463275728> https://www.zhihu.com/topic/20226937/ (ver. 3)\n",
      "    成都旅游\n",
      "    task add: an hour ago, last watch: just now, last change 14 minutes ago, next watch: in 14 minutes \n",
      "\n",
      "\n",
      "done, save_config_yaml \"D:\\DataStore\\test\\机票/.task.yaml\" done\n",
      "Watcher.remember added + committed D:\\DataStore\\test\\机票 checked lister 1\n",
      "Watcher.watch should fetch 5 page_type tasks\n",
      "\n",
      "Task.run page request: <Task #2029482699912> https://www.zhihu.com/question/28532142/answer/99143616 (ver. 1)\n",
      "    如何购买特价机票？ - 大年的回答\n",
      "    task add: an hour ago, last watch: an hour ago, last change an hour ago, next watch: 2 minutes ago \n",
      "start fetching comment https://www.zhihu.com/api/v4/answers/99143616/root_comments?order=normal&limit=20&offset=0 ...\n",
      "fetch 1186 top level comments\n",
      "fetch 9 child level comments\n",
      "fetch 10 child level comments\n",
      "fetch 21 child level comments\n",
      "fetch 11 child level comments\n",
      "fetch 8 child level comments\n",
      "fetch 4 child level comments\n",
      "fetch 4 child level comments\n",
      "Task.run fetch page done\n",
      "warning! already exist D:\\DataStore\\test\\机票/如何购买特价机票？ - 大年的回答.md\n",
      "write D:\\DataStore\\test\\机票/如何购买特价机票？ - 大年的回答.md done\n",
      "Watcher.watch page task done: <Task #2029482699912>\n",
      "\n",
      "\n",
      "done, save_config_yaml \"D:\\DataStore\\test\\机票/.task.yaml\" done\n",
      "Task.run page request: <Task #2029482700528> https://www.zhihu.com/question/314636817/answer/742429806 (ver. 1)\n",
      "    机票越早买越便宜吗？ - 若是果果的回答\n",
      "    task add: an hour ago, last watch: an hour ago, last change an hour ago, next watch: 2 minutes ago \n",
      "start fetching comment https://www.zhihu.com/api/v4/answers/742429806/root_comments?order=normal&limit=20&offset=0 ...\n",
      "fetch 287 top level comments\n",
      "fetch 76 child level comments\n",
      "fetch 22 child level comments\n",
      "fetch 126 child level comments\n",
      "fetch 9 child level comments\n",
      "fetch 5 child level comments\n",
      "fetch 9 child level comments\n",
      "fetch 3 child level comments\n",
      "fetch 4 child level comments\n",
      "Task.run fetch page done\n",
      "warning! already exist D:\\DataStore\\test\\机票/机票越早买越便宜吗？ - 若是果果的回答.md\n",
      "write D:\\DataStore\\test\\机票/机票越早买越便宜吗？ - 若是果果的回答.md done\n",
      "Watcher.watch page task done: <Task #2029482700528>\n",
      "\n",
      "\n",
      "done, save_config_yaml \"D:\\DataStore\\test\\机票/.task.yaml\" done\n",
      "Task.run page request: <Task #2029464798432> https://www.zhihu.com/question/23564789/answer/304495615 (ver. 1)\n",
      "    你买过最便宜的机票是多少钱? - 匿名用户的回答\n",
      "    task add: an hour ago, last watch: an hour ago, last change an hour ago, next watch: 2 minutes ago \n",
      "start fetching comment https://www.zhihu.com/api/v4/answers/304495615/root_comments?order=normal&limit=20&offset=0 ...\n",
      "fetch 1249 top level comments\n",
      "fetch 16 child level comments\n",
      "fetch 10 child level comments\n",
      "fetch 169 child level comments\n",
      "fetch 4 child level comments\n",
      "fetch 14 child level comments\n",
      "fetch 3 child level comments\n",
      "fetch 4 child level comments\n",
      "fetch 9 child level comments\n",
      "fetch 16 child level comments\n",
      "fetch 13 child level comments\n",
      "Task.run fetch page done\n",
      "warning! already exist D:\\DataStore\\test\\机票/你买过最便宜的机票是多少钱 - 匿名用户的回答.md\n",
      "write D:\\DataStore\\test\\机票/你买过最便宜的机票是多少钱 - 匿名用户的回答.md done\n",
      "Watcher.watch page task done: <Task #2029464798432>\n",
      "\n",
      "\n",
      "done, save_config_yaml \"D:\\DataStore\\test\\机票/.task.yaml\" done\n",
      "Watcher.remember added + committed D:\\DataStore\\test\\机票 save pages 3\n",
      "Task.run page request: <Task #2029483527416> https://www.zhihu.com/question/19730044/answer/123367521 (ver. 1)\n",
      "    如何订机票最划算？ - Wise的回答\n",
      "    task add: an hour ago, last watch: an hour ago, last change an hour ago, next watch: 2 minutes ago \n",
      "start fetching comment https://www.zhihu.com/api/v4/answers/123367521/root_comments?order=normal&limit=20&offset=0 ...\n",
      "fetch 206 top level comments\n",
      "fetch 20 child level comments\n",
      "fetch 8 child level comments\n",
      "fetch 6 child level comments\n",
      "fetch 7 child level comments\n",
      "Task.run fetch page done\n",
      "warning! already exist D:\\DataStore\\test\\机票/如何订机票最划算？ - Wise的回答.md\n",
      "write D:\\DataStore\\test\\机票/如何订机票最划算？ - Wise的回答.md done\n",
      "Watcher.watch page task done: <Task #2029483527416>\n",
      "\n",
      "\n",
      "done, save_config_yaml \"D:\\DataStore\\test\\机票/.task.yaml\" done\n",
      "Task.run page request: <Task #2029483527696> https://www.zhihu.com/question/30460608/answer/80919659 (ver. 1)\n",
      "    携程网靠谱吗？ - 李淼的回答\n",
      "    task add: an hour ago, last watch: an hour ago, last change an hour ago, next watch: 2 minutes ago \n",
      "start fetching comment https://www.zhihu.com/api/v4/answers/80919659/root_comments?order=normal&limit=20&offset=0 ...\n",
      "fetch 910 top level comments\n",
      "fetch 15 child level comments\n",
      "fetch 7 child level comments\n",
      "fetch 3 child level comments\n",
      "fetch 3 child level comments\n",
      "fetch 5 child level comments\n",
      "fetch 9 child level comments\n",
      "fetch 42 child level comments\n",
      "fetch 7 child level comments\n",
      "Task.run fetch page done\n",
      "warning! already exist D:\\DataStore\\test\\机票/携程网靠谱吗？ - 李淼的回答.md\n",
      "write D:\\DataStore\\test\\机票/携程网靠谱吗？ - 李淼的回答.md done\n",
      "Watcher.watch page task done: <Task #2029483527696>\n",
      "\n",
      "\n",
      "done, save_config_yaml \"D:\\DataStore\\test\\机票/.task.yaml\" done\n",
      "done, save_config_yaml \"D:\\DataStore\\test\\机票/.task.yaml\" done\n",
      "Watcher.remember added + committed D:\\DataStore\\test\\机票 save pages remain\n"
     ]
    }
   ],
   "source": [
    "w.watch()"
   ]
  },
  {
   "cell_type": "code",
   "execution_count": null,
   "metadata": {
    "ExecuteTime": {
     "end_time": "2019-08-27T06:44:38.392757Z",
     "start_time": "2019-08-27T06:44:29.727769Z"
    }
   },
   "outputs": [],
   "source": [
    "# 为什么 9·11 恐怖袭击中双子塔在一段时间的燃烧后倒塌了？fetch_zhihu_answer('https://www.zhihu.com/question/19848582/answer/18231808')"
   ]
  },
  {
   "cell_type": "code",
   "execution_count": null,
   "metadata": {
    "ExecuteTime": {
     "end_time": "2019-08-27T06:44:39.894647Z",
     "start_time": "2019-08-27T06:44:39.824837Z"
    }
   },
   "outputs": [],
   "source": [
    "d = _\n",
    "print(d.get('comments'))"
   ]
  },
  {
   "cell_type": "markdown",
   "metadata": {},
   "source": [
    "### Test Generate Feed "
   ]
  },
  {
   "cell_type": "code",
   "execution_count": null,
   "metadata": {
    "ExecuteTime": {
     "end_time": "2019-08-23T06:22:50.749204Z",
     "start_time": "2019-08-23T06:22:50.001402Z"
    },
    "scrolled": true
   },
   "outputs": [],
   "source": [
    "from recorder import generate_feed\n",
    "\n",
    "resp = generate_feed(r'D:\\DataStore\\The North Remembers - Art\\知乎话题 - 古建筑, 建筑设计, 建筑史, 建筑学')\n",
    "print(bytes.decode(resp[0]))"
   ]
  },
  {
   "cell_type": "code",
   "execution_count": null,
   "metadata": {
    "ExecuteTime": {
     "end_time": "2019-08-22T10:17:54.523020Z",
     "start_time": "2019-08-22T10:17:54.463183Z"
    }
   },
   "outputs": [],
   "source": [
    "resp = _"
   ]
  },
  {
   "cell_type": "code",
   "execution_count": null,
   "metadata": {
    "ExecuteTime": {
     "end_time": "2019-08-23T05:44:09.783803Z",
     "start_time": "2019-08-23T05:44:09.725980Z"
    },
    "scrolled": true
   },
   "outputs": [],
   "source": []
  },
  {
   "cell_type": "code",
   "execution_count": null,
   "metadata": {
    "ExecuteTime": {
     "end_time": "2019-08-22T09:59:48.545802Z",
     "start_time": "2019-08-22T09:59:48.479979Z"
    },
    "scrolled": true
   },
   "outputs": [],
   "source": [
    "resp.response"
   ]
  },
  {
   "cell_type": "code",
   "execution_count": null,
   "metadata": {},
   "outputs": [],
   "source": []
  },
  {
   "cell_type": "code",
   "execution_count": null,
   "metadata": {},
   "outputs": [],
   "source": []
  },
  {
   "cell_type": "code",
   "execution_count": null,
   "metadata": {},
   "outputs": [],
   "source": []
  },
  {
   "cell_type": "markdown",
   "metadata": {},
   "source": [
    "### Test Zhihu Fetch Error"
   ]
  },
  {
   "cell_type": "code",
   "execution_count": null,
   "metadata": {
    "ExecuteTime": {
     "end_time": "2019-08-27T06:36:06.533108Z",
     "start_time": "2019-08-27T06:36:06.463294Z"
    }
   },
   "outputs": [],
   "source": [
    "from fetcher_api.zhihu import fetch_zhihu_answer\n",
    "from fetcher_api.zhihu import parse_answer\n",
    "from fetcher_api.zhihu import parse_question"
   ]
  },
  {
   "cell_type": "code",
   "execution_count": null,
   "metadata": {},
   "outputs": [],
   "source": []
  },
  {
   "cell_type": "code",
   "execution_count": null,
   "metadata": {},
   "outputs": [],
   "source": []
  },
  {
   "cell_type": "markdown",
   "metadata": {},
   "source": [
    "### Fetch comments MaxRetryError"
   ]
  },
  {
   "cell_type": "code",
   "execution_count": null,
   "metadata": {
    "ExecuteTime": {
     "end_time": "2019-08-27T05:27:42.936188Z",
     "start_time": "2019-08-27T05:27:42.864420Z"
    }
   },
   "outputs": [],
   "source": [
    "from pprint import pprint\n",
    "from fetcher_api.zhihu import zhihu_detect_with_client\n",
    "from fetcher_api.zhihu import zhihu_detect\n",
    "from fetcher_api.zhihu import get_comments_api_v4\n",
    "from fetcher_api.zhihu import get_valuable_conversations_api_v4"
   ]
  },
  {
   "cell_type": "code",
   "execution_count": null,
   "metadata": {},
   "outputs": [],
   "source": []
  },
  {
   "cell_type": "code",
   "execution_count": null,
   "metadata": {},
   "outputs": [],
   "source": []
  },
  {
   "cell_type": "code",
   "execution_count": null,
   "metadata": {},
   "outputs": [],
   "source": []
  },
  {
   "cell_type": "code",
   "execution_count": null,
   "metadata": {},
   "outputs": [],
   "source": [
    "\n",
    "\n"
   ]
  },
  {
   "cell_type": "code",
   "execution_count": null,
   "metadata": {},
   "outputs": [],
   "source": []
  },
  {
   "cell_type": "code",
   "execution_count": null,
   "metadata": {},
   "outputs": [],
   "source": []
  },
  {
   "cell_type": "code",
   "execution_count": null,
   "metadata": {},
   "outputs": [],
   "source": []
  },
  {
   "cell_type": "code",
   "execution_count": null,
   "metadata": {},
   "outputs": [],
   "source": []
  },
  {
   "cell_type": "code",
   "execution_count": null,
   "metadata": {},
   "outputs": [],
   "source": []
  },
  {
   "cell_type": "code",
   "execution_count": null,
   "metadata": {},
   "outputs": [],
   "source": []
  },
  {
   "cell_type": "code",
   "execution_count": null,
   "metadata": {},
   "outputs": [],
   "source": []
  },
  {
   "cell_type": "code",
   "execution_count": null,
   "metadata": {},
   "outputs": [],
   "source": []
  },
  {
   "cell_type": "code",
   "execution_count": null,
   "metadata": {},
   "outputs": [],
   "source": []
  },
  {
   "cell_type": "code",
   "execution_count": null,
   "metadata": {},
   "outputs": [],
   "source": []
  },
  {
   "cell_type": "code",
   "execution_count": null,
   "metadata": {},
   "outputs": [],
   "source": []
  },
  {
   "cell_type": "code",
   "execution_count": null,
   "metadata": {},
   "outputs": [],
   "source": []
  },
  {
   "cell_type": "code",
   "execution_count": null,
   "metadata": {},
   "outputs": [],
   "source": []
  },
  {
   "cell_type": "code",
   "execution_count": null,
   "metadata": {},
   "outputs": [],
   "source": []
  },
  {
   "cell_type": "code",
   "execution_count": null,
   "metadata": {},
   "outputs": [],
   "source": []
  },
  {
   "cell_type": "code",
   "execution_count": null,
   "metadata": {},
   "outputs": [],
   "source": []
  },
  {
   "cell_type": "code",
   "execution_count": null,
   "metadata": {},
   "outputs": [],
   "source": []
  },
  {
   "cell_type": "code",
   "execution_count": null,
   "metadata": {},
   "outputs": [],
   "source": []
  },
  {
   "cell_type": "code",
   "execution_count": null,
   "metadata": {},
   "outputs": [],
   "source": []
  },
  {
   "cell_type": "markdown",
   "metadata": {},
   "source": [
    "### generate token"
   ]
  },
  {
   "cell_type": "code",
   "execution_count": null,
   "metadata": {
    "ExecuteTime": {
     "end_time": "2019-07-29T02:23:34.565809Z",
     "start_time": "2019-07-29T02:23:12.037064Z"
    }
   },
   "outputs": [],
   "source": [
    "from tools import generate_zhihu_token\n",
    "generate_zhihu_token()"
   ]
  },
  {
   "cell_type": "code",
   "execution_count": null,
   "metadata": {},
   "outputs": [],
   "source": []
  },
  {
   "cell_type": "code",
   "execution_count": null,
   "metadata": {
    "ExecuteTime": {
     "end_time": "2019-07-30T06:10:32.455557Z",
     "start_time": "2019-07-30T06:10:32.451553Z"
    }
   },
   "outputs": [],
   "source": [
    "from fetcher_api import zhihu"
   ]
  },
  {
   "cell_type": "code",
   "execution_count": null,
   "metadata": {
    "ExecuteTime": {
     "end_time": "2019-07-30T06:15:57.534182Z",
     "start_time": "2019-07-30T06:15:57.530195Z"
    }
   },
   "outputs": [],
   "source": [
    "client = zhihu.client"
   ]
  },
  {
   "cell_type": "code",
   "execution_count": null,
   "metadata": {
    "ExecuteTime": {
     "end_time": "2019-07-30T06:15:58.154508Z",
     "start_time": "2019-07-30T06:15:58.148523Z"
    }
   },
   "outputs": [],
   "source": [
    "c = client.collection(133030984)\n",
    "int(\"133030984\")"
   ]
  },
  {
   "cell_type": "code",
   "execution_count": null,
   "metadata": {
    "ExecuteTime": {
     "end_time": "2019-07-30T06:16:08.633200Z",
     "start_time": "2019-07-30T06:15:58.828719Z"
    },
    "scrolled": false
   },
   "outputs": [],
   "source": [
    "for ans in c.answers:\n",
    "  print(ans.author.name)"
   ]
  },
  {
   "cell_type": "code",
   "execution_count": null,
   "metadata": {
    "ExecuteTime": {
     "end_time": "2019-07-19T05:00:13.157113Z",
     "start_time": "2019-07-19T05:00:13.060657Z"
    }
   },
   "outputs": [],
   "source": [
    "from zhihu_oauth import ZhihuClient\n",
    "\n",
    "TOKEN_FILE = 'token.pkl'\n",
    "client = ZhihuClient()\n",
    "client.load_token(TOKEN_FILE)\n"
   ]
  },
  {
   "cell_type": "code",
   "execution_count": null,
   "metadata": {
    "ExecuteTime": {
     "end_time": "2019-07-19T05:00:14.139324Z",
     "start_time": "2019-07-19T05:00:14.077492Z"
    }
   },
   "outputs": [],
   "source": [
    "page = client.from_url('https://zhuanlan.zhihu.com/p/37509962')"
   ]
  },
  {
   "cell_type": "code",
   "execution_count": null,
   "metadata": {
    "ExecuteTime": {
     "end_time": "2019-07-19T05:27:57.591947Z",
     "start_time": "2019-07-19T05:27:57.525097Z"
    }
   },
   "outputs": [],
   "source": [
    "from fetcher_api.zhihu import fetch_zhihu_article"
   ]
  },
  {
   "cell_type": "code",
   "execution_count": null,
   "metadata": {
    "ExecuteTime": {
     "end_time": "2019-07-19T05:27:59.863061Z",
     "start_time": "2019-07-19T05:27:58.369270Z"
    },
    "scrolled": true
   },
   "outputs": [],
   "source": [
    "fetch_zhihu_article('https://zhuanlan.zhihu.com/p/37509962')"
   ]
  },
  {
   "cell_type": "code",
   "execution_count": null,
   "metadata": {},
   "outputs": [],
   "source": []
  },
  {
   "cell_type": "code",
   "execution_count": null,
   "metadata": {},
   "outputs": [],
   "source": []
  },
  {
   "cell_type": "code",
   "execution_count": null,
   "metadata": {
    "ExecuteTime": {
     "end_time": "2019-07-08T09:06:32.787716Z",
     "start_time": "2019-07-08T09:06:32.680993Z"
    }
   },
   "outputs": [],
   "source": [
    "import os\n",
    "os.path.basename('D:\\Coding\\TheNorthRemembers\\page.py')"
   ]
  },
  {
   "cell_type": "code",
   "execution_count": null,
   "metadata": {
    "ExecuteTime": {
     "end_time": "2019-07-08T09:06:11.093275Z",
     "start_time": "2019-07-08T09:06:10.984567Z"
    }
   },
   "outputs": [],
   "source": [
    "os.path.__file__"
   ]
  },
  {
   "cell_type": "code",
   "execution_count": null,
   "metadata": {
    "ExecuteTime": {
     "end_time": "2019-07-08T10:32:10.466236Z",
     "start_time": "2019-07-08T10:31:58.545Z"
    }
   },
   "outputs": [],
   "source": [
    "import wechatsogou"
   ]
  },
  {
   "cell_type": "code",
   "execution_count": null,
   "metadata": {
    "ExecuteTime": {
     "end_time": "2019-07-08T10:32:10.471223Z",
     "start_time": "2019-07-08T10:31:59.707Z"
    }
   },
   "outputs": [],
   "source": [
    "ws_api = wechatsogou.WechatSogouAPI()"
   ]
  },
  {
   "cell_type": "code",
   "execution_count": null,
   "metadata": {
    "ExecuteTime": {
     "end_time": "2019-07-08T10:32:24.548522Z",
     "start_time": "2019-07-08T10:32:13.261291Z"
    }
   },
   "outputs": [],
   "source": [
    "ws_api.get_gzh_info('南航青年志愿者')"
   ]
  },
  {
   "cell_type": "code",
   "execution_count": null,
   "metadata": {
    "ExecuteTime": {
     "end_time": "2019-07-08T10:33:00.761669Z",
     "start_time": "2019-07-08T10:32:58.763440Z"
    },
    "scrolled": false
   },
   "outputs": [],
   "source": [
    "list(ws_api.search_article('马前卒工作室'))"
   ]
  },
  {
   "cell_type": "code",
   "execution_count": null,
   "metadata": {
    "ExecuteTime": {
     "end_time": "2019-07-31T04:41:50.594610Z",
     "start_time": "2019-07-31T04:41:50.494868Z"
    }
   },
   "outputs": [],
   "source": [
    "topic_id = 11\n",
    "f'generate_tip {topic_id}'"
   ]
  },
  {
   "cell_type": "code",
   "execution_count": null,
   "metadata": {},
   "outputs": [],
   "source": []
  },
  {
   "cell_type": "code",
   "execution_count": null,
   "metadata": {},
   "outputs": [],
   "source": []
  },
  {
   "cell_type": "code",
   "execution_count": null,
   "metadata": {},
   "outputs": [],
   "source": []
  },
  {
   "cell_type": "code",
   "execution_count": null,
   "metadata": {},
   "outputs": [],
   "source": []
  },
  {
   "cell_type": "code",
   "execution_count": null,
   "metadata": {},
   "outputs": [],
   "source": []
  },
  {
   "cell_type": "code",
   "execution_count": null,
   "metadata": {},
   "outputs": [],
   "source": []
  },
  {
   "cell_type": "code",
   "execution_count": null,
   "metadata": {},
   "outputs": [],
   "source": []
  },
  {
   "cell_type": "code",
   "execution_count": null,
   "metadata": {},
   "outputs": [],
   "source": []
  },
  {
   "cell_type": "code",
   "execution_count": null,
   "metadata": {},
   "outputs": [],
   "source": []
  },
  {
   "cell_type": "code",
   "execution_count": null,
   "metadata": {},
   "outputs": [],
   "source": []
  },
  {
   "cell_type": "code",
   "execution_count": null,
   "metadata": {},
   "outputs": [],
   "source": []
  },
  {
   "cell_type": "code",
   "execution_count": null,
   "metadata": {},
   "outputs": [],
   "source": []
  },
  {
   "cell_type": "code",
   "execution_count": null,
   "metadata": {},
   "outputs": [],
   "source": []
  },
  {
   "cell_type": "code",
   "execution_count": null,
   "metadata": {},
   "outputs": [],
   "source": []
  },
  {
   "cell_type": "code",
   "execution_count": null,
   "metadata": {},
   "outputs": [],
   "source": []
  },
  {
   "cell_type": "code",
   "execution_count": null,
   "metadata": {},
   "outputs": [],
   "source": []
  },
  {
   "cell_type": "code",
   "execution_count": null,
   "metadata": {},
   "outputs": [],
   "source": []
  },
  {
   "cell_type": "code",
   "execution_count": null,
   "metadata": {},
   "outputs": [],
   "source": []
  },
  {
   "cell_type": "code",
   "execution_count": null,
   "metadata": {},
   "outputs": [],
   "source": []
  },
  {
   "cell_type": "markdown",
   "metadata": {},
   "source": [
    "### Playground"
   ]
  }
 ],
 "metadata": {
  "hide_input": false,
  "kernelspec": {
   "display_name": "Python 3",
   "language": "python",
   "name": "python3"
  },
  "language_info": {
   "codemirror_mode": {
    "name": "ipython",
    "version": 3
   },
   "file_extension": ".py",
   "mimetype": "text/x-python",
   "name": "python",
   "nbconvert_exporter": "python",
   "pygments_lexer": "ipython3",
   "version": "3.6.3"
  },
  "toc": {
   "nav_menu": {
    "height": "241px",
    "width": "184px"
   },
   "number_sections": true,
   "sideBar": false,
   "skip_h1_title": false,
   "title_cell": "Table of Contents",
   "title_sidebar": "Contents",
   "toc_cell": false,
   "toc_position": {
    "height": "225px",
    "left": "447px",
    "top": "32px",
    "width": "495px"
   },
   "toc_section_display": false,
   "toc_window_display": true
  }
 },
 "nbformat": 4,
 "nbformat_minor": 1
}
