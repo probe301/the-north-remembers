{
 "cells": [
  {
   "cell_type": "code",
   "execution_count": null,
   "metadata": {},
   "outputs": [],
   "source": []
  },
  {
   "cell_type": "markdown",
   "metadata": {},
   "source": [
    "# The North Remembers Project"
   ]
  },
  {
   "cell_type": "code",
   "execution_count": 1,
   "metadata": {
    "ExecuteTime": {
     "end_time": "2019-07-18T09:39:26.018434Z",
     "start_time": "2019-07-18T09:39:25.949540Z"
    }
   },
   "outputs": [],
   "source": [
    "%load_ext autoreload\n",
    "%autoreload 2"
   ]
  },
  {
   "cell_type": "markdown",
   "metadata": {},
   "source": [
    "### 取舍\n",
    "\n",
    "数据存储用 github, 或者 bitbucket\n",
    "\n",
    "\n",
    "提供导出为 rss, epub, pdf, github 自带检查历史的功能\n",
    "\n",
    "不追求实效性\n",
    "\n",
    "\n",
    "\n",
    "外链图片不作为重点\n",
    "外链图片和视频链接, url 链接, 一并修复, 换行字符串等也一并处理, 七牛云?\n",
    "md 中的 Latex 和 代码检测也在这里修复, pygment"
   ]
  },
  {
   "cell_type": "markdown",
   "metadata": {},
   "source": [
    "### 调用关系\n",
    "\n",
    "\n",
    "\n"
   ]
  },
  {
   "cell_type": "markdown",
   "metadata": {},
   "source": [
    "#### Collector\n",
    "\n",
    "处理用户发出的命令\n",
    "\n",
    "可以是 zhihu answer url, 问题页, 收藏夹页, 需要带有过滤条件\n",
    "用户可能在过滤条件后再做修补删减\n",
    "\n",
    "需要转为具体的爬虫任务, 并创建文件夹\n",
    "单页收集到特定的文件夹, 否则收集到一个自动命名的文件夹\n",
    "\n",
    "在文件夹下生成task\n",
    "\n",
    "Resources\n",
    "global_config\n",
    "task_config (scanlist)\n",
    "\n",
    "\n",
    "Collector.append(url, options)\n",
    "\n",
    "\n",
    "\n",
    "#### Watcher\n",
    "\n",
    "\n",
    "\n",
    "任务调度, 监视文件夹, 根据 task.yaml 抓取页面\n",
    "\n",
    "task.yaml 也记录历史\n",
    "\n",
    "task_type: single_page, \n",
    "update_batch: 10\n",
    "\n",
    "\n",
    "track_new: true\n",
    "\n",
    "\n",
    "通过扫描已有的待抓取任务, 在手动触发, 达到特定时间后, 分派抓取任务\n",
    "\n",
    "    Watcher\n",
    "        .watch()\n",
    "        .remember()\n",
    "        .status()\n",
    "        .load_config_yaml\n",
    "        .save_config_yaml\n",
    "        .add_task add_tasks\n",
    "\n",
    "\n",
    "\n",
    "Task\n",
    "\n",
    "被调用抓取单一页面内容, 或者抓取一个 url 列表\n",
    "抓取单一页面内容将存为 md, 不存 html\n",
    "\n",
    "    Task\n",
    "        ZhihuAnswerPageTask\n",
    "        ZhihuAnswerIndexTask\n",
    "        ZhihuColumnPageTask\n",
    "        ZhihuColumnIndexTask\n",
    "\n",
    "Task 会使用 Page.save / load\n",
    "\n",
    "    .last_page()\n",
    "    .fetch()\n",
    "    .save() 传递一些参数给 page 如 watch_date\n",
    "    .to_yaml_text()\n",
    "    \n",
    "    .priority\n",
    "    .is_page_type\n",
    "    .should_fetch\n",
    "    .content_is_changed\n",
    "\n",
    "\n",
    "\n",
    "ZhihuColumnPage\n",
    "ZhihuColumnLister\n",
    "\n",
    "\n",
    "Fetcher.request(url) => dict()? Page()\n",
    "\n",
    "Page.write to / load from disk\n",
    "\n",
    "PageTask.run => Fetcher.request(url) => New Page\n",
    "PageTask.update => New Page.write\n",
    "IndexTask.run => Fetcher.request(url) => [New Tasks]\n",
    "\n",
    "\n",
    "Watcher -> PageTask -> Page (tmpl, fetcherAPI)\n",
    "                            ZhihuColumnPage\n",
    "                            ZhihuAnswerPage\n",
    "                            WeixinArticlePage\n",
    "\n",
    "\n",
    "Watcher -> IndexTask -> append more tasks\n",
    "                        ZhihuColumnIndex\n",
    "    \n",
    "\n",
    "\n",
    "\n"
   ]
  },
  {
   "cell_type": "markdown",
   "metadata": {},
   "source": [
    "#### Fetcher\n",
    "\n",
    "Page\n",
    "\n",
    "页面内容分为 元数据 + 文章主体 + 评论, 评论先放放\n",
    "\n",
    "\n",
    "Page.load()  返回一个读盘的页面\n",
    "\n",
    "以md文件为单位\n",
    "\n",
    "    ZhihuColumnPage\n",
    "        .load(path)\n",
    "        .write(path)\n",
    "        .compare()\n",
    "\n",
    "    attr\n",
    "        task = ForeignKeyField(Task, related_name='task')\n",
    "        watch_date = DateTimeField()\n",
    "        title = CharField(null=True)\n",
    "        author = CharField(null=True)\n",
    "        content = TextField(null=True)\n",
    "        metadata = TextField(null=True)\n",
    "        topic = TextField(null=True)\n",
    "        question = TextField(null=True)\n",
    "        comment = TextField(null=True)\n",
    "\n",
    "\n",
    "\n",
    "\n",
    "\n",
    "#### Cleaner\n",
    "\n",
    "处理, 清理文本的规则\n",
    "\n",
    "\n",
    "\n",
    "Exporter\n",
    "\n",
    "根据 Template 转换为 rss, epub, pdf, 以及 github diff 预览\n",
    "\n",
    "图片转存也算在 Template 里"
   ]
  },
  {
   "cell_type": "code",
   "execution_count": null,
   "metadata": {},
   "outputs": [],
   "source": [
    "描述\n",
    "\n",
    "以更加简洁清晰的排版阅读知乎. (这个需求有简悦)\n",
    "\n",
    "用户指定一个知乎网站上的问题, zhihumark 抓取相应的回答内容, 以 markdown 文档的形式提供给用户阅读和下载. (提供 md 下载没用)\n",
    "\n",
    "\n",
    "\n",
    "\n",
    "\n",
    "功能\n",
    "\n",
    "可以自由定制想抓取的内容, 这包括: 抓取指定答主/收藏夹名/问题/话题下的回答, 抓取赞同数量超过N的回答.\n",
    "可以设置黑名单, 不抓取特定的问题或者答主.\n",
    "抓取评论, 以会话的形式组织起来, 让上下文相关的评论出现在一起, 尽量滤除没有价值的评论.\n",
    "将收集到的一系列文档保存为epub或者pdf, 或者批量下载 markdown 文档, 以便离线阅读.\n",
    "制作成 feed 以便放入 rss 阅读器, 获取实时更新.\n",
    "\n",
    "\n",
    "观念\n",
    "\n",
    "我们也不显示其他人搜索了什么关键字, 获取了什么页面, 下载了哪些电子书, 看到什么取决于你\n",
    "\n",
    "我们相信评论是回答(或文章)可以分割的一部分, 许多评论很水, 有些很有价值.\n",
    "\n",
    "相信评论区是对回答的重要补充, 也有随回答保留的必要, 但需处理评论区良莠不齐, 引用回复混乱的问题.\n",
    "\n",
    "\n",
    "\n",
    "页面设计\n",
    "\n",
    "单页面网站应用, 基本上类似搜索引擎的风格和排版.\n",
    "\n",
    "输入框 - 接受输入ID或URL 答主/收藏夹名/问题名/话题名\n",
    "\n",
    "选项 - 保留最前的n个回答?\n",
    "选项 - 赞同数至少是?\n",
    "选项 - 保留评论? 评论对话中至少有多少 likes\n",
    "屏蔽 - 不感兴趣的话题, 问题, 答主\n",
    "返回 - markdown文件列表\n",
    "\n",
    "批量下载按钮"
   ]
  },
  {
   "cell_type": "code",
   "execution_count": null,
   "metadata": {},
   "outputs": [],
   "source": []
  },
  {
   "cell_type": "code",
   "execution_count": null,
   "metadata": {},
   "outputs": [],
   "source": [
    "\n"
   ]
  },
  {
   "cell_type": "code",
   "execution_count": null,
   "metadata": {},
   "outputs": [],
   "source": []
  },
  {
   "cell_type": "code",
   "execution_count": null,
   "metadata": {},
   "outputs": [],
   "source": []
  },
  {
   "cell_type": "code",
   "execution_count": null,
   "metadata": {},
   "outputs": [],
   "source": []
  },
  {
   "cell_type": "code",
   "execution_count": null,
   "metadata": {},
   "outputs": [],
   "source": []
  },
  {
   "cell_type": "code",
   "execution_count": null,
   "metadata": {},
   "outputs": [],
   "source": []
  },
  {
   "cell_type": "code",
   "execution_count": null,
   "metadata": {},
   "outputs": [],
   "source": []
  },
  {
   "cell_type": "code",
   "execution_count": null,
   "metadata": {},
   "outputs": [],
   "source": []
  },
  {
   "cell_type": "code",
   "execution_count": null,
   "metadata": {},
   "outputs": [],
   "source": []
  },
  {
   "cell_type": "code",
   "execution_count": null,
   "metadata": {},
   "outputs": [],
   "source": []
  },
  {
   "cell_type": "code",
   "execution_count": null,
   "metadata": {},
   "outputs": [],
   "source": []
  },
  {
   "cell_type": "code",
   "execution_count": null,
   "metadata": {},
   "outputs": [],
   "source": []
  },
  {
   "cell_type": "code",
   "execution_count": null,
   "metadata": {},
   "outputs": [],
   "source": []
  },
  {
   "cell_type": "code",
   "execution_count": null,
   "metadata": {},
   "outputs": [],
   "source": []
  },
  {
   "cell_type": "code",
   "execution_count": null,
   "metadata": {
    "ExecuteTime": {
     "end_time": "2017-04-19T13:27:37.834791",
     "start_time": "2017-04-19T13:27:37.741543"
    }
   },
   "outputs": [],
   "source": [
    "def test_fetch_history():\n",
    "  # 美国是不是正在为瓦解中国做准备？ - 张俊麒的回答\n",
    "  # url = 'https://www.zhihu.com/question/40622033/answer/88139460'\n",
    "  \n",
    "  # 有哪些令人拍案叫绝的临场反应？ - 大盗贼霍老爷的回答\n",
    "  url = 'https://www.zhihu.com/question/29125576/answer/54187388'\n",
    "  \n",
    "  # 机器人教育这种不考试、以娱乐为主的教育对于中小学生及幼儿的意义何在？ - 冷哲的回答\"\n",
    "  url = 'https://www.zhihu.com/question/26999365/answer/93421419'\n",
    "  \n",
    "  \n",
    "  # 2016 年，中国房地产泡沫是否会在一两年内破灭，从而引发金融危机？ - 小马的回答\"\n",
    "  url = 'https://www.zhihu.com/question/40910547/answer/123021503'\n",
    "  \n",
    "  # Smart Beta 投资方法 - 陈颖的专栏 量化哥\"\n",
    "  url = 'https://zhuanlan.zhihu.com/p/21936302'\n",
    "  \n",
    "  \n",
    "  # 美国南北战争的真正原因是什么？ - talich的回答\"\n",
    "  url = 'https://www.zhihu.com/question/19679278/answer/15122151'\n",
    "  # query = (Page.select(Page, Task)\n",
    "  #          .join(Task)\n",
    "  #          .where((Task.page_type == 'zhihu_article') & (Page.title.contains('最前沿')))\n",
    "  #          .group_by(Page.task)\n",
    "  #          .having(Page.watch_date == fn.MAX(Page.watch_date))\n",
    "  #          .limit(9999))\n",
    "  t = Task.select().where(Task.url == url).get()\n",
    "  \n",
    "  \n",
    "  contents = []\n",
    "  for page in t.pages:\n",
    "\n",
    "    print(page.version)\n",
    "    print(page.title)\n",
    "    print(page.topic)\n",
    "    contents.append(page.content)\n",
    "#     print(page.content)\n",
    "  return contents\n",
    "contents = test_fetch_history()"
   ]
  },
  {
   "cell_type": "code",
   "execution_count": null,
   "metadata": {
    "ExecuteTime": {
     "end_time": "2017-04-19T13:23:42.907993",
     "start_time": "2017-04-19T13:23:42.892989"
    },
    "scrolled": true
   },
   "outputs": [],
   "source": [
    "def split_text(text):\n",
    "  col = []\n",
    "  for sent in re.findall('.*?[！|，|。|？|\\n|；|~|～|：|\\)|\\]]', text):\n",
    "    col.append(sent)\n",
    "  \n",
    "  return col\n",
    "\n",
    "print(split_text(a))"
   ]
  },
  {
   "cell_type": "code",
   "execution_count": null,
   "metadata": {
    "ExecuteTime": {
     "end_time": "2017-04-19T13:27:40.003674",
     "start_time": "2017-04-19T13:27:39.965599"
    },
    "scrolled": false
   },
   "outputs": [],
   "source": [
    "print(len(contents))\n",
    "# c1, c2, c3, c4, *_, c7 = contents\n",
    "from difflib import unified_diff\n",
    "def compare_text(t1, t2, prefix=''):\n",
    "  changes = [l for l in unified_diff(t1, t2)]\n",
    "\n",
    "  return changes\n",
    "\n",
    "\n",
    "import re\n",
    "for i, (a, b) in enumerate(zip(contents[:-1], contents[1:])):\n",
    "#   if i == 0:\n",
    "#     continue\n",
    "  if (a!=b):\n",
    "    print('a!=b on', i, i+1)\n",
    "    \n",
    "    pat = re.compile('\\S')\n",
    "    for d in unified_diff(split_text(a), split_text(b), n=2, lineterm=''):\n",
    "      print(d)\n",
    "  \n",
    "  print('\\n\\n\\n\\n\\n\\n')\n",
    "#   if i >= 5:\n",
    "#     break\n",
    "  \n",
    "# compare_text(c1, c2)\n",
    "# compare_text(c2, c3)"
   ]
  },
  {
   "cell_type": "code",
   "execution_count": null,
   "metadata": {
    "ExecuteTime": {
     "end_time": "2019-06-27T05:03:58.837186Z",
     "start_time": "2019-06-27T05:03:58.810259Z"
    }
   },
   "outputs": [],
   "source": [
    "'iesytwe'.split('?')"
   ]
  },
  {
   "cell_type": "code",
   "execution_count": null,
   "metadata": {
    "ExecuteTime": {
     "end_time": "2017-04-19T12:37:24.575834",
     "start_time": "2017-04-19T12:37:24.506704"
    }
   },
   "outputs": [],
   "source": [
    "\n",
    "# from unidiff import PatchSet\n",
    "# diff = urllib2.urlopen('https://github.com/matiasb/python-unidiff/pull/3.diff')\n",
    "# encoding = diff.headers.getparam('charset')\n",
    "# patch = PatchSet(diff, encoding=encoding)\n"
   ]
  },
  {
   "cell_type": "code",
   "execution_count": null,
   "metadata": {},
   "outputs": [],
   "source": []
  },
  {
   "cell_type": "code",
   "execution_count": null,
   "metadata": {},
   "outputs": [],
   "source": []
  },
  {
   "cell_type": "code",
   "execution_count": null,
   "metadata": {},
   "outputs": [],
   "source": []
  },
  {
   "cell_type": "code",
   "execution_count": null,
   "metadata": {},
   "outputs": [],
   "source": []
  },
  {
   "cell_type": "code",
   "execution_count": null,
   "metadata": {},
   "outputs": [],
   "source": []
  },
  {
   "cell_type": "code",
   "execution_count": null,
   "metadata": {},
   "outputs": [],
   "source": []
  },
  {
   "cell_type": "code",
   "execution_count": null,
   "metadata": {},
   "outputs": [],
   "source": []
  },
  {
   "cell_type": "code",
   "execution_count": null,
   "metadata": {},
   "outputs": [],
   "source": []
  },
  {
   "cell_type": "markdown",
   "metadata": {
    "heading_collapsed": true
   },
   "source": [
    "### 原 models test exec\n",
    "\n",
    "\n"
   ]
  },
  {
   "cell_type": "code",
   "execution_count": null,
   "metadata": {
    "hidden": true
   },
   "outputs": [],
   "source": [
    "\n",
    "'''\n",
    "####### #######  ###### #######\n",
    "   ##   ##      ##         ##\n",
    "   ##   ######   #####     ##\n",
    "   ##   ##           ##    ##\n",
    "   ##   ####### ######     ##\n",
    "'''\n",
    "\n",
    "def test_new_task():\n",
    "  # url = 'https://www.zhihu.com/question/30595784/answer/49194862'\n",
    "  # 如何看待许知远在青年领袖颁奖典礼上愤怒「砸场」？\n",
    "  url = 'https://www.zhihu.com/question/22316395/answer/100909780'\n",
    "  url = 'https://www.zhihu.com/question/47220155/answer/118154455'\n",
    "  url = 'https://www.zhihu.com/question/49962599/answer/118716273'\n",
    "  url = 'https://zhuanlan.zhihu.com/p/19837940'\n",
    "  url = 'https://zhuanlan.zhihu.com/p/20639779'\n",
    "  url = 'https://zhuanlan.zhihu.com/p/20153329'\n",
    "  url = 'https://zhuanlan.zhihu.com/p/21281864'\n",
    "  url = 'https://zhuanlan.zhihu.com/p/19964142'\n",
    "  task = Task.add(url=url)\n",
    "  print(task)\n",
    "  # task.watch()\n",
    "\n",
    "\n",
    "def test_readd_task():\n",
    "  url = 'http://www.zhihu.com/question/22513722/answer/21967185' # 火车票涨价\n",
    "  task = Task.add(url=url)\n",
    "  task = Task.add(url=url)\n",
    "  url = 'https://www.zhihu.com/question/30957313/answer/50266448' # 古典音乐\n",
    "  task = Task.add(url=url)\n",
    "  url = 'https://www.zhihu.com/question/40056948/answer/110794550' # 四万亿\n",
    "  task = Task.add(url=url)\n",
    "\n",
    "def test_seed_add_tasks():\n",
    "  urls = '''\n",
    "    https://www.zhihu.com/question/40305228/answer/86179116\n",
    "    https://www.zhihu.com/question/36466762/answer/85475145\n",
    "    https://www.zhihu.com/question/33246348/answer/86919689\n",
    "    https://www.zhihu.com/question/39906815/answer/88534869\n",
    "\n",
    "    https://www.zhihu.com/question/40700155/answer/89002644\n",
    "    https://www.zhihu.com/question/36380091/answer/84690117\n",
    "    https://www.zhihu.com/question/33246348/answer/86919689\n",
    "    https://www.zhihu.com/question/35254746/answer/90252213\n",
    "    https://www.zhihu.com/question/23618517/answer/89823915\n",
    "\n",
    "    https://www.zhihu.com/question/40677000/answer/87886574\n",
    "\n",
    "    https://www.zhihu.com/question/41373242/answer/91417985\n",
    "    https://www.zhihu.com/question/47275087/answer/106335325\n",
    "    https://www.zhihu.com/question/47275087/answer/106335325 买不起房是房价太高还是工资太低？\n",
    "    https://www.zhihu.com/question/36129534/answer/91921682  印度经济会在本世纪追上中国吗？\n",
    "    https://www.zhihu.com/question/22513722/answer/21967185  火车票涨价是否能解决春运问题？\n",
    "    https://www.zhihu.com/question/27820755/answer/107267228 裸辞后怎样解释以获工作机会？\n",
    "  '''\n",
    "  for url in datalines(urls):\n",
    "    url = url.split(' ')[0]\n",
    "    task = Task.add(url=url)\n",
    "    task | puts()\n",
    "\n",
    "\n",
    "\n",
    "def test_one_watch():\n",
    "  task = Task.select().order_by(-Task.id).get()\n",
    "  task | puts()\n",
    "  task.watch()\n",
    "\n",
    "def test_another_watch():\n",
    "  url = 'http://www.zhihu.com/question/22513722/answer/21967185' # 火车票涨价\n",
    "  task = Task.select().where(Task.url == url).get()\n",
    "  task | puts()\n",
    "  task.watch()\n",
    "\n",
    "\n",
    "def test_hot_answer():\n",
    "  url = 'http://www.zhihu.com/question/39288165/answer/110207560'\n",
    "  url = 'https://www.zhihu.com/question/50763374/answer/122822226'\n",
    "  url = 'https://www.zhihu.com/question/40910547/answer/123021503'\n",
    "  url = 'https://zhuanlan.zhihu.com/p/21478575'\n",
    "  url = 'https://www.zhihu.com/question/40103788/answer/124499334'\n",
    "  task = Task.add(url=url)\n",
    "  task.watch()\n",
    "\n",
    "\n",
    "  task.last_page.to_local_file(folder='test', fetch_images=False)\n",
    "\n",
    "\n",
    "\n",
    "def test_watch_all():\n",
    "  Task.multiple_watch(sleep_seconds=10, limit=4)\n",
    "\n",
    "\n",
    "def test_report():\n",
    "  Task.report()\n",
    "\n",
    "\n",
    "\n",
    "def test_to_local_file():\n",
    "  # page = Page.select().order_by(-Page.id).get()\n",
    "\n",
    "  # page = Page.select(Page.topic).distinct().where(Page.topic.contains('房')).limit(5)\n",
    "  # q = Page.select(Page.id).distinct()\n",
    "  # for p in q:\n",
    "  #   print(p)\n",
    "  query = (Page.select(Page, Task)\n",
    "           .join(Task)\n",
    "           .where(Page.author == 'chenqin')  # .where(Page.topic.contains('建筑'))\n",
    "           .group_by(Page.task)\n",
    "           .having(Page.watch_date == fn.MAX(Page.watch_date))\n",
    "           .limit(8800))\n",
    "  for page in query:\n",
    "    log(page.title)\n",
    "    # log(page.metadata)\n",
    "    # page.to_local_file(folder='chen', fetch_images=False)\n",
    "# test_to_local_file()\n",
    "\n",
    "def test_tools():\n",
    "  import pylon\n",
    "  pylon.generate_figlet('task', fonts=['space_op'])\n",
    "  pylon.generate_figlet('page', fonts=['space_op'])\n",
    "  pylon.generate_figlet('test', fonts=['space_op'])\n",
    "\n",
    "\n",
    "def test_load_json():\n",
    "  import json\n",
    "\n",
    "  print(json.loads(open('mockup_topic_answers.json', encoding='utf-8').read()))\n",
    "\n",
    "\n",
    "def test_banned_modes():\n",
    "  url = 'https://www.zhihu.com/question/40679967/answer/88310495'\n",
    "  # 政府推出开放小区政策的真正目的是什么？ 2201 孟德尔 回答建议修改：政治敏感\n",
    "  pass\n",
    "\n",
    "\n",
    "def test_query_task():\n",
    "  s = 'https://www.zhihu.com/question/48737226/answer/113036453'\n",
    "  s = 'https://www.zhihu.com/question/47220155/answer/118154455'\n",
    "  s = 'https://www.zhihu.com/question/49545583/answer/116529877'\n",
    "\n",
    "  t = Task.select().where(Task.url == s)\n",
    "  t = t.get()\n",
    "  log(t.title)\n",
    "  log(t.id)\n",
    "\n",
    "\n",
    "\n",
    "\n",
    "\n",
    "\n",
    "def test_explore():\n",
    "  # Tweet.select(fn.COUNT(Tweet.id)).where(Tweet.user == User.id)\n",
    "  query = (Task\n",
    "           .select(Task, fn.COUNT(Page.id).alias('fetched_count'))\n",
    "           .join(Page)\n",
    "           .group_by(Task.title)\n",
    "           .limit(50)\n",
    "           .offset(200)\n",
    "           .order_by(fn.COUNT(Page.id).desc()))\n",
    "\n",
    "  for task in query:\n",
    "    log(task.title + ' : ' + str(task.fetched_count) + '  task_id ' + str(task.id))\n",
    "\n",
    "\n",
    "\n",
    "\n",
    "def test_explore_watching_results_diff():\n",
    "\n",
    "  s = '''\n",
    "  # 美国是不是正在为瓦解中国做准备？ - 张俊麒的回答 : 16  task_id 46\n",
    "  # 为什么很少看到患者砍莆田系医生的报道？ - 玄不救非氪不改命的回答 : 3  task_id 196\n",
    "  # 为什么很难证伪马克思主义理论？ - 玄不救非氪不改命的回答 : 3  task_id 360\n",
    "  # 为什么快速浏览一段内容的时候，很容易看到自己感兴趣的部分？ - 采铜的回答 : 3  task_id 742\n",
    "  # 为什么拿广州恒大淘宝队与中国国家男子足球队做对比？ - 玄不救非氪不改命的回答 : 3  task_id 492\n",
    "  # 如何看待里约奥运陈欣怡药检呈阳性反应？ - 玄不救非氪不改命的回答 : 3  task_id 2393\n",
    "  # 为什么厌恶「国粉」的知乎用户远多于厌恶「毛粉」的？ - chenqin的 : 3  task_id 3313\n",
    "  # 2016 年中国的经济状况很差吗？真实状况是怎样的？ - 垒起善城堡的积木 : 3 task_id 2387\n",
    "  # 如何看待2016年7月人民币贷款增幅里9.8成为房贷？ - 匿名用户的回答 : 3 task_id 2386\n",
    "\n",
    "\n",
    "\n",
    "\n",
    "  # 怎样评价「游戏不汉化就差评」的行为？ - cOMMANDO的回答 : 9  task_id 4471\n",
    "  # 既然有报道说人类的基因片段只占DNA序列总长的不到10%，那么这几个问题怎么解答？ - Mandelbrot的回答 : 9  task_id 676\n",
    "  # 智商低的人真的不适合玩需要动脑子的游戏么？ - 匿名用户的回答 : 9  task_id 3461\n",
    "  # 暴雪，Valve，拳头，谁更厉害？ - cOMMANDO的回答 : 9  task_id 2597\n",
    "  # 有一个稀有的姓是一种怎样的体验？ - 冷哲的回答 : 9  task_id 1041\n",
    "  # 有什么影视作品是当时演员名气不大，现在看来是全明星阵容出演？ - 玄不救非氪不改命的回答 : 9  task_id 484\n",
    "  # 有关白龙尾岛的历史，哪些是有据可查的？ - 书生的回答 : 9  task_id 712\n",
    "  # 有哪些「智商税」？ - 谢熊猫君的回答 : 9  task_id 2406\n",
    "  # 有哪些令人拍案叫绝的临场反应？ - 大盗贼霍老爷的回答 : 9  task_id 4107\n",
    "  # 有哪些可怕的故事？ - 大盗贼霍老爷的回答 : 9  task_id 4137\n",
    "  # 有哪些长得比较逆天的动物？ - Mandelbrot的回答 : 9  task_id 648\n",
    "  # 有文化有多可怕？ - 寺主人的回答 : 9  task_id 5787\n",
    "  # 机器人教育这种不考试、以娱乐为主的教育对于中小学生及幼儿的意义何在？ - 冷哲的回答 : 9  task_id 1015\n",
    "  # 毛花三年打败蒋然后走三十年弯路的目的，都是为后三十年的改革开放走资、大国崛起做铺垫扫平道路的么？ - 书生的回答 : 9  task_id 99\n",
    "  # 水旱蝗汤中的汤指的到底是谁？ - 书生的回答 : 9  task_id 104\n",
    "  # 河南的地理位置那么好，为什么经济落后？ - 大盗贼霍老爷的回答 : 9  task_id 4105\n",
    "  # 為什麼蒋介石被称为运输大队长？求详? - 书生的回答 : 9  task_id 701\n",
    "  # 玩《狼人杀》时你有什么屡试不爽的秘技诀窍？ - 汪诩文的回答 : 9  task_id 3526\n",
    "\n",
    "  现在网络上很多人黑一些伟人，比如说周半期，黑鲁迅。他们是什么心态？ - 书生的回答 : 9  task_id 97\n",
    "  看美剧、英剧学英语有什么有效的方法吗？ - 采铜的回答 : 9  task_id 787\n",
    "  章鱼的智商到底有多高，为什么有人说它们的智商可以统治世界? - Mandelbrot的回答 : 9  task_id 588\n",
    "  类似 AlphaGo 的人工智能在游戏王、万智牌等卡牌游戏中胜率如何？ - 莫名的回答 : 9  task_id 3724\n",
    "  给 59 分强行不给过的老师是一种怎么样的存在？ - chenqin的回答 : 9  task_id 3317\n",
    "  网络上有哪些广为流传的「历史真相」其实是谣言？ - 马前卒的回答 : 9  task_id 5089\n",
    "  美国南北战争的真正原因是什么？ - talich的回答 : 9  task_id 2571\n",
    "  美国发动伊拉克战争的核心原因到底是什么？ - 冷哲的回答 : 9  task_id 1332\n",
    "  美国最高法院大法官 Scalia 的去世将会带来怎样的影响？ - talich的回答 : 9  task_id 4423\n",
    "  美国有人在开车在路上故意把川普的竞选宣传牌碾倒，如何评价这种因为不同政见而破坏对方财物的行为？ - talich的回答 : 9  task_id 4412\n",
    "  装逼成功是怎样一种体验？ - 大盗贼霍老爷的回答 : 9  task_id 4048\n",
    "  谁最应该被印在人民币上面？ - 蜂鸟的回答 : 9  task_id 2274\n",
    "  豆瓣的核心用户都有什么特点？ - 十一点半的回答 : 9  task_id 84\n",
    "  赌场有哪些看似不起眼，实则心机颇深的设计？ - 第一喵的回答 : 9  task_id 3158\n",
    "  赌场有哪些看似不起眼，实则心机颇深的设计？ - 肥肥猫的回答 : 9  task_id 3151\n",
    "  雷锋是个什么样的人，怎么客观评价雷锋？ - 书生的回答 : 9  task_id 96\n",
    "  鲁迅和秋瑾的关系好吗？ - 书生的回答 : 9  task_id 91\n",
    "  1927 年蒋介石为什么要清党？ - 冷哲的回答 : 8  task_id 1415\n",
    "  1949年以后的中国本土设计的建筑中，哪些能称得上是有思想的好建筑？ - Chilly的回答 : 8  task_id 3104\n",
    "  2015 年初，中国制造业形势有多严峻？ - 稻可道 稻子的稻的回答 : 8  task_id 2239\n",
    "  2016 年，中国房地产泡沫是否会在一两年内破灭，从而引发金融危机？ - Bee Mad的回答 : 8  task_id 2104\n",
    "  2016 年，中国房地产泡沫是否会在一两年内破灭，从而引发金融危机？ - 君临的回答 : 8  task_id 2205\n",
    "  2016 年，中国房地产泡沫是否会在一两年内破灭，从而引发金融危机？ - 小马的回答 : 8  task_id 5752\n",
    "  ISIS 是一个什么样的组织？它的资金是哪来的？ - 罗晓川的回答 : 8  task_id 39\n",
    "  Lambda 表达式有何用处？如何使用？ - 涛吴的回答 : 8  task_id 2008\n",
    "  Signal Weighting---基于因子IC的因子权重优化模型 - 陈颖的专栏 量化哥 : 8  task_id 6007\n",
    "  Smart Beta 投资方法 - 陈颖的专栏 量化哥 : 8  task_id 6017\n",
    "  ofo 获滴滴数千万美元C轮投资，然后呢？ - 曲凯的专栏 创投方法论 : 8  task_id 5656\n",
    "  《文明 6 》中的背景音乐都有什么来历？ - PenguinKing的回答 : 8  task_id 6250\n",
    "  《权力的游戏》你觉得最可怜的人是谁？ - 苏鲁的回答 : 8  task_id 4576\n",
    "  《蒋介石日记》和《毛泽东选集》差距有多大？ - 马前卒的回答 : 8  task_id 5355\n",
    "  「心灵鸡汤」式的文章错在哪？ - 赵皓阳的回答 : 8  task_id 584\n",
    "  '''\n",
    "\n",
    "  for line in datalines(s):\n",
    "    task_id = int(line.split('task_id')[-1][1:])\n",
    "    # log(task_id)\n",
    "    task = Task.select().where(Task.id == task_id).get()\n",
    "    log(task)\n",
    "    # log(task.pages)\n",
    "    # log(task.last_page)\n",
    "    contents = [fix_in_compare(p.content) for p in task.pages]\n",
    "    # questions = [fix_in_compare(p.question) for p in task.pages]\n",
    "    titles = [p.title for p in task.pages]\n",
    "\n",
    "    # metas = [p.metadata for p in task.pages]\n",
    "    # for meta in metas:\n",
    "    #   log(meta)\n",
    "    # compare_text_sequence(titles, label='titles')\n",
    "    # compare_text_sequence(questions, label='questions')\n",
    "    compare_text_sequence(contents, label='contents')\n",
    "\n",
    "    log('\\n\\n\\n')\n",
    "\n",
    "\n",
    "\n",
    "def fix_in_compare(text):\n",
    "  import re\n",
    "  img_reg = r'\\n*\\!\\[\\]\\((https?://pic[^()]+?(\\.jpg|\\.png|\\.gif))\\)\\n*'\n",
    "  pattern_img_start_inline = re.compile(img_reg)\n",
    "  def replace_img_start_inline(mat):\n",
    "    # 保证生成的 *.md 图片在新的一行\n",
    "    s = mat.group(0)\n",
    "    while not s.startswith('\\n\\n'):\n",
    "      s = '\\n' + s\n",
    "    while not s.endswith('\\n\\n'):\n",
    "      s = s + '\\n'\n",
    "    return s\n",
    "\n",
    "  text = pattern_img_start_inline.sub(replace_img_start_inline, text)\n",
    "\n",
    "  pattern_img_https = re.compile(r'http://pic(\\d)\\.zhimg\\.com')\n",
    "  text = pattern_img_https.sub(r'https://pic\\1.zhimg.com', text)\n",
    "  return text\n",
    "\n",
    "\n",
    "def compare_text(t1, t2, prefix=''):\n",
    "  import difflib\n",
    "  changes = [l for l in difflib.ndiff(t1.split('\\n'), t2.split('\\n')) if l.startswith(('+ ', '- '))]\n",
    "  for change in changes:\n",
    "    log(prefix + change)\n",
    "  return changes\n",
    "\n",
    "\n",
    "def compare_text_sequence(texts, label=''):\n",
    "  from pylon import dedupe\n",
    "  from pylon import windows\n",
    "\n",
    "  texts = list(dedupe(texts))\n",
    "  if len(texts) > 1:\n",
    "    log('detect changed {}'.format(label))\n",
    "    for t1, t2 in windows(texts, length=2, overlap=1):\n",
    "      compare_text(t1, t2, prefix='  ')\n",
    "  else:\n",
    "    log('nothing changed {}'.format(label))\n",
    "\n",
    "\n",
    "\n",
    "def test_explore_voteup_thanks():\n",
    "  '''感谢赞同比跟文章质量没啥关系'''\n",
    "  query = (Page.select(Page, Task)\n",
    "           .join(Task)\n",
    "           .where((Task.page_type == 'zhihu_answer'))\n",
    "           .group_by(Page.task)\n",
    "           .having(Page.watch_date == fn.MAX(Page.watch_date))\n",
    "           .limit(50)\n",
    "           .order_by(fn.Random())\n",
    "           )\n",
    "\n",
    "  def thanks_voteup_ratio(page):\n",
    "    thanks = int(page.metadata.split('thanks: ')[1].split(' ')[0])\n",
    "    voteup = int(page.metadata.split('voteup: ')[1].split(' ')[0])\n",
    "    return round(thanks / voteup, 3)\n",
    "\n",
    "  # for page in query:\n",
    "  #   log(page.title)\n",
    "\n",
    "  pages = sorted(query, key=thanks_voteup_ratio)\n",
    "  for page in pages:\n",
    "    log(page.title)\n",
    "    log(repr(page.content[:500]))\n",
    "    log(thanks_voteup_ratio(page))\n",
    "    log('-----------------\\n\\n\\n')\n"
   ]
  },
  {
   "cell_type": "code",
   "execution_count": null,
   "metadata": {
    "hidden": true
   },
   "outputs": [],
   "source": []
  },
  {
   "cell_type": "code",
   "execution_count": null,
   "metadata": {
    "hidden": true
   },
   "outputs": [],
   "source": []
  },
  {
   "cell_type": "markdown",
   "metadata": {
    "ExecuteTime": {
     "end_time": "2019-06-27T07:39:48.453813Z",
     "start_time": "2019-06-27T07:39:48.285298Z"
    }
   },
   "source": [
    "### Test"
   ]
  },
  {
   "cell_type": "code",
   "execution_count": null,
   "metadata": {
    "ExecuteTime": {
     "end_time": "2019-07-04T08:07:01.922849Z",
     "start_time": "2019-07-04T08:07:01.359115Z"
    }
   },
   "outputs": [],
   "source": [
    "from collector import Collector\n",
    "\n",
    "col = Collector.load(file='config.yaml')"
   ]
  },
  {
   "cell_type": "code",
   "execution_count": null,
   "metadata": {
    "ExecuteTime": {
     "end_time": "2019-06-27T07:55:41.415503Z",
     "start_time": "2019-06-27T07:55:41.350674Z"
    }
   },
   "outputs": [],
   "source": [
    "col.all()"
   ]
  },
  {
   "cell_type": "code",
   "execution_count": null,
   "metadata": {
    "ExecuteTime": {
     "end_time": "2019-06-27T07:55:42.831570Z",
     "start_time": "2019-06-27T07:55:42.760345Z"
    }
   },
   "outputs": [],
   "source": [
    "col.add('https://www.zhihu.com/question/49545583/answer/116529877')"
   ]
  },
  {
   "cell_type": "code",
   "execution_count": null,
   "metadata": {},
   "outputs": [],
   "source": [
    "col.scan()"
   ]
  },
  {
   "cell_type": "code",
   "execution_count": null,
   "metadata": {},
   "outputs": [],
   "source": [
    "collector.add(weixin_page_url)\n",
    "collector.add(zhihu_column_url)\n",
    "collector.add(zhihu_anwser_id=xxx)\n",
    "collector.add(zhihu_author_id=xxx)\n",
    "collector.add(column_id=xxx)\n",
    "\n",
    "collector.save(file=xxx)\n",
    "...\n",
    "collector.rescan()\n",
    "collector.save(file=xxx)\n",
    "collector = Collector.load(file=xxx.yaml)"
   ]
  },
  {
   "cell_type": "code",
   "execution_count": null,
   "metadata": {},
   "outputs": [],
   "source": []
  },
  {
   "cell_type": "code",
   "execution_count": null,
   "metadata": {},
   "outputs": [],
   "source": []
  },
  {
   "cell_type": "markdown",
   "metadata": {},
   "source": [
    "### Test Watcher"
   ]
  },
  {
   "cell_type": "code",
   "execution_count": 78,
   "metadata": {
    "ExecuteTime": {
     "end_time": "2019-07-19T11:49:51.306293Z",
     "start_time": "2019-07-19T11:49:51.230531Z"
    }
   },
   "outputs": [
    {
     "name": "stdout",
     "output_type": "stream",
     "text": [
      "The autoreload extension is already loaded. To reload it, use:\n",
      "  %reload_ext autoreload\n"
     ]
    }
   ],
   "source": [
    "%load_ext autoreload\n",
    "%autoreload 2"
   ]
  },
  {
   "cell_type": "code",
   "execution_count": 102,
   "metadata": {
    "ExecuteTime": {
     "end_time": "2019-07-19T12:51:41.150253Z",
     "start_time": "2019-07-19T12:51:39.722513Z"
    },
    "scrolled": true
   },
   "outputs": [
    {
     "name": "stdout",
     "output_type": "stream",
     "text": [
      "loaded config_data option lister: \n",
      "{'enabled': True,\n",
      " 'limit': 999,\n",
      " 'max_cycle': '15day',\n",
      " 'min_cycle': '1hour',\n",
      " 'weight': 0.5,\n",
      " 'zhihu_min_voteup': 1}\n",
      "loaded config_data option page: \n",
      "{'enabled': True, 'max_cycle': '1day', 'min_cycle': '1hour', 'weight': 0.5}\n",
      "loaded config_data lister tasks 1\n",
      "loaded config_data page tasks 0\n",
      "Watcher.add_tasks result status , Counter({'added': 1})\n",
      "Watcher.add_tasks result status , Counter()\n"
     ]
    }
   ],
   "source": [
    "from watcher import Watcher\n",
    "# w = Watcher(r'D:\\Coding\\TheNorthRemembers\\test\\旗舰评论——战略航空军元帅的旗舰')\n",
    "# w = Watcher(r'D:\\Coding\\TheNorthRemembers\\test\\知乎 - 温酒的回答')\n",
    "# w = Watcher(r'D:\\Coding\\TheNorthRemembers\\test\\经济')\n",
    "# w = Watcher(r'D:\\Coding\\TheNorthRemembers\\test\\人文主义谈话录')\n",
    "w = Watcher(r'D:\\Coding\\TheNorthRemembers\\test\\混乱博物馆')\n",
    "# w = Watcher(r'D:\\Coding\\TheNorthRemembers\\test\\HelloFlask')\n"
   ]
  },
  {
   "cell_type": "code",
   "execution_count": null,
   "metadata": {
    "ExecuteTime": {
     "end_time": "2019-07-17T09:43:18.898532Z",
     "start_time": "2019-07-17T09:43:18.781845Z"
    }
   },
   "outputs": [],
   "source": [
    "t = w.tasks\n",
    "t[0]\n",
    "t[0].option\n"
   ]
  },
  {
   "cell_type": "code",
   "execution_count": 103,
   "metadata": {
    "ExecuteTime": {
     "end_time": "2019-07-19T12:52:07.336849Z",
     "start_time": "2019-07-19T12:51:43.054179Z"
    },
    "scrolled": true
   },
   "outputs": [
    {
     "name": "stdout",
     "output_type": "stream",
     "text": [
      "Watcher.watch should fetch 1 lister_type tasks\n",
      "\n",
      "Task.run lister request: <Task #2501093560672> https://zhuanlan.zhihu.com/chaosmuseum (ver. 0)\n",
      "    混乱博物馆\n",
      "    task add: just now, last watch: None, last change None, next watch: just now \n",
      "request_ZhihuColumnLister column_id, chaosmuseum\n",
      "extract new task {'url': 'https://zhuanlan.zhihu.com/p/72719418', 'tip': '【混乱档案室】精子助推器 - 混乱博物馆'}\n",
      "extract new task {'url': 'https://zhuanlan.zhihu.com/p/70866873', 'tip': '【混乱档案室】人淹死的时候发生了什么 - 混乱博物馆'}\n",
      "extract new task {'url': 'https://zhuanlan.zhihu.com/p/70225894', 'tip': '【配图】动物有语言吗丨混乱博物馆 - 混乱博物馆'}\n",
      "extract new task {'url': 'https://zhuanlan.zhihu.com/p/69669757', 'tip': '【混乱档案室】雅典学院里，到底谁是谁 - 混乱博物馆'}\n",
      "extract new task {'url': 'https://zhuanlan.zhihu.com/p/69061514', 'tip': '【混乱档案室】纯正欧式手工椭圆 - 混乱博物馆'}\n",
      "extract new task {'url': 'https://zhuanlan.zhihu.com/p/68756813', 'tip': '【配图】神圣的遗骸 | 混乱博物馆 - 混乱博物馆'}\n",
      "extract new task {'url': 'https://zhuanlan.zhihu.com/p/68177525', 'tip': '【混乱档案室】美丽的病毒 - 混乱博物馆'}\n",
      "extract new task {'url': 'https://zhuanlan.zhihu.com/p/67930311', 'tip': '【混乱档案室】变态儿童欢乐多 - 混乱博物馆'}\n",
      "extract new task {'url': 'https://zhuanlan.zhihu.com/p/67689092', 'tip': '【配图】猫和老鼠的欢乐节奏丨混乱博物馆 - 混乱博物馆'}\n",
      "extract new task {'url': 'https://zhuanlan.zhihu.com/p/65403558', 'tip': '【配图】为什么你没见过闰正月丨混乱博物馆 - 混乱博物馆'}\n",
      "extract new task {'url': 'https://zhuanlan.zhihu.com/p/64930017', 'tip': '混乱博物馆节目整理报告 - 混乱博物馆'}\n",
      "extract new task {'url': 'https://zhuanlan.zhihu.com/p/64937684', 'tip': '【补档】混乱博物馆一百期啦 - 混乱博物馆'}\n",
      "extract new task {'url': 'https://zhuanlan.zhihu.com/p/64900224', 'tip': '【补档】光年不止是长度 | 混乱博物馆 - 混乱博物馆'}\n",
      "extract new task {'url': 'https://zhuanlan.zhihu.com/p/64800162', 'tip': '【补档】无夏之年｜混乱博物馆 - 混乱博物馆'}\n",
      "extract new task {'url': 'https://zhuanlan.zhihu.com/p/64799616', 'tip': '【补档】彩色的生命和生命的色彩｜混乱博物馆 - 混乱博物馆'}\n",
      "extract new task {'url': 'https://zhuanlan.zhihu.com/p/64798919', 'tip': '【补档】眼睛从哪来｜混乱博物馆 - 混乱博物馆'}\n",
      "extract new task {'url': 'https://zhuanlan.zhihu.com/p/64672291', 'tip': '【补档】一种新的穿越方式｜混乱博物馆 - 混乱博物馆'}\n",
      "extract new task {'url': 'https://zhuanlan.zhihu.com/p/64672202', 'tip': '【补档】大使们的骷髅 ｜ 混乱博物馆 - 混乱博物馆'}\n",
      "extract new task {'url': 'https://zhuanlan.zhihu.com/p/64671869', 'tip': '【补档】红色的血与绿色的血 ｜ 混乱博物馆 - 混乱博物馆'}\n",
      "extract new task {'url': 'https://zhuanlan.zhihu.com/p/64338489', 'tip': '【补档】为什么中国人爱玉，印度人爱宝石 ｜ 混乱博物馆 - 混乱博物馆'}\n",
      "extract new task {'url': 'https://zhuanlan.zhihu.com/p/64338094', 'tip': '【补档】发条珍宝展 ｜ 混乱博物馆 - 混乱博物馆'}\n",
      "extract new task {'url': 'https://zhuanlan.zhihu.com/p/64336176', 'tip': '【补档】《穿越时空的巴赫 | 混乱博物馆》节目预告 | 混乱博物馆 - 混乱博物馆'}\n",
      "extract new task {'url': 'https://zhuanlan.zhihu.com/p/64131515', 'tip': '【补档】星云开始的沉与浮 | 混乱博物馆 - 混乱博物馆'}\n",
      "extract new task {'url': 'https://zhuanlan.zhihu.com/p/64131334', 'tip': '【补档】狂战士吃了马里奥的红蘑菇 | 混乱博物馆 - 混乱博物馆'}\n",
      "extract new task {'url': 'https://zhuanlan.zhihu.com/p/64131035', 'tip': '【补档】蛙的育儿之道 | 混乱博物馆 - 混乱博物馆'}\n",
      "extract new task {'url': 'https://zhuanlan.zhihu.com/p/64080235', 'tip': '【补档】1964年实验短片《卡农》完整版 | 特别展出 - 混乱博物馆'}\n",
      "extract new task {'url': 'https://zhuanlan.zhihu.com/p/64080118', 'tip': '【补档】埃舍尔和镶嵌 | 混乱博物馆 - 混乱博物馆'}\n",
      "extract new task {'url': 'https://zhuanlan.zhihu.com/p/64079688', 'tip': '【补档】人为什么有五根指头 | 混乱博物馆 - 混乱博物馆'}\n",
      "extract new task {'url': 'https://zhuanlan.zhihu.com/p/63921839', 'tip': '【配图】奶之源丨混乱博物馆 - 混乱博物馆'}\n",
      "extract new task {'url': 'https://zhuanlan.zhihu.com/p/63677279', 'tip': '【补档】阉割父亲的故事 | 混乱博物馆 - 混乱博物馆'}\n",
      "extract new task {'url': 'https://zhuanlan.zhihu.com/p/63658728', 'tip': '【补档】恐龙前第二帝国 | 混乱博物馆 - 混乱博物馆'}\n",
      "extract new task {'url': 'https://zhuanlan.zhihu.com/p/63657798', 'tip': '【补档】生命游戏: 另一种计算机 | 混乱博物馆 - 混乱博物馆'}\n",
      "extract new task {'url': 'https://zhuanlan.zhihu.com/p/63544823', 'tip': '【补档】龙的简史 | 混乱博物馆 - 混乱博物馆'}\n",
      "extract new task {'url': 'https://zhuanlan.zhihu.com/p/63543841', 'tip': '【补档】欧洲板甲简史 | 混乱博物馆 - 混乱博物馆'}\n",
      "extract new task {'url': 'https://zhuanlan.zhihu.com/p/63544365', 'tip': '【补档】玛雅人的历法 | 混乱博物馆 - 混乱博物馆'}\n",
      "extract new task {'url': 'https://zhuanlan.zhihu.com/p/63411832', 'tip': '【补档】吉他就是琵琶｜混乱博物馆 - 混乱博物馆'}\n",
      "extract new task {'url': 'https://zhuanlan.zhihu.com/p/63405562', 'tip': '【补档】寄生蜂的黑客特工｜混乱博物馆 - 混乱博物馆'}\n",
      "extract new task {'url': 'https://zhuanlan.zhihu.com/p/63404844', 'tip': '【补档】怎样补充胶原蛋白 | 混乱博物馆 - 混乱博物馆'}\n",
      "extract new task {'url': 'https://zhuanlan.zhihu.com/p/63404452', 'tip': '【补档】金子为什么是金色｜混乱博物馆 - 混乱博物馆'}\n",
      "extract new task {'url': 'https://zhuanlan.zhihu.com/p/63403780', 'tip': '【补档】猫和狗的千万年恩怨｜混乱博物馆 - 混乱博物馆'}\n",
      "extract new task {'url': 'https://zhuanlan.zhihu.com/p/63402632', 'tip': '【补档】达芬奇没有密码｜混乱博物馆 - 混乱博物馆'}\n",
      "extract new task {'url': 'https://zhuanlan.zhihu.com/p/63401317', 'tip': '【补档】我们找到了两片一样的雪花｜混乱博物馆 - 混乱博物馆'}\n",
      "extract new task {'url': 'https://zhuanlan.zhihu.com/p/62949425', 'tip': '【补档】每个人都是小宇宙｜混乱博物馆 - 混乱博物馆'}\n",
      "extract new task {'url': 'https://zhuanlan.zhihu.com/p/62949072', 'tip': '【补档】海带不是植物｜混乱博物馆 - 混乱博物馆'}\n",
      "extract new task {'url': 'https://zhuanlan.zhihu.com/p/62948671', 'tip': '【补档】糟糕的物理常数｜混乱博物馆 - 混乱博物馆'}\n",
      "extract new task {'url': 'https://zhuanlan.zhihu.com/p/62750164', 'tip': '【补档】兰花的阴谋｜混乱博物馆 - 混乱博物馆'}\n",
      "extract new task {'url': 'https://zhuanlan.zhihu.com/p/62751058', 'tip': '【补档】琴弦上的数学危机｜混乱博物馆 - 混乱博物馆'}\n",
      "extract new task {'url': 'https://zhuanlan.zhihu.com/p/62750836', 'tip': '【补档】辉煌的障眼法｜混乱博物馆 - 混乱博物馆'}\n",
      "extract new task {'url': 'https://zhuanlan.zhihu.com/p/62578577', 'tip': '【补档】撞上反物质会变成什么｜混乱博物馆 - 混乱博物馆'}\n",
      "extract new task {'url': 'https://zhuanlan.zhihu.com/p/62578197', 'tip': '【补档】怎样画黑魔法符咒｜混乱博物馆 - 混乱博物馆'}\n",
      "extract new task {'url': 'https://zhuanlan.zhihu.com/p/62577187', 'tip': '【补档】英文字母从哪来｜混乱博物馆 - 混乱博物馆'}\n",
      "extract new task {'url': 'https://zhuanlan.zhihu.com/p/62539874', 'tip': '【配图】人体的艺术丨混乱博物馆 - 混乱博物馆'}\n",
      "extract new task {'url': 'https://zhuanlan.zhihu.com/p/62459900', 'tip': '【补档】脐橙的脐是什么｜混乱博物馆 - 混乱博物馆'}\n",
      "extract new task {'url': 'https://zhuanlan.zhihu.com/p/62459802', 'tip': '【补档】唱片发明前的唱片 ｜混乱博物馆 - 混乱博物馆'}\n",
      "extract new task {'url': 'https://zhuanlan.zhihu.com/p/62459514', 'tip': '【补档】不存在的洛杉矶 ｜混乱博物馆 - 混乱博物馆'}\n",
      "extract new task {'url': 'https://zhuanlan.zhihu.com/p/62177002', 'tip': '【补档】引导埃及先民的天狼星 ｜混乱博物馆 - 混乱博物馆'}\n",
      "extract new task {'url': 'https://zhuanlan.zhihu.com/p/62178800', 'tip': '【补档】霍金辐射 | 混乱博物馆 - 混乱博物馆'}\n",
      "extract new task {'url': 'https://zhuanlan.zhihu.com/p/62175643', 'tip': '【补档】圣诞岛红蟹大迁徙 ｜混乱博物馆 - 混乱博物馆'}\n",
      "extract new task {'url': 'https://zhuanlan.zhihu.com/p/62067179', 'tip': '【补档】特立独行的天体轨道 ｜混乱博物馆 - 混乱博物馆'}\n",
      "extract new task {'url': 'https://zhuanlan.zhihu.com/p/62066553', 'tip': '【补档】瓦雷利亚语的真实与虚幻｜混乱博物馆 - 混乱博物馆'}\n",
      "extract new task {'url': 'https://zhuanlan.zhihu.com/p/61947527', 'tip': '【补档】雨的味道从哪来 ｜混乱博物馆 - 混乱博物馆'}\n",
      "extract new task {'url': 'https://zhuanlan.zhihu.com/p/61946735', 'tip': '【补档】被光干涉的蝴蝶翅膀 ｜混乱博物馆 - 混乱博物馆'}\n",
      "extract new task {'url': 'https://zhuanlan.zhihu.com/p/61946967', 'tip': '【补档】莫奈的紫外世界 ｜混乱博物馆 - 混乱博物馆'}\n",
      "extract new task {'url': 'https://zhuanlan.zhihu.com/p/61824781', 'tip': '【补档】荒诞怪：挑战你对脊椎动物的极限想象 ｜混乱博物馆 - 混乱博物馆'}\n",
      "extract new task {'url': 'https://zhuanlan.zhihu.com/p/61824687', 'tip': '【补档】为什么会有倒悬的彩虹 ｜混乱博物馆 - 混乱博物馆'}\n",
      "extract new task {'url': 'https://zhuanlan.zhihu.com/p/61824484', 'tip': '【补档】藏在你脸皮下的鱼｜混乱博物馆 - 混乱博物馆'}\n",
      "extract new task {'url': 'https://zhuanlan.zhihu.com/p/61760317', 'tip': '【补档】光荣的遮羞布｜混乱博物馆 - 混乱博物馆'}\n",
      "extract new task {'url': 'https://zhuanlan.zhihu.com/p/61741417', 'tip': '【配图】欧洲国旗为什么大多是三色旗丨混乱博物馆 - 混乱博物馆'}\n",
      "extract new task {'url': 'https://zhuanlan.zhihu.com/p/61739643', 'tip': '【补档】史上最危险的儿童玩具｜混乱博物馆 - 混乱博物馆'}\n",
      "extract new task {'url': 'https://zhuanlan.zhihu.com/p/61736556', 'tip': '【补档】鲁本斯为何画这三颗星｜混乱博物馆 - 混乱博物馆'}\n",
      "extract new task {'url': 'https://zhuanlan.zhihu.com/p/61735730', 'tip': '【补档】男孩子才戴贞操带 | 混乱博物馆 - 混乱博物馆'}\n",
      "extract new task {'url': 'https://zhuanlan.zhihu.com/p/61735166', 'tip': '【补档】脸是怎么长出来的？| 混乱博物馆 - 混乱博物馆'}\n",
      "extract new task {'url': 'https://zhuanlan.zhihu.com/p/61730496', 'tip': '【补档】动物为什么没有蓝色素｜混乱博物馆 - 混乱博物馆'}\n",
      "extract new task {'url': 'https://zhuanlan.zhihu.com/p/61734296', 'tip': '【补档】西洋的东方｜混乱博物馆 - 混乱博物馆'}\n",
      "extract new task {'url': 'https://zhuanlan.zhihu.com/p/61733063', 'tip': '【补档】调皮的蘑菇头｜混乱博物馆 - 混乱博物馆'}\n",
      "extract new task {'url': 'https://zhuanlan.zhihu.com/p/61732539', 'tip': '【补档】成为机器人｜混乱博物馆 - 混乱博物馆'}\n",
      "extract new task {'url': 'https://zhuanlan.zhihu.com/p/61729563', 'tip': '【补档】琥珀之路｜混乱博物馆 - 混乱博物馆'}\n",
      "extract new task {'url': 'https://zhuanlan.zhihu.com/p/61729142', 'tip': '【补档】满世界的螨｜混乱博物馆 - 混乱博物馆'}\n",
      "extract new task {'url': 'https://zhuanlan.zhihu.com/p/61727106', 'tip': '【补档】重制版：全体自然数的“和”是-1/12｜混乱博物馆 - 混乱博物馆'}\n",
      "extract new task {'url': 'https://zhuanlan.zhihu.com/p/61154135', 'tip': '【补档】视错觉大赏丨混乱博物馆 - 混乱博物馆'}\n"
     ]
    },
    {
     "name": "stdout",
     "output_type": "stream",
     "text": [
      "extract new task {'url': 'https://zhuanlan.zhihu.com/p/61153876', 'tip': '【补档】【配图】无穷小量的回忆录丨混乱博物馆 - 混乱博物馆'}\n",
      "extract new task {'url': 'https://zhuanlan.zhihu.com/p/61153626', 'tip': '【补档】【配图】漩涡丨混乱博物馆 - 混乱博物馆'}\n",
      "extract new task {'url': 'https://zhuanlan.zhihu.com/p/61034329', 'tip': '【补档】【配图】深海的鱼丨混乱博物馆 - 混乱博物馆'}\n",
      "extract new task {'url': 'https://zhuanlan.zhihu.com/p/61033940', 'tip': '【补档】【配图】星辰之死丨混乱博物馆 - 混乱博物馆'}\n",
      "extract new task {'url': 'https://zhuanlan.zhihu.com/p/61028408', 'tip': '【补档】【配图】描绘世界丨混乱博物馆 - 混乱博物馆'}\n",
      "extract new task {'url': 'https://zhuanlan.zhihu.com/p/61025044', 'tip': '【补档】色彩的空间丨混乱博物馆 - 混乱博物馆'}\n",
      "extract new task {'url': 'https://zhuanlan.zhihu.com/p/60618188', 'tip': '【配图】数人头的科学方法丨混乱博物馆 - 混乱博物馆'}\n",
      "extract new task {'url': 'https://zhuanlan.zhihu.com/p/59768036', 'tip': '【配图】东北大米为何如此好吃丨混乱博物馆 - 混乱博物馆'}\n",
      "extract new task {'url': 'https://zhuanlan.zhihu.com/p/58302092', 'tip': '【配图】食草动物才不是吃素的丨混乱博物馆 - 混乱博物馆'}\n",
      "extract new task {'url': 'https://zhuanlan.zhihu.com/p/58071266', 'tip': '【配图】来个贾维斯般的管家丨混乱博物馆 - 混乱博物馆'}\n",
      "extract new task {'url': 'https://zhuanlan.zhihu.com/p/57827975', 'tip': '【配图】人类的体温为何是37度丨混乱博物馆 - 混乱博物馆'}\n",
      "extract new task {'url': 'https://zhuanlan.zhihu.com/p/56309144', 'tip': '【配图】好吃的猪肉从哪里来丨混乱博物馆 - 混乱博物馆'}\n",
      "extract new task {'url': 'https://zhuanlan.zhihu.com/p/55840573', 'tip': '【配图】鲸鱼为什么是偶蹄目丨混乱博物馆 - 混乱博物馆'}\n",
      "extract new task {'url': 'https://zhuanlan.zhihu.com/p/55334084', 'tip': '一个肥美的故事·上丨混乱博物馆 - 混乱博物馆'}\n",
      "extract new task {'url': 'https://zhuanlan.zhihu.com/p/54954757', 'tip': '【配图】骆驼来自哪里丨混乱博物馆 - 混乱博物馆'}\n",
      "extract new task {'url': 'https://zhuanlan.zhihu.com/p/53381006', 'tip': '为什么我们仰望星空会震撼｜混乱博物馆 - 混乱博物馆'}\n",
      "extract new task {'url': 'https://zhuanlan.zhihu.com/p/49116949', 'tip': '辣之源丨混乱博物馆 - 混乱博物馆'}\n",
      "extract new task {'url': 'https://zhuanlan.zhihu.com/p/48849295', 'tip': '【配图】漫话漫画丨混乱博物馆 - 混乱博物馆'}\n",
      "extract new task {'url': 'https://zhuanlan.zhihu.com/p/47671873', 'tip': '人的头发为什么有旋？丨混乱博物馆 - 混乱博物馆'}\n",
      "extract new task {'url': 'https://zhuanlan.zhihu.com/p/47270372', 'tip': '虚假的甜蜜丨混乱博物馆 - 混乱博物馆'}\n",
      "extract new task {'url': 'https://zhuanlan.zhihu.com/p/46627535', 'tip': '甜蜜的往事｜混乱博物馆 - 混乱博物馆'}\n",
      "extract new task {'url': 'https://zhuanlan.zhihu.com/p/46531405', 'tip': '加热的意义｜混乱博物馆 - 混乱博物馆'}\n",
      "extract new task {'url': 'https://zhuanlan.zhihu.com/p/45597785', 'tip': '益智玩具有几种-混乱博物馆 - 混乱博物馆'}\n",
      "extract new task {'url': 'https://zhuanlan.zhihu.com/p/45420810', 'tip': '从哥特式到学院派的4分钟绘画史-混乱博物馆 - 混乱博物馆'}\n",
      "extract new task {'url': 'https://zhuanlan.zhihu.com/p/45046216', 'tip': '彩虹为什么是弯的｜混乱博物馆 - 混乱博物馆'}\n",
      "extract new task {'url': 'https://zhuanlan.zhihu.com/p/44766937', 'tip': '弄不清的草药｜混乱博物馆 - 混乱博物馆'}\n",
      "extract new task {'url': 'https://zhuanlan.zhihu.com/p/44640620', 'tip': '进化上的不约而同 | 混乱博物馆 - 混乱博物馆'}\n",
      "extract new task {'url': 'https://zhuanlan.zhihu.com/p/44405646', 'tip': '美人头 | 混乱博物馆 - 混乱博物馆'}\n",
      "extract new task {'url': 'https://zhuanlan.zhihu.com/p/44211397', 'tip': '进化的阶次 | 混乱博物馆 - 混乱博物馆'}\n",
      "extract new task {'url': 'https://zhuanlan.zhihu.com/p/44014165', 'tip': '人类未来会进化成什么样子｜混乱博物馆 - 混乱博物馆'}\n",
      "extract new task {'url': 'https://zhuanlan.zhihu.com/p/43663932', 'tip': '从迷宫到扫地机器人 | 混乱博物馆 - 混乱博物馆'}\n",
      "extract new task {'url': 'https://zhuanlan.zhihu.com/p/43467962', 'tip': '人类有没有亚种 | 混乱博物馆 - 混乱博物馆'}\n",
      "extract new task {'url': 'https://zhuanlan.zhihu.com/p/42809022', 'tip': '【配图】用细密画给大自然写真｜混乱博物馆 - 混乱博物馆'}\n",
      "extract new task {'url': 'https://zhuanlan.zhihu.com/p/42317647', 'tip': '嗜血者｜混乱博物馆 - 混乱博物馆'}\n",
      "extract new task {'url': 'https://zhuanlan.zhihu.com/p/42140246', 'tip': '卧看牵牛织女星｜混乱博物馆 - 混乱博物馆'}\n",
      "extract new task {'url': 'https://zhuanlan.zhihu.com/p/42048408', 'tip': '圆周率的征途｜混乱博物馆 - 混乱博物馆'}\n",
      "extract new task {'url': 'https://zhuanlan.zhihu.com/p/41769663', 'tip': '从几何二字说起｜混乱博物馆 - 混乱博物馆'}\n",
      "extract new task {'url': 'https://zhuanlan.zhihu.com/p/41155417', 'tip': '你是怎么过敏的｜混乱博物馆 - 混乱博物馆'}\n",
      "extract new task {'url': 'https://zhuanlan.zhihu.com/p/40905932', 'tip': '太阳神的遗产｜混乱博物馆 - 混乱博物馆'}\n",
      "extract new task {'url': 'https://zhuanlan.zhihu.com/p/40779576', 'tip': '毒瘾的真相 | 混乱博物馆 - 混乱博物馆'}\n",
      "extract new task {'url': 'https://zhuanlan.zhihu.com/p/40568174', 'tip': '混乱博物馆 200 期啦 - 混乱博物馆'}\n",
      "extract new task {'url': 'https://zhuanlan.zhihu.com/p/40404642', 'tip': '为什么绝大多数海螺都向右旋转｜混乱博物馆 - 混乱博物馆'}\n",
      "extract new task {'url': 'https://zhuanlan.zhihu.com/p/40276029', 'tip': '黄金分割的妙处 - 混乱博物馆 - 混乱博物馆'}\n",
      "extract new task {'url': 'https://zhuanlan.zhihu.com/p/40145333', 'tip': '星座的起源 | 混乱博物馆 - 混乱博物馆'}\n",
      "extract new task {'url': 'https://zhuanlan.zhihu.com/p/39969430', 'tip': '钋和镭的毒｜混乱博物馆 - 混乱博物馆'}\n",
      "extract new task {'url': 'https://zhuanlan.zhihu.com/p/39381212', 'tip': '史上最危险的论文 | 混乱博物馆 - 混乱博物馆'}\n",
      "extract new task {'url': 'https://zhuanlan.zhihu.com/p/39381153', 'tip': '天然的毒 | 混乱博物馆 - 混乱博物馆'}\n",
      "extract new task {'url': 'https://zhuanlan.zhihu.com/p/39376772', 'tip': '爱上青花 · 外篇 - 混乱博物馆'}\n",
      "extract new task {'url': 'https://zhuanlan.zhihu.com/p/38686785', 'tip': '怎样对对联 | 混乱博物馆 - 混乱博物馆'}\n",
      "extract new task {'url': 'https://zhuanlan.zhihu.com/p/38577866', 'tip': '这才是心理学 | 混乱博物馆 - 混乱博物馆'}\n",
      "extract new task {'url': 'https://zhuanlan.zhihu.com/p/38485762', 'tip': '大统一之梦 | 混乱博物馆 - 混乱博物馆'}\n",
      "extract new task {'url': 'https://zhuanlan.zhihu.com/p/38416811', 'tip': '快把弗洛依德的书扔掉！| 混乱博物馆 - 混乱博物馆'}\n",
      "extract new task {'url': 'https://zhuanlan.zhihu.com/p/38300966', 'tip': '男人会消失吗 | 混乱博物馆 - 混乱博物馆'}\n",
      "extract new task {'url': 'https://zhuanlan.zhihu.com/p/38185319', 'tip': '吃菠萝，泡盐水干什么？| 混乱博物馆 - 混乱博物馆'}\n",
      "extract new task {'url': 'https://zhuanlan.zhihu.com/p/37963080', 'tip': '猫和狗不懂美食 | 混乱博物馆 - 混乱博物馆'}\n",
      "extract new task {'url': 'https://zhuanlan.zhihu.com/p/37896373', 'tip': '全体自然数的和等于 -1/12 | 混乱博物馆 - 混乱博物馆'}\n",
      "extract new task {'url': 'https://zhuanlan.zhihu.com/p/37778867', 'tip': '计算机之前的计算机 | 混乱博物馆 - 混乱博物馆'}\n",
      "extract new task {'url': 'https://zhuanlan.zhihu.com/p/37689854', 'tip': '永恒的巴赫 | 混乱博物馆 - 混乱博物馆'}\n",
      "extract new task {'url': 'https://zhuanlan.zhihu.com/p/37615737', 'tip': '穿越时空的巴赫 | 混乱博物馆 - 混乱博物馆'}\n",
      "extract new task {'url': 'https://zhuanlan.zhihu.com/p/37546103', 'tip': '黑白键的故事 | 混乱博物馆 - 混乱博物馆'}\n",
      "extract new task {'url': 'https://zhuanlan.zhihu.com/p/37438460', 'tip': '星辰怎样繁殖？| 混乱博物馆 - 混乱博物馆'}\n",
      "extract new task {'url': 'https://zhuanlan.zhihu.com/p/37392379', 'tip': '艺术起源于什么？ | 混乱博物馆 - 混乱博物馆'}\n",
      "extract new task {'url': 'https://zhuanlan.zhihu.com/p/37308155', 'tip': '为什么人类的头发这么长？ | 混乱博物馆 - 混乱博物馆'}\n",
      "extract new task {'url': 'https://zhuanlan.zhihu.com/p/37307842', 'tip': '通过了图灵测试，距离意识有多远？| 混乱博物馆 - 混乱博物馆'}\n",
      "extract new task {'url': 'https://zhuanlan.zhihu.com/p/37060598', 'tip': '玻璃是如何炼成的 | 混乱博物馆 - 混乱博物馆'}\n",
      "extract new task {'url': 'https://zhuanlan.zhihu.com/p/36987748', 'tip': '为什么只有恐龙和人用两条腿走路 | 混乱博物馆 - 混乱博物馆'}\n",
      "extract new task {'url': 'https://zhuanlan.zhihu.com/p/36987704', 'tip': '阴毒的铅 | 混乱博物馆 - 混乱博物馆'}\n",
      "extract new task {'url': 'https://zhuanlan.zhihu.com/p/36987619', 'tip': '人类避孕简史 | 混乱博物馆 - 混乱博物馆'}\n",
      "extract new task {'url': 'https://zhuanlan.zhihu.com/p/36743391', 'tip': '为什么中年男子容易脱发 - 混乱博物馆'}\n",
      "extract new task {'url': 'https://zhuanlan.zhihu.com/p/36634354', 'tip': '怎样射得更远 - 混乱博物馆'}\n",
      "extract new task {'url': 'https://zhuanlan.zhihu.com/p/36432306', 'tip': '肌肉的力量 - 混乱博物馆'}\n",
      "extract new task {'url': 'https://zhuanlan.zhihu.com/p/36348334', 'tip': '汞的剧毒 - 混乱博物馆'}\n",
      "extract new task {'url': 'https://zhuanlan.zhihu.com/p/36287834', 'tip': '如何给动物分类 - 混乱博物馆'}\n",
      "extract new task {'url': 'https://zhuanlan.zhihu.com/p/36245410', 'tip': '追溯中国人的面貌起源 - 混乱博物馆'}\n",
      "extract new task {'url': 'https://zhuanlan.zhihu.com/p/36113887', 'tip': '汽车的历史 - 混乱博物馆'}\n",
      "extract new task {'url': 'https://zhuanlan.zhihu.com/p/36030435', 'tip': '什么是物质？ - 混乱博物馆'}\n",
      "extract new task {'url': 'https://zhuanlan.zhihu.com/p/35946500', 'tip': '水银为什么是液体？ - 混乱博物馆'}\n",
      "extract new task {'url': 'https://zhuanlan.zhihu.com/p/35841927', 'tip': '命运是什么？ - 混乱博物馆'}\n",
      "extract new task {'url': 'https://zhuanlan.zhihu.com/p/35652420', 'tip': '迷情巧克力 - 混乱博物馆'}\n",
      "extract new task {'url': 'https://zhuanlan.zhihu.com/p/35565646', 'tip': '荧光尿中的色彩起源 - 混乱博物馆'}\n",
      "extract new task {'url': 'https://zhuanlan.zhihu.com/p/35479066', 'tip': '巨物是怎样长成的？ - 混乱博物馆'}\n",
      "extract new task {'url': 'https://zhuanlan.zhihu.com/p/35366044', 'tip': '星星于绝对真理 - 混乱博物馆'}\n",
      "extract new task {'url': 'https://zhuanlan.zhihu.com/p/35315494', 'tip': '人类壮阳简史 - 混乱博物馆'}\n",
      "extract new task {'url': 'https://zhuanlan.zhihu.com/p/35256899', 'tip': '钢铁是怎样炼成的？ - 混乱博物馆'}\n",
      "extract new task {'url': 'https://zhuanlan.zhihu.com/p/35140043', 'tip': '中国的领土从哪来？ - 混乱博物馆'}\n",
      "extract new task {'url': 'https://zhuanlan.zhihu.com/p/35049125', 'tip': '【配图】永动机的失败教训 - 混乱博物馆'}\n",
      "extract new task {'url': 'https://zhuanlan.zhihu.com/p/34970636', 'tip': '拟态是怎么进化出来的？ - 混乱博物馆'}\n",
      "extract new task {'url': 'https://zhuanlan.zhihu.com/p/34927747', 'tip': '拟态专家大赏 - 混乱博物馆'}\n",
      "extract new task {'url': 'https://zhuanlan.zhihu.com/p/34796281', 'tip': '野生肉棒鉴定录 - 混乱博物馆'}\n",
      "extract new task {'url': 'https://zhuanlan.zhihu.com/p/34721079', 'tip': '霍金辐射 - 混乱博物馆'}\n"
     ]
    },
    {
     "name": "stdout",
     "output_type": "stream",
     "text": [
      "extract new task {'url': 'https://zhuanlan.zhihu.com/p/34632200', 'tip': '植物为什么进化成绿色？ - 混乱博物馆'}\n",
      "extract new task {'url': 'https://zhuanlan.zhihu.com/p/34556184', 'tip': '超光速简易方法一则 - 混乱博物馆'}\n",
      "extract new task {'url': 'https://zhuanlan.zhihu.com/p/34480068', 'tip': '空想性错视：从火星人脸到颜文字 - 混乱博物馆'}\n",
      "extract new task {'url': 'https://zhuanlan.zhihu.com/p/34397690', 'tip': '空想性错视：从平家蟹到脸盲症 - 混乱博物馆'}\n",
      "extract new task {'url': 'https://zhuanlan.zhihu.com/p/34325183', 'tip': '人们对狗做了什么？ - 混乱博物馆'}\n",
      "extract new task {'url': 'https://zhuanlan.zhihu.com/p/34254156', 'tip': '牛顿的炼金生涯 - 混乱博物馆'}\n",
      "extract new task {'url': 'https://zhuanlan.zhihu.com/p/34177364', 'tip': '那些有毒的蔬菜 - 混乱博物馆'}\n",
      "extract new task {'url': 'https://zhuanlan.zhihu.com/p/34110069', 'tip': '为什么交通这么堵？ - 混乱博物馆'}\n",
      "extract new task {'url': 'https://zhuanlan.zhihu.com/p/34040689', 'tip': '为什么大草莓多畸形？ - 混乱博物馆'}\n",
      "extract new task {'url': 'https://zhuanlan.zhihu.com/p/33955584', 'tip': '反科学的科幻故事 - 混乱博物馆'}\n",
      "extract new task {'url': 'https://zhuanlan.zhihu.com/p/33783283', 'tip': '春节淀粉宴 - 混乱博物馆'}\n",
      "extract new task {'url': 'https://zhuanlan.zhihu.com/p/33729879', 'tip': '环球梅毒史 - 混乱博物馆'}\n",
      "extract new task {'url': 'https://zhuanlan.zhihu.com/p/33677847', 'tip': '人造人的炼制成果 - 混乱博物馆'}\n",
      "extract new task {'url': 'https://zhuanlan.zhihu.com/p/33615118', 'tip': '剧毒物质排行榜 - 混乱博物馆'}\n",
      "extract new task {'url': 'https://zhuanlan.zhihu.com/p/33542429', 'tip': '那些吃活人的动物 - 混乱博物馆'}\n",
      "extract new task {'url': 'https://zhuanlan.zhihu.com/p/33477126', 'tip': '地心说错在哪儿？ - 混乱博物馆'}\n",
      "extract new task {'url': 'https://zhuanlan.zhihu.com/p/33408481', 'tip': '马戏团里的畸形秀 - 混乱博物馆'}\n",
      "extract new task {'url': 'https://zhuanlan.zhihu.com/p/33354963', 'tip': '臭味消除指南 - 混乱博物馆'}\n",
      "extract new task {'url': 'https://zhuanlan.zhihu.com/p/33258975', 'tip': '光为什么这样传播？ - 混乱博物馆'}\n",
      "extract new task {'url': 'https://zhuanlan.zhihu.com/p/33189650', 'tip': '中式英语是什么味儿 - 混乱博物馆'}\n",
      "extract new task {'url': 'https://zhuanlan.zhihu.com/p/33111581', 'tip': '多巴胺——让你舒服的秘密 - 混乱博物馆'}\n",
      "extract new task {'url': 'https://zhuanlan.zhihu.com/p/33076520', 'tip': '无穷大等于几——从音乐到量子论 - 混乱博物馆'}\n",
      "extract new task {'url': 'https://zhuanlan.zhihu.com/p/32888305', 'tip': '什么动物最能生？ - 混乱博物馆'}\n",
      "extract new task {'url': 'https://zhuanlan.zhihu.com/p/32820841', 'tip': '画家为什么画得像照片？ - 混乱博物馆'}\n",
      "extract new task {'url': 'https://zhuanlan.zhihu.com/p/32752360', 'tip': '怎样才能饭来张口 - 混乱博物馆'}\n",
      "extract new task {'url': 'https://zhuanlan.zhihu.com/p/32670877', 'tip': '山姆大叔上位史 - 混乱博物馆'}\n",
      "extract new task {'url': 'https://zhuanlan.zhihu.com/p/32599107', 'tip': '建国后成精 - 混乱博物馆'}\n",
      "extract new task {'url': 'https://zhuanlan.zhihu.com/p/32474208', 'tip': '构成世界的微粒 - 混乱博物馆'}\n",
      "extract new task {'url': 'https://zhuanlan.zhihu.com/p/32405795', 'tip': '呼吸时，人体内发生了什么？ - 混乱博物馆'}\n",
      "extract new task {'url': 'https://zhuanlan.zhihu.com/p/32340986', 'tip': '为什么圣诞树顶有五角星 - 混乱博物馆'}\n",
      "extract new task {'url': 'https://zhuanlan.zhihu.com/p/32266166', 'tip': '为什么我们看不见空气？ - 混乱博物馆'}\n",
      "extract new task {'url': 'https://zhuanlan.zhihu.com/p/32201617', 'tip': '又一个红色的故事 - 混乱博物馆'}\n",
      "extract new task {'url': 'https://zhuanlan.zhihu.com/p/32132009', 'tip': '一个红色的故事 - 混乱博物馆'}\n",
      "extract new task {'url': 'https://zhuanlan.zhihu.com/p/32062513', 'tip': '海星的变态生涯 - 混乱博物馆'}\n",
      "extract new task {'url': 'https://zhuanlan.zhihu.com/p/31987573', 'tip': '动画是什么？ - 混乱博物馆'}\n",
      "extract new task {'url': 'https://zhuanlan.zhihu.com/p/31918955', 'tip': '基因的时代 - 混乱博物馆'}\n",
      "extract new task {'url': 'https://zhuanlan.zhihu.com/p/31840896', 'tip': '你为什么这么重？ - 混乱博物馆'}\n",
      "extract new task {'url': 'https://zhuanlan.zhihu.com/p/31765548', 'tip': '生活在更多的维度里 - 混乱博物馆'}\n",
      "extract new task {'url': 'https://zhuanlan.zhihu.com/p/31693967', 'tip': '星座之王 - 混乱博物馆'}\n",
      "extract new task {'url': 'https://zhuanlan.zhihu.com/p/31613478', 'tip': '男人的乳头与男人的未来 - 混乱博物馆'}\n",
      "extract new task {'url': 'https://zhuanlan.zhihu.com/p/31539084', 'tip': '一个黄色的故事 - 混乱博物馆'}\n",
      "extract new task {'url': 'https://zhuanlan.zhihu.com/p/31457082', 'tip': '钢的琴 - 混乱博物馆'}\n",
      "extract new task {'url': 'https://zhuanlan.zhihu.com/p/31384203', 'tip': '为什么勇者总要斗恶龙 - 混乱博物馆'}\n",
      "extract new task {'url': 'https://zhuanlan.zhihu.com/p/31306271', 'tip': '压缩机与鹦鹉螺：螺线的故事 - 混乱博物馆'}\n",
      "extract new task {'url': 'https://zhuanlan.zhihu.com/p/31235466', 'tip': '一个蓝色的故事 - 混乱博物馆'}\n",
      "extract new task {'url': 'https://zhuanlan.zhihu.com/p/31121559', 'tip': '进化有方向吗？ - 混乱博物馆'}\n",
      "extract new task {'url': 'https://zhuanlan.zhihu.com/p/31048209', 'tip': '中国瓷器基础指南：彩瓷 - 混乱博物馆'}\n",
      "extract new task {'url': 'https://zhuanlan.zhihu.com/p/30932782', 'tip': '中国瓷器基础指南：单色釉 - 混乱博物馆'}\n",
      "extract new task {'url': 'https://zhuanlan.zhihu.com/p/30865295', 'tip': '中国人的祖先从哪来？ - 混乱博物馆'}\n",
      "extract new task {'url': 'https://zhuanlan.zhihu.com/p/30792399', 'tip': '螺壳里的万籁 - 混乱博物馆'}\n",
      "extract new task {'url': 'https://zhuanlan.zhihu.com/p/30716115', 'tip': '如何打造《纪念碑谷》的建筑奇观 - 混乱博物馆'}\n",
      "extract new task {'url': 'https://zhuanlan.zhihu.com/p/30606944', 'tip': '为什么你的牙齿不好看 - 混乱博物馆'}\n",
      "extract new task {'url': 'https://zhuanlan.zhihu.com/p/30589807', 'tip': '如何破译失传的文字？ - 混乱博物馆'}\n",
      "extract new task {'url': 'https://zhuanlan.zhihu.com/p/30517438', 'tip': '夜空为什么是黑色的 - 混乱博物馆'}\n",
      "extract new task {'url': 'https://zhuanlan.zhihu.com/p/30449480', 'tip': '哥德尔证明：智力的交响乐 - 混乱博物馆'}\n",
      "extract new task {'url': 'https://zhuanlan.zhihu.com/p/30313428', 'tip': '哥德尔、埃舍尔、巴赫 - 混乱博物馆'}\n",
      "extract new task {'url': 'https://zhuanlan.zhihu.com/p/30247206', 'tip': '肚脐通到哪 - 混乱博物馆'}\n",
      "extract new task {'url': 'https://zhuanlan.zhihu.com/p/30174125', 'tip': '什么是平行宇宙 - 混乱博物馆'}\n",
      "extract new task {'url': 'https://zhuanlan.zhihu.com/p/30101151', 'tip': '密集恐惧症的大休克 - 混乱博物馆'}\n",
      "extract new task {'url': 'https://zhuanlan.zhihu.com/p/30033298', 'tip': '儿童性教育一则 - 混乱博物馆'}\n",
      "extract new task {'url': 'https://zhuanlan.zhihu.com/p/29967405', 'tip': '崂山道士和量子力学 - 混乱博物馆'}\n",
      "extract new task {'url': 'https://zhuanlan.zhihu.com/p/29906006', 'tip': '国庆特辑：刘馆长答读者问（无厘头篇） - 混乱博物馆'}\n",
      "extract new task {'url': 'https://zhuanlan.zhihu.com/p/29877144', 'tip': '国庆特辑：刘馆长答读者问（脑洞篇） - 混乱博物馆'}\n",
      "extract new task {'url': 'https://zhuanlan.zhihu.com/p/29851062', 'tip': '国庆特辑：刘馆长答读者问（严肃篇） - 混乱博物馆'}\n",
      "extract new task {'url': 'https://zhuanlan.zhihu.com/p/29798274', 'tip': '猫娘养的弓形虫 - 混乱博物馆'}\n",
      "extract new task {'url': 'https://zhuanlan.zhihu.com/p/29662635', 'tip': '西瓜为什么中间最甜？ - 混乱博物馆'}\n",
      "extract new task {'url': 'https://zhuanlan.zhihu.com/p/29587661', 'tip': '埃舍尔的自我指涉 - 混乱博物馆'}\n",
      "extract new task {'url': 'https://zhuanlan.zhihu.com/p/29518489', 'tip': '人类文明是怎样诞生的？ - 混乱博物馆'}\n",
      "extract new task {'url': 'https://zhuanlan.zhihu.com/p/29449008', 'tip': '比基尼是怎么来的？ - 混乱博物馆'}\n",
      "extract new task {'url': 'https://zhuanlan.zhihu.com/p/29379347', 'tip': '什么是表面张力 - 混乱博物馆'}\n",
      "extract new task {'url': 'https://zhuanlan.zhihu.com/p/29315538', 'tip': '重返自然的新艺术运动 - 混乱博物馆'}\n",
      "extract new task {'url': 'https://zhuanlan.zhihu.com/p/29250349', 'tip': '为什么现代艺术家不好好画画 - 混乱博物馆'}\n",
      "extract new task {'url': 'https://zhuanlan.zhihu.com/p/29180884', 'tip': '猫的瞳孔为什么竖着？ - 混乱博物馆'}\n",
      "extract new task {'url': 'https://zhuanlan.zhihu.com/p/29118927', 'tip': '图灵斑图：生命图案的奥秘 - 混乱博物馆'}\n",
      "extract new task {'url': 'https://zhuanlan.zhihu.com/p/29055144', 'tip': '算盘的往事 - 混乱博物馆'}\n",
      "extract new task {'url': 'https://zhuanlan.zhihu.com/p/28989559', 'tip': '咖啡对你做了什么？ - 混乱博物馆'}\n",
      "extract new task {'url': 'https://zhuanlan.zhihu.com/p/28924072', 'tip': '虫的附肢（下） - 混乱博物馆'}\n",
      "extract new task {'url': 'https://zhuanlan.zhihu.com/p/28862347', 'tip': '虫的附肢（上） - 混乱博物馆'}\n",
      "extract new task {'url': 'https://zhuanlan.zhihu.com/p/28792607', 'tip': '怎样画树叶 - 混乱博物馆'}\n",
      "extract new task {'url': 'https://zhuanlan.zhihu.com/p/28734445', 'tip': '星云，群星的归宿 - 混乱博物馆'}\n",
      "extract new task {'url': 'https://zhuanlan.zhihu.com/p/28671509', 'tip': '怎样画纹章 - 混乱博物馆'}\n",
      "extract new task {'url': 'https://zhuanlan.zhihu.com/p/28610857', 'tip': '你为什么要换牙？ - 混乱博物馆'}\n",
      "extract new task {'url': 'https://zhuanlan.zhihu.com/p/28564481', 'tip': '巫婆为什么戴尖帽子 - 混乱博物馆'}\n",
      "extract new task {'url': 'https://zhuanlan.zhihu.com/p/28517794', 'tip': '流火时节的天蝎座 - 混乱博物馆'}\n",
      "extract new task {'url': 'https://zhuanlan.zhihu.com/p/28470800', 'tip': '你为什么口腔溃疡？ - 混乱博物馆'}\n",
      "extract new task {'url': 'https://zhuanlan.zhihu.com/p/28447020', 'tip': '1+1=2的再阐释 - 混乱博物馆'}\n",
      "extract new task {'url': 'https://zhuanlan.zhihu.com/p/28422923', 'tip': '为什么1+1=2？ - 混乱博物馆'}\n",
      "extract new task {'url': 'https://zhuanlan.zhihu.com/p/28372055', 'tip': '昆虫的蛹里发生了什么？ - 混乱博物馆'}\n",
      "extract new task {'url': 'https://zhuanlan.zhihu.com/p/28322474', 'tip': '谁能长生不老 - 混乱博物馆'}\n",
      "extract new task {'url': 'https://zhuanlan.zhihu.com/p/28273839', 'tip': '为什么女人能分辨更多色号？ - 混乱博物馆'}\n"
     ]
    },
    {
     "name": "stdout",
     "output_type": "stream",
     "text": [
      "extract new task {'url': 'https://zhuanlan.zhihu.com/p/28224138', 'tip': '一个细胞能有多大？ - 混乱博物馆'}\n",
      "extract new task {'url': 'https://zhuanlan.zhihu.com/p/28177811', 'tip': '那些年我们吃过的人 - 混乱博物馆'}\n",
      "extract new task {'url': 'https://zhuanlan.zhihu.com/p/28132231', 'tip': '蜂王浆与性激素 - 混乱博物馆'}\n",
      "extract new task {'url': 'https://zhuanlan.zhihu.com/p/28083992', 'tip': '【配图】你的嘴唇为什么会起泡？ - 混乱博物馆'}\n",
      "extract new task {'url': 'https://zhuanlan.zhihu.com/p/28047097', 'tip': '什么是卡农？ - 混乱博物馆'}\n",
      "Task.run detect new tasks done: 265 tasks\n",
      "Watcher.add_tasks result status , Counter({'added': 265})\n",
      "Watcher.watch lister task done: \n",
      "<Task #2501093560672> https://zhuanlan.zhihu.com/chaosmuseum (ver. 1)\n",
      "    混乱博物馆\n",
      "    task add: seconds ago, last watch: just now, last change just now, next watch: in an hour \n",
      "\n",
      "\n",
      "done, save_config_yaml \"D:\\Coding\\TheNorthRemembers\\test\\混乱博物馆/.task.yaml\" done\n",
      "Watcher.remember add and commit checked lister 1\n",
      "Watcher.watch should fetch 265 page_type tasks\n",
      "\n",
      "Task.run page request: <Task #2501092541048> https://zhuanlan.zhihu.com/p/72719418 (ver. 0)\n",
      "    【混乱档案室】精子助推器 - 混乱博物馆\n",
      "    task add: just now, last watch: None, last change None, next watch: just now \n",
      "Task.run fetch page done\n",
      "write D:\\Coding\\TheNorthRemembers\\test\\混乱博物馆/【混乱档案室】精子助推器 - 混乱博物馆的专栏 混乱博物馆.md done\n",
      "Watcher.watch page task done: <Task #2501092541048>\n",
      "\n",
      "\n",
      "done, save_config_yaml \"D:\\Coding\\TheNorthRemembers\\test\\混乱博物馆/.task.yaml\" done\n",
      "Task.run page request: <Task #2501092540544> https://zhuanlan.zhihu.com/p/70866873 (ver. 0)\n",
      "    【混乱档案室】人淹死的时候发生了什么 - 混乱博物馆\n",
      "    task add: seconds ago, last watch: None, last change None, next watch: seconds ago \n",
      "Task.run fetch page done\n",
      "write D:\\Coding\\TheNorthRemembers\\test\\混乱博物馆/【混乱档案室】人淹死的时候发生了什么 - 混乱博物馆的专栏 混乱博物馆.md done\n",
      "Watcher.watch page task done: <Task #2501092540544>\n",
      "\n",
      "\n",
      "done, save_config_yaml \"D:\\Coding\\TheNorthRemembers\\test\\混乱博物馆/.task.yaml\" done\n",
      "Task.run page request: <Task #2501092542336> https://zhuanlan.zhihu.com/p/70225894 (ver. 0)\n",
      "    【配图】动物有语言吗丨混乱博物馆 - 混乱博物馆\n",
      "    task add: seconds ago, last watch: None, last change None, next watch: seconds ago \n",
      "Task.run fetch page done\n",
      "write D:\\Coding\\TheNorthRemembers\\test\\混乱博物馆/【配图】动物有语言吗丨混乱博物馆 - 混乱博物馆的专栏 混乱博物馆.md done\n",
      "Watcher.watch page task done: <Task #2501092542336>\n",
      "\n",
      "\n",
      "done, save_config_yaml \"D:\\Coding\\TheNorthRemembers\\test\\混乱博物馆/.task.yaml\" done\n",
      "Watcher.remember add and commit save pages 3\n"
     ]
    },
    {
     "ename": "KeyboardInterrupt",
     "evalue": "",
     "output_type": "error",
     "traceback": [
      "\u001b[1;31m---------------------------------------------------------------------------\u001b[0m",
      "\u001b[1;31mKeyboardInterrupt\u001b[0m                         Traceback (most recent call last)",
      "\u001b[1;32m<ipython-input-103-2329411cf8e6>\u001b[0m in \u001b[0;36m<module>\u001b[1;34m()\u001b[0m\n\u001b[1;32m----> 1\u001b[1;33m \u001b[0mw\u001b[0m\u001b[1;33m.\u001b[0m\u001b[0mwatch\u001b[0m\u001b[1;33m(\u001b[0m\u001b[1;33m)\u001b[0m\u001b[1;33m\u001b[0m\u001b[0m\n\u001b[0m",
      "\u001b[1;32mD:\\Coding\\TheNorthRemembers\\watcher.py\u001b[0m in \u001b[0;36mwatch\u001b[1;34m(self)\u001b[0m\n\u001b[0;32m    588\u001b[0m       \u001b[0mself\u001b[0m\u001b[1;33m.\u001b[0m\u001b[0msave_config_yaml\u001b[0m\u001b[1;33m(\u001b[0m\u001b[1;33m)\u001b[0m\u001b[1;33m\u001b[0m\u001b[0m\n\u001b[0;32m    589\u001b[0m       \u001b[1;32mif\u001b[0m \u001b[0mi\u001b[0m \u001b[1;33m%\u001b[0m \u001b[1;36m3\u001b[0m \u001b[1;33m==\u001b[0m \u001b[1;36m0\u001b[0m\u001b[1;33m:\u001b[0m\u001b[1;33m\u001b[0m\u001b[0m\n\u001b[1;32m--> 590\u001b[1;33m         \u001b[0mself\u001b[0m\u001b[1;33m.\u001b[0m\u001b[0mremember\u001b[0m\u001b[1;33m(\u001b[0m\u001b[0mcommitlog\u001b[0m\u001b[1;33m=\u001b[0m\u001b[1;34m'save pages {}'\u001b[0m\u001b[1;33m.\u001b[0m\u001b[0mformat\u001b[0m\u001b[1;33m(\u001b[0m\u001b[0mi\u001b[0m\u001b[1;33m)\u001b[0m\u001b[1;33m)\u001b[0m\u001b[1;33m\u001b[0m\u001b[0m\n\u001b[0m\u001b[0;32m    591\u001b[0m       \u001b[0mtools\u001b[0m\u001b[1;33m.\u001b[0m\u001b[0mtime_random_sleep\u001b[0m\u001b[1;33m(\u001b[0m\u001b[1;36m1\u001b[0m\u001b[1;33m,\u001b[0m \u001b[1;36m5\u001b[0m\u001b[1;33m)\u001b[0m\u001b[1;33m\u001b[0m\u001b[0m\n\u001b[0;32m    592\u001b[0m     \u001b[1;32melse\u001b[0m\u001b[1;33m:\u001b[0m\u001b[1;33m\u001b[0m\u001b[0m\n",
      "\u001b[1;32mD:\\Coding\\TheNorthRemembers\\watcher.py\u001b[0m in \u001b[0;36mremember\u001b[1;34m(self, commitlog)\u001b[0m\n\u001b[0;32m    606\u001b[0m     \u001b[1;31m# log(cmd)\u001b[0m\u001b[1;33m\u001b[0m\u001b[1;33m\u001b[0m\u001b[0m\n\u001b[0;32m    607\u001b[0m     \u001b[0mos\u001b[0m\u001b[1;33m.\u001b[0m\u001b[0msystem\u001b[0m\u001b[1;33m(\u001b[0m\u001b[0mcmd\u001b[0m\u001b[1;33m)\u001b[0m\u001b[1;33m\u001b[0m\u001b[0m\n\u001b[1;32m--> 608\u001b[1;33m     \u001b[0mlog\u001b[0m\u001b[1;33m(\u001b[0m\u001b[1;34m'Watcher.remember add and commit {}'\u001b[0m\u001b[1;33m.\u001b[0m\u001b[0mformat\u001b[0m\u001b[1;33m(\u001b[0m\u001b[0mcommitlog\u001b[0m\u001b[1;33m)\u001b[0m\u001b[1;33m)\u001b[0m\u001b[1;33m\u001b[0m\u001b[0m\n\u001b[0m\u001b[0;32m    609\u001b[0m \u001b[1;33m\u001b[0m\u001b[0m\n\u001b[0;32m    610\u001b[0m \u001b[1;33m\u001b[0m\u001b[0m\n",
      "\u001b[1;32mD:\\Coding\\TheNorthRemembers\\tools.py\u001b[0m in \u001b[0;36m__call__\u001b[1;34m(self, pretty, *other)\u001b[0m\n\u001b[0;32m    351\u001b[0m \u001b[1;33m\u001b[0m\u001b[0m\n\u001b[0;32m    352\u001b[0m   \u001b[1;32mdef\u001b[0m \u001b[0m__call__\u001b[0m\u001b[1;33m(\u001b[0m\u001b[0mself\u001b[0m\u001b[1;33m,\u001b[0m \u001b[1;33m*\u001b[0m\u001b[0mother\u001b[0m\u001b[1;33m,\u001b[0m \u001b[0mpretty\u001b[0m\u001b[1;33m=\u001b[0m\u001b[1;32mFalse\u001b[0m\u001b[1;33m)\u001b[0m\u001b[1;33m:\u001b[0m\u001b[1;33m\u001b[0m\u001b[0m\n\u001b[1;32m--> 353\u001b[1;33m     \u001b[0mself\u001b[0m\u001b[1;33m.\u001b[0m\u001b[0moutput\u001b[0m\u001b[1;33m(\u001b[0m\u001b[0mother\u001b[0m\u001b[1;33m,\u001b[0m \u001b[0mpretty\u001b[0m\u001b[1;33m=\u001b[0m\u001b[0mpretty\u001b[0m\u001b[1;33m)\u001b[0m\u001b[1;33m\u001b[0m\u001b[0m\n\u001b[0m\u001b[0;32m    354\u001b[0m \u001b[1;33m\u001b[0m\u001b[0m\n\u001b[0;32m    355\u001b[0m \u001b[1;33m\u001b[0m\u001b[0m\n",
      "\u001b[1;32mD:\\Coding\\TheNorthRemembers\\tools.py\u001b[0m in \u001b[0;36moutput\u001b[1;34m(self, values, pretty)\u001b[0m\n\u001b[0;32m    342\u001b[0m       \u001b[0mself\u001b[0m\u001b[1;33m.\u001b[0m\u001b[0mcustom_print\u001b[0m\u001b[1;33m(\u001b[0m\u001b[0mstr\u001b[0m\u001b[1;33m(\u001b[0m\u001b[0me\u001b[0m\u001b[1;33m)\u001b[0m\u001b[1;33m,\u001b[0m \u001b[0mprefix\u001b[0m\u001b[1;33m=\u001b[0m\u001b[1;34m'logger output error: '\u001b[0m\u001b[1;33m)\u001b[0m\u001b[1;33m\u001b[0m\u001b[0m\n\u001b[0;32m    343\u001b[0m     \u001b[1;32mtry\u001b[0m\u001b[1;33m:\u001b[0m\u001b[1;33m\u001b[0m\u001b[0m\n\u001b[1;32m--> 344\u001b[1;33m       \u001b[0mself\u001b[0m\u001b[1;33m.\u001b[0m\u001b[0mcustom_print\u001b[0m\u001b[1;33m(\u001b[0m\u001b[0ms\u001b[0m\u001b[1;33m,\u001b[0m \u001b[0mfilepath\u001b[0m\u001b[1;33m=\u001b[0m\u001b[0mself\u001b[0m\u001b[1;33m.\u001b[0m\u001b[0mfilepath\u001b[0m\u001b[1;33m,\u001b[0m \u001b[0mpretty\u001b[0m\u001b[1;33m=\u001b[0m\u001b[0mpretty\u001b[0m\u001b[1;33m)\u001b[0m\u001b[1;33m\u001b[0m\u001b[0m\n\u001b[0m\u001b[0;32m    345\u001b[0m     \u001b[1;32mexcept\u001b[0m \u001b[0mUnicodeEncodeError\u001b[0m \u001b[1;32mas\u001b[0m \u001b[0me\u001b[0m\u001b[1;33m:\u001b[0m\u001b[1;33m\u001b[0m\u001b[0m\n\u001b[0;32m    346\u001b[0m       \u001b[0mself\u001b[0m\u001b[1;33m.\u001b[0m\u001b[0mcustom_print\u001b[0m\u001b[1;33m(\u001b[0m\u001b[0mstr\u001b[0m\u001b[1;33m(\u001b[0m\u001b[0me\u001b[0m\u001b[1;33m)\u001b[0m\u001b[1;33m,\u001b[0m \u001b[0mfilepath\u001b[0m\u001b[1;33m=\u001b[0m\u001b[0mself\u001b[0m\u001b[1;33m.\u001b[0m\u001b[0mfilepath\u001b[0m\u001b[1;33m,\u001b[0m \u001b[0mprefix\u001b[0m\u001b[1;33m=\u001b[0m\u001b[1;34m'logger output error: '\u001b[0m\u001b[1;33m)\u001b[0m\u001b[1;33m\u001b[0m\u001b[0m\n",
      "\u001b[1;31mKeyboardInterrupt\u001b[0m: "
     ]
    }
   ],
   "source": [
    "w.watch()"
   ]
  },
  {
   "cell_type": "code",
   "execution_count": null,
   "metadata": {},
   "outputs": [],
   "source": []
  },
  {
   "cell_type": "code",
   "execution_count": null,
   "metadata": {
    "ExecuteTime": {
     "end_time": "2019-07-01T12:04:51.323256Z",
     "start_time": "2019-07-01T12:04:51.220555Z"
    }
   },
   "outputs": [],
   "source": [
    "w.tasks[2].should_fetch"
   ]
  },
  {
   "cell_type": "code",
   "execution_count": null,
   "metadata": {},
   "outputs": [],
   "source": []
  },
  {
   "cell_type": "markdown",
   "metadata": {},
   "source": [
    "### Fetch comments MaxRetryError"
   ]
  },
  {
   "cell_type": "code",
   "execution_count": null,
   "metadata": {},
   "outputs": [],
   "source": []
  },
  {
   "cell_type": "code",
   "execution_count": null,
   "metadata": {},
   "outputs": [],
   "source": []
  },
  {
   "cell_type": "code",
   "execution_count": null,
   "metadata": {},
   "outputs": [],
   "source": []
  },
  {
   "cell_type": "code",
   "execution_count": null,
   "metadata": {},
   "outputs": [],
   "source": []
  },
  {
   "cell_type": "code",
   "execution_count": null,
   "metadata": {},
   "outputs": [],
   "source": []
  },
  {
   "cell_type": "code",
   "execution_count": null,
   "metadata": {},
   "outputs": [],
   "source": []
  },
  {
   "cell_type": "code",
   "execution_count": null,
   "metadata": {},
   "outputs": [],
   "source": []
  },
  {
   "cell_type": "code",
   "execution_count": null,
   "metadata": {},
   "outputs": [],
   "source": []
  },
  {
   "cell_type": "code",
   "execution_count": null,
   "metadata": {},
   "outputs": [],
   "source": []
  },
  {
   "cell_type": "code",
   "execution_count": null,
   "metadata": {},
   "outputs": [],
   "source": []
  },
  {
   "cell_type": "code",
   "execution_count": null,
   "metadata": {},
   "outputs": [],
   "source": []
  },
  {
   "cell_type": "code",
   "execution_count": null,
   "metadata": {},
   "outputs": [],
   "source": []
  },
  {
   "cell_type": "code",
   "execution_count": null,
   "metadata": {},
   "outputs": [],
   "source": []
  },
  {
   "cell_type": "code",
   "execution_count": null,
   "metadata": {},
   "outputs": [],
   "source": []
  },
  {
   "cell_type": "code",
   "execution_count": null,
   "metadata": {},
   "outputs": [],
   "source": []
  },
  {
   "cell_type": "code",
   "execution_count": null,
   "metadata": {},
   "outputs": [],
   "source": []
  },
  {
   "cell_type": "code",
   "execution_count": null,
   "metadata": {},
   "outputs": [],
   "source": []
  },
  {
   "cell_type": "code",
   "execution_count": null,
   "metadata": {},
   "outputs": [],
   "source": []
  },
  {
   "cell_type": "code",
   "execution_count": null,
   "metadata": {},
   "outputs": [],
   "source": []
  },
  {
   "cell_type": "code",
   "execution_count": null,
   "metadata": {},
   "outputs": [],
   "source": []
  },
  {
   "cell_type": "code",
   "execution_count": null,
   "metadata": {},
   "outputs": [],
   "source": []
  },
  {
   "cell_type": "code",
   "execution_count": null,
   "metadata": {},
   "outputs": [],
   "source": []
  },
  {
   "cell_type": "code",
   "execution_count": null,
   "metadata": {},
   "outputs": [],
   "source": []
  },
  {
   "cell_type": "markdown",
   "metadata": {},
   "source": [
    "### generate token"
   ]
  },
  {
   "cell_type": "code",
   "execution_count": null,
   "metadata": {
    "ExecuteTime": {
     "end_time": "2019-06-28T08:01:37.184356Z",
     "start_time": "2019-06-28T08:01:14.553118Z"
    }
   },
   "outputs": [],
   "source": [
    "from tools import generate_zhihu_token\n",
    "generate_zhihu_token()"
   ]
  },
  {
   "cell_type": "code",
   "execution_count": null,
   "metadata": {},
   "outputs": [],
   "source": []
  },
  {
   "cell_type": "code",
   "execution_count": null,
   "metadata": {
    "ExecuteTime": {
     "end_time": "2019-07-05T08:54:29.496826Z",
     "start_time": "2019-07-05T08:54:29.399091Z"
    }
   },
   "outputs": [],
   "source": [
    "from fetcher_api import zhihu"
   ]
  },
  {
   "cell_type": "code",
   "execution_count": null,
   "metadata": {
    "ExecuteTime": {
     "end_time": "2019-07-05T08:54:49.356830Z",
     "start_time": "2019-07-05T08:54:49.279040Z"
    }
   },
   "outputs": [],
   "source": [
    "client = zhihu.client"
   ]
  },
  {
   "cell_type": "code",
   "execution_count": null,
   "metadata": {
    "ExecuteTime": {
     "end_time": "2019-07-05T08:57:13.892297Z",
     "start_time": "2019-07-05T08:57:13.813487Z"
    }
   },
   "outputs": [],
   "source": [
    "c = client.collection(133030984)\n",
    "int(\"133030984\")"
   ]
  },
  {
   "cell_type": "code",
   "execution_count": null,
   "metadata": {},
   "outputs": [],
   "source": []
  },
  {
   "cell_type": "code",
   "execution_count": 14,
   "metadata": {
    "ExecuteTime": {
     "end_time": "2019-07-19T05:00:13.157113Z",
     "start_time": "2019-07-19T05:00:13.060657Z"
    }
   },
   "outputs": [],
   "source": [
    "from zhihu_oauth import ZhihuClient\n",
    "\n",
    "TOKEN_FILE = 'token.pkl'\n",
    "client = ZhihuClient()\n",
    "client.load_token(TOKEN_FILE)\n"
   ]
  },
  {
   "cell_type": "code",
   "execution_count": 15,
   "metadata": {
    "ExecuteTime": {
     "end_time": "2019-07-19T05:00:14.139324Z",
     "start_time": "2019-07-19T05:00:14.077492Z"
    }
   },
   "outputs": [],
   "source": [
    "page = client.from_url('https://zhuanlan.zhihu.com/p/37509962')"
   ]
  },
  {
   "cell_type": "code",
   "execution_count": 60,
   "metadata": {
    "ExecuteTime": {
     "end_time": "2019-07-19T05:27:57.591947Z",
     "start_time": "2019-07-19T05:27:57.525097Z"
    }
   },
   "outputs": [],
   "source": [
    "from fetcher_api.zhihu import fetch_zhihu_article"
   ]
  },
  {
   "cell_type": "code",
   "execution_count": 61,
   "metadata": {
    "ExecuteTime": {
     "end_time": "2019-07-19T05:27:59.863061Z",
     "start_time": "2019-07-19T05:27:58.369270Z"
    },
    "scrolled": true
   },
   "outputs": [
    {
     "data": {
      "text/plain": [
       "{'comments': '错误: ForbiddenError - 106 - 评论已关闭',\n",
       " 'content': '毛泽东的机要秘书谢静宜在她的回忆录里披露了这么一个小故事：\\n\\n《有一次，列车行进在北国大地，田地里生长着即将成熟的麦子。突然，一位肩上挑担的农妇映入眼帘。她好象是往地里送饭后返回村庄。她一边走，一边用手一把接一把地将麦穗上的麦粒往口袋里装。我惊讶地对主席说；“您看，偷麦子的。”主席忙低声说，“别出声，别出声！”他生怕伤害了那位妇女的自尊心。毛主席一直望着那位妇女的身影消失在窗外，才恍然所失地自言自话道：“看来，农民的粮食还是不够吃啊!不然，她何苦去抓那几把麦粒呢?”那天吃饭时，我注意到主席神色严肃，沉默不语，大概仍在想着那位农妇的事。》\\n\\n那个时候，田地及其中生长的庄稼都是属于集体的，那个农妇的行为或许会被视为“偷窃集体财物”，可是毛泽东是什么反应呢？可能出乎许多人的意料之外，他不仅没有一丝责备之意，反而流露出深深的同情，甚至还不让人发声惊动以免伤害了那个农妇的自尊心。为什么呢？毛泽东从那个农妇的举动所看到的是普通农民的艰难困苦，而且作为这个国家的领导人，他为自己的国民仍然生活困苦而自责，由此陷入沉重的深思之中，长久不能自拔。这种小到不会上书的小事情，其实是最能反映一个人的真实情感。毛泽东的反应直接出自内心，毫无做作的可能，让人无法不为他那颗与普通民众紧贴着的心所感动。\\n\\n文革中小学教师李庆霖写信给毛泽东反映知青的真实情况，也有人指责这封信“里头有刺”，大有追究其反对上山下乡之意，可毛泽东却说“我看了相当好啊，就是要有刺呢！我摆在这里几个月，经常看，看了三遍半”。有报道说，毛泽东看这封信读到伤心处，连眼泪也流出来了。毛泽东亲笔回信李庆霖，并“寄上三百元，聊补无米之炊。”日理万机的毛泽东对底层百姓的一封诉苦信竟如此看重，简直到了牵肠挂肚的地步！\\n\\n细节虽小，却往往是一个人真实思想与情感的自然反映。毛泽东是一个不屑于隐瞒自己政治观点的人，也是一个不掩饰自己情感，敢笑敢骂的性情中人。由于其特殊身份，他的一举一动，喜怒哀乐，爱谁恨谁，喜欢什么，厌恶什么，都毫无掩饰地映在身边人的眼里。我们不止一次地从毛泽东身边人听到他那些爱憎分明的“小故事”：他看不得穷苦人受难而多次掉泪，也看不得强势的人欺负弱者，对欺压百姓的行为嫉恶如仇，甚至看戏看到法海欺负白娘子也怒不可遏。这种情感渗透到他的一生的每个角落每个细节。当我们听着这些“小故事”的时候，在我们的脑海里，与他早已为世人所熟悉的政治舞台上叱咤风云的领袖形象相辅相成，还原了一个真实、完整、立体的毛泽东。有人把毛泽东的这种亲民情感称之为“群众情结”。正是这种情结，成为毛泽东人生中最纯朴的底色，是他的生命本色和政治本色的突出表现，从中可以感受到他那浓郁的“赤子情怀”。\\n\\n在戚本禹回忆录里也记载了这么一件事：\\n\\n《1951 年 8月石景山發電廠的一個書記，写信给毛泽东，反映工人工資比較低，物價又上漲，所以工人生活很困難。那信不知什么原因，田家英沒交到主席那里，……主席聽說工人有信給他就查問，一查果然有。田家英趕緊送去。主席看后很生氣，批評田家英說，你的工作就是向我反映工人、農民的情況，這么重要的反映工人生活困難的信，你壓了那么久不送給我看，這是個對工人的感情問題，是立場的問題。工人的疾苦，就是黨的大的問題，我們黨是干什么的，就是給老百姓解決問題的，怎么能掉以輕心呢？你是不是不想干了，不想干了你就打報告，我再找人 ……。后來毛主席給那個支部書記寫了信，表揚他關心工人，告訴他中央馬上想辦法解决，而且是整個北京市的工人，全國的工人問題，都要解決。后來把石景山鋼鐵廠工人的工資提高了，我們再下去聽反映，無論是支部書記還是工人，都非常滿意。》\\n\\n田家英是毛泽东十分器重的秘书，可是毛泽东对他未及时反映群众疾苦的过失批评得如此严厉，可见他容不得任何漠视群众疾苦的行为。正是在这严厉的批评声里，我们听到了毛泽东对工人农民的出于内心的真挚感情，听到了毛泽东一心要为老百姓解决困难的满腔热情和高度责任感。\\n\\n在已披露的档案材料中到处可以看到毛泽东对群众疾苦的牵挂。例如，1963年12月13日毛泽东看到中央办公厅编印的《群众反映》，反映上海被精简的职工，还有未能升学就业的社会青年和各类无业人员，生活无着，很是困难，立即批示:“柯老、丕显同志：此件请阅。此事必须解决。一定要使他们设法就业。即使暂时不能就业，也要支出一笔救济费把他们养起来，以待逐渐设法就业。”同时批示：“刘、邓、彭真同志：此是一件大事，值得注意。”\\n\\n与此形成鲜明对比的是，毛泽东对干部队伍中的贵族习气和特殊化极为厌恶。1952年6月14日毛泽东读到一份反映中小学生费用负担对于劳动人民家庭和低薪制工作人员来说过于沉重以及干部子弟学校的学生待遇优越且按家长职务分等级的情况报告后，立即批示:“周总理：(一)如有可能，应全部接管私立中小学。(二)干部子弟学校，第一步，应划一待遇，不得再分等级；第二步，废除这种贵族学校，与人民子弟合一。请酌办。”毛泽东对医疗服务特殊化现象更是多次严厉批评。1964年6月24日毛泽东在一次谈话中指出:“什么都搞特殊化，看病也搞特殊化，我很不赞成搞什么高级病房、高级病床，老百姓有了病怎么办啊？有那么多的工人、农民，有了病怎么办？” 1965年6月26日，毛泽东发出了“把医疗卫生的重点放到农村去”的著名的“六·二六指示”，其中他直言不讳地批评卫生部：“告诉卫生部，卫生部只给全国人口的15%工作，而这15%中主要还是老爷。广大农民得不到医疗，一无医生，二无药。卫生部不是人民的卫生部，改为城市卫生部或城市老爷卫生部好了。”\\n\\n读到毛泽东对高干看病特殊化的批评，就不能不联想到毛泽东对消灭血吸虫病的态度。血吸虫病主要是危害田间劳作的农民，这种病也许跟城里人的关系小一些，跟养尊处优的官老爷们更远。可毛泽东一旦了解了农民受害的情况，就把这件事视为天大的大事，马上用最大的精力，最大的决心，动用全国一切可以动用的力量，倾注全力抓这件事，抓住不放，一抓到底。仅几年的时间，就创造了在中国几千年来的历史上第一次战胜血吸虫病的奇迹。当他看到某县首先消灭了血吸虫病的消息后，激动得一夜未睡，一直在踱步浮想，不觉已是旭日临窗，于是以诗言志，一挥写成脍炙人口的不朽诗篇《送瘟神》。这正是毛泽东与广大劳动人民血肉相连的感情的真挚流露。\\n\\n在考虑政策的倾向性时，毛泽东讲了这么一段话：“不要怕得罪人。这样做得罪了一批人，可是老百姓高兴。这批人不高兴让他们不高兴好了。做什么事总要得罪人，看得罪的是些什么人，高兴的是什么人，老百姓高兴就行。”这几句再朴实不过的大白话，深刻地反映出毛泽东内心的价值取向。\\n\\n值得指出的是，多年来，有关毛泽东的报道给人们树立了一个为坚持马克思主义，为实现共产主义而坚决奋斗的战士的形象。这固然是不错的。但是，如果忽略了他与广大人民群众血肉相连的情感、他的“群众情结”、他的“人民至上”的价值取向，那就是不完整的。\\n\\n毫无疑问，毛泽东是信仰共产主义的，但同时，他的价值观的核心是为中国和世界绝大多数人服务。在毛泽东的字典里，这两者是高度统一的。一方面，为了最大多数人的幸福，他一生都在为实现共产主义的理想而奋斗，他在任何情况下对于社会的贫富分化都抱有高度的警惕；另一方面，在他一生的奋斗中，从来都反对以共产主义的名义侵犯普通群众的利益。人民公社刚出现时，毛泽东在共产主义理想的鼓舞下，确实表现出极大的热情，但随后出现的损害农民利益的“共产风”，很快就引起毛泽东的不安。在中共党内，是毛泽东最早看出问题，提出纠偏。就在中央作出建立人民公社的决议后不到两个月的时间，毛泽东就召开史称“第一次郑州会议”进行纠偏，之后又召开了多次纠偏会议。在相当长的一段时间内，毛泽东的纠偏是顶着党内相当多人的“右倾”、“倒退”的怀疑和抵制进行的。为什么毛泽东以共产主义为奋斗目标，却又能在全党头脑发热的情况下清醒地提出纠偏呢？关键就在于他对运动中出现的以“共产”的名义用行政命令强行剥夺农民的行为深恶痛绝。他厉声斥道：“平调农民的劳动果实，比地主、资本家剥削还厉害”，“剥夺农民是马列主义完全不许可的，我们只讲过剥夺地主，哪里讲过剥夺农民，剥夺农民的思想是最反动的。不是建设社会主义，而是破坏社会主义”。对于一些干部用“反瞒产”的口号强行搜刮农民存粮的恶劣行为，毛泽东一旦了解实情后就旗帜鲜明地站在了农民一边：“什么瞒产私分，完全必要，……我现在代表五亿农民和一千多万基层干部说话，搞‘右倾机会主义’。坚持‘右倾机会主义’，非贯彻不可。你们如果不一齐同我‘右倾’，那么我一个人‘右倾’到底，一直到开除党籍。”在这里，我们看到，在毛泽东的思想上，社会主义意识形态与关心群众、爱护百姓两者的高度统一。任何政策，不管在意识形态上多么“左”，但只要违背多数群众的意愿和利益，毛泽东就会选择站在人民这一边。\\n\\n毛泽东在谈及接班人条件、也就是革命事业领袖的条件时，特别强调“必须要为大多数人民谋利益，为中国人民大多数谋利益，为世界人民大多数人谋利益，这是目的。到底为谁服务，这是主要的，这一条学好了什么都能办。”这就是毛泽东价值观的核心。这个思想贯穿于毛泽东的整个革命生涯，体现在他的所有重要著作中。他说：“共产党的路线，就是人民的路线。”“共产党人的一切言论行动，必须以合乎最广大人民群众的最大利益，为最广大人民群众所拥护为最高标准。”他还特别以对群众的态度作为区分共产党与国民党的根本标准：“有无群众观点是我们同国民党的根本区别”，他多次告诫党的高级干部：“对劳动人民只能说服，不能压服，不能使用权力，用权力就是压服。有人这样做，好像很“左”，其实很右，是国民党作风。”出于“人民至上”的价值观，毛泽东从来反对以任何名义整群众，也反对拿着鞭子赶着百姓去革命，而是主张通过说服教育来启发群众的觉悟，而最终由群众自己解放自己。\\n\\n人们都说，毛泽东最大的革命贡献是把马克思主义与中国实际相结合，这个结合点是什么呢？就是他一再强调的，一切从中国的最大多数人民的利益出发。什么是最大的中国实际？就是占全中国人口百分之九十以上的人民群众。在任何一个革命阶段，他都不是教条地以经典著作中的条文为行动指导，而是以是否符合当时最广大人民群众的利益来决定革命的任务和策略，创造性地、独立自主地确立中国革命的纲领和路线。为此，毛泽东曾经被号称百分之百的布尔什维克们讽刺为“山沟沟里的马克思主义”，甚至被国际共运的权威责难为“麦淇淋式的共产主义者”，然而，实践证明了毛泽东的正确，历史证明了毛泽东的伟大。\\n\\n长久以来，共产主义的敌人总是把共产主义者描绘成青面獠牙的暴徒；在共产主义运动中，也确有一些号称百分之百的革命者用粗暴对待群众的方法来追求所谓意识形态上的“彻底”。毛泽东，以他植根于价值观核心的亲民本色，划清了与形形色色假马克思主义的界线，成为中国有史以来第一位真正的人民领袖，不仅在生前，而且在身后，都永远受到最广大人民群众的衷心爱戴。\\n\\n“人民万岁”，毛泽东在多个场合喊出这个震撼人心的呼声。有人评论说，毛泽东是中国历史上第一个喊出人民万岁的领袖，它绝不是个应景的口号，而是毛泽东内心世界的真实流露，是他“人民至上”价值观的集中体现，让我们从中更深刻地认识毛泽东，懂得毛泽东，感受伟人的赤子情怀。\\n\\n林之辛 2018,5,1',\n",
       " 'metadata': {'author_id': 'lin-zhi-xin-48-15',\n",
       "  'author_name': '林之辛',\n",
       "  'column_id': 'c_88144572',\n",
       "  'column_name': '马克思的记事本',\n",
       "  'count': 4622,\n",
       "  'edit_date': '2018-05-31 07:35:23',\n",
       "  'fetch_date': '2019-07-19 13:27:58',\n",
       "  'title': '毛泽东的亲民本色是他价值观的集中体现 - 林之辛的专栏 马克思的记事本',\n",
       "  'topics': '人文, 历史',\n",
       "  'url': 'https://zhuanlan.zhihu.com/p/37509962',\n",
       "  'voteup_count': 158}}"
      ]
     },
     "execution_count": 61,
     "metadata": {},
     "output_type": "execute_result"
    }
   ],
   "source": [
    "fetch_zhihu_article('https://zhuanlan.zhihu.com/p/37509962')"
   ]
  },
  {
   "cell_type": "code",
   "execution_count": null,
   "metadata": {},
   "outputs": [],
   "source": []
  },
  {
   "cell_type": "code",
   "execution_count": null,
   "metadata": {},
   "outputs": [],
   "source": []
  },
  {
   "cell_type": "code",
   "execution_count": null,
   "metadata": {
    "ExecuteTime": {
     "end_time": "2019-07-08T09:06:32.787716Z",
     "start_time": "2019-07-08T09:06:32.680993Z"
    }
   },
   "outputs": [],
   "source": [
    "import os\n",
    "os.path.basename('D:\\Coding\\TheNorthRemembers\\page.py')"
   ]
  },
  {
   "cell_type": "code",
   "execution_count": null,
   "metadata": {
    "ExecuteTime": {
     "end_time": "2019-07-08T09:06:11.093275Z",
     "start_time": "2019-07-08T09:06:10.984567Z"
    }
   },
   "outputs": [],
   "source": [
    "os.path.__file__"
   ]
  },
  {
   "cell_type": "code",
   "execution_count": null,
   "metadata": {
    "ExecuteTime": {
     "end_time": "2019-07-08T10:32:10.466236Z",
     "start_time": "2019-07-08T10:31:58.545Z"
    }
   },
   "outputs": [],
   "source": [
    "import wechatsogou"
   ]
  },
  {
   "cell_type": "code",
   "execution_count": null,
   "metadata": {
    "ExecuteTime": {
     "end_time": "2019-07-08T10:32:10.471223Z",
     "start_time": "2019-07-08T10:31:59.707Z"
    }
   },
   "outputs": [],
   "source": [
    "ws_api = wechatsogou.WechatSogouAPI()"
   ]
  },
  {
   "cell_type": "code",
   "execution_count": null,
   "metadata": {
    "ExecuteTime": {
     "end_time": "2019-07-08T10:32:24.548522Z",
     "start_time": "2019-07-08T10:32:13.261291Z"
    }
   },
   "outputs": [],
   "source": [
    "ws_api.get_gzh_info('南航青年志愿者')"
   ]
  },
  {
   "cell_type": "code",
   "execution_count": null,
   "metadata": {
    "ExecuteTime": {
     "end_time": "2019-07-08T10:33:00.761669Z",
     "start_time": "2019-07-08T10:32:58.763440Z"
    },
    "scrolled": false
   },
   "outputs": [],
   "source": [
    "list(ws_api.search_article('马前卒工作室'))"
   ]
  },
  {
   "cell_type": "code",
   "execution_count": null,
   "metadata": {},
   "outputs": [],
   "source": []
  },
  {
   "cell_type": "code",
   "execution_count": null,
   "metadata": {},
   "outputs": [],
   "source": []
  }
 ],
 "metadata": {
  "hide_input": false,
  "kernelspec": {
   "display_name": "Python 3",
   "language": "python",
   "name": "python3"
  },
  "language_info": {
   "codemirror_mode": {
    "name": "ipython",
    "version": 3
   },
   "file_extension": ".py",
   "mimetype": "text/x-python",
   "name": "python",
   "nbconvert_exporter": "python",
   "pygments_lexer": "ipython3",
   "version": "3.6.3"
  },
  "toc": {
   "nav_menu": {
    "height": "241px",
    "width": "184px"
   },
   "number_sections": true,
   "sideBar": false,
   "skip_h1_title": false,
   "title_cell": "Table of Contents",
   "title_sidebar": "Contents",
   "toc_cell": false,
   "toc_position": {
    "height": "225px",
    "left": "627px",
    "top": "32px",
    "width": "495px"
   },
   "toc_section_display": true,
   "toc_window_display": true
  }
 },
 "nbformat": 4,
 "nbformat_minor": 1
}
