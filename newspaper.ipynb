{
 "cells": [
  {
   "cell_type": "code",
   "execution_count": 4,
   "metadata": {
    "collapsed": false
   },
   "outputs": [
    {
     "data": {
      "text/plain": [
       "'cp936'"
      ]
     },
     "execution_count": 4,
     "metadata": {},
     "output_type": "execute_result"
    }
   ],
   "source": [
    "import locale\n",
    "locale.getpreferredencoding()"
   ]
  },
  {
   "cell_type": "code",
   "execution_count": 5,
   "metadata": {
    "collapsed": false
   },
   "outputs": [
    {
     "name": "stdout",
     "output_type": "stream",
     "text": [
      "\n",
      "Your available languages are:\n",
      "\n",
      "input code\t\tfull name\n",
      "  ar\t\t\t  Arabic\n",
      "  da\t\t\t  Danish\n",
      "  de\t\t\t  German\n",
      "  en\t\t\t  English\n",
      "  es\t\t\t  Spanish\n",
      "  fi\t\t\t  Finnish\n",
      "  fr\t\t\t  French\n",
      "  he\t\t\t  Hebrew\n",
      "  hu\t\t\t  Hungarian\n",
      "  id\t\t\t  Indonesian\n",
      "  it\t\t\t  Italian\n",
      "  ko\t\t\t  Korean\n",
      "  mk\t\t\t  Macedonian\n",
      "  nb\t\t\t  Norwegian (Bokmål)\n",
      "  nl\t\t\t  Dutch\n",
      "  no\t\t\t  Norwegian\n",
      "  pt\t\t\t  Portuguese\n",
      "  ru\t\t\t  Russian\n",
      "  sv\t\t\t  Swedish\n",
      "  tr\t\t\t  Turkish\n",
      "  vi\t\t\t  Vietnamese\n",
      "  zh\t\t\t  Chinese\n",
      "\n"
     ]
    }
   ],
   "source": [
    "import newspaper\n",
    "newspaper.languages()"
   ]
  },
  {
   "cell_type": "code",
   "execution_count": 16,
   "metadata": {
    "collapsed": true
   },
   "outputs": [],
   "source": [
    "from newspaper import Article\n",
    "url = 'http://news.sina.com.cn/c/nd/2016-06-16/doc-ifxtfrrc3682945.shtml'\n",
    "url = 'http://news.sina.com.cn/zl/2016-06-16/doc-ifxtfrrf0436412.shtml'\n",
    "a = Article(url, language='zh') # Chinese\n",
    "\n",
    "# >>> a.download()\n",
    "# >>> a.parse()\n",
    "\n",
    "# >>> print(a.text[:150])\n",
    "# 香港行政长官梁振英在各方压力下就其大宅的违章建\n",
    "# 筑（僭建）问题到立法会接受质询，并向香港民众道歉。\n",
    "# 梁振英在星期二（12月10日）的答问大会开始之际在其\n",
    "# 演说中道歉，但强调他在违章建筑问题上没有隐瞒的意\n",
    "# 图和动机。 一些亲北京阵营议员欢迎梁振英道歉，\n",
    "# 且认为应能获得香港民众接受，但这些议员也质问梁振英有\n",
    "\n",
    "# >>> print(a.title)\n",
    "# 港特首梁振英就住宅违建事件道歉"
   ]
  },
  {
   "cell_type": "code",
   "execution_count": 17,
   "metadata": {
    "collapsed": false
   },
   "outputs": [],
   "source": [
    "a.download()\n",
    "a.parse()\n"
   ]
  },
  {
   "cell_type": "code",
   "execution_count": 20,
   "metadata": {
    "collapsed": false
   },
   "outputs": [
    {
     "data": {
      "text/plain": [
       "'http://i0.sinaimg.cn/dy/slidenews/41_img/2016_24/28161_5112892_128172.jpg'"
      ]
     },
     "execution_count": 20,
     "metadata": {},
     "output_type": "execute_result"
    }
   ],
   "source": [
    "a.text\n",
    "a.title\n",
    "a.top_image"
   ]
  },
  {
   "cell_type": "markdown",
   "metadata": {},
   "source": [
    "![](http://i0.sinaimg.cn/dy/slidenews/41_img/2016_24/28161_5112892_128172.jpg)"
   ]
  },
  {
   "cell_type": "code",
   "execution_count": 21,
   "metadata": {
    "collapsed": true
   },
   "outputs": [],
   "source": [
    "from newspaper import Article\n",
    "url = 'http://www.zhihu.com/question/47414054/answer/105880816'\n",
    "# url = 'http://news.sina.com.cn/zl/2016-06-16/doc-ifxtfrrf0436412.shtml'\n",
    "a = Article(url, language='zh') # Chinese\n",
    "a.download()\n",
    "a.parse()"
   ]
  },
  {
   "cell_type": "code",
   "execution_count": 33,
   "metadata": {
    "collapsed": false
   },
   "outputs": [
    {
     "name": "stdout",
     "output_type": "stream",
     "text": [
      "如何看待 WWDC 2016 上推出的 Swift Playgrounds？\n",
      "[]\n",
      "\n",
      "[]\n"
     ]
    }
   ],
   "source": [
    "print(a.title)\n",
    "# print(a.text)\n",
    "# print(a.html)\n",
    "print(a.authors)\n",
    "print(a.top_image)\n",
    "print(a.movies)"
   ]
  },
  {
   "cell_type": "code",
   "execution_count": 34,
   "metadata": {
    "collapsed": false,
    "scrolled": true
   },
   "outputs": [],
   "source": [
    "def h2t_handle_html(html):\n",
    "  import html2text\n",
    "  h2t = html2text.HTML2Text()\n",
    "  h2t.body_width = 0\n",
    "  return '\\n'.join(p.rstrip() for p in h2t.handle(html).strip().split('\\n'))\n"
   ]
  },
  {
   "cell_type": "code",
   "execution_count": 37,
   "metadata": {
    "collapsed": false
   },
   "outputs": [
    {
     "data": {
      "text/plain": [
       "'[知乎](/)\\n\\n  * [__注册知乎](javascript:;)\\n  * [登录](javascript:;)\\n\\n提问\\n\\n知乎搜索 搜索\\n\\n  * [首页](/)\\n  * [话题](/topic)\\n  * [发现](/explore)\\n\\n\\n\\n\\n\\n消息 用户 赞同和感谢\\n\\n[查看全部 »](/notifications) [__](/settings/notification \"通知设置\" )\\n\\n[x](javascript:; \"关闭\" )\\n\\n[ iOS ](/topic/19550461) [ 苹果公司 (Apple Inc.) ](/topic/19551762) [ Swift 语言 ](/topic/20003934) [ WWDC 2016 ](/topic/20046761)\\n\\n##  [如何看待 WWDC 2016 上推出的 Swift Playgrounds？](/question/47414054)\\n\\n__1 条评论  __分享\\n\\n### [查看全部 31 个回答](/question/47414054)\\n\\n__ 28 赞同 __ 反对\\n\\n[![](https://pic3.zhimg.com/2447e1332_s.jpg)](/people/huang-jing-cheng) [黄兢成](/people/huang-jing-cheng) ，iOS 和 C++ 开发者，[https://github.com/hjcapple__](//link.zhihu.com/?target=https%3A//github.com/hjcapple)\\n\\n收录于  编辑推荐 •28 人赞同\\n\\n整场发布会看下来， Swift Playgrounds 最有意思。以前我看过 Bret Victor 的一些视频。[Bret Victor - Inventing on Principle__](//link.zhihu.com/?target=http%3A//v.youku.com/v_show/id_XMzUyOTIyNzg0.html%3Ffrom%3Ds1.8-1-1.2)[Bret Victor - Media for Thinking The Unthinkable__](//link.zhihu.com/?target=http%3A//v.youku.com/v_show/id_XNTYzMzM2OTQ4.html%3Ffrom%3Ds1.8-1-1.2)[Bret Victor - Stop Drawing Dead Fish__](//link.zhihu.com/?target=http%3A//v.youku.com/v_show/id_XNTUxMTQzNTc2.html%3Ffrom%3Ds1.8-1-1.2)[Bret Victor - The Future of Programm…__](//link.zhihu.com/?target=http%3A//v.youku.com/v_show/id_XNTkwNDg5NjAw.html%3Ffrom%3Ds1.8-1-1.2) [显示全部](/question/47414054/answer/105880816)\\n\\n整场发布会看下来， Swift Playgrounds 最有意思。\\n\\n\\n\\n\\n以前我看过 Bret Victor 的一些视频。\\n\\n  * [Bret Victor - Inventing on Principle__](//link.zhihu.com/?target=http%3A//v.youku.com/v_show/id_XMzUyOTIyNzg0.html%3Ffrom%3Ds1.8-1-1.2)\\n  * [Bret Victor - Media for Thinking The Unthinkable__](//link.zhihu.com/?target=http%3A//v.youku.com/v_show/id_XNTYzMzM2OTQ4.html%3Ffrom%3Ds1.8-1-1.2)\\n  * [Bret Victor - Stop Drawing Dead Fish__](//link.zhihu.com/?target=http%3A//v.youku.com/v_show/id_XNTUxMTQzNTc2.html%3Ffrom%3Ds1.8-1-1.2)\\n  * [Bret Victor - The Future of Programming__](//link.zhihu.com/?target=http%3A//v.youku.com/v_show/id_XNTkwNDg5NjAw.html%3Ffrom%3Ds1.8-1-1.2)\\n\\n\\n\\n\\n这一些视频强调了视觉化，实时反馈的作用。有兴趣的话，可以搜索 Bret Victor 的名字，还可以找到更多视频和文章。\\n\\n\\n\\n\\nBret Victor 之前在苹果工作过。我不知道 Swift Playgrounds 的开发者有没有受到 Bret Victor 的启发。但无论怎样，Swift Playgrounds 正将这种思路实践于 Swift 的启蒙教学。这种思路一直小范围内存在，只是没有普及到大众。苹果假如可以将其普及开来，对社会也是贡献。\\n\\n\\n\\n\\nSwift Playgrounds 应该是定位于编程启蒙教育，而非开发工具。\\n\\n\\n\\n\\n对于苹果公司来说，普及 Swift 语言，让 Swift 成为孩子和大众的编程母语，这自然很重要。我们都知道母语对个人的影响很大，以后这些孩子成长为开发者，会对第一母语有天然的亲近。\\n\\n\\n\\n\\n而从社会编程教学角度，这种视觉化的实时反馈，更是意义重大。我上大学，学校教编程的时候，对着一个黑乎乎的窗口，没有视觉反馈，绝大部分的人还没有体会到编程的乐趣，就被吓跑了。并且会终身保留这个编程无趣的印象，以后连尝试也不会。\\n\\n\\n\\n\\nSwift Playgrounds 想让孩子和大众知道，编程并非是冷冰冰，而可以充满乐趣的。只要达到这种启蒙作用，无论是否学会具体的循环分支，也不是很重要了。只要感觉到乐趣，不排斥，不怀疑自己是否可以学会编程，其它一切就自然水到渠成。就算以后不做编程的工作，至少知道编程大概是什么，知道了就不会害怕。\\n\\n\\n\\n\\n将 “Swift Playgrounds” 拆开，\"Swift\" 自然重要，而更有社会意义的是\"Playgrounds\"。\\n\\n[编辑于 2016-06-14](/question/47414054/answer/105880816) __4 条评论 __感谢 __分享 __收藏 • 没有帮助 • 举报 • [ 作者保留权利 ](/terms#sec-licence-1)\\n\\n更多回答\\n\\n[6](javascript:;)\\n\\n__ 6 赞同 __ 反对\\n\\n[李谨焕](/people/likers33) ，IC 烟酒僧 时差党 篮球\\n\\n6 人赞同\\n\\n刚刚看完WWDC Introducing Swift Playgrounds，惊喜连连。果然Keynote只是冰山一角，重点都在Session&lt;br&gt;&lt;br&gt;&lt;b&gt;1\\\\. 不是游戏不是游戏不是游戏！&lt;/b&gt;&lt;br&gt;刚发布许多人说应该就是个教小孩入门编程的游戏，没什么用。我甚至觉得有“小霸王学习机，哪里不会点哪里”的即视感。&lt;br&gt;然而Swift Playgrounds没那么简单，他根本不是个游戏APP。&lt;br&gt;&lt;b&gt;所有Xcode中（用Swift 3）生成的 .playground 文件都能直接运行在Swift Playground中&lt;/b&gt;，而且支持各种同步（?）。也就是说上下班地铁无聊用ipad写写代码是完全没有问题的，或者换句话说，所有playground的使用场景，都适用于iPad的Swift Playgrounds&lt;br&gt;&lt;br&gt;&lt;b&gt;2\\\\. 他是威力加强版iBooks&lt;/b&gt;&lt;br&gt;再说回来Keynote上的那个游戏，其实是Swift Playgrounds的新的文件——Book&lt;br&gt;&lt;img src=\"https://pic1.zhimg.com/aed63b2eef6e3e1bf0abb679de99ae38_b.png\" data-rawwidth=\"646\" data-rawheight=\"367\" class=\"origin_image zh-lightbox-thumb\" width=\"646\" data-original=\"https://pic1.zhimg.com/aed63b2eef6e3e1bf0abb679de99ae38_r.png\"&gt;&lt;br&gt;扩展名是 .playgroundbook。&lt;img src=\"https://pic2.zhimg.com/a82861786591c0c08348c96eefa77385_b.png\" data-rawwidth=\"424\" data-rawheight=\"365\" class=\"origin_image zh-lightbox-thumb\" width=\"424\" data-original=\"https://pic2.zhimg.com/a82861786591c0c08348c96eefa77385_r.png\"&gt;&lt;br&gt;&lt;img src=\"https://pic1.zhimg.com/e8cc719a0fc729db4ff3247266d9b998_b.png\" data-rawwidth=\"607\" data-rawheight=\"441\" class=\"origin_image zh-lightbox-thumb\" width=\"607\" data-original=\"https://pic1.zhimg.com/e8cc719a0fc729db4ff3247266d9b998_r.png\"&gt;上图是内部文件结构。&lt;br&gt;可以看到其本质是一本电子书，有内容，章节目录。同时他是一本可以互动，游戏，Coding，看到运行结果的书。而且开发者可以随心所欲写自己的书！&lt;br&gt;也就是说上到专业程序员下到9岁小女孩，全年龄适用，不同的书给不同需求的人用。类似&lt;a href=\"//link.zhihu.com/?target=http%3A//w3chools.com\" class=\" external\" target=\"_blank\" rel=\"nofollow noreferrer\"&gt;&lt;span class=\"invisible\"&gt;http://&lt;/span&gt;&lt;span class=\"visible\"&gt;w3chools.com&lt;/span&gt;&lt;span class=\"invisible\"&gt;&lt;/span&gt;&lt;i class=\"icon-external\"&gt;&lt;/i&gt;&lt;/a&gt;的无数在线教程就可以搬到Swift Playgrounds里了有木有。搞不好Apple以后会发布Swift Playgrounds版的The Swift Programming Language？&lt;br&gt;另外启动Swift Playgrounds首先看到的是和iBooks一样一样的书架界面，手慢没截到图，稍后更新上来&lt;br&gt;&lt;br&gt;&lt;b&gt;3\\\\. It can do more&lt;/b&gt;&lt;br&gt;Session最后一部分没认真看，不过小哥在总结的时候提到Playgrounds支持所有的Apple API（?）&lt;br&gt;现场演示了在Playgrounds中用CoreBluetooth控制一个球状小机器人滚动，变色，引来一片掌声。。。&lt;br&gt;另一个demo生成了一小片3D的陆地＋水。难不成以后能在Playgrounds里做出个Minecraft？ &lt;br&gt;&lt;br&gt;&lt;b&gt;4\\\\. 有趣的小细节&lt;/b&gt;&lt;br&gt;代码补全做到了软键盘上方以及主屏幕下方&lt;br&gt;&lt;img src=\"https://pic3.zhimg.com/2e3267661bcf3b86be8296e10b6203ce_b.png\" data-rawwidth=\"843\" data-rawheight=\"522\" class=\"origin_image zh-lightbox-thumb\" width=\"843\" data-original=\"https://pic3.zhimg.com/2e3267661bcf3b86be8296e10b6203ce_r.png\"&gt;&lt;img src=\"https://pic1.zhimg.com/4f576cbca91ae43f065bf5f47aab85e8_b.png\" data-rawwidth=\"708\" data-rawheight=\"518\" class=\"origin_image zh-lightbox-thumb\" width=\"708\" data-original=\"https://pic1.zhimg.com/4f576cbca91ae43f065bf5f47aab85e8_r.png\"&gt;&lt;br&gt;&lt;img src=\"https://pic2.zhimg.com/6c216203fc3a2d193286a9fb645b27e9_b.png\" data-rawwidth=\"712\" data-rawheight=\"426\" class=\"origin_image zh-lightbox-thumb\" width=\"712\" data-original=\"https://pic2.zhimg.com/6c216203fc3a2d193286a9fb645b27e9_r.png\"&gt;&lt;br&gt;可以看到每一行的执行结果都会在右侧图形化显示，如果是图片，还可以点击放大，甚至直接拖进代码编辑器里变得更大（只是展示，不会影响代码）&lt;br&gt;颜色会在代码里被转换为色块，点击显示色盘来选色。这些应该都是为了方便小盆宇们。&lt;br&gt;&lt;br&gt;&lt;b&gt;总结&lt;/b&gt;&lt;br&gt;惊喜连连的一个产品，除了软键盘的天生劣势（做demo的时候小哥一直在用外接键盘）。&lt;br&gt;引用发布会常用语：&lt;br&gt;&lt;blockquote&gt;等不及看到开发者们用Swift Playgrounds做出酷酷的作品了！&lt;/blockquote&gt;\\n\\n![](https://pic1.zhimg.com/aed63b2eef6e3e1bf0abb679de99ae38_200x112.png) 刚刚看完WWDC Introducing Swift Playgrounds，惊喜连连。果然Keynote只是冰山一角，重点都在Session**1\\\\. 不是游戏不是游戏不是游戏！**刚发布许多人说应该就是个教小孩入门编程的游戏，没什么用。我甚至觉得有“小霸王学习机，哪里不会点哪里”的即视感。然而S… [显示全部](/question/47414054/answer/106197461)\\n\\n[发布于 04:57](/question/47414054/answer/106197461) __2 条评论 __感谢 __分享 __收藏 • 没有帮助 • 举报 • [ 作者保留权利 ](/terms#sec-licence-1)\\n\\n[1](javascript:;)\\n\\n__ 1 赞同 __ 反对\\n\\n[Contra](/people/contra) ，Digital nomad, app/web/game/audio/visu…\\n\\n1 人赞同\\n\\n一步大棋，走进中小学，影响一代人。&lt;br&gt;加上swift在iOS和macOS平台的天然优势，以及开源后的可能性，准备安利身边想学编程的设计师和小朋友用swift了（替换processing、python等）。\\n\\n一步大棋，走进中小学，影响一代人。加上swift在iOS和macOS平台的天然优势，以及开源后的可能性，准备安利身边想学编程的设计师和小朋友用swift了（替换processing、python等）。\\n\\n[发布于 2016-06-14](/question/47414054/answer/105876615) __添加评论 __感谢 __分享 __收藏 • 没有帮助 • 举报 • [ 作者保留权利 ](/terms#sec-licence-1)\\n\\n### [查看全部 31 个回答](/question/47414054)\\n\\n# 加入知乎\\n\\n## 与世界分享你的知识、经验和见解\\n\\n已有帐号？登录\\n\\n# 登录知乎\\n\\n## 与世界分享你的知识、经验和见解\\n\\n记住我 · 无法登录？ 社交帐号登录\\n\\n微信 微博 QQ\\n\\n关注问题 201 人关注该问题\\n\\n### 关于作者\\n\\n关注他\\n\\n[ ![](https://pic3.zhimg.com/2447e1332_m.jpg) ](/people/huang-jing-cheng \"黄兢成\" )\\n\\n## [黄兢成](http://www.zhihu.com/people/huang-jing-cheng \"黄兢成\" )\\n\\niOS 和 C++ 开发者，https://github.com/hjcapple\\n\\n[1559 关注者](/people/huang-jing-cheng/followers) / [2 提问](/people/huang-jing-cheng/asks) / [183 回答](/people/huang-jing-cheng/answers) / [3407 赞同](/people/huang-jing-cheng)\\n\\n### 被收藏 [13](/question/47414054/answer/105880816/collections) 次\\n\\n##  [视觉](/collection/43361265)\\n\\n[ 樊半缠 ](/people/banchan) 创建  |  [1 人关注](/collection/43361265/followers)\\n\\n##  [IT](/collection/99743200)\\n\\n[ 林中有铃 ](/people/lin-zhong-you-ling) 创建  |  [0 人关注](/collection/99743200/followers)\\n\\n##  [life](/collection/62341790)\\n\\n知乎用户  创建  |  [0 人关注](/collection/62341790/followers)\\n\\n##  [coding](/collection/63508872)\\n\\n知乎用户  创建  |  [0 人关注](/collection/63508872/followers)\\n\\n##  [学习](/collection/104740270)\\n\\n[ 王楠 ](/people/wang-nan-50-4) 创建  |  [0 人关注](/collection/104740270/followers)\\n\\n换一换\\n\\n### 相关问题\\n\\n  * [如何评价 Swift 语言？](/question/24002984) 97 个回答\\n  * [苹果的 Swift 语言是什么原理，为什么会有即时效果？](/question/24003102) 12 个回答\\n  * [为什么苹果新语言 Swift 的 RC4 运算效能是 Python 的 220 倍？](/question/24003086) 14 个回答\\n  * [Swift 为什么没有异常处理？](/question/24261295) 9 个回答\\n  * [Swift 集成了哪些语言的特性？](/question/24007154) 7 个回答\\n  * [作为新手，长远地看，该学习 Objective-C 还是 Swift？](/question/24304009) 48 个回答\\n  * [Objective-C 和 Swift 语言，哪个更容易学习？](/question/24123236) 32 个回答\\n  * [iOS 开发怎么入门？](/question/20264108) 110 个回答\\n  * [可以跳过 Objective-C 然后直接学习 Swift 语言吗？](/question/24004835) 44 个回答\\n  * [苹果开源 Swift 会产生什么影响？](/question/31095919) 30 个回答\\n\\n\\n\\n### 回答状态\\n\\n最后编辑于 2016-06-14\\n\\n所属问题被浏览 **277** 次\\n\\n[__作者保留所有权利](/terms#sec-licence)\\n\\n  * [刘看山](https://liukanshan.zhihu.com)\\n  * [移动应用](/app)\\n  * [加入知乎](/careers)\\n  * [知乎协议](/terms)\\n  * [联系我们](/contact)\\n\\n(C) 2016 知乎'"
      ]
     },
     "execution_count": 37,
     "metadata": {},
     "output_type": "execute_result"
    }
   ],
   "source": [
    "h2t_handle_html(a.html)\n"
   ]
  },
  {
   "cell_type": "code",
   "execution_count": 5,
   "metadata": {
    "collapsed": false
   },
   "outputs": [
    {
     "name": "stdout",
     "output_type": "stream",
     "text": [
      "name Pobpob\n",
      "headline 试试知乎有什么厉害的\n",
      "description \n",
      "如何评价南开大学津南校区的建设质量？\n",
      "7sDream\n",
      "6\n",
      "0\n",
      "1460039289\n",
      "1460088371\n"
     ]
    }
   ],
   "source": [
    "from zhihu_oauth import ZhihuClient\n",
    "TOKEN_FILE = 'token.pkl'\n",
    "client = ZhihuClient()\n",
    "client.load_token(TOKEN_FILE)\n",
    "\n",
    "me = client.me()\n",
    "\n",
    "print('name', me.name)\n",
    "print('headline', me.headline)\n",
    "print('description', me.description)\n",
    "\n",
    "answer = client.answer(94150403)\n",
    "\n",
    "print(answer.question.title)\n",
    "print(answer.author.name)\n",
    "print(answer.voteup_count)\n",
    "print(answer.bthanks_count)\n",
    "print(answer.created_time)\n",
    "print(answer.updated_time)\n",
    "answer.save(answer.question.title)"
   ]
  },
  {
   "cell_type": "code",
   "execution_count": 7,
   "metadata": {
    "collapsed": false
   },
   "outputs": [
    {
     "data": {
      "text/plain": [
       "<zhihu_oauth.zhcls.answer.Answer at 0x3b17550>"
      ]
     },
     "execution_count": 7,
     "metadata": {},
     "output_type": "execute_result"
    }
   ],
   "source": [
    "answer = client.answer(106335325)\n",
    "answer"
   ]
  },
  {
   "cell_type": "code",
   "execution_count": 25,
   "metadata": {
    "collapsed": false
   },
   "outputs": [
    {
     "name": "stdout",
     "output_type": "stream",
     "text": [
      "2016-06-16 22:32:45\n"
     ]
    },
    {
     "data": {
      "text/plain": [
       "'We are the 16, 32M 16'"
      ]
     },
     "execution_count": 25,
     "metadata": {},
     "output_type": "execute_result"
    }
   ],
   "source": [
    "import datetime\n",
    "\n",
    "d = datetime.datetime.fromtimestamp(1466087565)\n",
    "print(d)\n",
    "d.strftime('We are the %d, %m %Y')\n",
    "d.strftime('We are the %d, %MM %y')"
   ]
  }
 ],
 "metadata": {
  "kernelspec": {
   "display_name": "Python 3",
   "language": "python",
   "name": "python3"
  },
  "language_info": {
   "codemirror_mode": {
    "name": "ipython",
    "version": 3
   },
   "file_extension": ".py",
   "mimetype": "text/x-python",
   "name": "python",
   "nbconvert_exporter": "python",
   "pygments_lexer": "ipython3",
   "version": "3.4.3"
  }
 },
 "nbformat": 4,
 "nbformat_minor": 0
}
