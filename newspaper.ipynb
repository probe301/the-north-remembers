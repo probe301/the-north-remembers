{
 "cells": [
  {
   "cell_type": "code",
   "execution_count": null,
   "metadata": {},
   "outputs": [],
   "source": []
  },
  {
   "cell_type": "markdown",
   "metadata": {},
   "source": [
    "# The North Remembers Project"
   ]
  },
  {
   "cell_type": "code",
   "execution_count": 1,
   "metadata": {
    "ExecuteTime": {
     "end_time": "2019-07-17T07:49:20.848926Z",
     "start_time": "2019-07-17T07:49:20.761175Z"
    }
   },
   "outputs": [],
   "source": [
    "%load_ext autoreload\n",
    "%autoreload 2"
   ]
  },
  {
   "cell_type": "markdown",
   "metadata": {},
   "source": [
    "### 取舍\n",
    "\n",
    "数据存储用 github, 或者 bitbucket\n",
    "\n",
    "\n",
    "提供导出为 rss, epub, pdf, github 自带检查历史的功能\n",
    "\n",
    "不追求实效性\n",
    "\n",
    "\n",
    "\n",
    "外链图片不作为重点\n",
    "外链图片和视频链接, url 链接, 一并修复, 换行字符串等也一并处理, 七牛云?\n",
    "md 中的 Latex 和 代码检测也在这里修复, pygment"
   ]
  },
  {
   "cell_type": "markdown",
   "metadata": {},
   "source": [
    "### 调用关系\n",
    "\n",
    "\n",
    "\n"
   ]
  },
  {
   "cell_type": "markdown",
   "metadata": {},
   "source": [
    "#### Collector\n",
    "\n",
    "处理用户发出的命令\n",
    "\n",
    "可以是 zhihu answer url, 问题页, 收藏夹页, 需要带有过滤条件\n",
    "用户可能在过滤条件后再做修补删减\n",
    "\n",
    "需要转为具体的爬虫任务, 并创建文件夹\n",
    "单页收集到特定的文件夹, 否则收集到一个自动命名的文件夹\n",
    "\n",
    "在文件夹下生成task\n",
    "\n",
    "Resources\n",
    "global_config\n",
    "task_config (scanlist)\n",
    "\n",
    "\n",
    "Collector.append(url, options)\n",
    "\n",
    "\n",
    "\n",
    "#### Watcher\n",
    "\n",
    "\n",
    "\n",
    "任务调度, 监视文件夹, 根据 task.yaml 抓取页面\n",
    "\n",
    "task.yaml 也记录历史\n",
    "\n",
    "task_type: single_page, \n",
    "update_batch: 10\n",
    "\n",
    "\n",
    "track_new: true\n",
    "\n",
    "\n",
    "通过扫描已有的待抓取任务, 在手动触发, 达到特定时间后, 分派抓取任务\n",
    "\n",
    "    Watcher\n",
    "        .watch()\n",
    "        .remember()\n",
    "        .status()\n",
    "        .load_config_yaml\n",
    "        .save_config_yaml\n",
    "        .add_task add_tasks\n",
    "\n",
    "\n",
    "\n",
    "Task\n",
    "\n",
    "被调用抓取单一页面内容, 或者抓取一个 url 列表\n",
    "抓取单一页面内容将存为 md, 不存 html\n",
    "\n",
    "    Task\n",
    "        ZhihuAnswerPageTask\n",
    "        ZhihuAnswerIndexTask\n",
    "        ZhihuColumnPageTask\n",
    "        ZhihuColumnIndexTask\n",
    "\n",
    "Task 会使用 Page.save / load\n",
    "\n",
    "    .last_page()\n",
    "    .fetch()\n",
    "    .save() 传递一些参数给 page 如 watch_date\n",
    "    .to_yaml_text()\n",
    "    \n",
    "    .priority\n",
    "    .is_page_type\n",
    "    .should_fetch\n",
    "    .content_is_changed\n",
    "\n",
    "\n",
    "\n",
    "ZhihuColumnPage\n",
    "ZhihuColumnLister\n",
    "\n",
    "\n",
    "Fetcher.request(url) => dict()? Page()\n",
    "\n",
    "Page.write to / load from disk\n",
    "\n",
    "PageTask.run => Fetcher.request(url) => New Page\n",
    "PageTask.update => New Page.write\n",
    "IndexTask.run => Fetcher.request(url) => [New Tasks]\n",
    "\n",
    "\n",
    "Watcher -> PageTask -> Page (tmpl, fetcherAPI)\n",
    "                            ZhihuColumnPage\n",
    "                            ZhihuAnswerPage\n",
    "                            WeixinArticlePage\n",
    "\n",
    "\n",
    "Watcher -> IndexTask -> append more tasks\n",
    "                        ZhihuColumnIndex\n",
    "    \n",
    "\n",
    "\n",
    "\n"
   ]
  },
  {
   "cell_type": "markdown",
   "metadata": {},
   "source": [
    "#### Fetcher\n",
    "\n",
    "Page\n",
    "\n",
    "页面内容分为 元数据 + 文章主体 + 评论, 评论先放放\n",
    "\n",
    "\n",
    "Page.load()  返回一个读盘的页面\n",
    "\n",
    "以md文件为单位\n",
    "\n",
    "    ZhihuColumnPage\n",
    "        .load(path)\n",
    "        .write(path)\n",
    "        .compare()\n",
    "\n",
    "    attr\n",
    "        task = ForeignKeyField(Task, related_name='task')\n",
    "        watch_date = DateTimeField()\n",
    "        title = CharField(null=True)\n",
    "        author = CharField(null=True)\n",
    "        content = TextField(null=True)\n",
    "        metadata = TextField(null=True)\n",
    "        topic = TextField(null=True)\n",
    "        question = TextField(null=True)\n",
    "        comment = TextField(null=True)\n",
    "\n",
    "\n",
    "\n",
    "\n",
    "\n",
    "#### Cleaner\n",
    "\n",
    "处理, 清理文本的规则\n",
    "\n",
    "\n",
    "\n",
    "Exporter\n",
    "\n",
    "根据 Template 转换为 rss, epub, pdf, 以及 github diff 预览\n",
    "\n",
    "图片转存也算在 Template 里"
   ]
  },
  {
   "cell_type": "code",
   "execution_count": null,
   "metadata": {},
   "outputs": [],
   "source": [
    "描述\n",
    "\n",
    "以更加简洁清晰的排版阅读知乎. (这个需求有简悦)\n",
    "\n",
    "用户指定一个知乎网站上的问题, zhihumark 抓取相应的回答内容, 以 markdown 文档的形式提供给用户阅读和下载. (提供 md 下载没用)\n",
    "\n",
    "\n",
    "\n",
    "\n",
    "\n",
    "功能\n",
    "\n",
    "可以自由定制想抓取的内容, 这包括: 抓取指定答主/收藏夹名/问题/话题下的回答, 抓取赞同数量超过N的回答.\n",
    "可以设置黑名单, 不抓取特定的问题或者答主.\n",
    "抓取评论, 以会话的形式组织起来, 让上下文相关的评论出现在一起, 尽量滤除没有价值的评论.\n",
    "将收集到的一系列文档保存为epub或者pdf, 或者批量下载 markdown 文档, 以便离线阅读.\n",
    "制作成 feed 以便放入 rss 阅读器, 获取实时更新.\n",
    "\n",
    "\n",
    "观念\n",
    "\n",
    "我们也不显示其他人搜索了什么关键字, 获取了什么页面, 下载了哪些电子书, 看到什么取决于你\n",
    "\n",
    "我们相信评论是回答(或文章)可以分割的一部分, 许多评论很水, 有些很有价值.\n",
    "\n",
    "相信评论区是对回答的重要补充, 也有随回答保留的必要, 但需处理评论区良莠不齐, 引用回复混乱的问题.\n",
    "\n",
    "\n",
    "\n",
    "页面设计\n",
    "\n",
    "单页面网站应用, 基本上类似搜索引擎的风格和排版.\n",
    "\n",
    "输入框 - 接受输入ID或URL 答主/收藏夹名/问题名/话题名\n",
    "\n",
    "选项 - 保留最前的n个回答?\n",
    "选项 - 赞同数至少是?\n",
    "选项 - 保留评论? 评论对话中至少有多少 likes\n",
    "屏蔽 - 不感兴趣的话题, 问题, 答主\n",
    "返回 - markdown文件列表\n",
    "\n",
    "批量下载按钮"
   ]
  },
  {
   "cell_type": "code",
   "execution_count": null,
   "metadata": {},
   "outputs": [],
   "source": []
  },
  {
   "cell_type": "code",
   "execution_count": null,
   "metadata": {},
   "outputs": [],
   "source": [
    "\n"
   ]
  },
  {
   "cell_type": "code",
   "execution_count": null,
   "metadata": {},
   "outputs": [],
   "source": []
  },
  {
   "cell_type": "code",
   "execution_count": null,
   "metadata": {},
   "outputs": [],
   "source": []
  },
  {
   "cell_type": "code",
   "execution_count": null,
   "metadata": {},
   "outputs": [],
   "source": []
  },
  {
   "cell_type": "code",
   "execution_count": null,
   "metadata": {},
   "outputs": [],
   "source": []
  },
  {
   "cell_type": "code",
   "execution_count": null,
   "metadata": {},
   "outputs": [],
   "source": []
  },
  {
   "cell_type": "code",
   "execution_count": null,
   "metadata": {},
   "outputs": [],
   "source": []
  },
  {
   "cell_type": "code",
   "execution_count": null,
   "metadata": {},
   "outputs": [],
   "source": []
  },
  {
   "cell_type": "code",
   "execution_count": null,
   "metadata": {},
   "outputs": [],
   "source": []
  },
  {
   "cell_type": "code",
   "execution_count": null,
   "metadata": {},
   "outputs": [],
   "source": []
  },
  {
   "cell_type": "code",
   "execution_count": null,
   "metadata": {},
   "outputs": [],
   "source": []
  },
  {
   "cell_type": "code",
   "execution_count": null,
   "metadata": {},
   "outputs": [],
   "source": []
  },
  {
   "cell_type": "code",
   "execution_count": null,
   "metadata": {},
   "outputs": [],
   "source": []
  },
  {
   "cell_type": "code",
   "execution_count": null,
   "metadata": {},
   "outputs": [],
   "source": []
  },
  {
   "cell_type": "code",
   "execution_count": null,
   "metadata": {
    "ExecuteTime": {
     "end_time": "2017-04-19T13:27:37.834791",
     "start_time": "2017-04-19T13:27:37.741543"
    }
   },
   "outputs": [],
   "source": [
    "def test_fetch_history():\n",
    "  # 美国是不是正在为瓦解中国做准备？ - 张俊麒的回答\n",
    "  # url = 'https://www.zhihu.com/question/40622033/answer/88139460'\n",
    "  \n",
    "  # 有哪些令人拍案叫绝的临场反应？ - 大盗贼霍老爷的回答\n",
    "  url = 'https://www.zhihu.com/question/29125576/answer/54187388'\n",
    "  \n",
    "  # 机器人教育这种不考试、以娱乐为主的教育对于中小学生及幼儿的意义何在？ - 冷哲的回答\"\n",
    "  url = 'https://www.zhihu.com/question/26999365/answer/93421419'\n",
    "  \n",
    "  \n",
    "  # 2016 年，中国房地产泡沫是否会在一两年内破灭，从而引发金融危机？ - 小马的回答\"\n",
    "  url = 'https://www.zhihu.com/question/40910547/answer/123021503'\n",
    "  \n",
    "  # Smart Beta 投资方法 - 陈颖的专栏 量化哥\"\n",
    "  url = 'https://zhuanlan.zhihu.com/p/21936302'\n",
    "  \n",
    "  \n",
    "  # 美国南北战争的真正原因是什么？ - talich的回答\"\n",
    "  url = 'https://www.zhihu.com/question/19679278/answer/15122151'\n",
    "  # query = (Page.select(Page, Task)\n",
    "  #          .join(Task)\n",
    "  #          .where((Task.page_type == 'zhihu_article') & (Page.title.contains('最前沿')))\n",
    "  #          .group_by(Page.task)\n",
    "  #          .having(Page.watch_date == fn.MAX(Page.watch_date))\n",
    "  #          .limit(9999))\n",
    "  t = Task.select().where(Task.url == url).get()\n",
    "  \n",
    "  \n",
    "  contents = []\n",
    "  for page in t.pages:\n",
    "\n",
    "    print(page.version)\n",
    "    print(page.title)\n",
    "    print(page.topic)\n",
    "    contents.append(page.content)\n",
    "#     print(page.content)\n",
    "  return contents\n",
    "contents = test_fetch_history()"
   ]
  },
  {
   "cell_type": "code",
   "execution_count": null,
   "metadata": {
    "ExecuteTime": {
     "end_time": "2017-04-19T13:23:42.907993",
     "start_time": "2017-04-19T13:23:42.892989"
    },
    "scrolled": true
   },
   "outputs": [],
   "source": [
    "def split_text(text):\n",
    "  col = []\n",
    "  for sent in re.findall('.*?[！|，|。|？|\\n|；|~|～|：|\\)|\\]]', text):\n",
    "    col.append(sent)\n",
    "  \n",
    "  return col\n",
    "\n",
    "print(split_text(a))"
   ]
  },
  {
   "cell_type": "code",
   "execution_count": null,
   "metadata": {
    "ExecuteTime": {
     "end_time": "2017-04-19T13:27:40.003674",
     "start_time": "2017-04-19T13:27:39.965599"
    },
    "scrolled": false
   },
   "outputs": [],
   "source": [
    "print(len(contents))\n",
    "# c1, c2, c3, c4, *_, c7 = contents\n",
    "from difflib import unified_diff\n",
    "def compare_text(t1, t2, prefix=''):\n",
    "  changes = [l for l in unified_diff(t1, t2)]\n",
    "\n",
    "  return changes\n",
    "\n",
    "\n",
    "import re\n",
    "for i, (a, b) in enumerate(zip(contents[:-1], contents[1:])):\n",
    "#   if i == 0:\n",
    "#     continue\n",
    "  if (a!=b):\n",
    "    print('a!=b on', i, i+1)\n",
    "    \n",
    "    pat = re.compile('\\S')\n",
    "    for d in unified_diff(split_text(a), split_text(b), n=2, lineterm=''):\n",
    "      print(d)\n",
    "  \n",
    "  print('\\n\\n\\n\\n\\n\\n')\n",
    "#   if i >= 5:\n",
    "#     break\n",
    "  \n",
    "# compare_text(c1, c2)\n",
    "# compare_text(c2, c3)"
   ]
  },
  {
   "cell_type": "code",
   "execution_count": null,
   "metadata": {
    "ExecuteTime": {
     "end_time": "2019-06-27T05:03:58.837186Z",
     "start_time": "2019-06-27T05:03:58.810259Z"
    }
   },
   "outputs": [],
   "source": [
    "'iesytwe'.split('?')"
   ]
  },
  {
   "cell_type": "code",
   "execution_count": null,
   "metadata": {
    "ExecuteTime": {
     "end_time": "2017-04-19T12:37:24.575834",
     "start_time": "2017-04-19T12:37:24.506704"
    }
   },
   "outputs": [],
   "source": [
    "\n",
    "# from unidiff import PatchSet\n",
    "# diff = urllib2.urlopen('https://github.com/matiasb/python-unidiff/pull/3.diff')\n",
    "# encoding = diff.headers.getparam('charset')\n",
    "# patch = PatchSet(diff, encoding=encoding)\n"
   ]
  },
  {
   "cell_type": "code",
   "execution_count": null,
   "metadata": {},
   "outputs": [],
   "source": []
  },
  {
   "cell_type": "code",
   "execution_count": null,
   "metadata": {},
   "outputs": [],
   "source": []
  },
  {
   "cell_type": "code",
   "execution_count": null,
   "metadata": {},
   "outputs": [],
   "source": []
  },
  {
   "cell_type": "code",
   "execution_count": null,
   "metadata": {},
   "outputs": [],
   "source": []
  },
  {
   "cell_type": "code",
   "execution_count": null,
   "metadata": {},
   "outputs": [],
   "source": []
  },
  {
   "cell_type": "code",
   "execution_count": null,
   "metadata": {},
   "outputs": [],
   "source": []
  },
  {
   "cell_type": "code",
   "execution_count": null,
   "metadata": {},
   "outputs": [],
   "source": []
  },
  {
   "cell_type": "code",
   "execution_count": null,
   "metadata": {},
   "outputs": [],
   "source": []
  },
  {
   "cell_type": "markdown",
   "metadata": {
    "heading_collapsed": true
   },
   "source": [
    "### 原 models test exec\n",
    "\n",
    "\n"
   ]
  },
  {
   "cell_type": "code",
   "execution_count": null,
   "metadata": {
    "hidden": true
   },
   "outputs": [],
   "source": [
    "\n",
    "'''\n",
    "####### #######  ###### #######\n",
    "   ##   ##      ##         ##\n",
    "   ##   ######   #####     ##\n",
    "   ##   ##           ##    ##\n",
    "   ##   ####### ######     ##\n",
    "'''\n",
    "\n",
    "def test_new_task():\n",
    "  # url = 'https://www.zhihu.com/question/30595784/answer/49194862'\n",
    "  # 如何看待许知远在青年领袖颁奖典礼上愤怒「砸场」？\n",
    "  url = 'https://www.zhihu.com/question/22316395/answer/100909780'\n",
    "  url = 'https://www.zhihu.com/question/47220155/answer/118154455'\n",
    "  url = 'https://www.zhihu.com/question/49962599/answer/118716273'\n",
    "  url = 'https://zhuanlan.zhihu.com/p/19837940'\n",
    "  url = 'https://zhuanlan.zhihu.com/p/20639779'\n",
    "  url = 'https://zhuanlan.zhihu.com/p/20153329'\n",
    "  url = 'https://zhuanlan.zhihu.com/p/21281864'\n",
    "  url = 'https://zhuanlan.zhihu.com/p/19964142'\n",
    "  task = Task.add(url=url)\n",
    "  print(task)\n",
    "  # task.watch()\n",
    "\n",
    "\n",
    "def test_readd_task():\n",
    "  url = 'http://www.zhihu.com/question/22513722/answer/21967185' # 火车票涨价\n",
    "  task = Task.add(url=url)\n",
    "  task = Task.add(url=url)\n",
    "  url = 'https://www.zhihu.com/question/30957313/answer/50266448' # 古典音乐\n",
    "  task = Task.add(url=url)\n",
    "  url = 'https://www.zhihu.com/question/40056948/answer/110794550' # 四万亿\n",
    "  task = Task.add(url=url)\n",
    "\n",
    "def test_seed_add_tasks():\n",
    "  urls = '''\n",
    "    https://www.zhihu.com/question/40305228/answer/86179116\n",
    "    https://www.zhihu.com/question/36466762/answer/85475145\n",
    "    https://www.zhihu.com/question/33246348/answer/86919689\n",
    "    https://www.zhihu.com/question/39906815/answer/88534869\n",
    "\n",
    "    https://www.zhihu.com/question/40700155/answer/89002644\n",
    "    https://www.zhihu.com/question/36380091/answer/84690117\n",
    "    https://www.zhihu.com/question/33246348/answer/86919689\n",
    "    https://www.zhihu.com/question/35254746/answer/90252213\n",
    "    https://www.zhihu.com/question/23618517/answer/89823915\n",
    "\n",
    "    https://www.zhihu.com/question/40677000/answer/87886574\n",
    "\n",
    "    https://www.zhihu.com/question/41373242/answer/91417985\n",
    "    https://www.zhihu.com/question/47275087/answer/106335325\n",
    "    https://www.zhihu.com/question/47275087/answer/106335325 买不起房是房价太高还是工资太低？\n",
    "    https://www.zhihu.com/question/36129534/answer/91921682  印度经济会在本世纪追上中国吗？\n",
    "    https://www.zhihu.com/question/22513722/answer/21967185  火车票涨价是否能解决春运问题？\n",
    "    https://www.zhihu.com/question/27820755/answer/107267228 裸辞后怎样解释以获工作机会？\n",
    "  '''\n",
    "  for url in datalines(urls):\n",
    "    url = url.split(' ')[0]\n",
    "    task = Task.add(url=url)\n",
    "    task | puts()\n",
    "\n",
    "\n",
    "\n",
    "def test_one_watch():\n",
    "  task = Task.select().order_by(-Task.id).get()\n",
    "  task | puts()\n",
    "  task.watch()\n",
    "\n",
    "def test_another_watch():\n",
    "  url = 'http://www.zhihu.com/question/22513722/answer/21967185' # 火车票涨价\n",
    "  task = Task.select().where(Task.url == url).get()\n",
    "  task | puts()\n",
    "  task.watch()\n",
    "\n",
    "\n",
    "def test_hot_answer():\n",
    "  url = 'http://www.zhihu.com/question/39288165/answer/110207560'\n",
    "  url = 'https://www.zhihu.com/question/50763374/answer/122822226'\n",
    "  url = 'https://www.zhihu.com/question/40910547/answer/123021503'\n",
    "  url = 'https://zhuanlan.zhihu.com/p/21478575'\n",
    "  url = 'https://www.zhihu.com/question/40103788/answer/124499334'\n",
    "  task = Task.add(url=url)\n",
    "  task.watch()\n",
    "\n",
    "\n",
    "  task.last_page.to_local_file(folder='test', fetch_images=False)\n",
    "\n",
    "\n",
    "\n",
    "def test_watch_all():\n",
    "  Task.multiple_watch(sleep_seconds=10, limit=4)\n",
    "\n",
    "\n",
    "def test_report():\n",
    "  Task.report()\n",
    "\n",
    "\n",
    "\n",
    "def test_to_local_file():\n",
    "  # page = Page.select().order_by(-Page.id).get()\n",
    "\n",
    "  # page = Page.select(Page.topic).distinct().where(Page.topic.contains('房')).limit(5)\n",
    "  # q = Page.select(Page.id).distinct()\n",
    "  # for p in q:\n",
    "  #   print(p)\n",
    "  query = (Page.select(Page, Task)\n",
    "           .join(Task)\n",
    "           .where(Page.author == 'chenqin')  # .where(Page.topic.contains('建筑'))\n",
    "           .group_by(Page.task)\n",
    "           .having(Page.watch_date == fn.MAX(Page.watch_date))\n",
    "           .limit(8800))\n",
    "  for page in query:\n",
    "    log(page.title)\n",
    "    # log(page.metadata)\n",
    "    # page.to_local_file(folder='chen', fetch_images=False)\n",
    "# test_to_local_file()\n",
    "\n",
    "def test_tools():\n",
    "  import pylon\n",
    "  pylon.generate_figlet('task', fonts=['space_op'])\n",
    "  pylon.generate_figlet('page', fonts=['space_op'])\n",
    "  pylon.generate_figlet('test', fonts=['space_op'])\n",
    "\n",
    "\n",
    "def test_load_json():\n",
    "  import json\n",
    "\n",
    "  print(json.loads(open('mockup_topic_answers.json', encoding='utf-8').read()))\n",
    "\n",
    "\n",
    "def test_banned_modes():\n",
    "  url = 'https://www.zhihu.com/question/40679967/answer/88310495'\n",
    "  # 政府推出开放小区政策的真正目的是什么？ 2201 孟德尔 回答建议修改：政治敏感\n",
    "  pass\n",
    "\n",
    "\n",
    "def test_query_task():\n",
    "  s = 'https://www.zhihu.com/question/48737226/answer/113036453'\n",
    "  s = 'https://www.zhihu.com/question/47220155/answer/118154455'\n",
    "  s = 'https://www.zhihu.com/question/49545583/answer/116529877'\n",
    "\n",
    "  t = Task.select().where(Task.url == s)\n",
    "  t = t.get()\n",
    "  log(t.title)\n",
    "  log(t.id)\n",
    "\n",
    "\n",
    "\n",
    "\n",
    "\n",
    "\n",
    "def test_explore():\n",
    "  # Tweet.select(fn.COUNT(Tweet.id)).where(Tweet.user == User.id)\n",
    "  query = (Task\n",
    "           .select(Task, fn.COUNT(Page.id).alias('fetched_count'))\n",
    "           .join(Page)\n",
    "           .group_by(Task.title)\n",
    "           .limit(50)\n",
    "           .offset(200)\n",
    "           .order_by(fn.COUNT(Page.id).desc()))\n",
    "\n",
    "  for task in query:\n",
    "    log(task.title + ' : ' + str(task.fetched_count) + '  task_id ' + str(task.id))\n",
    "\n",
    "\n",
    "\n",
    "\n",
    "def test_explore_watching_results_diff():\n",
    "\n",
    "  s = '''\n",
    "  # 美国是不是正在为瓦解中国做准备？ - 张俊麒的回答 : 16  task_id 46\n",
    "  # 为什么很少看到患者砍莆田系医生的报道？ - 玄不救非氪不改命的回答 : 3  task_id 196\n",
    "  # 为什么很难证伪马克思主义理论？ - 玄不救非氪不改命的回答 : 3  task_id 360\n",
    "  # 为什么快速浏览一段内容的时候，很容易看到自己感兴趣的部分？ - 采铜的回答 : 3  task_id 742\n",
    "  # 为什么拿广州恒大淘宝队与中国国家男子足球队做对比？ - 玄不救非氪不改命的回答 : 3  task_id 492\n",
    "  # 如何看待里约奥运陈欣怡药检呈阳性反应？ - 玄不救非氪不改命的回答 : 3  task_id 2393\n",
    "  # 为什么厌恶「国粉」的知乎用户远多于厌恶「毛粉」的？ - chenqin的 : 3  task_id 3313\n",
    "  # 2016 年中国的经济状况很差吗？真实状况是怎样的？ - 垒起善城堡的积木 : 3 task_id 2387\n",
    "  # 如何看待2016年7月人民币贷款增幅里9.8成为房贷？ - 匿名用户的回答 : 3 task_id 2386\n",
    "\n",
    "\n",
    "\n",
    "\n",
    "  # 怎样评价「游戏不汉化就差评」的行为？ - cOMMANDO的回答 : 9  task_id 4471\n",
    "  # 既然有报道说人类的基因片段只占DNA序列总长的不到10%，那么这几个问题怎么解答？ - Mandelbrot的回答 : 9  task_id 676\n",
    "  # 智商低的人真的不适合玩需要动脑子的游戏么？ - 匿名用户的回答 : 9  task_id 3461\n",
    "  # 暴雪，Valve，拳头，谁更厉害？ - cOMMANDO的回答 : 9  task_id 2597\n",
    "  # 有一个稀有的姓是一种怎样的体验？ - 冷哲的回答 : 9  task_id 1041\n",
    "  # 有什么影视作品是当时演员名气不大，现在看来是全明星阵容出演？ - 玄不救非氪不改命的回答 : 9  task_id 484\n",
    "  # 有关白龙尾岛的历史，哪些是有据可查的？ - 书生的回答 : 9  task_id 712\n",
    "  # 有哪些「智商税」？ - 谢熊猫君的回答 : 9  task_id 2406\n",
    "  # 有哪些令人拍案叫绝的临场反应？ - 大盗贼霍老爷的回答 : 9  task_id 4107\n",
    "  # 有哪些可怕的故事？ - 大盗贼霍老爷的回答 : 9  task_id 4137\n",
    "  # 有哪些长得比较逆天的动物？ - Mandelbrot的回答 : 9  task_id 648\n",
    "  # 有文化有多可怕？ - 寺主人的回答 : 9  task_id 5787\n",
    "  # 机器人教育这种不考试、以娱乐为主的教育对于中小学生及幼儿的意义何在？ - 冷哲的回答 : 9  task_id 1015\n",
    "  # 毛花三年打败蒋然后走三十年弯路的目的，都是为后三十年的改革开放走资、大国崛起做铺垫扫平道路的么？ - 书生的回答 : 9  task_id 99\n",
    "  # 水旱蝗汤中的汤指的到底是谁？ - 书生的回答 : 9  task_id 104\n",
    "  # 河南的地理位置那么好，为什么经济落后？ - 大盗贼霍老爷的回答 : 9  task_id 4105\n",
    "  # 為什麼蒋介石被称为运输大队长？求详? - 书生的回答 : 9  task_id 701\n",
    "  # 玩《狼人杀》时你有什么屡试不爽的秘技诀窍？ - 汪诩文的回答 : 9  task_id 3526\n",
    "\n",
    "  现在网络上很多人黑一些伟人，比如说周半期，黑鲁迅。他们是什么心态？ - 书生的回答 : 9  task_id 97\n",
    "  看美剧、英剧学英语有什么有效的方法吗？ - 采铜的回答 : 9  task_id 787\n",
    "  章鱼的智商到底有多高，为什么有人说它们的智商可以统治世界? - Mandelbrot的回答 : 9  task_id 588\n",
    "  类似 AlphaGo 的人工智能在游戏王、万智牌等卡牌游戏中胜率如何？ - 莫名的回答 : 9  task_id 3724\n",
    "  给 59 分强行不给过的老师是一种怎么样的存在？ - chenqin的回答 : 9  task_id 3317\n",
    "  网络上有哪些广为流传的「历史真相」其实是谣言？ - 马前卒的回答 : 9  task_id 5089\n",
    "  美国南北战争的真正原因是什么？ - talich的回答 : 9  task_id 2571\n",
    "  美国发动伊拉克战争的核心原因到底是什么？ - 冷哲的回答 : 9  task_id 1332\n",
    "  美国最高法院大法官 Scalia 的去世将会带来怎样的影响？ - talich的回答 : 9  task_id 4423\n",
    "  美国有人在开车在路上故意把川普的竞选宣传牌碾倒，如何评价这种因为不同政见而破坏对方财物的行为？ - talich的回答 : 9  task_id 4412\n",
    "  装逼成功是怎样一种体验？ - 大盗贼霍老爷的回答 : 9  task_id 4048\n",
    "  谁最应该被印在人民币上面？ - 蜂鸟的回答 : 9  task_id 2274\n",
    "  豆瓣的核心用户都有什么特点？ - 十一点半的回答 : 9  task_id 84\n",
    "  赌场有哪些看似不起眼，实则心机颇深的设计？ - 第一喵的回答 : 9  task_id 3158\n",
    "  赌场有哪些看似不起眼，实则心机颇深的设计？ - 肥肥猫的回答 : 9  task_id 3151\n",
    "  雷锋是个什么样的人，怎么客观评价雷锋？ - 书生的回答 : 9  task_id 96\n",
    "  鲁迅和秋瑾的关系好吗？ - 书生的回答 : 9  task_id 91\n",
    "  1927 年蒋介石为什么要清党？ - 冷哲的回答 : 8  task_id 1415\n",
    "  1949年以后的中国本土设计的建筑中，哪些能称得上是有思想的好建筑？ - Chilly的回答 : 8  task_id 3104\n",
    "  2015 年初，中国制造业形势有多严峻？ - 稻可道 稻子的稻的回答 : 8  task_id 2239\n",
    "  2016 年，中国房地产泡沫是否会在一两年内破灭，从而引发金融危机？ - Bee Mad的回答 : 8  task_id 2104\n",
    "  2016 年，中国房地产泡沫是否会在一两年内破灭，从而引发金融危机？ - 君临的回答 : 8  task_id 2205\n",
    "  2016 年，中国房地产泡沫是否会在一两年内破灭，从而引发金融危机？ - 小马的回答 : 8  task_id 5752\n",
    "  ISIS 是一个什么样的组织？它的资金是哪来的？ - 罗晓川的回答 : 8  task_id 39\n",
    "  Lambda 表达式有何用处？如何使用？ - 涛吴的回答 : 8  task_id 2008\n",
    "  Signal Weighting---基于因子IC的因子权重优化模型 - 陈颖的专栏 量化哥 : 8  task_id 6007\n",
    "  Smart Beta 投资方法 - 陈颖的专栏 量化哥 : 8  task_id 6017\n",
    "  ofo 获滴滴数千万美元C轮投资，然后呢？ - 曲凯的专栏 创投方法论 : 8  task_id 5656\n",
    "  《文明 6 》中的背景音乐都有什么来历？ - PenguinKing的回答 : 8  task_id 6250\n",
    "  《权力的游戏》你觉得最可怜的人是谁？ - 苏鲁的回答 : 8  task_id 4576\n",
    "  《蒋介石日记》和《毛泽东选集》差距有多大？ - 马前卒的回答 : 8  task_id 5355\n",
    "  「心灵鸡汤」式的文章错在哪？ - 赵皓阳的回答 : 8  task_id 584\n",
    "  '''\n",
    "\n",
    "  for line in datalines(s):\n",
    "    task_id = int(line.split('task_id')[-1][1:])\n",
    "    # log(task_id)\n",
    "    task = Task.select().where(Task.id == task_id).get()\n",
    "    log(task)\n",
    "    # log(task.pages)\n",
    "    # log(task.last_page)\n",
    "    contents = [fix_in_compare(p.content) for p in task.pages]\n",
    "    # questions = [fix_in_compare(p.question) for p in task.pages]\n",
    "    titles = [p.title for p in task.pages]\n",
    "\n",
    "    # metas = [p.metadata for p in task.pages]\n",
    "    # for meta in metas:\n",
    "    #   log(meta)\n",
    "    # compare_text_sequence(titles, label='titles')\n",
    "    # compare_text_sequence(questions, label='questions')\n",
    "    compare_text_sequence(contents, label='contents')\n",
    "\n",
    "    log('\\n\\n\\n')\n",
    "\n",
    "\n",
    "\n",
    "def fix_in_compare(text):\n",
    "  import re\n",
    "  img_reg = r'\\n*\\!\\[\\]\\((https?://pic[^()]+?(\\.jpg|\\.png|\\.gif))\\)\\n*'\n",
    "  pattern_img_start_inline = re.compile(img_reg)\n",
    "  def replace_img_start_inline(mat):\n",
    "    # 保证生成的 *.md 图片在新的一行\n",
    "    s = mat.group(0)\n",
    "    while not s.startswith('\\n\\n'):\n",
    "      s = '\\n' + s\n",
    "    while not s.endswith('\\n\\n'):\n",
    "      s = s + '\\n'\n",
    "    return s\n",
    "\n",
    "  text = pattern_img_start_inline.sub(replace_img_start_inline, text)\n",
    "\n",
    "  pattern_img_https = re.compile(r'http://pic(\\d)\\.zhimg\\.com')\n",
    "  text = pattern_img_https.sub(r'https://pic\\1.zhimg.com', text)\n",
    "  return text\n",
    "\n",
    "\n",
    "def compare_text(t1, t2, prefix=''):\n",
    "  import difflib\n",
    "  changes = [l for l in difflib.ndiff(t1.split('\\n'), t2.split('\\n')) if l.startswith(('+ ', '- '))]\n",
    "  for change in changes:\n",
    "    log(prefix + change)\n",
    "  return changes\n",
    "\n",
    "\n",
    "def compare_text_sequence(texts, label=''):\n",
    "  from pylon import dedupe\n",
    "  from pylon import windows\n",
    "\n",
    "  texts = list(dedupe(texts))\n",
    "  if len(texts) > 1:\n",
    "    log('detect changed {}'.format(label))\n",
    "    for t1, t2 in windows(texts, length=2, overlap=1):\n",
    "      compare_text(t1, t2, prefix='  ')\n",
    "  else:\n",
    "    log('nothing changed {}'.format(label))\n",
    "\n",
    "\n",
    "\n",
    "def test_explore_voteup_thanks():\n",
    "  '''感谢赞同比跟文章质量没啥关系'''\n",
    "  query = (Page.select(Page, Task)\n",
    "           .join(Task)\n",
    "           .where((Task.page_type == 'zhihu_answer'))\n",
    "           .group_by(Page.task)\n",
    "           .having(Page.watch_date == fn.MAX(Page.watch_date))\n",
    "           .limit(50)\n",
    "           .order_by(fn.Random())\n",
    "           )\n",
    "\n",
    "  def thanks_voteup_ratio(page):\n",
    "    thanks = int(page.metadata.split('thanks: ')[1].split(' ')[0])\n",
    "    voteup = int(page.metadata.split('voteup: ')[1].split(' ')[0])\n",
    "    return round(thanks / voteup, 3)\n",
    "\n",
    "  # for page in query:\n",
    "  #   log(page.title)\n",
    "\n",
    "  pages = sorted(query, key=thanks_voteup_ratio)\n",
    "  for page in pages:\n",
    "    log(page.title)\n",
    "    log(repr(page.content[:500]))\n",
    "    log(thanks_voteup_ratio(page))\n",
    "    log('-----------------\\n\\n\\n')\n"
   ]
  },
  {
   "cell_type": "code",
   "execution_count": null,
   "metadata": {
    "hidden": true
   },
   "outputs": [],
   "source": []
  },
  {
   "cell_type": "code",
   "execution_count": null,
   "metadata": {
    "hidden": true
   },
   "outputs": [],
   "source": []
  },
  {
   "cell_type": "markdown",
   "metadata": {
    "ExecuteTime": {
     "end_time": "2019-06-27T07:39:48.453813Z",
     "start_time": "2019-06-27T07:39:48.285298Z"
    }
   },
   "source": [
    "### Test"
   ]
  },
  {
   "cell_type": "code",
   "execution_count": null,
   "metadata": {
    "ExecuteTime": {
     "end_time": "2019-07-04T08:07:01.922849Z",
     "start_time": "2019-07-04T08:07:01.359115Z"
    }
   },
   "outputs": [],
   "source": [
    "from collector import Collector\n",
    "\n",
    "col = Collector.load(file='config.yaml')"
   ]
  },
  {
   "cell_type": "code",
   "execution_count": null,
   "metadata": {
    "ExecuteTime": {
     "end_time": "2019-06-27T07:55:41.415503Z",
     "start_time": "2019-06-27T07:55:41.350674Z"
    }
   },
   "outputs": [],
   "source": [
    "col.all()"
   ]
  },
  {
   "cell_type": "code",
   "execution_count": null,
   "metadata": {
    "ExecuteTime": {
     "end_time": "2019-06-27T07:55:42.831570Z",
     "start_time": "2019-06-27T07:55:42.760345Z"
    }
   },
   "outputs": [],
   "source": [
    "col.add('https://www.zhihu.com/question/49545583/answer/116529877')"
   ]
  },
  {
   "cell_type": "code",
   "execution_count": null,
   "metadata": {},
   "outputs": [],
   "source": [
    "col.scan()"
   ]
  },
  {
   "cell_type": "code",
   "execution_count": null,
   "metadata": {},
   "outputs": [],
   "source": [
    "collector.add(weixin_page_url)\n",
    "collector.add(zhihu_column_url)\n",
    "collector.add(zhihu_anwser_id=xxx)\n",
    "collector.add(zhihu_author_id=xxx)\n",
    "collector.add(column_id=xxx)\n",
    "\n",
    "collector.save(file=xxx)\n",
    "...\n",
    "collector.rescan()\n",
    "collector.save(file=xxx)\n",
    "collector = Collector.load(file=xxx.yaml)"
   ]
  },
  {
   "cell_type": "code",
   "execution_count": null,
   "metadata": {},
   "outputs": [],
   "source": []
  },
  {
   "cell_type": "code",
   "execution_count": null,
   "metadata": {},
   "outputs": [],
   "source": []
  },
  {
   "cell_type": "code",
   "execution_count": null,
   "metadata": {},
   "outputs": [],
   "source": []
  },
  {
   "cell_type": "code",
   "execution_count": 100,
   "metadata": {
    "ExecuteTime": {
     "end_time": "2019-07-17T09:44:28.155011Z",
     "start_time": "2019-07-17T09:44:27.304691Z"
    }
   },
   "outputs": [
    {
     "name": "stdout",
     "output_type": "stream",
     "text": [
      "loaded config_data option lister: \n",
      "{'enabled': True,\n",
      " 'limit': 200,\n",
      " 'max_cycle': '15day',\n",
      " 'min_cycle': '10minutes',\n",
      " 'weight': 0.5,\n",
      " 'zhihu_min_voteup': 1000}\n",
      "loaded config_data option page: \n",
      "{'enabled': True, 'max_cycle': '1day', 'min_cycle': '10minutes', 'weight': 0.5}\n",
      "loaded config_data lister tasks 1\n",
      "loaded config_data page tasks 0\n",
      "Watcher.add_tasks result status , Counter({'added': 1})\n",
      "Watcher.add_tasks result status , Counter()\n"
     ]
    }
   ],
   "source": [
    "from watcher import Watcher\n",
    "# w = Watcher(r'D:\\Coding\\TheNorthRemembers\\test\\旗舰评论——战略航空军元帅的旗舰')\n",
    "w = Watcher(r'D:\\Coding\\TheNorthRemembers\\test\\知乎 - 温酒的回答')\n",
    "# w = Watcher(r'D:\\Coding\\TheNorthRemembers\\test\\经济')\n",
    "# w = Watcher(r'D:\\Coding\\TheNorthRemembers\\test\\HelloFlask')\n"
   ]
  },
  {
   "cell_type": "code",
   "execution_count": 99,
   "metadata": {
    "ExecuteTime": {
     "end_time": "2019-07-17T09:43:18.898532Z",
     "start_time": "2019-07-17T09:43:18.781845Z"
    }
   },
   "outputs": [
    {
     "data": {
      "text/plain": [
       "OrderedDict([('enabled', True),\n",
       "             ('max_cycle', '15day'),\n",
       "             ('min_cycle', '10minutes'),\n",
       "             ('zhihu_min_voteup', 1000),\n",
       "             ('weight', 0.5),\n",
       "             ('limit', 200),\n",
       "             ('folder', 'D:\\\\Coding\\\\TheNorthRemembers\\\\test\\\\知乎 - 温酒的回答'),\n",
       "             ('url', 'https://www.zhihu.com/people/warmwine/answers'),\n",
       "             ('tip', 'wenjiu answers')])"
      ]
     },
     "execution_count": 99,
     "metadata": {},
     "output_type": "execute_result"
    }
   ],
   "source": [
    "t = w.tasks\n",
    "t[0]\n",
    "t[0].option\n"
   ]
  },
  {
   "cell_type": "code",
   "execution_count": null,
   "metadata": {
    "ExecuteTime": {
     "start_time": "2019-07-17T09:44:29.742Z"
    },
    "scrolled": true
   },
   "outputs": [
    {
     "name": "stdout",
     "output_type": "stream",
     "text": [
      "Watcher.watch should fetch 1 lister_type tasks\n",
      "\n",
      "Task.run lister request: <Task #2403225285520> https://www.zhihu.com/people/warmwine/answers (ver. 0)\n",
      "    wenjiu answers\n",
      "    task add: just now, last watch: None, last change None, next watch: just now \n",
      "request_ZhihuAnswerLister author_id, warmwine\n",
      "detect new task: https://www.zhihu.com/question/332684032/answer/749155200\n",
      "                 孩子考到了约定的成绩，可我不想兑现给他游戏充值的许诺了怎么办? - 温酒的回答\n",
      "detect new task: https://www.zhihu.com/question/333156154/answer/741185557\n",
      "                 怎样利用负面反馈让孩子对电子游戏失去兴趣？ - 温酒的回答\n",
      "detect new task: https://www.zhihu.com/question/320234325/answer/730857611\n",
      "                 日本崛起的时候有人拒绝996吗？ - 温酒的回答\n",
      "detect new task: https://www.zhihu.com/question/330392781/answer/729466774\n",
      "                 女朋友一直给我强调她是女的，一直要给我灌输女权至上，我该怎么反驳她，并让她意识到这种问题？ - 温酒的回答\n",
      "detect new task: https://www.zhihu.com/question/60920848/answer/715262412\n",
      "                 男人怎样才算真正尊重女性？ - 温酒的回答\n",
      "detect new task: https://www.zhihu.com/question/326486872/answer/713905795\n",
      "                 如何看待上海新推行的垃圾分类办法？ - 温酒的回答\n",
      "detect new task: https://www.zhihu.com/question/278594044/answer/713809701\n",
      "                 穷人跨越阶级有多难？ - 温酒的回答\n",
      "detect new task: https://www.zhihu.com/question/264262697/answer/704614723\n",
      "                 华为给职场带来了哪些不良风气？ - 温酒的回答\n",
      "detect new task: https://www.zhihu.com/question/327417804/answer/702225507\n",
      "                 如何看待微博帐号「CHERRY 中国」六一儿童节官方抽奖活动被批评为性别歧视引发的女权相关争议？ - 温酒的回答\n",
      "detect new task: https://www.zhihu.com/question/323562525/answer/696331468\n",
      "                 如何看待 10 岁女童举吊瓶参观衡水中学，爸爸：「发烧也要来，一定要考上！」？ - 温酒的回答\n",
      "detect new task: https://www.zhihu.com/question/20823580/answer/692924716\n",
      "                 悲剧是否比喜剧有更高的价值？ - 温酒的回答\n",
      "detect new task: https://www.zhihu.com/question/325323495/answer/691586935\n",
      "                 有没有演技和流量并存的演员? - 温酒的回答\n",
      "detect new task: https://www.zhihu.com/question/324587600/answer/691195620\n",
      "                 在校学生该给女友买贵重首饰吗？ - 温酒的回答\n",
      "detect new task: https://www.zhihu.com/question/325177150/answer/689034200\n",
      "                 如何看待因美国禁令华为手机将被暂停谷歌移动服务支持？将产生多大范围的影响？ - 温酒的回答\n",
      "detect new task: https://www.zhihu.com/question/321278815/answer/683728639\n",
      "                 中国的病态房价什么时候能终结？ - 温酒的回答\n",
      "detect new task: https://www.zhihu.com/question/323576131/answer/678105834\n",
      "                 你打的第一局《和平精英》手游是什么体验？ - 温酒的回答\n",
      "detect new task: https://www.zhihu.com/question/313514734/answer/676545093\n",
      "                 马化腾与马云的格局有多大差距？ - 温酒的回答\n",
      "detect new task: https://www.zhihu.com/question/322937756/answer/672939227\n",
      "                 如何评价文章《乡村的孩子，我为什么建议你读个博士》? - 温酒的回答\n",
      "detect new task: https://www.zhihu.com/question/317633808/answer/663900274\n",
      "                 华为P30是否在摄像功能上投入过多？ - 温酒的回答\n",
      "detect new task: https://www.zhihu.com/question/320073567/answer/662680151\n",
      "                 资本家已经拥有大量资产了，为什么还要剥削无产阶级？ - 温酒的回答\n",
      "detect new task: https://www.zhihu.com/question/320787010/answer/661462742\n",
      "                 当大家批判 996 的时候，如何评价中小学生的作息？ - 温酒的回答\n",
      "detect new task: https://www.zhihu.com/question/318696303/answer/655659438\n",
      "                 各位如果不选择 996 会怎样呢？ - 温酒的回答\n",
      "detect new task: https://www.zhihu.com/question/308375308/answer/653875088\n",
      "                 如何看待华为工程师 22 月无休后猝死的传闻，事件真相如何？ - 温酒的回答\n",
      "detect new task: https://www.zhihu.com/question/319583896/answer/652892158\n",
      "                 京东近期发生什么了，为什么裁员降薪？ - 温酒的回答\n",
      "detect new task: https://www.zhihu.com/question/29563681/answer/651852506\n",
      "                 身在中国，有哪些好处是欧美国家没有的？ - 温酒的回答\n",
      "detect new task: https://www.zhihu.com/question/317870803/answer/645680267\n",
      "                 腾讯游戏达到任天堂这种水准还需要多久？ - 温酒的回答\n",
      "detect new task: https://www.zhihu.com/question/276539913/answer/635649715\n",
      "                 毒品会将美国逼入绝境吗？ - 温酒的回答\n",
      "detect new task: https://www.zhihu.com/question/317683562/answer/634449673\n",
      "                 如何看待目前最火的 GitHub 项目 996.icu ？ - 温酒的回答\n",
      "detect new task: https://www.zhihu.com/question/282674478/answer/633531296\n",
      "                 为什么有些人在steam一买就是上千上万块的游戏，然而玩腾讯游戏充一点就不乐意？ - 温酒的回答\n",
      "detect new task: https://www.zhihu.com/question/316171575/answer/633485475\n",
      "                 中国投入 4300 亿用于植树的战略起到了哪些成效？目前带来了哪些影响？ - 温酒的回答\n",
      "detect new task: https://www.zhihu.com/question/317112395/answer/633138332\n",
      "                 为什么武大看樱花不能穿和服，穿和服会被保安请出去？ - 温酒的回答\n",
      "detect new task: https://www.zhihu.com/question/315887348/answer/628206120\n",
      "                 网易是否毁了暴雪游戏？ - 温酒的回答\n",
      "detect new task: https://www.zhihu.com/question/315464328/answer/627438318\n",
      "                 如何从反驳「高配置电脑和开挂一样，都会破坏游戏公平性」的观点？ - 温酒的回答\n",
      "detect new task: https://www.zhihu.com/question/312019918/answer/627117750\n",
      "                 作为 IT 行业的过来人，你有什么话想对后辈说的？ - 温酒的回答\n",
      "detect new task: https://www.zhihu.com/question/63629590/answer/626731329\n",
      "                 如果中国从一开始就没有成为联合国五常之一，那么中国会发展成什么样子的呢？和如今的中国相比会如何？ - 温酒的回答\n",
      "detect new task: https://www.zhihu.com/question/316154921/answer/625631070\n",
      "                 为什么篮球迷对蔡徐坤和杨超越是两种态度? - 温酒的回答\n",
      "detect new task: https://www.zhihu.com/question/315540063/answer/622464396\n",
      "                 如何看待京东最近提出的 995/996 工作时间制？ - 温酒的回答\n",
      "detect new task: https://www.zhihu.com/question/266949969/answer/621489151\n",
      "                 为什么现在亚洲人的审美趋向于欧美人？ - 温酒的回答\n",
      "detect new task: https://www.zhihu.com/question/276702466/answer/610286124\n",
      "                 灭霸的想法到底对不对？ - 温酒的回答\n",
      "detect new task: https://www.zhihu.com/question/20151786/answer/608480162\n",
      "                 晚清的 GDP 世界第一，是日本的 5 倍，为什么还打不赢日本？ - 温酒的回答\n",
      "detect new task: https://www.zhihu.com/question/32256535/answer/605304903\n",
      "                 如何评价「不是老人变坏了，而是坏人变老了」这种说法？ - 温酒的回答\n",
      "detect new task: https://www.zhihu.com/question/312524722/answer/604387832\n",
      "                 如何评价有些人认为 ZARA 丑化中国模特? - 温酒的回答\n",
      "detect new task: https://www.zhihu.com/question/312793089/answer/603305947\n",
      "                 为什么同样是科幻电影，上海堡垒还没上映就差评一片，仅仅是因为主角么？ - 温酒的回答\n",
      "detect new task: https://www.zhihu.com/question/312457250/answer/601320070\n",
      "                 看见鹿晗就给《上海堡垒》打一星跟看见吴京就给《流浪地球》打一星有什么本质区别？ - 温酒的回答\n",
      "detect new task: https://www.zhihu.com/question/311300181/answer/596774979\n",
      "                 如何评价《流浪地球》豆瓣电影评分跌破8分？ - 温酒的回答\n",
      "detect new task: https://www.zhihu.com/question/30214063/answer/585671744\n",
      "                 东亚人为什么活得累？ - 温酒的回答\n",
      "detect new task: https://www.zhihu.com/question/306157834/answer/584465173\n",
      "                 如何评价国产动画片《领风者》? - 温酒的回答\n",
      "detect new task: https://www.zhihu.com/question/266688858/answer/559119371\n",
      "                 和上海人一起工作要注意什么？ - 温酒的回答\n",
      "detect new task: https://www.zhihu.com/question/29451127/answer/532514636\n",
      "                 上海和北京，谁是中国第一城市？ - 温酒的回答\n",
      "detect new task: https://www.zhihu.com/question/302058670/answer/529869019\n",
      "                 如何看待王思聪抽奖 113 万，112 位中奖者资料均为女性仅 1 人为男性？抽奖系统可能有哪些规则？ - 温酒的回答\n",
      "detect new task: https://www.zhihu.com/question/299420103/answer/527432148\n",
      "                 普通美国人是怎么做到养一大家子人的？ - 温酒的回答\n",
      "detect new task: https://www.zhihu.com/question/65665713/answer/513352115\n",
      "                 如果未来生孩子不用女性，女性这一群体会作何反应？ - 温酒的回答\n",
      "detect new task: https://www.zhihu.com/question/297359191/answer/508242975\n",
      "                 你能接受自己的孩子跟妻子的姓吗？ - 温酒的回答\n",
      "detect new task: https://www.zhihu.com/question/22503470/answer/507476409\n",
      "                 印度与中国都面临强大的人口压力，为什么中国实行了计划生育，而印度没有相关政策？ - 温酒的回答\n",
      "detect new task: https://www.zhihu.com/question/65029890/answer/503778541\n",
      "                 什么叫学习能力？什么是真正的努力？ - 温酒的回答\n",
      "detect new task: https://www.zhihu.com/question/294198631/answer/498543392\n",
      "                 为华为工作几年之后华为会卸磨杀驴是真的吗？ - 温酒的回答\n",
      "detect new task: https://www.zhihu.com/question/64863386/answer/497693003\n",
      "                 真实的韩国人民生活水平是什么样子？ - 温酒的回答\n",
      "detect new task: https://www.zhihu.com/question/294280449/answer/489937626\n",
      "                 如何评价柳传志称年轻人第一份工作不要去投行，这样不扎实？ - 温酒的回答\n",
      "detect new task: https://www.zhihu.com/question/287579869/answer/487607939\n",
      "                 为何现在抗日影视剧中往往有「鬼子侮辱汉奸老婆」的情节？ - 温酒的回答\n",
      "detect new task: https://www.zhihu.com/question/292712294/answer/485045106\n",
      "                 为什么会出现“少年娘，则中国娘”的言论？ - 温酒的回答\n",
      "detect new task: https://www.zhihu.com/question/264237428/answer/480043094\n",
      "                 程序员能纯靠技术渡过中年危机吗？ - 温酒的回答\n",
      "detect new task: https://www.zhihu.com/question/35451060/answer/479852296\n",
      "                 第一次海湾战争后，中国军队的反应如何？ - 温酒的回答\n",
      "detect new task: https://www.zhihu.com/question/268859387/answer/479157300\n",
      "                 如何看待2020新高考改革？ - 温酒的回答\n",
      "detect new task: https://www.zhihu.com/question/291121578/answer/475004278\n",
      "                 自如、相寓等北京中介承诺不涨租金，并拿出 12 万套存量房源的新闻，说明了哪些问题？ - 温酒的回答\n"
     ]
    },
    {
     "name": "stdout",
     "output_type": "stream",
     "text": [
      "detect new task: https://www.zhihu.com/question/50101909/answer/468687701\n",
      "                 中年男士在想什么？ - 温酒的回答\n",
      "detect new task: https://www.zhihu.com/question/35025502/answer/466956536\n",
      "                 程序员年龄增大后的职业出路是什么？ - 温酒的回答\n",
      "detect new task: https://www.zhihu.com/question/288935715/answer/465280387\n",
      "                 如何看待异烟肼毒狗的行为？ - 温酒的回答\n",
      "detect new task: https://www.zhihu.com/question/266339330/answer/461629896\n",
      "                 普京的权力基础是什么？ - 温酒的回答\n",
      "detect new task: https://www.zhihu.com/question/287038344/answer/459281176\n",
      "                 拼多多上市意味着什么？未来将如何发展？ - 温酒的回答\n",
      "detect new task: https://www.zhihu.com/question/29295145/answer/458689023\n",
      "                 日本有哪些糟糕之处？ - 温酒的回答\n",
      "detect new task: https://www.zhihu.com/question/274370668/answer/457879224\n",
      "                 中国人口未来有减少的趋势，而且目前的房产就够30亿人住了。两个问题，未来房价还能涨多少？还能涨多久？ - 温酒的回答\n",
      "detect new task: https://www.zhihu.com/question/287656023/answer/457483021\n",
      "                 如何看待斗鱼主播陈一发被曝出调侃南京大屠杀等黑历史？ - 温酒的回答\n",
      "detect new task: https://www.zhihu.com/question/38989667/answer/456688244\n",
      "                 印度真的有部分中国新闻上说的那么落后吗？ - 温酒的回答\n",
      "detect new task: https://www.zhihu.com/question/54976747/answer/453304423\n",
      "                 苏联是一个伟大的国家吗？为什么？ - 温酒的回答\n",
      "detect new task: https://www.zhihu.com/question/284915562/answer/451375114\n",
      "                 穷人和富人会进化为两种生物么？有生殖隔离的那种？ - 温酒的回答\n",
      "detect new task: https://www.zhihu.com/question/286255948/answer/450733628\n",
      "                 为什么很多公司都喜欢不顾成本的让员工加班？ - 温酒的回答\n",
      "detect new task: https://www.zhihu.com/question/286536197/answer/450503671\n",
      "                 如何看待深圳自闭症儿童家庭入驻公租房被其他业主抗议，家庭成员个人隐私信息被曝光一事？ - 温酒的回答\n",
      "detect new task: https://www.zhihu.com/question/284789414/answer/443607659\n",
      "                 如何评价浙江一考生考上知名大学后险因其父失信行为无法录取？ - 温酒的回答\n",
      "detect new task: https://www.zhihu.com/question/284737508/answer/439625139\n",
      "                 如何看待11个姐姐凑钱给弟弟买房子结婚？ - 温酒的回答\n",
      "detect new task: https://www.zhihu.com/question/282906593/answer/438029665\n",
      "                 富二代有哪些身不由己的事情？ - 温酒的回答\n",
      "detect new task: https://www.zhihu.com/question/21370608/answer/437939988\n",
      "                 靠工资在北京买房现实吗？ - 温酒的回答\n",
      "detect new task: https://www.zhihu.com/question/271547749/answer/437864380\n",
      "                 究竟要多努力才能上清北？ - 温酒的回答\n",
      "detect new task: https://www.zhihu.com/question/50077611/answer/432495080\n",
      "                 中国怎样才能提高生育率？ - 温酒的回答\n",
      "detect new task: https://www.zhihu.com/question/282992651/answer/429170849\n",
      "                 在 vivo NEX 上用 QQ浏 览器搜索携程旅行网时，前置摄像头有弹出缩回的动作说明了什么？ - 温酒的回答\n",
      "detect new task: https://www.zhihu.com/question/270267760/answer/428458853\n",
      "                 月薪三千是否就失去了享受生活的权利？ - 温酒的回答\n",
      "detect new task: https://www.zhihu.com/question/281973655/answer/427870651\n",
      "                 如何评价宁波绿衣服大妈捡到iPhone手机不还失主还要价2000，谈判破裂直接摔手机的行为？ - 温酒的回答\n",
      "detect new task: https://www.zhihu.com/question/40310526/answer/425688266\n",
      "                 大家如何看待经常去夜店的女孩子？ - 温酒的回答\n",
      "detect new task: https://www.zhihu.com/question/268979915/answer/416669339\n",
      "                 现在的 90 后是否都不愿意讨好领导？ - 温酒的回答\n",
      "detect new task: https://www.zhihu.com/question/280280013/answer/416576516\n",
      "                 如何看待被扣发工资的快递小哥哭诉刘强东的回应是对他的侮辱？ - 温酒的回答\n",
      "detect new task: https://www.zhihu.com/question/65607751/answer/414713337\n",
      "                 刚工作年轻人买不起房，有哪些应对策略和建议？ - 温酒的回答\n",
      "detect new task: https://www.zhihu.com/question/37106162/answer/411615206\n",
      "                 为什么有人的人生跟开了挂一样？ - 温酒的回答\n",
      "detect new task: https://www.zhihu.com/question/279084672/answer/405713157\n",
      "                 如果你遇上更好看、优秀、价值匹配的人，会离开现任吗，为什么？ - 温酒的回答\n",
      "detect new task: https://www.zhihu.com/question/278159606/answer/404407064\n",
      "                 当老板或上司问你忙不忙的时候，你会怎么回答？ - 温酒的回答\n",
      "detect new task: https://www.zhihu.com/question/271773779/answer/402372573\n",
      "                 郭德纲是怎样从一贫如洗到如今的富甲一方的，转折点在什么时候？ - 温酒的回答\n",
      "detect new task: https://www.zhihu.com/question/266215145/answer/400587936\n",
      "                 国内大平台的《绝地求生》主播99%都开挂作弊过是真事吗？ - 温酒的回答\n",
      "detect new task: https://www.zhihu.com/question/278108330/answer/400577712\n",
      "                 如何看待论调「所谓稳定不过是在浪费生命」？ - 温酒的回答\n",
      "detect new task: https://www.zhihu.com/question/275088018/answer/400252742\n",
      "                 郭靖是天才还是蠢才？ - 温酒的回答\n",
      "detect new task: https://www.zhihu.com/question/41569811/answer/400087439\n",
      "                 为什么女生城府深就会被骂心机女，而男生却被称为有谋略？ - 温酒的回答\n",
      "detect new task: https://www.zhihu.com/question/24854476/answer/398838003\n",
      "                 为什么甲乙方的审美有差异？ - 温酒的回答\n",
      "detect new task: https://www.zhihu.com/question/277495410/answer/394199050\n",
      "                 工作之余是否要兼职？ - 温酒的回答\n",
      "detect new task: https://www.zhihu.com/question/40358478/answer/382936534\n",
      "                 穷人不配拥有奢侈品吗？ - 温酒的回答\n",
      "detect new task: https://www.zhihu.com/question/275304667/answer/380311600\n",
      "                 如何看待 4 月 29 日 xdd 在直播中痛哭并下播的行为？ - 温酒的回答\n",
      "detect new task: https://www.zhihu.com/question/274565636/answer/379286708\n",
      "                 现今是否存在女孩子活得都较潇洒，男孩子却郁郁寡欢的现象？如果是，为什么？ - 温酒的回答\n",
      "detect new task: https://www.zhihu.com/question/26641409/answer/371423739\n",
      "                 为什么我国精装修房不被普遍接受？大家还是选择毛坯房自己装修的为多？ - 温酒的回答\n",
      "detect new task: https://www.zhihu.com/question/273068207/answer/368171297\n",
      "                 月薪6500在上海能过怎样的生活？ - 温酒的回答\n",
      "detect new task: https://www.zhihu.com/question/57292878/answer/363031756\n",
      "                 Angelababy的演技很差吗？ - 温酒的回答\n",
      "detect new task: https://www.zhihu.com/question/270680641/answer/356663470\n",
      "                 如何看待海口失踪青少年朱瑾瑜被害事件？ - 温酒的回答\n",
      "detect new task: https://www.zhihu.com/question/24983314/answer/354092871\n",
      "                 焦裕禄这样的人在西方发达国家会受到推崇吗？ - 温酒的回答\n",
      "detect new task: https://www.zhihu.com/question/268309589/answer/351883361\n",
      "                 为什么上海家长不喜欢把女儿嫁给外地人？ - 温酒的回答\n",
      "detect new task: https://www.zhihu.com/question/269768684/answer/351613827\n",
      "                 如何评价教育部通知「贫困家庭考生同等条件下优先录取」？ - 温酒的回答\n",
      "detect new task: https://www.zhihu.com/question/266190276/answer/351507160\n",
      "                 如何看待1%的富人获取了2017年全球新创造财富中的82%？ - 温酒的回答\n",
      "detect new task: https://www.zhihu.com/question/66409748/answer/350669001\n",
      "                 如何避免玄幻小说后期「圣阶多如狗」的状况？ - 温酒的回答\n",
      "detect new task: https://www.zhihu.com/question/269571746/answer/350444420\n",
      "                 如何看待 IBM 裁减 40 岁以上员工，聘用年轻员工，目标是实现创新？ - 温酒的回答\n",
      "detect new task: https://www.zhihu.com/question/268921629/answer/346825161\n",
      "                 男友家里婚前借全款买房，婚后需要一起承担经济压力，我应如何保障自己的权益？ - 温酒的回答\n",
      "detect new task: https://www.zhihu.com/question/268930983/answer/346539774\n",
      "                 为什么没人聊实业，比如制造业？ - 温酒的回答\n",
      "detect new task: https://www.zhihu.com/question/267156734/answer/346127006\n",
      "                 马岛战争如果中英打，只从军事角度，以中国当时的武器装备该如何去打？ - 温酒的回答\n",
      "detect new task: https://www.zhihu.com/question/268671076/answer/340532018\n",
      "                 遇到很优质的男孩子（但是有女票）应该要微信吗？ - 温酒的回答\n",
      "detect new task: https://www.zhihu.com/question/65468150/answer/339582791\n",
      "                 世界上有哪些至今未破的悬案？ - 温酒的回答\n",
      "detect new task: https://www.zhihu.com/question/268198883/answer/334340648\n",
      "                 如何看待韩国 2017 年出生人口只有 35.8 万，出生率 7‰？ - 温酒的回答\n",
      "detect new task: https://www.zhihu.com/question/57953126/answer/331432770\n",
      "                 什么叫演戏用力过猛？ - 温酒的回答\n",
      "detect new task: https://www.zhihu.com/question/35498633/answer/330600717\n",
      "                 为什么李嘉诚名下上市公司注册地一年内全部迁离中国？ - 温酒的回答\n",
      "detect new task: https://www.zhihu.com/question/265784624/answer/329634366\n",
      "                 为什么淘宝上很多《绝地求生》主机那么便宜？ - 温酒的回答\n",
      "detect new task: https://www.zhihu.com/question/266999105/answer/328112352\n",
      "                 如何评价《绝地求生：刺激战场》被安排机器人的行为？ - 温酒的回答\n",
      "detect new task: https://www.zhihu.com/question/22635802/answer/326097640\n",
      "                 为什么春晚相声越来越无聊？ - 温酒的回答\n",
      "detect new task: https://www.zhihu.com/question/266588493/answer/325208189\n",
      "                 Dota 没有投降机制是否合理？ - 温酒的回答\n",
      "detect new task: https://www.zhihu.com/question/267094042/answer/319107651\n",
      "                 为什么我认为程序员似乎大多不善言辞？ - 温酒的回答\n",
      "detect new task: https://www.zhihu.com/question/266521641/answer/318949889\n",
      "                 在比特币里小半年出来赔了两万，到底怎么能实现财务自由？ - 温酒的回答\n",
      "detect new task: https://www.zhihu.com/question/51359754/answer/318884797\n",
      "                 中国的程序员是否过多了？ - 温酒的回答\n",
      "detect new task: https://www.zhihu.com/question/266767649/answer/317544863\n",
      "                 中国教育最大的成功在哪里？ - 温酒的回答\n",
      "detect new task: https://www.zhihu.com/question/22923777/answer/315180841\n",
      "                 日本的加班文化是否真的像传言中一样凶猛？ - 温酒的回答\n",
      "detect new task: https://www.zhihu.com/question/266779869/answer/315079933\n",
      "                 如何看待饭局上长辈饭桌上贬低苹果吹捧国产机？ - 温酒的回答\n"
     ]
    },
    {
     "name": "stdout",
     "output_type": "stream",
     "text": [
      "detect new task: https://www.zhihu.com/question/266619139/answer/313779928\n",
      "                 如何看待武汉理工大学研究生罗正宇自缢？ - 温酒的回答\n",
      "detect new task: https://www.zhihu.com/question/33079763/answer/309001893\n",
      "                 你还相信读书能改变气质吗？ - 温酒的回答\n",
      "detect new task: https://www.zhihu.com/question/266360371/answer/308019451\n",
      "                 如何看待52%的子女屏蔽父母朋友圈？ - 温酒的回答\n",
      "detect new task: https://www.zhihu.com/question/265294265/answer/307836963\n",
      "                 如何评价微信小程序「头脑王者_知乎赛季」？ - 温酒的回答\n",
      "detect new task: https://www.zhihu.com/question/20755482/answer/306187336\n",
      "                 中国教育的哪一科目最失败？ - 温酒的回答\n",
      "detect new task: https://www.zhihu.com/question/22000679/answer/303358000\n",
      "                 为什么有人说养老金缴纳是一个庞氏骗局？ - 温酒的回答\n",
      "detect new task: https://www.zhihu.com/question/264922961/answer/302728912\n",
      "                 为什么猪八戒能拿五千零四十八斤的钉耙做兵器，挑百十斤的行李担子却嫌沉？ - 温酒的回答\n",
      "detect new task: https://www.zhihu.com/question/266038876/answer/302043917\n",
      "                 如何看待在国内制作儿童邪典片的公司“欢乐迪士尼”在微博上正式道歉？ - 温酒的回答\n",
      "detect new task: https://www.zhihu.com/question/264163101/answer/301785779\n",
      "                 如何理解马云说八年后房如葱？ - 温酒的回答\n",
      "detect new task: https://www.zhihu.com/question/55145700/answer/301752217\n",
      "                 如何看待 38 岁女白领被母亲安排与水泥工相亲？ - 温酒的回答\n",
      "detect new task: https://www.zhihu.com/question/265722367/answer/301316197\n",
      "                 如何评价沈阳交警严抓号牌不清晰？ - 温酒的回答\n",
      "detect new task: https://www.zhihu.com/question/265784168/answer/298980794\n",
      "                 如何看待 2017 年中国出生人口 1723 万人，比 2016 年减少 63 万人？ - 温酒的回答\n",
      "detect new task: https://www.zhihu.com/question/26607538/answer/298416063\n",
      "                 东北经济还有救吗？ - 温酒的回答\n",
      "detect new task: https://www.zhihu.com/question/265772003/answer/298310774\n",
      "                 如何看待黄晓明直言Angelababy的演技就是不好？ - 温酒的回答\n",
      "detect new task: https://www.zhihu.com/question/40938974/answer/288354915\n",
      "                 怎样看待全国政协委员建议取消中考？ - 温酒的回答\n",
      "detect new task: https://www.zhihu.com/question/265005884/answer/288067004\n",
      "                 如何看待200多家动物保护组织联名要求长沙警方给个说法？ - 温酒的回答\n",
      "detect new task: https://www.zhihu.com/question/264877099/answer/286527150\n",
      "                 如何看待李小璐在 PG One 家里过夜？ - 温酒的回答\n",
      "detect new task: https://www.zhihu.com/question/264712443/answer/285408666\n",
      "                 对于学霸，在别人面前玩，晚上偷偷学习来欺骗麻痹对手，和与同班共享资料，共同提升全省排名，哪个收益大？ - 温酒的回答\n",
      "detect new task: https://www.zhihu.com/question/52706634/answer/285108075\n",
      "                 为什么感觉知乎充斥着大量公众号的内容？ - 温酒的回答\n",
      "detect new task: https://www.zhihu.com/question/264342287/answer/279810088\n",
      "                 如何评价海军军医大学许多毕业生选择交几十万元违约金，而不进入部队这种行为？ - 温酒的回答\n",
      "detect new task: https://www.zhihu.com/question/264021612/answer/279793551\n",
      "                 如果任由密码学货币发展下去会怎么样？ - 温酒的回答\n",
      "detect new task: https://www.zhihu.com/question/263996574/answer/278441903\n",
      "                 如何看待人民日报佛系青年的说法？ - 温酒的回答\n",
      "detect new task: https://www.zhihu.com/question/264103857/answer/276699327\n",
      "                 一万个比特币、一张清华大学的学位、一个余文乐同款老公，你选择哪个？ - 温酒的回答\n",
      "detect new task: https://www.zhihu.com/question/264106433/answer/276689221\n",
      "                 如何看待 2017 年 12 月 10 日中兴网信 42 岁研发负责人坠楼事件？ - 温酒的回答\n",
      "detect new task: https://www.zhihu.com/question/30340143/answer/274794173\n",
      "                 普通老百姓撞了豪车，是不是真该毁一生？ - 温酒的回答\n",
      "detect new task: https://www.zhihu.com/question/263864763/answer/274456251\n",
      "                 如何看待「现代撞劳斯莱斯，车主说：卖房吧」？ - 温酒的回答\n",
      "detect new task: https://www.zhihu.com/question/65833325/answer/272731708\n",
      "                 如何看待“网文作者月入五六万不如事业单位月薪三千五险一金”这种说法？ - 温酒的回答\n",
      "detect new task: https://www.zhihu.com/question/263552238/answer/272433941\n",
      "                 质朴平淡的文笔和拙劣的文笔的区别是什么？ - 温酒的回答\n",
      "detect new task: https://www.zhihu.com/question/263588874/answer/271593010\n",
      "                 如何看待刘强东在 2017 世界互联网大会上调侃王健林马云的言论？ - 温酒的回答\n",
      "detect new task: https://www.zhihu.com/question/20946770/answer/270390607\n",
      "                 香港人是怎么买得起房子的？ - 温酒的回答\n",
      "detect new task: https://www.zhihu.com/question/263525664/answer/270359066\n",
      "                 有哪些「985 学生知道了会流泪，211 学生知道了会沉默」 的残酷现实？ - 温酒的回答\n",
      "detect new task: https://www.zhihu.com/question/66399157/answer/268807473\n",
      "                 如何评价特朗普的执政策略与风格？ - 温酒的回答\n",
      "detect new task: https://www.zhihu.com/question/64763931/answer/267047697\n",
      "                 怎么看待上海大量违建街边店被拆？ - 温酒的回答\n",
      "detect new task: https://www.zhihu.com/question/34423729/answer/263606831\n",
      "                 家长长辈是否该常向18岁左右的家人灌输些社会的常识性（阳光或黑暗）的东西？这样教育对孩子会有何影响？ - 温酒的回答\n",
      "detect new task: https://www.zhihu.com/question/52814006/answer/260544068\n",
      "                 如何理解马云「未来 30 年，计划经济会越来越大」的言论？ - 温酒的回答\n",
      "detect new task: https://www.zhihu.com/question/65952176/answer/260034990\n",
      "                 军队中女兵比例很低是什么原因？ - 温酒的回答\n",
      "detect new task: https://www.zhihu.com/question/60238988/answer/260012385\n",
      "                 中国玩家的正版意识觉醒，应归功于谁？ - 温酒的回答\n",
      "detect new task: https://www.zhihu.com/question/55709221/answer/257309039\n",
      "                 知乎上全是「阶级固化」、「寒门难出贵子」的论调，那所以没有站在金字塔上的人就此默默低头度过一生是吗？ - 温酒的回答\n",
      "detect new task: https://www.zhihu.com/question/26759276/answer/257183267\n",
      "                 如何理解马云说的「把地主杀了，不等于你能富起来」这句话？ - 温酒的回答\n",
      "detect new task: https://www.zhihu.com/question/67467699/answer/253888818\n",
      "                 陈兰香是怎样火起来的？她还能继续存活于知乎吗？ - 温酒的回答\n",
      "detect new task: https://www.zhihu.com/question/67080789/answer/252143181\n",
      "                 哪些瞬间让你发现贫穷限制了你的想象力？ - 温酒的回答\n",
      "detect new task: https://www.zhihu.com/question/60031957/answer/250999518\n",
      "                 有没有人按照知乎上赚钱的方法赚到了人生第一桶金？ - 温酒的回答\n",
      "detect new task: https://www.zhihu.com/question/67237036/answer/250942595\n",
      "                 如何评价 10 月 26 日晚「死亡宣告」在直播时发飙砸东西威胁要将女友杀死？ - 温酒的回答\n",
      "detect new task: https://www.zhihu.com/question/22437711/answer/250729533\n",
      "                 为什么大家不愿意学马克思主义？ - 温酒的回答\n",
      "detect new task: https://www.zhihu.com/question/67047642/answer/250709078\n",
      "                 为什么中国有一部分人对gay有很大偏见？ - 温酒的回答\n",
      "detect new task: https://www.zhihu.com/question/66202427/answer/246688238\n",
      "                 当初因为彩礼而谈崩的男女们，后来的婚姻都怎样了？ - 温酒的回答\n",
      "detect new task: https://www.zhihu.com/question/66342367/answer/243146546\n",
      "                 为什么相亲市场上优秀的男孩越来越少？ - 温酒的回答\n",
      "detect new task: https://www.zhihu.com/question/66403376/answer/242110257\n",
      "                 如何评价河南南阳某中学当众销毁数十部手机？ - 温酒的回答\n",
      "detect new task: https://www.zhihu.com/question/61972854/answer/241609585\n",
      "                 为什么有许多人会说某些男明星样子很娘炮? - 温酒的回答\n",
      "detect new task: https://www.zhihu.com/question/27327198/answer/237569221\n",
      "                 中国能不能成为永久中立国家？ - 温酒的回答\n",
      "detect new task: https://www.zhihu.com/question/26911086/answer/235127355\n",
      "                 macOS 比 Windows 好用吗？ - 温酒的回答\n",
      "detect new task: https://www.zhihu.com/question/61577247/answer/233832978\n",
      "                 假如《中国有嘻哈》请了周杰伦当明星制作人。周杰伦有资格当吗？ - 温酒的回答\n",
      "detect new task: https://www.zhihu.com/question/65647298/answer/233249025\n",
      "                 如何解决类似三鹿事件这样的「不闹大不解决，闹大了对中国没好处」的两难的难题？ - 温酒的回答\n",
      "detect new task: https://www.zhihu.com/question/65263428/answer/229966349\n",
      "                 面试题，如何向美人鱼推销高跟鞋？ - 温酒的回答\n",
      "detect new task: https://www.zhihu.com/question/65125008/answer/228767354\n",
      "                 如何看待女员工入职才 3 天就宣布怀孕，产假结束提出辞职？ - 温酒的回答\n",
      "detect new task: https://www.zhihu.com/question/60766946/answer/226625717\n",
      "                 学习 Python 很吃力，我是不是可以放弃编程了？ - 温酒的回答\n",
      "detect new task: https://www.zhihu.com/question/52475171/answer/225516361\n",
      "                 高考全国一张卷子统一分数线公平吗？ - 温酒的回答\n",
      "detect new task: https://www.zhihu.com/question/61921624/answer/223839348\n",
      "                 你的父母有哪些令人窒息的操作？ - 温酒的回答\n",
      "detect new task: https://www.zhihu.com/question/64518466/answer/223689805\n",
      "                 男友吸毒该怎么办? - 温酒的回答\n",
      "detect new task: https://www.zhihu.com/question/38055777/answer/223688046\n",
      "                 在职场中如何做才能让领导和同事觉得「这年轻人靠谱、有前途」? - 温酒的回答\n",
      "detect new task: https://www.zhihu.com/question/63798873/answer/221349027\n",
      "                 如何看待清华大学副校长施一公的言论「当国内所有精英都想往金融上转时，我认为国家出了大问题」？ - 温酒的回答\n",
      "detect new task: https://www.zhihu.com/question/64246171/answer/218340177\n",
      "                 如何看待作家李枫控诉郭敬明性骚扰和性侵犯？ - 温酒的回答\n",
      "detect new task: https://www.zhihu.com/question/64066906/answer/217893706\n",
      "                 为什么腾讯游戏做不出所谓的「好游戏」？ - 温酒的回答\n",
      "detect new task: https://www.zhihu.com/question/64012476/answer/215937072\n",
      "                 都 2017 年了为什么还有人会去富士康等台商工作，这些是「血汗工厂」吗？ - 温酒的回答\n",
      "detect new task: https://www.zhihu.com/question/63828594/answer/214647864\n",
      "                 为什么一些玩家一提到游戏就要批评腾讯？ - 温酒的回答\n",
      "detect new task: https://www.zhihu.com/question/63823063/answer/214029599\n",
      "                 如何看待男学生在课堂上遭女老师掌掴，当场猛扇耳光回击？ - 温酒的回答\n"
     ]
    },
    {
     "name": "stdout",
     "output_type": "stream",
     "text": [
      "detect new task: https://www.zhihu.com/question/58400340/answer/211289799\n",
      "                 找个不打游戏的男朋友有多难？ - 温酒的回答\n",
      "detect new task: https://www.zhihu.com/question/35776863/answer/210840854\n",
      "                 传销的洗脑的力量到底有多强？ - 温酒的回答\n",
      "detect new task: https://www.zhihu.com/question/62380774/answer/207585419\n",
      "                 开源统计软件piwik公然将西藏从中国地图上分离出去，怎样说服作者把它改回来？ - 温酒的回答\n",
      "Task.run detect new tasks done: 200 tasks\n",
      "Watcher.add_tasks result status , Counter({'added': 200})\n",
      "Watcher.watch lister task done: \n",
      "<Task #2403225285520> https://www.zhihu.com/people/warmwine/answers (ver. 1)\n",
      "    wenjiu answers\n",
      "    task add: 2 minutes ago, last watch: just now, last change just now, next watch: in 10 minutes \n",
      "\n",
      "\n",
      "Watcher.watch should fetch 200 page_type tasks\n",
      "\n",
      "Task.run page request: <Task #2403225039984> https://www.zhihu.com/question/332684032/answer/749155200 (ver. 0)\n",
      "    孩子考到了约定的成绩，可我不想兑现给他游戏充值的许诺了怎么办? - 温酒的回答\n",
      "    task add: just now, last watch: None, last change None, next watch: just now \n",
      "Task.run fetch page done\n",
      "write D:\\Coding\\TheNorthRemembers\\test\\知乎 - 温酒的回答/孩子考到了约定的成绩，可我不想兑现给他游戏充值的许诺了怎么办 - 温酒的回答.md done\n",
      "Watcher.watch page task done: <Task #2403225039984>\n",
      "\n",
      "\n",
      "Task.run page request: <Task #2403225039480> https://www.zhihu.com/question/333156154/answer/741185557 (ver. 0)\n",
      "    怎样利用负面反馈让孩子对电子游戏失去兴趣？ - 温酒的回答\n",
      "    task add: just now, last watch: None, last change None, next watch: just now \n",
      "Task.run fetch page done\n",
      "write D:\\Coding\\TheNorthRemembers\\test\\知乎 - 温酒的回答/怎样利用负面反馈让孩子对电子游戏失去兴趣？ - 温酒的回答.md done\n",
      "Watcher.watch page task done: <Task #2403225039480>\n",
      "\n",
      "\n",
      "Task.run page request: <Task #2403225039256> https://www.zhihu.com/question/320234325/answer/730857611 (ver. 0)\n",
      "    日本崛起的时候有人拒绝996吗？ - 温酒的回答\n",
      "    task add: seconds ago, last watch: None, last change None, next watch: seconds ago \n",
      "Task.run fetch page done\n",
      "write D:\\Coding\\TheNorthRemembers\\test\\知乎 - 温酒的回答/日本崛起的时候有人拒绝996吗？ - 温酒的回答.md done\n",
      "Watcher.watch page task done: <Task #2403225039256>\n",
      "\n",
      "\n",
      "Task.run page request: <Task #2403225041384> https://www.zhihu.com/question/330392781/answer/729466774 (ver. 0)\n",
      "    女朋友一直给我强调她是女的，一直要给我灌输女权至上，我该怎么反驳她，并让她意识到这种问题？ - 温酒的回答\n",
      "    task add: seconds ago, last watch: None, last change None, next watch: seconds ago \n",
      "Task.run fetch page done\n",
      "write D:\\Coding\\TheNorthRemembers\\test\\知乎 - 温酒的回答/女朋友一直给我强调她是女的，一直要给我灌输女权至上，我该怎么反驳她，并让她意识到这种问题？ - 温酒的回答.md done\n",
      "Watcher.watch page task done: <Task #2403225041384>\n",
      "\n",
      "\n",
      "Task.run page request: <Task #2403225039704> https://www.zhihu.com/question/60920848/answer/715262412 (ver. 0)\n",
      "    男人怎样才算真正尊重女性？ - 温酒的回答\n",
      "    task add: seconds ago, last watch: None, last change None, next watch: seconds ago \n"
     ]
    }
   ],
   "source": [
    "w.watch()"
   ]
  },
  {
   "cell_type": "code",
   "execution_count": null,
   "metadata": {},
   "outputs": [],
   "source": []
  },
  {
   "cell_type": "code",
   "execution_count": null,
   "metadata": {},
   "outputs": [],
   "source": []
  },
  {
   "cell_type": "code",
   "execution_count": null,
   "metadata": {
    "ExecuteTime": {
     "end_time": "2019-07-01T12:04:51.323256Z",
     "start_time": "2019-07-01T12:04:51.220555Z"
    }
   },
   "outputs": [],
   "source": [
    "w.tasks[2].should_fetch"
   ]
  },
  {
   "cell_type": "markdown",
   "metadata": {},
   "source": [
    "### generate token"
   ]
  },
  {
   "cell_type": "code",
   "execution_count": null,
   "metadata": {
    "ExecuteTime": {
     "end_time": "2019-06-28T08:01:37.184356Z",
     "start_time": "2019-06-28T08:01:14.553118Z"
    }
   },
   "outputs": [],
   "source": [
    "from tools import generate_zhihu_token\n",
    "generate_zhihu_token()"
   ]
  },
  {
   "cell_type": "code",
   "execution_count": null,
   "metadata": {},
   "outputs": [],
   "source": []
  },
  {
   "cell_type": "code",
   "execution_count": null,
   "metadata": {
    "ExecuteTime": {
     "end_time": "2019-07-05T08:54:29.496826Z",
     "start_time": "2019-07-05T08:54:29.399091Z"
    }
   },
   "outputs": [],
   "source": [
    "from fetcher_api import zhihu"
   ]
  },
  {
   "cell_type": "code",
   "execution_count": null,
   "metadata": {
    "ExecuteTime": {
     "end_time": "2019-07-05T08:54:49.356830Z",
     "start_time": "2019-07-05T08:54:49.279040Z"
    }
   },
   "outputs": [],
   "source": [
    "client = zhihu.client"
   ]
  },
  {
   "cell_type": "code",
   "execution_count": null,
   "metadata": {
    "ExecuteTime": {
     "end_time": "2019-07-05T08:57:13.892297Z",
     "start_time": "2019-07-05T08:57:13.813487Z"
    }
   },
   "outputs": [],
   "source": [
    "c = client.collection(133030984)\n",
    "int(\"133030984\")"
   ]
  },
  {
   "cell_type": "code",
   "execution_count": null,
   "metadata": {},
   "outputs": [],
   "source": []
  },
  {
   "cell_type": "code",
   "execution_count": 6,
   "metadata": {
    "ExecuteTime": {
     "end_time": "2019-07-17T07:53:08.939029Z",
     "start_time": "2019-07-17T07:53:08.835317Z"
    }
   },
   "outputs": [],
   "source": [
    "from zhihu_oauth import ZhihuClient\n",
    "\n",
    "TOKEN_FILE = 'token.pkl'\n",
    "client = ZhihuClient()\n",
    "client.load_token(TOKEN_FILE)\n"
   ]
  },
  {
   "cell_type": "code",
   "execution_count": 52,
   "metadata": {
    "ExecuteTime": {
     "end_time": "2019-07-17T08:12:41.021396Z",
     "start_time": "2019-07-17T08:12:40.924634Z"
    }
   },
   "outputs": [
    {
     "data": {
      "text/plain": [
       "'Dreawer'"
      ]
     },
     "execution_count": 52,
     "metadata": {},
     "output_type": "execute_result"
    }
   ],
   "source": [
    "author = a.author\n",
    "\n",
    "author.__dict__['_cache']['url_token']"
   ]
  },
  {
   "cell_type": "code",
   "execution_count": null,
   "metadata": {
    "ExecuteTime": {
     "end_time": "2019-07-08T09:06:32.787716Z",
     "start_time": "2019-07-08T09:06:32.680993Z"
    }
   },
   "outputs": [],
   "source": [
    "import os\n",
    "os.path.basename('D:\\Coding\\TheNorthRemembers\\page.py')"
   ]
  },
  {
   "cell_type": "code",
   "execution_count": null,
   "metadata": {
    "ExecuteTime": {
     "end_time": "2019-07-08T09:06:11.093275Z",
     "start_time": "2019-07-08T09:06:10.984567Z"
    }
   },
   "outputs": [],
   "source": [
    "os.path.__file__"
   ]
  },
  {
   "cell_type": "code",
   "execution_count": null,
   "metadata": {
    "ExecuteTime": {
     "end_time": "2019-07-08T10:32:10.466236Z",
     "start_time": "2019-07-08T10:31:58.545Z"
    }
   },
   "outputs": [],
   "source": [
    "import wechatsogou"
   ]
  },
  {
   "cell_type": "code",
   "execution_count": null,
   "metadata": {
    "ExecuteTime": {
     "end_time": "2019-07-08T10:32:10.471223Z",
     "start_time": "2019-07-08T10:31:59.707Z"
    }
   },
   "outputs": [],
   "source": [
    "ws_api = wechatsogou.WechatSogouAPI()"
   ]
  },
  {
   "cell_type": "code",
   "execution_count": null,
   "metadata": {
    "ExecuteTime": {
     "end_time": "2019-07-08T10:32:24.548522Z",
     "start_time": "2019-07-08T10:32:13.261291Z"
    }
   },
   "outputs": [],
   "source": [
    "ws_api.get_gzh_info('南航青年志愿者')"
   ]
  },
  {
   "cell_type": "code",
   "execution_count": null,
   "metadata": {
    "ExecuteTime": {
     "end_time": "2019-07-08T10:33:00.761669Z",
     "start_time": "2019-07-08T10:32:58.763440Z"
    },
    "scrolled": false
   },
   "outputs": [],
   "source": [
    "list(ws_api.search_article('马前卒工作室'))"
   ]
  },
  {
   "cell_type": "code",
   "execution_count": null,
   "metadata": {},
   "outputs": [],
   "source": []
  },
  {
   "cell_type": "code",
   "execution_count": null,
   "metadata": {},
   "outputs": [],
   "source": []
  }
 ],
 "metadata": {
  "hide_input": false,
  "kernelspec": {
   "display_name": "Python 3",
   "language": "python",
   "name": "python3"
  },
  "language_info": {
   "codemirror_mode": {
    "name": "ipython",
    "version": 3
   },
   "file_extension": ".py",
   "mimetype": "text/x-python",
   "name": "python",
   "nbconvert_exporter": "python",
   "pygments_lexer": "ipython3",
   "version": "3.6.3"
  },
  "toc": {
   "nav_menu": {
    "height": "241px",
    "width": "184px"
   },
   "number_sections": true,
   "sideBar": false,
   "skip_h1_title": false,
   "title_cell": "Table of Contents",
   "title_sidebar": "Contents",
   "toc_cell": false,
   "toc_position": {
    "height": "225px",
    "left": "691px",
    "top": "64px",
    "width": "495px"
   },
   "toc_section_display": true,
   "toc_window_display": true
  }
 },
 "nbformat": 4,
 "nbformat_minor": 1
}
