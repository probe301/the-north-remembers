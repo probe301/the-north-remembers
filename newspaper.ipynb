{
 "cells": [
  {
   "cell_type": "code",
   "execution_count": null,
   "metadata": {},
   "outputs": [],
   "source": []
  },
  {
   "cell_type": "markdown",
   "metadata": {},
   "source": [
    "# The North Remembers Project"
   ]
  },
  {
   "cell_type": "code",
   "execution_count": 1,
   "metadata": {
    "ExecuteTime": {
     "end_time": "2019-07-08T08:35:04.817796Z",
     "start_time": "2019-07-08T08:35:04.741996Z"
    }
   },
   "outputs": [],
   "source": [
    "%load_ext autoreload\n",
    "%autoreload 2"
   ]
  },
  {
   "cell_type": "markdown",
   "metadata": {},
   "source": [
    "### 取舍\n",
    "\n",
    "数据存储用 github, 或者 bitbucket\n",
    "\n",
    "\n",
    "提供导出为 rss, epub, pdf, github 自带检查历史的功能\n",
    "\n",
    "不追求实效性\n",
    "\n",
    "\n",
    "\n",
    "外链图片不作为重点\n",
    "外链图片和视频链接, url 链接, 一并修复, 换行字符串等也一并处理, 七牛云?\n",
    "md 中的 Latex 和 代码检测也在这里修复, pygment"
   ]
  },
  {
   "cell_type": "markdown",
   "metadata": {},
   "source": [
    "### 调用关系\n",
    "\n",
    "\n",
    "\n"
   ]
  },
  {
   "cell_type": "markdown",
   "metadata": {},
   "source": [
    "#### Collector\n",
    "\n",
    "处理用户发出的命令\n",
    "\n",
    "可以是 zhihu answer url, 问题页, 收藏夹页, 需要带有过滤条件\n",
    "用户可能在过滤条件后再做修补删减\n",
    "\n",
    "需要转为具体的爬虫任务, 并创建文件夹\n",
    "单页收集到特定的文件夹, 否则收集到一个自动命名的文件夹\n",
    "\n",
    "在文件夹下生成task\n",
    "\n",
    "Resources\n",
    "global_config\n",
    "task_config (scanlist)\n",
    "\n",
    "\n",
    "Collector.append(url, options)\n",
    "\n",
    "\n",
    "\n",
    "#### Watcher\n",
    "\n",
    "\n",
    "\n",
    "任务调度, 监视文件夹, 根据 task.yaml 抓取页面\n",
    "\n",
    "task.yaml 也记录历史\n",
    "\n",
    "task_type: single_page, \n",
    "update_batch: 10\n",
    "\n",
    "\n",
    "track_new: true\n",
    "\n",
    "\n",
    "通过扫描已有的待抓取任务, 在手动触发, 达到特定时间后, 分派抓取任务\n",
    "\n",
    "    Watcher\n",
    "        .watch()\n",
    "        .remember()\n",
    "        .status()\n",
    "        .load_config_yaml\n",
    "        .save_config_yaml\n",
    "        .add_task add_tasks\n",
    "\n",
    "\n",
    "\n",
    "Task\n",
    "\n",
    "被调用抓取单一页面内容, 或者抓取一个 url 列表\n",
    "抓取单一页面内容将存为 md, 不存 html\n",
    "\n",
    "    Task\n",
    "        ZhihuAnswerPageTask\n",
    "        ZhihuAnswerIndexTask\n",
    "        ZhihuColumnPageTask\n",
    "        ZhihuColumnIndexTask\n",
    "\n",
    "Task 会使用 Page.save / load\n",
    "\n",
    "    .last_page()\n",
    "    .fetch()\n",
    "    .save() 传递一些参数给 page 如 watch_date\n",
    "    .to_yaml_text()\n",
    "    \n",
    "    .priority\n",
    "    .is_page_type\n",
    "    .should_fetch\n",
    "    .content_is_changed\n",
    "\n",
    "\n",
    "\n",
    "ZhihuColumnPage\n",
    "ZhihuColumnLister\n",
    "\n",
    "\n",
    "Fetcher.request(url) => dict()? Page()\n",
    "\n",
    "Page.write to / load from disk\n",
    "\n",
    "PageTask.run => Fetcher.request(url) => New Page\n",
    "PageTask.update => New Page.write\n",
    "IndexTask.run => Fetcher.request(url) => [New Tasks]\n",
    "\n",
    "\n",
    "Watcher -> PageTask -> Page (tmpl, fetcherAPI)\n",
    "                            ZhihuColumnPage\n",
    "                            ZhihuAnswerPage\n",
    "                            WeixinArticlePage\n",
    "\n",
    "\n",
    "Watcher -> IndexTask -> append more tasks\n",
    "                        ZhihuColumnIndex\n",
    "    \n",
    "\n",
    "\n",
    "\n"
   ]
  },
  {
   "cell_type": "markdown",
   "metadata": {},
   "source": [
    "#### Fetcher\n",
    "\n",
    "Page\n",
    "\n",
    "页面内容分为 元数据 + 文章主体 + 评论, 评论先放放\n",
    "\n",
    "\n",
    "Page.load()  返回一个读盘的页面\n",
    "\n",
    "以md文件为单位\n",
    "\n",
    "    ZhihuColumnPage\n",
    "        .load(path)\n",
    "        .write(path)\n",
    "        .compare()\n",
    "\n",
    "    attr\n",
    "        task = ForeignKeyField(Task, related_name='task')\n",
    "        watch_date = DateTimeField()\n",
    "        title = CharField(null=True)\n",
    "        author = CharField(null=True)\n",
    "        content = TextField(null=True)\n",
    "        metadata = TextField(null=True)\n",
    "        topic = TextField(null=True)\n",
    "        question = TextField(null=True)\n",
    "        comment = TextField(null=True)\n",
    "\n",
    "\n",
    "\n",
    "\n",
    "\n",
    "#### Cleaner\n",
    "\n",
    "处理, 清理文本的规则\n",
    "\n",
    "\n",
    "\n",
    "Exporter\n",
    "\n",
    "根据 Template 转换为 rss, epub, pdf, 以及 github diff 预览\n",
    "\n",
    "图片转存也算在 Template 里"
   ]
  },
  {
   "cell_type": "code",
   "execution_count": null,
   "metadata": {},
   "outputs": [],
   "source": [
    "描述\n",
    "\n",
    "以更加简洁清晰的排版阅读知乎. (这个需求有简悦)\n",
    "\n",
    "用户指定一个知乎网站上的问题, zhihumark 抓取相应的回答内容, 以 markdown 文档的形式提供给用户阅读和下载. (提供 md 下载没用)\n",
    "\n",
    "\n",
    "\n",
    "\n",
    "\n",
    "功能\n",
    "\n",
    "可以自由定制想抓取的内容, 这包括: 抓取指定答主/收藏夹名/问题/话题下的回答, 抓取赞同数量超过N的回答.\n",
    "可以设置黑名单, 不抓取特定的问题或者答主.\n",
    "抓取评论, 以会话的形式组织起来, 让上下文相关的评论出现在一起, 尽量滤除没有价值的评论.\n",
    "将收集到的一系列文档保存为epub或者pdf, 或者批量下载 markdown 文档, 以便离线阅读.\n",
    "制作成 feed 以便放入 rss 阅读器, 获取实时更新.\n",
    "\n",
    "\n",
    "观念\n",
    "\n",
    "我们也不显示其他人搜索了什么关键字, 获取了什么页面, 下载了哪些电子书, 看到什么取决于你\n",
    "\n",
    "我们相信评论是回答(或文章)可以分割的一部分, 许多评论很水, 有些很有价值.\n",
    "\n",
    "相信评论区是对回答的重要补充, 也有随回答保留的必要, 但需处理评论区良莠不齐, 引用回复混乱的问题.\n",
    "\n",
    "\n",
    "\n",
    "页面设计\n",
    "\n",
    "单页面网站应用, 基本上类似搜索引擎的风格和排版.\n",
    "\n",
    "输入框 - 接受输入ID或URL 答主/收藏夹名/问题名/话题名\n",
    "\n",
    "选项 - 保留最前的n个回答?\n",
    "选项 - 赞同数至少是?\n",
    "选项 - 保留评论? 评论对话中至少有多少 likes\n",
    "屏蔽 - 不感兴趣的话题, 问题, 答主\n",
    "返回 - markdown文件列表\n",
    "\n",
    "批量下载按钮"
   ]
  },
  {
   "cell_type": "code",
   "execution_count": null,
   "metadata": {},
   "outputs": [],
   "source": []
  },
  {
   "cell_type": "code",
   "execution_count": null,
   "metadata": {},
   "outputs": [],
   "source": [
    "\n"
   ]
  },
  {
   "cell_type": "code",
   "execution_count": null,
   "metadata": {},
   "outputs": [],
   "source": []
  },
  {
   "cell_type": "code",
   "execution_count": null,
   "metadata": {},
   "outputs": [],
   "source": []
  },
  {
   "cell_type": "code",
   "execution_count": null,
   "metadata": {},
   "outputs": [],
   "source": []
  },
  {
   "cell_type": "code",
   "execution_count": null,
   "metadata": {},
   "outputs": [],
   "source": []
  },
  {
   "cell_type": "code",
   "execution_count": null,
   "metadata": {},
   "outputs": [],
   "source": []
  },
  {
   "cell_type": "code",
   "execution_count": null,
   "metadata": {},
   "outputs": [],
   "source": []
  },
  {
   "cell_type": "code",
   "execution_count": null,
   "metadata": {},
   "outputs": [],
   "source": []
  },
  {
   "cell_type": "code",
   "execution_count": null,
   "metadata": {},
   "outputs": [],
   "source": []
  },
  {
   "cell_type": "code",
   "execution_count": null,
   "metadata": {},
   "outputs": [],
   "source": []
  },
  {
   "cell_type": "code",
   "execution_count": null,
   "metadata": {},
   "outputs": [],
   "source": []
  },
  {
   "cell_type": "code",
   "execution_count": null,
   "metadata": {},
   "outputs": [],
   "source": []
  },
  {
   "cell_type": "code",
   "execution_count": null,
   "metadata": {},
   "outputs": [],
   "source": []
  },
  {
   "cell_type": "code",
   "execution_count": null,
   "metadata": {},
   "outputs": [],
   "source": []
  },
  {
   "cell_type": "code",
   "execution_count": null,
   "metadata": {
    "ExecuteTime": {
     "end_time": "2017-04-19T13:27:37.834791",
     "start_time": "2017-04-19T13:27:37.741543"
    }
   },
   "outputs": [],
   "source": [
    "def test_fetch_history():\n",
    "  # 美国是不是正在为瓦解中国做准备？ - 张俊麒的回答\n",
    "  # url = 'https://www.zhihu.com/question/40622033/answer/88139460'\n",
    "  \n",
    "  # 有哪些令人拍案叫绝的临场反应？ - 大盗贼霍老爷的回答\n",
    "  url = 'https://www.zhihu.com/question/29125576/answer/54187388'\n",
    "  \n",
    "  # 机器人教育这种不考试、以娱乐为主的教育对于中小学生及幼儿的意义何在？ - 冷哲的回答\"\n",
    "  url = 'https://www.zhihu.com/question/26999365/answer/93421419'\n",
    "  \n",
    "  \n",
    "  # 2016 年，中国房地产泡沫是否会在一两年内破灭，从而引发金融危机？ - 小马的回答\"\n",
    "  url = 'https://www.zhihu.com/question/40910547/answer/123021503'\n",
    "  \n",
    "  # Smart Beta 投资方法 - 陈颖的专栏 量化哥\"\n",
    "  url = 'https://zhuanlan.zhihu.com/p/21936302'\n",
    "  \n",
    "  \n",
    "  # 美国南北战争的真正原因是什么？ - talich的回答\"\n",
    "  url = 'https://www.zhihu.com/question/19679278/answer/15122151'\n",
    "  # query = (Page.select(Page, Task)\n",
    "  #          .join(Task)\n",
    "  #          .where((Task.page_type == 'zhihu_article') & (Page.title.contains('最前沿')))\n",
    "  #          .group_by(Page.task)\n",
    "  #          .having(Page.watch_date == fn.MAX(Page.watch_date))\n",
    "  #          .limit(9999))\n",
    "  t = Task.select().where(Task.url == url).get()\n",
    "  \n",
    "  \n",
    "  contents = []\n",
    "  for page in t.pages:\n",
    "\n",
    "    print(page.version)\n",
    "    print(page.title)\n",
    "    print(page.topic)\n",
    "    contents.append(page.content)\n",
    "#     print(page.content)\n",
    "  return contents\n",
    "contents = test_fetch_history()"
   ]
  },
  {
   "cell_type": "code",
   "execution_count": null,
   "metadata": {
    "ExecuteTime": {
     "end_time": "2017-04-19T13:23:42.907993",
     "start_time": "2017-04-19T13:23:42.892989"
    },
    "scrolled": true
   },
   "outputs": [],
   "source": [
    "def split_text(text):\n",
    "  col = []\n",
    "  for sent in re.findall('.*?[！|，|。|？|\\n|；|~|～|：|\\)|\\]]', text):\n",
    "    col.append(sent)\n",
    "  \n",
    "  return col\n",
    "\n",
    "print(split_text(a))"
   ]
  },
  {
   "cell_type": "code",
   "execution_count": null,
   "metadata": {
    "ExecuteTime": {
     "end_time": "2017-04-19T13:27:40.003674",
     "start_time": "2017-04-19T13:27:39.965599"
    },
    "scrolled": false
   },
   "outputs": [],
   "source": [
    "print(len(contents))\n",
    "# c1, c2, c3, c4, *_, c7 = contents\n",
    "from difflib import unified_diff\n",
    "def compare_text(t1, t2, prefix=''):\n",
    "  changes = [l for l in unified_diff(t1, t2)]\n",
    "\n",
    "  return changes\n",
    "\n",
    "\n",
    "import re\n",
    "for i, (a, b) in enumerate(zip(contents[:-1], contents[1:])):\n",
    "#   if i == 0:\n",
    "#     continue\n",
    "  if (a!=b):\n",
    "    print('a!=b on', i, i+1)\n",
    "    \n",
    "    pat = re.compile('\\S')\n",
    "    for d in unified_diff(split_text(a), split_text(b), n=2, lineterm=''):\n",
    "      print(d)\n",
    "  \n",
    "  print('\\n\\n\\n\\n\\n\\n')\n",
    "#   if i >= 5:\n",
    "#     break\n",
    "  \n",
    "# compare_text(c1, c2)\n",
    "# compare_text(c2, c3)"
   ]
  },
  {
   "cell_type": "code",
   "execution_count": null,
   "metadata": {
    "ExecuteTime": {
     "end_time": "2019-06-27T05:03:58.837186Z",
     "start_time": "2019-06-27T05:03:58.810259Z"
    }
   },
   "outputs": [],
   "source": [
    "'iesytwe'.split('?')"
   ]
  },
  {
   "cell_type": "code",
   "execution_count": null,
   "metadata": {
    "ExecuteTime": {
     "end_time": "2017-04-19T12:37:24.575834",
     "start_time": "2017-04-19T12:37:24.506704"
    }
   },
   "outputs": [],
   "source": [
    "\n",
    "# from unidiff import PatchSet\n",
    "# diff = urllib2.urlopen('https://github.com/matiasb/python-unidiff/pull/3.diff')\n",
    "# encoding = diff.headers.getparam('charset')\n",
    "# patch = PatchSet(diff, encoding=encoding)\n"
   ]
  },
  {
   "cell_type": "code",
   "execution_count": null,
   "metadata": {},
   "outputs": [],
   "source": []
  },
  {
   "cell_type": "code",
   "execution_count": null,
   "metadata": {},
   "outputs": [],
   "source": []
  },
  {
   "cell_type": "code",
   "execution_count": null,
   "metadata": {},
   "outputs": [],
   "source": []
  },
  {
   "cell_type": "code",
   "execution_count": null,
   "metadata": {},
   "outputs": [],
   "source": []
  },
  {
   "cell_type": "code",
   "execution_count": null,
   "metadata": {},
   "outputs": [],
   "source": []
  },
  {
   "cell_type": "code",
   "execution_count": null,
   "metadata": {},
   "outputs": [],
   "source": []
  },
  {
   "cell_type": "code",
   "execution_count": null,
   "metadata": {},
   "outputs": [],
   "source": []
  },
  {
   "cell_type": "code",
   "execution_count": null,
   "metadata": {},
   "outputs": [],
   "source": []
  },
  {
   "cell_type": "markdown",
   "metadata": {
    "heading_collapsed": true
   },
   "source": [
    "### 原 models test exec\n",
    "\n",
    "\n"
   ]
  },
  {
   "cell_type": "code",
   "execution_count": null,
   "metadata": {
    "hidden": true
   },
   "outputs": [],
   "source": [
    "\n",
    "'''\n",
    "####### #######  ###### #######\n",
    "   ##   ##      ##         ##\n",
    "   ##   ######   #####     ##\n",
    "   ##   ##           ##    ##\n",
    "   ##   ####### ######     ##\n",
    "'''\n",
    "\n",
    "def test_new_task():\n",
    "  # url = 'https://www.zhihu.com/question/30595784/answer/49194862'\n",
    "  # 如何看待许知远在青年领袖颁奖典礼上愤怒「砸场」？\n",
    "  url = 'https://www.zhihu.com/question/22316395/answer/100909780'\n",
    "  url = 'https://www.zhihu.com/question/47220155/answer/118154455'\n",
    "  url = 'https://www.zhihu.com/question/49962599/answer/118716273'\n",
    "  url = 'https://zhuanlan.zhihu.com/p/19837940'\n",
    "  url = 'https://zhuanlan.zhihu.com/p/20639779'\n",
    "  url = 'https://zhuanlan.zhihu.com/p/20153329'\n",
    "  url = 'https://zhuanlan.zhihu.com/p/21281864'\n",
    "  url = 'https://zhuanlan.zhihu.com/p/19964142'\n",
    "  task = Task.add(url=url)\n",
    "  print(task)\n",
    "  # task.watch()\n",
    "\n",
    "\n",
    "def test_readd_task():\n",
    "  url = 'http://www.zhihu.com/question/22513722/answer/21967185' # 火车票涨价\n",
    "  task = Task.add(url=url)\n",
    "  task = Task.add(url=url)\n",
    "  url = 'https://www.zhihu.com/question/30957313/answer/50266448' # 古典音乐\n",
    "  task = Task.add(url=url)\n",
    "  url = 'https://www.zhihu.com/question/40056948/answer/110794550' # 四万亿\n",
    "  task = Task.add(url=url)\n",
    "\n",
    "def test_seed_add_tasks():\n",
    "  urls = '''\n",
    "    https://www.zhihu.com/question/40305228/answer/86179116\n",
    "    https://www.zhihu.com/question/36466762/answer/85475145\n",
    "    https://www.zhihu.com/question/33246348/answer/86919689\n",
    "    https://www.zhihu.com/question/39906815/answer/88534869\n",
    "\n",
    "    https://www.zhihu.com/question/40700155/answer/89002644\n",
    "    https://www.zhihu.com/question/36380091/answer/84690117\n",
    "    https://www.zhihu.com/question/33246348/answer/86919689\n",
    "    https://www.zhihu.com/question/35254746/answer/90252213\n",
    "    https://www.zhihu.com/question/23618517/answer/89823915\n",
    "\n",
    "    https://www.zhihu.com/question/40677000/answer/87886574\n",
    "\n",
    "    https://www.zhihu.com/question/41373242/answer/91417985\n",
    "    https://www.zhihu.com/question/47275087/answer/106335325\n",
    "    https://www.zhihu.com/question/47275087/answer/106335325 买不起房是房价太高还是工资太低？\n",
    "    https://www.zhihu.com/question/36129534/answer/91921682  印度经济会在本世纪追上中国吗？\n",
    "    https://www.zhihu.com/question/22513722/answer/21967185  火车票涨价是否能解决春运问题？\n",
    "    https://www.zhihu.com/question/27820755/answer/107267228 裸辞后怎样解释以获工作机会？\n",
    "  '''\n",
    "  for url in datalines(urls):\n",
    "    url = url.split(' ')[0]\n",
    "    task = Task.add(url=url)\n",
    "    task | puts()\n",
    "\n",
    "\n",
    "\n",
    "def test_one_watch():\n",
    "  task = Task.select().order_by(-Task.id).get()\n",
    "  task | puts()\n",
    "  task.watch()\n",
    "\n",
    "def test_another_watch():\n",
    "  url = 'http://www.zhihu.com/question/22513722/answer/21967185' # 火车票涨价\n",
    "  task = Task.select().where(Task.url == url).get()\n",
    "  task | puts()\n",
    "  task.watch()\n",
    "\n",
    "\n",
    "def test_hot_answer():\n",
    "  url = 'http://www.zhihu.com/question/39288165/answer/110207560'\n",
    "  url = 'https://www.zhihu.com/question/50763374/answer/122822226'\n",
    "  url = 'https://www.zhihu.com/question/40910547/answer/123021503'\n",
    "  url = 'https://zhuanlan.zhihu.com/p/21478575'\n",
    "  url = 'https://www.zhihu.com/question/40103788/answer/124499334'\n",
    "  task = Task.add(url=url)\n",
    "  task.watch()\n",
    "\n",
    "\n",
    "  task.last_page.to_local_file(folder='test', fetch_images=False)\n",
    "\n",
    "\n",
    "\n",
    "def test_watch_all():\n",
    "  Task.multiple_watch(sleep_seconds=10, limit=4)\n",
    "\n",
    "\n",
    "def test_report():\n",
    "  Task.report()\n",
    "\n",
    "\n",
    "\n",
    "def test_to_local_file():\n",
    "  # page = Page.select().order_by(-Page.id).get()\n",
    "\n",
    "  # page = Page.select(Page.topic).distinct().where(Page.topic.contains('房')).limit(5)\n",
    "  # q = Page.select(Page.id).distinct()\n",
    "  # for p in q:\n",
    "  #   print(p)\n",
    "  query = (Page.select(Page, Task)\n",
    "           .join(Task)\n",
    "           .where(Page.author == 'chenqin')  # .where(Page.topic.contains('建筑'))\n",
    "           .group_by(Page.task)\n",
    "           .having(Page.watch_date == fn.MAX(Page.watch_date))\n",
    "           .limit(8800))\n",
    "  for page in query:\n",
    "    log(page.title)\n",
    "    # log(page.metadata)\n",
    "    # page.to_local_file(folder='chen', fetch_images=False)\n",
    "# test_to_local_file()\n",
    "\n",
    "def test_tools():\n",
    "  import pylon\n",
    "  pylon.generate_figlet('task', fonts=['space_op'])\n",
    "  pylon.generate_figlet('page', fonts=['space_op'])\n",
    "  pylon.generate_figlet('test', fonts=['space_op'])\n",
    "\n",
    "\n",
    "def test_load_json():\n",
    "  import json\n",
    "\n",
    "  print(json.loads(open('mockup_topic_answers.json', encoding='utf-8').read()))\n",
    "\n",
    "\n",
    "def test_banned_modes():\n",
    "  url = 'https://www.zhihu.com/question/40679967/answer/88310495'\n",
    "  # 政府推出开放小区政策的真正目的是什么？ 2201 孟德尔 回答建议修改：政治敏感\n",
    "  pass\n",
    "\n",
    "\n",
    "def test_query_task():\n",
    "  s = 'https://www.zhihu.com/question/48737226/answer/113036453'\n",
    "  s = 'https://www.zhihu.com/question/47220155/answer/118154455'\n",
    "  s = 'https://www.zhihu.com/question/49545583/answer/116529877'\n",
    "\n",
    "  t = Task.select().where(Task.url == s)\n",
    "  t = t.get()\n",
    "  log(t.title)\n",
    "  log(t.id)\n",
    "\n",
    "\n",
    "\n",
    "\n",
    "\n",
    "\n",
    "def test_explore():\n",
    "  # Tweet.select(fn.COUNT(Tweet.id)).where(Tweet.user == User.id)\n",
    "  query = (Task\n",
    "           .select(Task, fn.COUNT(Page.id).alias('fetched_count'))\n",
    "           .join(Page)\n",
    "           .group_by(Task.title)\n",
    "           .limit(50)\n",
    "           .offset(200)\n",
    "           .order_by(fn.COUNT(Page.id).desc()))\n",
    "\n",
    "  for task in query:\n",
    "    log(task.title + ' : ' + str(task.fetched_count) + '  task_id ' + str(task.id))\n",
    "\n",
    "\n",
    "\n",
    "\n",
    "def test_explore_watching_results_diff():\n",
    "\n",
    "  s = '''\n",
    "  # 美国是不是正在为瓦解中国做准备？ - 张俊麒的回答 : 16  task_id 46\n",
    "  # 为什么很少看到患者砍莆田系医生的报道？ - 玄不救非氪不改命的回答 : 3  task_id 196\n",
    "  # 为什么很难证伪马克思主义理论？ - 玄不救非氪不改命的回答 : 3  task_id 360\n",
    "  # 为什么快速浏览一段内容的时候，很容易看到自己感兴趣的部分？ - 采铜的回答 : 3  task_id 742\n",
    "  # 为什么拿广州恒大淘宝队与中国国家男子足球队做对比？ - 玄不救非氪不改命的回答 : 3  task_id 492\n",
    "  # 如何看待里约奥运陈欣怡药检呈阳性反应？ - 玄不救非氪不改命的回答 : 3  task_id 2393\n",
    "  # 为什么厌恶「国粉」的知乎用户远多于厌恶「毛粉」的？ - chenqin的 : 3  task_id 3313\n",
    "  # 2016 年中国的经济状况很差吗？真实状况是怎样的？ - 垒起善城堡的积木 : 3 task_id 2387\n",
    "  # 如何看待2016年7月人民币贷款增幅里9.8成为房贷？ - 匿名用户的回答 : 3 task_id 2386\n",
    "\n",
    "\n",
    "\n",
    "\n",
    "  # 怎样评价「游戏不汉化就差评」的行为？ - cOMMANDO的回答 : 9  task_id 4471\n",
    "  # 既然有报道说人类的基因片段只占DNA序列总长的不到10%，那么这几个问题怎么解答？ - Mandelbrot的回答 : 9  task_id 676\n",
    "  # 智商低的人真的不适合玩需要动脑子的游戏么？ - 匿名用户的回答 : 9  task_id 3461\n",
    "  # 暴雪，Valve，拳头，谁更厉害？ - cOMMANDO的回答 : 9  task_id 2597\n",
    "  # 有一个稀有的姓是一种怎样的体验？ - 冷哲的回答 : 9  task_id 1041\n",
    "  # 有什么影视作品是当时演员名气不大，现在看来是全明星阵容出演？ - 玄不救非氪不改命的回答 : 9  task_id 484\n",
    "  # 有关白龙尾岛的历史，哪些是有据可查的？ - 书生的回答 : 9  task_id 712\n",
    "  # 有哪些「智商税」？ - 谢熊猫君的回答 : 9  task_id 2406\n",
    "  # 有哪些令人拍案叫绝的临场反应？ - 大盗贼霍老爷的回答 : 9  task_id 4107\n",
    "  # 有哪些可怕的故事？ - 大盗贼霍老爷的回答 : 9  task_id 4137\n",
    "  # 有哪些长得比较逆天的动物？ - Mandelbrot的回答 : 9  task_id 648\n",
    "  # 有文化有多可怕？ - 寺主人的回答 : 9  task_id 5787\n",
    "  # 机器人教育这种不考试、以娱乐为主的教育对于中小学生及幼儿的意义何在？ - 冷哲的回答 : 9  task_id 1015\n",
    "  # 毛花三年打败蒋然后走三十年弯路的目的，都是为后三十年的改革开放走资、大国崛起做铺垫扫平道路的么？ - 书生的回答 : 9  task_id 99\n",
    "  # 水旱蝗汤中的汤指的到底是谁？ - 书生的回答 : 9  task_id 104\n",
    "  # 河南的地理位置那么好，为什么经济落后？ - 大盗贼霍老爷的回答 : 9  task_id 4105\n",
    "  # 為什麼蒋介石被称为运输大队长？求详? - 书生的回答 : 9  task_id 701\n",
    "  # 玩《狼人杀》时你有什么屡试不爽的秘技诀窍？ - 汪诩文的回答 : 9  task_id 3526\n",
    "\n",
    "  现在网络上很多人黑一些伟人，比如说周半期，黑鲁迅。他们是什么心态？ - 书生的回答 : 9  task_id 97\n",
    "  看美剧、英剧学英语有什么有效的方法吗？ - 采铜的回答 : 9  task_id 787\n",
    "  章鱼的智商到底有多高，为什么有人说它们的智商可以统治世界? - Mandelbrot的回答 : 9  task_id 588\n",
    "  类似 AlphaGo 的人工智能在游戏王、万智牌等卡牌游戏中胜率如何？ - 莫名的回答 : 9  task_id 3724\n",
    "  给 59 分强行不给过的老师是一种怎么样的存在？ - chenqin的回答 : 9  task_id 3317\n",
    "  网络上有哪些广为流传的「历史真相」其实是谣言？ - 马前卒的回答 : 9  task_id 5089\n",
    "  美国南北战争的真正原因是什么？ - talich的回答 : 9  task_id 2571\n",
    "  美国发动伊拉克战争的核心原因到底是什么？ - 冷哲的回答 : 9  task_id 1332\n",
    "  美国最高法院大法官 Scalia 的去世将会带来怎样的影响？ - talich的回答 : 9  task_id 4423\n",
    "  美国有人在开车在路上故意把川普的竞选宣传牌碾倒，如何评价这种因为不同政见而破坏对方财物的行为？ - talich的回答 : 9  task_id 4412\n",
    "  装逼成功是怎样一种体验？ - 大盗贼霍老爷的回答 : 9  task_id 4048\n",
    "  谁最应该被印在人民币上面？ - 蜂鸟的回答 : 9  task_id 2274\n",
    "  豆瓣的核心用户都有什么特点？ - 十一点半的回答 : 9  task_id 84\n",
    "  赌场有哪些看似不起眼，实则心机颇深的设计？ - 第一喵的回答 : 9  task_id 3158\n",
    "  赌场有哪些看似不起眼，实则心机颇深的设计？ - 肥肥猫的回答 : 9  task_id 3151\n",
    "  雷锋是个什么样的人，怎么客观评价雷锋？ - 书生的回答 : 9  task_id 96\n",
    "  鲁迅和秋瑾的关系好吗？ - 书生的回答 : 9  task_id 91\n",
    "  1927 年蒋介石为什么要清党？ - 冷哲的回答 : 8  task_id 1415\n",
    "  1949年以后的中国本土设计的建筑中，哪些能称得上是有思想的好建筑？ - Chilly的回答 : 8  task_id 3104\n",
    "  2015 年初，中国制造业形势有多严峻？ - 稻可道 稻子的稻的回答 : 8  task_id 2239\n",
    "  2016 年，中国房地产泡沫是否会在一两年内破灭，从而引发金融危机？ - Bee Mad的回答 : 8  task_id 2104\n",
    "  2016 年，中国房地产泡沫是否会在一两年内破灭，从而引发金融危机？ - 君临的回答 : 8  task_id 2205\n",
    "  2016 年，中国房地产泡沫是否会在一两年内破灭，从而引发金融危机？ - 小马的回答 : 8  task_id 5752\n",
    "  ISIS 是一个什么样的组织？它的资金是哪来的？ - 罗晓川的回答 : 8  task_id 39\n",
    "  Lambda 表达式有何用处？如何使用？ - 涛吴的回答 : 8  task_id 2008\n",
    "  Signal Weighting---基于因子IC的因子权重优化模型 - 陈颖的专栏 量化哥 : 8  task_id 6007\n",
    "  Smart Beta 投资方法 - 陈颖的专栏 量化哥 : 8  task_id 6017\n",
    "  ofo 获滴滴数千万美元C轮投资，然后呢？ - 曲凯的专栏 创投方法论 : 8  task_id 5656\n",
    "  《文明 6 》中的背景音乐都有什么来历？ - PenguinKing的回答 : 8  task_id 6250\n",
    "  《权力的游戏》你觉得最可怜的人是谁？ - 苏鲁的回答 : 8  task_id 4576\n",
    "  《蒋介石日记》和《毛泽东选集》差距有多大？ - 马前卒的回答 : 8  task_id 5355\n",
    "  「心灵鸡汤」式的文章错在哪？ - 赵皓阳的回答 : 8  task_id 584\n",
    "  '''\n",
    "\n",
    "  for line in datalines(s):\n",
    "    task_id = int(line.split('task_id')[-1][1:])\n",
    "    # log(task_id)\n",
    "    task = Task.select().where(Task.id == task_id).get()\n",
    "    log(task)\n",
    "    # log(task.pages)\n",
    "    # log(task.last_page)\n",
    "    contents = [fix_in_compare(p.content) for p in task.pages]\n",
    "    # questions = [fix_in_compare(p.question) for p in task.pages]\n",
    "    titles = [p.title for p in task.pages]\n",
    "\n",
    "    # metas = [p.metadata for p in task.pages]\n",
    "    # for meta in metas:\n",
    "    #   log(meta)\n",
    "    # compare_text_sequence(titles, label='titles')\n",
    "    # compare_text_sequence(questions, label='questions')\n",
    "    compare_text_sequence(contents, label='contents')\n",
    "\n",
    "    log('\\n\\n\\n')\n",
    "\n",
    "\n",
    "\n",
    "def fix_in_compare(text):\n",
    "  import re\n",
    "  img_reg = r'\\n*\\!\\[\\]\\((https?://pic[^()]+?(\\.jpg|\\.png|\\.gif))\\)\\n*'\n",
    "  pattern_img_start_inline = re.compile(img_reg)\n",
    "  def replace_img_start_inline(mat):\n",
    "    # 保证生成的 *.md 图片在新的一行\n",
    "    s = mat.group(0)\n",
    "    while not s.startswith('\\n\\n'):\n",
    "      s = '\\n' + s\n",
    "    while not s.endswith('\\n\\n'):\n",
    "      s = s + '\\n'\n",
    "    return s\n",
    "\n",
    "  text = pattern_img_start_inline.sub(replace_img_start_inline, text)\n",
    "\n",
    "  pattern_img_https = re.compile(r'http://pic(\\d)\\.zhimg\\.com')\n",
    "  text = pattern_img_https.sub(r'https://pic\\1.zhimg.com', text)\n",
    "  return text\n",
    "\n",
    "\n",
    "def compare_text(t1, t2, prefix=''):\n",
    "  import difflib\n",
    "  changes = [l for l in difflib.ndiff(t1.split('\\n'), t2.split('\\n')) if l.startswith(('+ ', '- '))]\n",
    "  for change in changes:\n",
    "    log(prefix + change)\n",
    "  return changes\n",
    "\n",
    "\n",
    "def compare_text_sequence(texts, label=''):\n",
    "  from pylon import dedupe\n",
    "  from pylon import windows\n",
    "\n",
    "  texts = list(dedupe(texts))\n",
    "  if len(texts) > 1:\n",
    "    log('detect changed {}'.format(label))\n",
    "    for t1, t2 in windows(texts, length=2, overlap=1):\n",
    "      compare_text(t1, t2, prefix='  ')\n",
    "  else:\n",
    "    log('nothing changed {}'.format(label))\n",
    "\n",
    "\n",
    "\n",
    "def test_explore_voteup_thanks():\n",
    "  '''感谢赞同比跟文章质量没啥关系'''\n",
    "  query = (Page.select(Page, Task)\n",
    "           .join(Task)\n",
    "           .where((Task.page_type == 'zhihu_answer'))\n",
    "           .group_by(Page.task)\n",
    "           .having(Page.watch_date == fn.MAX(Page.watch_date))\n",
    "           .limit(50)\n",
    "           .order_by(fn.Random())\n",
    "           )\n",
    "\n",
    "  def thanks_voteup_ratio(page):\n",
    "    thanks = int(page.metadata.split('thanks: ')[1].split(' ')[0])\n",
    "    voteup = int(page.metadata.split('voteup: ')[1].split(' ')[0])\n",
    "    return round(thanks / voteup, 3)\n",
    "\n",
    "  # for page in query:\n",
    "  #   log(page.title)\n",
    "\n",
    "  pages = sorted(query, key=thanks_voteup_ratio)\n",
    "  for page in pages:\n",
    "    log(page.title)\n",
    "    log(repr(page.content[:500]))\n",
    "    log(thanks_voteup_ratio(page))\n",
    "    log('-----------------\\n\\n\\n')\n"
   ]
  },
  {
   "cell_type": "code",
   "execution_count": null,
   "metadata": {
    "hidden": true
   },
   "outputs": [],
   "source": []
  },
  {
   "cell_type": "code",
   "execution_count": null,
   "metadata": {
    "hidden": true
   },
   "outputs": [],
   "source": []
  },
  {
   "cell_type": "markdown",
   "metadata": {
    "ExecuteTime": {
     "end_time": "2019-06-27T07:39:48.453813Z",
     "start_time": "2019-06-27T07:39:48.285298Z"
    }
   },
   "source": [
    "### Test"
   ]
  },
  {
   "cell_type": "code",
   "execution_count": null,
   "metadata": {
    "ExecuteTime": {
     "end_time": "2019-07-04T08:07:01.922849Z",
     "start_time": "2019-07-04T08:07:01.359115Z"
    }
   },
   "outputs": [],
   "source": [
    "from collector import Collector\n",
    "\n",
    "col = Collector.load(file='config.yaml')"
   ]
  },
  {
   "cell_type": "code",
   "execution_count": null,
   "metadata": {
    "ExecuteTime": {
     "end_time": "2019-06-27T07:55:41.415503Z",
     "start_time": "2019-06-27T07:55:41.350674Z"
    }
   },
   "outputs": [],
   "source": [
    "col.all()"
   ]
  },
  {
   "cell_type": "code",
   "execution_count": null,
   "metadata": {
    "ExecuteTime": {
     "end_time": "2019-06-27T07:55:42.831570Z",
     "start_time": "2019-06-27T07:55:42.760345Z"
    }
   },
   "outputs": [],
   "source": [
    "col.add('https://www.zhihu.com/question/49545583/answer/116529877')"
   ]
  },
  {
   "cell_type": "code",
   "execution_count": null,
   "metadata": {},
   "outputs": [],
   "source": [
    "col.scan()"
   ]
  },
  {
   "cell_type": "code",
   "execution_count": null,
   "metadata": {},
   "outputs": [],
   "source": [
    "collector.add(weixin_page_url)\n",
    "collector.add(zhihu_column_url)\n",
    "collector.add(zhihu_anwser_id=xxx)\n",
    "collector.add(zhihu_author_id=xxx)\n",
    "collector.add(column_id=xxx)\n",
    "\n",
    "collector.save(file=xxx)\n",
    "...\n",
    "collector.rescan()\n",
    "collector.save(file=xxx)\n",
    "collector = Collector.load(file=xxx.yaml)"
   ]
  },
  {
   "cell_type": "code",
   "execution_count": null,
   "metadata": {},
   "outputs": [],
   "source": []
  },
  {
   "cell_type": "code",
   "execution_count": null,
   "metadata": {},
   "outputs": [],
   "source": []
  },
  {
   "cell_type": "code",
   "execution_count": null,
   "metadata": {},
   "outputs": [],
   "source": []
  },
  {
   "cell_type": "code",
   "execution_count": 4,
   "metadata": {
    "ExecuteTime": {
     "end_time": "2019-07-08T08:36:43.728704Z",
     "start_time": "2019-07-08T08:36:43.153244Z"
    }
   },
   "outputs": [
    {
     "name": "stdout",
     "output_type": "stream",
     "text": [
      "loaded config_data option lister: \n",
      "{'enabled': True,\n",
      " 'limit': 6,\n",
      " 'max_cycle': '15day',\n",
      " 'min_cycle': '10minutes',\n",
      " 'upvote': '>=500',\n",
      " 'weight': 0.5}\n",
      "loaded config_data option page: \n",
      "{'enabled': True, 'max_cycle': '1day', 'min_cycle': '10minutes', 'weight': 0.5}\n",
      "loaded config_data lister tasks 4\n",
      "loaded config_data page tasks 14\n",
      "Watcher.add_tasks result status , Counter({'added': 4})\n",
      "Watcher.add_tasks result status , Counter({'added': 14})\n"
     ]
    }
   ],
   "source": [
    "from watcher import Watcher\n",
    "# w = Watcher(r'D:\\Coding\\TheNorthRemembers\\test\\旗舰评论——战略航空军元帅的旗舰')\n",
    "# w = Watcher(r'D:\\Coding\\TheNorthRemembers\\test\\知乎 - 温酒的回答')\n",
    "w = Watcher(r'D:\\Coding\\TheNorthRemembers\\test\\经济')\n"
   ]
  },
  {
   "cell_type": "code",
   "execution_count": null,
   "metadata": {
    "ExecuteTime": {
     "end_time": "2019-07-04T15:55:59.397862Z",
     "start_time": "2019-07-04T15:55:59.293120Z"
    }
   },
   "outputs": [],
   "source": [
    "t = w.tasks\n",
    "t[0]\n",
    "t[0].option\n"
   ]
  },
  {
   "cell_type": "code",
   "execution_count": 5,
   "metadata": {
    "ExecuteTime": {
     "end_time": "2019-07-08T08:38:11.221731Z",
     "start_time": "2019-07-08T08:36:44.778965Z"
    },
    "scrolled": false
   },
   "outputs": [
    {
     "name": "stdout",
     "output_type": "stream",
     "text": [
      "Watcher.watch should fetch 4 lister_type tasks\n",
      "\n",
      "Task.run lister request: <Task #1753066825768> https://www.zhihu.com/collection/133030984 (ver. 2)\n",
      "    Collection 马前卒分类-经济\n",
      "    task add: 2 days ago, last watch: 2 days ago, last change 2 days ago, next watch: 2 days ago \n",
      "request_ZhihuAnswerLister collection_id, 133030984\n",
      "detect new task: https://www.zhihu.com/question/40382284/answer/527790187\n",
      "                 中国有哪些习惯是苏联影响的遗留？ - 马前卒的回答\n",
      "detect new task: https://www.zhihu.com/question/51837182/answer/526327145\n",
      "                 美国教育贵，是因为政府不作为吗？ - 马前卒的回答\n",
      "detect new task: https://www.zhihu.com/question/292232062/answer/502646944\n",
      "                 乡村学校为什么留不住教师？ - 马前卒的回答\n",
      "detect new task: https://www.zhihu.com/question/292120772/answer/495671303\n",
      "                 为什么传统出租车上发生的命案没有大被幅度宣传？ - 马前卒的回答\n",
      "detect new task: https://www.zhihu.com/question/64061748/answer/487805570\n",
      "                 现在去雄安打拼，是不是相当于30年前去北上广深？ - 马前卒的回答\n",
      "detect new task: https://www.zhihu.com/question/291851889/answer/487793843\n",
      "                 如何看待苏州一所外来务工人员子弟学校借用重点小学校舍办学，遭遇原学校家长实名联合反对？ - 马前卒的回答\n",
      "Task.run detect new tasks done: 6 tasks\n",
      "Watcher.add_tasks result status , Counter({'scheduled': 6})\n",
      "Watcher.watch lister task done: \n",
      "<Task #1753066825768> https://www.zhihu.com/collection/133030984 (ver. 3)\n",
      "    Collection 马前卒分类-经济\n",
      "    task add: 2 days ago, last watch: just now, last change 2 days ago, next watch: in 2 days \n",
      "\n",
      "\n",
      "Task.run lister request: <Task #1753076735280> https://www.zhihu.com/topic/19582433/hot (ver. 2)\n",
      "    Topic 苏联\n",
      "    task add: 2 days ago, last watch: 2 days ago, last change 2 days ago, next watch: 2 days ago \n",
      "request_ZhihuAnswerLister topic_id, 19582433\n",
      "苏联19582433\n",
      "detect new task: https://www.zhihu.com/question/21602621/answer/30402937\n",
      "                 如何评价苏联的军工水平？ - 鸑鷟鹓鶵的回答\n",
      "detect new task: https://www.zhihu.com/question/317708657/answer/653009572\n",
      "                 为什么看起来五大三粗的俄国人，在艺术领域反而很细腻？ - 晖月的回答\n",
      "detect new task: https://www.zhihu.com/question/21567651/answer/56227075\n",
      "                 为什么说俄罗斯民族是战斗民族？ - 王富贵的回答\n",
      "Task.run detect new tasks done: 3 tasks\n",
      "Watcher.add_tasks result status , Counter({'scheduled': 3})\n",
      "Watcher.watch lister task done: \n",
      "<Task #1753076735280> https://www.zhihu.com/topic/19582433/hot (ver. 3)\n",
      "    Topic 苏联\n",
      "    task add: 2 days ago, last watch: just now, last change 2 days ago, next watch: in 2 days \n",
      "\n",
      "\n",
      "Task.run lister request: <Task #1753076735000> https://www.zhihu.com/topic/19553437/hot (ver. 2)\n",
      "    Topic 台湾\n",
      "    task add: 2 days ago, last watch: 2 days ago, last change 2 days ago, next watch: 2 days ago \n",
      "request_ZhihuAnswerLister topic_id, 19553437\n",
      "台湾19553437\n",
      "detect new task: https://www.zhihu.com/question/27376048/answer/418659748\n",
      "                 普通台湾人真的特别喜欢日本吗？ - 姜錦的回答\n",
      "detect new task: https://www.zhihu.com/question/296904119/answer/510160579\n",
      "                 为什么大部分中国人没学过繁体字却能看懂？ - Rian Zakaron的回答\n",
      "detect new task: https://www.zhihu.com/question/53104504/answer/133590732\n",
      "                 日本对台湾的殖民统治给台湾造成了什么样的影响？ - 在贵州吃腊肉的回答\n",
      "detect new task: https://www.zhihu.com/question/308232247/answer/572981165\n",
      "                 如何看待台北故宫博物院所藏的书法国宝颜真卿《祭侄文稿》等文物赴日本展览一事？ - 张佳玮的回答\n",
      "detect new task: https://www.zhihu.com/question/318711942/answer/668673295\n",
      "                 我男朋友是台湾的，他家人想要他带我去他家看看，这算是邀请吗？ - 阿海的回答\n",
      "Task.run detect new tasks done: 5 tasks\n",
      "Watcher.add_tasks result status , Counter({'scheduled': 5})\n",
      "Watcher.watch lister task done: \n",
      "<Task #1753076735000> https://www.zhihu.com/topic/19553437/hot (ver. 3)\n",
      "    Topic 台湾\n",
      "    task add: 2 days ago, last watch: just now, last change 2 days ago, next watch: in 2 days \n",
      "\n",
      "\n",
      "Task.run lister request: <Task #1753076732648> https://www.zhihu.com/question/42804614 (ver. 0)\n",
      "    Disney\n",
      "    task add: seconds ago, last watch: None, last change None, next watch: seconds ago \n",
      "request_ZhihuAnswerLister question_id, 42804614\n",
      "detect new task: https://www.zhihu.com/question/42804614/answer/699960876\n",
      "                 去上海迪士尼有什么攻略？ - 萌酥的回答\n",
      "detect new task: https://www.zhihu.com/question/42804614/answer/541651559\n",
      "                 去上海迪士尼有什么攻略？ - 颜子乐的回答\n",
      "detect new task: https://www.zhihu.com/question/42804614/answer/406210559\n",
      "                 去上海迪士尼有什么攻略？ - 叶子猪的回答\n",
      "detect new task: https://www.zhihu.com/question/42804614/answer/632939876\n",
      "                 去上海迪士尼有什么攻略？ - 红黑的回答\n",
      "detect new task: https://www.zhihu.com/question/42804614/answer/165982506\n",
      "                 去上海迪士尼有什么攻略？ - 梦尧的回答\n",
      "detect new task: https://www.zhihu.com/question/42804614/answer/171908103\n",
      "                 去上海迪士尼有什么攻略？ - hypnos的回答\n",
      "Task.run detect new tasks done: 6 tasks\n",
      "Watcher.add_tasks result status , Counter({'added': 6})\n",
      "Watcher.watch lister task done: \n",
      "<Task #1753076732648> https://www.zhihu.com/question/42804614 (ver. 1)\n",
      "    Disney\n",
      "    task add: seconds ago, last watch: just now, last change just now, next watch: in 10 minutes \n",
      "\n",
      "\n",
      "Watcher.watch should fetch 20 page_type tasks\n",
      "\n",
      "Task.run page request: <Task #1753076732536> https://www.zhihu.com/question/40382284/answer/527790187 (ver. 2)\n",
      "    中国有哪些习惯是苏联影响的遗留？ - 马前卒的回答\n",
      "    task add: 2 days ago, last watch: 2 days ago, last change 2 days ago, next watch: 2 days ago \n",
      "Task.run fetch page done\n",
      "warning! already exist\n",
      "write D:\\Coding\\TheNorthRemembers\\test\\经济/中国有哪些习惯是苏联影响的遗留？ - 马前卒的回答.md done\n",
      "Watcher.watch page task done: <Task #1753076732536>\n",
      "\n",
      "\n",
      "Task.run page request: <Task #1753076744656> https://www.zhihu.com/question/51837182/answer/526327145 (ver. 2)\n",
      "    美国教育贵，是因为政府不作为吗？ - 马前卒的回答\n",
      "    task add: 2 days ago, last watch: 2 days ago, last change 2 days ago, next watch: 2 days ago \n",
      "Task.run fetch page done\n",
      "warning! already exist\n",
      "write D:\\Coding\\TheNorthRemembers\\test\\经济/美国教育贵，是因为政府不作为吗？ - 马前卒的回答.md done\n",
      "Watcher.watch page task done: <Task #1753076744656>\n",
      "\n",
      "\n",
      "Task.run page request: <Task #1753076744992> https://www.zhihu.com/question/292232062/answer/502646944 (ver. 2)\n",
      "    乡村学校为什么留不住教师？ - 马前卒的回答\n",
      "    task add: 2 days ago, last watch: 2 days ago, last change 2 days ago, next watch: 2 days ago \n",
      "Task.run fetch page done\n",
      "warning! already exist\n",
      "write D:\\Coding\\TheNorthRemembers\\test\\经济/乡村学校为什么留不住教师？ - 马前卒的回答.md done\n",
      "Watcher.watch page task done: <Task #1753076744992>\n",
      "\n",
      "\n",
      "Task.run page request: <Task #1753076746112> https://www.zhihu.com/question/292120772/answer/495671303 (ver. 2)\n",
      "    为什么传统出租车上发生的命案没有大被幅度宣传？ - 马前卒的回答\n",
      "    task add: 2 days ago, last watch: 2 days ago, last change 2 days ago, next watch: 2 days ago \n",
      "Task.run fetch page done\n",
      "warning! already exist\n",
      "write D:\\Coding\\TheNorthRemembers\\test\\经济/为什么传统出租车上发生的命案没有大被幅度宣传？ - 马前卒的回答.md done\n",
      "Watcher.watch page task done: <Task #1753076746112>\n",
      "\n",
      "\n",
      "Task.run page request: <Task #1753076790496> https://www.zhihu.com/question/64061748/answer/487805570 (ver. 2)\n",
      "    现在去雄安打拼，是不是相当于30年前去北上广深？ - 马前卒的回答\n",
      "    task add: 2 days ago, last watch: 2 days ago, last change 2 days ago, next watch: 2 days ago \n",
      "Task.run fetch page done\n",
      "warning! already exist\n",
      "write D:\\Coding\\TheNorthRemembers\\test\\经济/现在去雄安打拼，是不是相当于30年前去北上广深？ - 马前卒的回答.md done\n",
      "Watcher.watch page task done: <Task #1753076790496>\n",
      "\n",
      "\n",
      "Task.run page request: <Task #1753076791560> https://www.zhihu.com/question/291851889/answer/487793843 (ver. 2)\n",
      "    如何看待苏州一所外来务工人员子弟学校借用重点小学校舍办学，遭遇原学校家长实名联合反对？ - 马前卒的回答\n",
      "    task add: 2 days ago, last watch: 2 days ago, last change 2 days ago, next watch: 2 days ago \n",
      "Task.run fetch page done\n",
      "warning! already exist\n",
      "write D:\\Coding\\TheNorthRemembers\\test\\经济/如何看待苏州一所外来务工人员子弟学校借用重点小学校舍办学，遭遇原学校家长实名联合反对？ - 马前卒的回答.md done\n",
      "Watcher.watch page task done: <Task #1753076791560>\n",
      "\n",
      "\n",
      "Task.run page request: <Task #1753076791336> https://www.zhihu.com/question/21602621/answer/30402937 (ver. 2)\n",
      "    如何评价苏联的军工水平？ - 鸑鷟鹓鶵的回答\n",
      "    task add: 2 days ago, last watch: 2 days ago, last change 2 days ago, next watch: 2 days ago \n",
      "Task.run fetch page done\n",
      "warning! already exist\n",
      "write D:\\Coding\\TheNorthRemembers\\test\\经济/如何评价苏联的军工水平？ - 鸑鷟鹓鶵的回答.md done\n",
      "Watcher.watch page task done: <Task #1753076791336>\n",
      "\n",
      "\n",
      "Task.run page request: <Task #1753076792456> https://www.zhihu.com/question/317708657/answer/653009572 (ver. 2)\n",
      "    为什么看起来五大三粗的俄国人，在艺术领域反而很细腻？ - 晖月的回答\n",
      "    task add: 2 days ago, last watch: 2 days ago, last change 2 days ago, next watch: 2 days ago \n",
      "Task.run fetch page done\n",
      "warning! already exist\n",
      "write D:\\Coding\\TheNorthRemembers\\test\\经济/为什么看起来五大三粗的俄国人，在艺术领域反而很细腻？ - 晖月的回答.md done\n",
      "Watcher.watch page task done: <Task #1753076792456>\n",
      "\n",
      "\n"
     ]
    },
    {
     "name": "stdout",
     "output_type": "stream",
     "text": [
      "Task.run page request: <Task #1753076790272> https://www.zhihu.com/question/21567651/answer/56227075 (ver. 2)\n",
      "    为什么说俄罗斯民族是战斗民族？ - 王富贵的回答\n",
      "    task add: 2 days ago, last watch: 2 days ago, last change 2 days ago, next watch: 2 days ago \n",
      "Task.run fetch page done\n",
      "warning! already exist\n",
      "write D:\\Coding\\TheNorthRemembers\\test\\经济/为什么说俄罗斯民族是战斗民族？ - 王富贵的回答.md done\n",
      "Watcher.watch page task done: <Task #1753076790272>\n",
      "\n",
      "\n",
      "Task.run page request: <Task #1753076791392> https://www.zhihu.com/question/27376048/answer/418659748 (ver. 2)\n",
      "    普通台湾人真的特别喜欢日本吗？ - 姜錦的回答\n",
      "    task add: 2 days ago, last watch: 2 days ago, last change 2 days ago, next watch: 2 days ago \n",
      "Task.run fetch page done\n",
      "warning! already exist\n",
      "write D:\\Coding\\TheNorthRemembers\\test\\经济/普通台湾人真的特别喜欢日本吗？ - 姜錦的回答.md done\n",
      "Watcher.watch page task done: <Task #1753076791392>\n",
      "\n",
      "\n",
      "Task.run page request: <Task #1753076792288> https://www.zhihu.com/question/296904119/answer/510160579 (ver. 2)\n",
      "    为什么大部分中国人没学过繁体字却能看懂？ - Rian Zakaron的回答\n",
      "    task add: 2 days ago, last watch: 2 days ago, last change 2 days ago, next watch: 2 days ago \n",
      "Task.run fetch page done\n",
      "warning! already exist\n",
      "write D:\\Coding\\TheNorthRemembers\\test\\经济/为什么大部分中国人没学过繁体字却能看懂？ - Rian Zakaron的回答.md done\n",
      "Watcher.watch page task done: <Task #1753076792288>\n",
      "\n",
      "\n",
      "Task.run page request: <Task #1753076806992> https://www.zhihu.com/question/53104504/answer/133590732 (ver. 2)\n",
      "    日本对台湾的殖民统治给台湾造成了什么样的影响？ - 在贵州吃腊肉的回答\n",
      "    task add: 2 days ago, last watch: 2 days ago, last change 2 days ago, next watch: 2 days ago \n",
      "Task.run fetch page done\n",
      "warning! already exist\n",
      "write D:\\Coding\\TheNorthRemembers\\test\\经济/日本对台湾的殖民统治给台湾造成了什么样的影响？ - 在贵州吃腊肉的回答.md done\n",
      "Watcher.watch page task done: <Task #1753076806992>\n",
      "\n",
      "\n",
      "Task.run page request: <Task #1753076808168> https://www.zhihu.com/question/308232247/answer/572981165 (ver. 2)\n",
      "    如何看待台北故宫博物院所藏的书法国宝颜真卿《祭侄文稿》等文物赴日本展览一事？ - 张佳玮的回答\n",
      "    task add: 2 days ago, last watch: 2 days ago, last change 2 days ago, next watch: 2 days ago \n",
      "Task.run fetch page done\n",
      "warning! already exist\n",
      "write D:\\Coding\\TheNorthRemembers\\test\\经济/如何看待台北故宫博物院所藏的书法国宝颜真卿《祭侄文稿》等文物赴日本展览一事？ - 张佳玮的回答.md done\n",
      "Watcher.watch page task done: <Task #1753076808168>\n",
      "\n",
      "\n",
      "Task.run page request: <Task #1753076806488> https://www.zhihu.com/question/318711942/answer/668673295 (ver. 2)\n",
      "    我男朋友是台湾的，他家人想要他带我去他家看看，这算是邀请吗？ - 阿海的回答\n",
      "    task add: 2 days ago, last watch: 2 days ago, last change 2 days ago, next watch: 2 days ago \n",
      "Task.run fetch page done\n",
      "warning! already exist\n",
      "write D:\\Coding\\TheNorthRemembers\\test\\经济/我男朋友是台湾的，他家人想要他带我去他家看看，这算是邀请吗？ - 阿海的回答.md done\n",
      "Watcher.watch page task done: <Task #1753076806488>\n",
      "\n",
      "\n",
      "Task.run page request: <Task #1753076735392> https://www.zhihu.com/question/42804614/answer/699960876 (ver. 0)\n",
      "    去上海迪士尼有什么攻略？ - 萌酥的回答\n",
      "    task add: a minute ago, last watch: None, last change None, next watch: a minute ago \n",
      "Task.run fetch page done\n",
      "write D:\\Coding\\TheNorthRemembers\\test\\经济/去上海迪士尼有什么攻略？ - 萌酥的回答.md done\n",
      "Watcher.watch page task done: <Task #1753076735392>\n",
      "\n",
      "\n",
      "Task.run page request: <Task #1753077213616> https://www.zhihu.com/question/42804614/answer/541651559 (ver. 0)\n",
      "    去上海迪士尼有什么攻略？ - 颜子乐的回答\n",
      "    task add: a minute ago, last watch: None, last change None, next watch: a minute ago \n",
      "Task.run fetch page done\n",
      "write D:\\Coding\\TheNorthRemembers\\test\\经济/去上海迪士尼有什么攻略？ - 颜子乐的回答.md done\n",
      "Watcher.watch page task done: <Task #1753077213616>\n",
      "\n",
      "\n",
      "Task.run page request: <Task #1753076747176> https://www.zhihu.com/question/42804614/answer/406210559 (ver. 0)\n",
      "    去上海迪士尼有什么攻略？ - 叶子猪的回答\n",
      "    task add: a minute ago, last watch: None, last change None, next watch: a minute ago \n",
      "Task.run fetch page done\n",
      "write D:\\Coding\\TheNorthRemembers\\test\\经济/去上海迪士尼有什么攻略？ - 叶子猪的回答.md done\n",
      "Watcher.watch page task done: <Task #1753076747176>\n",
      "\n",
      "\n",
      "Task.run page request: <Task #1753076744712> https://www.zhihu.com/question/42804614/answer/632939876 (ver. 0)\n",
      "    去上海迪士尼有什么攻略？ - 红黑的回答\n",
      "    task add: a minute ago, last watch: None, last change None, next watch: a minute ago \n",
      "Task.run fetch page done\n",
      "write D:\\Coding\\TheNorthRemembers\\test\\经济/去上海迪士尼有什么攻略？ - 红黑的回答.md done\n",
      "Watcher.watch page task done: <Task #1753076744712>\n",
      "\n",
      "\n",
      "Task.run page request: <Task #1753076807216> https://www.zhihu.com/question/42804614/answer/165982506 (ver. 0)\n",
      "    去上海迪士尼有什么攻略？ - 梦尧的回答\n",
      "    task add: a minute ago, last watch: None, last change None, next watch: a minute ago \n",
      "Task.run fetch page done\n",
      "write D:\\Coding\\TheNorthRemembers\\test\\经济/去上海迪士尼有什么攻略？ - 梦尧的回答.md done\n",
      "Watcher.watch page task done: <Task #1753076807216>\n",
      "\n",
      "\n",
      "Task.run page request: <Task #1753076809456> https://www.zhihu.com/question/42804614/answer/171908103 (ver. 0)\n",
      "    去上海迪士尼有什么攻略？ - hypnos的回答\n",
      "    task add: a minute ago, last watch: None, last change None, next watch: a minute ago \n",
      "Task.run fetch page done\n",
      "write D:\\Coding\\TheNorthRemembers\\test\\经济/去上海迪士尼有什么攻略？ - hypnos的回答.md done\n",
      "Watcher.watch page task done: <Task #1753076809456>\n",
      "\n",
      "\n",
      "done, save_config_yaml \"D:\\Coding\\TheNorthRemembers\\test\\经济/.task.yaml\" done\n"
     ]
    }
   ],
   "source": [
    "w.watch()"
   ]
  },
  {
   "cell_type": "code",
   "execution_count": null,
   "metadata": {
    "ExecuteTime": {
     "end_time": "2019-07-01T12:04:51.323256Z",
     "start_time": "2019-07-01T12:04:51.220555Z"
    }
   },
   "outputs": [],
   "source": [
    "w.tasks[2].should_fetch"
   ]
  },
  {
   "cell_type": "markdown",
   "metadata": {},
   "source": [
    "### generate token"
   ]
  },
  {
   "cell_type": "code",
   "execution_count": null,
   "metadata": {
    "ExecuteTime": {
     "end_time": "2019-06-28T08:01:37.184356Z",
     "start_time": "2019-06-28T08:01:14.553118Z"
    }
   },
   "outputs": [],
   "source": [
    "from tools import generate_zhihu_token\n",
    "generate_zhihu_token()"
   ]
  },
  {
   "cell_type": "code",
   "execution_count": null,
   "metadata": {},
   "outputs": [],
   "source": []
  },
  {
   "cell_type": "code",
   "execution_count": 107,
   "metadata": {
    "ExecuteTime": {
     "end_time": "2019-07-05T08:54:29.496826Z",
     "start_time": "2019-07-05T08:54:29.399091Z"
    }
   },
   "outputs": [],
   "source": [
    "from fetcher_api import zhihu"
   ]
  },
  {
   "cell_type": "code",
   "execution_count": 109,
   "metadata": {
    "ExecuteTime": {
     "end_time": "2019-07-05T08:54:49.356830Z",
     "start_time": "2019-07-05T08:54:49.279040Z"
    }
   },
   "outputs": [],
   "source": [
    "client = zhihu.client"
   ]
  },
  {
   "cell_type": "code",
   "execution_count": 114,
   "metadata": {
    "ExecuteTime": {
     "end_time": "2019-07-05T08:57:13.892297Z",
     "start_time": "2019-07-05T08:57:13.813487Z"
    }
   },
   "outputs": [
    {
     "data": {
      "text/plain": [
       "133030984"
      ]
     },
     "execution_count": 114,
     "metadata": {},
     "output_type": "execute_result"
    }
   ],
   "source": [
    "c = client.collection(133030984)\n",
    "int(\"133030984\")"
   ]
  },
  {
   "cell_type": "code",
   "execution_count": null,
   "metadata": {},
   "outputs": [],
   "source": []
  },
  {
   "cell_type": "code",
   "execution_count": null,
   "metadata": {},
   "outputs": [],
   "source": []
  },
  {
   "cell_type": "code",
   "execution_count": 14,
   "metadata": {
    "ExecuteTime": {
     "end_time": "2019-07-08T09:06:32.787716Z",
     "start_time": "2019-07-08T09:06:32.680993Z"
    }
   },
   "outputs": [
    {
     "data": {
      "text/plain": [
       "'page.py'"
      ]
     },
     "execution_count": 14,
     "metadata": {},
     "output_type": "execute_result"
    }
   ],
   "source": [
    "import os\n",
    "os.path.basename('D:\\Coding\\TheNorthRemembers\\page.py')"
   ]
  },
  {
   "cell_type": "code",
   "execution_count": 13,
   "metadata": {
    "ExecuteTime": {
     "end_time": "2019-07-08T09:06:11.093275Z",
     "start_time": "2019-07-08T09:06:10.984567Z"
    }
   },
   "outputs": [
    {
     "data": {
      "text/plain": [
       "'c:\\\\programdata\\\\anaconda3\\\\lib\\\\ntpath.py'"
      ]
     },
     "execution_count": 13,
     "metadata": {},
     "output_type": "execute_result"
    }
   ],
   "source": [
    "os.path.__file__"
   ]
  },
  {
   "cell_type": "code",
   "execution_count": null,
   "metadata": {
    "ExecuteTime": {
     "end_time": "2019-07-08T10:32:10.466236Z",
     "start_time": "2019-07-08T10:31:58.545Z"
    }
   },
   "outputs": [],
   "source": [
    "import wechatsogou"
   ]
  },
  {
   "cell_type": "code",
   "execution_count": null,
   "metadata": {
    "ExecuteTime": {
     "end_time": "2019-07-08T10:32:10.471223Z",
     "start_time": "2019-07-08T10:31:59.707Z"
    }
   },
   "outputs": [],
   "source": [
    "ws_api = wechatsogou.WechatSogouAPI()"
   ]
  },
  {
   "cell_type": "code",
   "execution_count": 21,
   "metadata": {
    "ExecuteTime": {
     "end_time": "2019-07-08T10:32:24.548522Z",
     "start_time": "2019-07-08T10:32:13.261291Z"
    }
   },
   "outputs": [
    {
     "name": "stdout",
     "output_type": "stream",
     "text": [
      "please input code: 63sf4y\n"
     ]
    }
   ],
   "source": [
    "ws_api.get_gzh_info('南航青年志愿者')"
   ]
  },
  {
   "cell_type": "code",
   "execution_count": 25,
   "metadata": {
    "ExecuteTime": {
     "end_time": "2019-07-08T10:33:00.761669Z",
     "start_time": "2019-07-08T10:32:58.763440Z"
    },
    "scrolled": false
   },
   "outputs": [
    {
     "data": {
      "text/plain": [
       "[{'article': {'abstract': '马前卒工作室的上一篇《淮海战役-中篇》提到,解放军在济南战役的半程已经开始考虑淮海战役问题,而国民党方面“徐州决战计划...',\n",
       "   'imgs': ['https://img01.sogoucdn.com/net/a/04/link?appid=100520033&url=http://mmbiz.qpic.cn/mmbiz_jpg/q0mibtDcB9p119oC9Cwc27J4Lvmfxx825GDcGx5c6ibCZwtes9vicpjAHiaibq5MUuRDMdHaJVlpibYHDqWHXhnXUgxQ/0?wx_fmt=jpeg'],\n",
       "   'time': 1551102178,\n",
       "   'title': '马前卒工作室讲淮海战役(下) ——最典型的中国革命战争',\n",
       "   'url': 'http://mp.weixin.qq.com/s?src=11&timestamp=1562581978&ver=1716&signature=qvEXDZBQ3-Qe67-3utXL0ffiIyZZqfofYgzjPXnwizFPjXOr3olz9d1iXBpz--eQkvhf8Y6ZBHywOzrJtsvuQ56N**SE8IuN52Xlsd0jWrDmvtF3yxfyHjswJ-kN*pNL&new=1'},\n",
       "  'gzh': {'headimage': 'http://wx.qlogo.cn/mmhead/Q3auHgzwzM6ggUgyINwX0wbNgibvq0ibddpx3ObLibNOssJzxoVTKQHDA/0',\n",
       "   'isv': 1,\n",
       "   'profile_url': 'http://mp.weixin.qq.com/profile?src=3&timestamp=1562581978&ver=1&signature=rrwTD7PDLmVAJCJ5n8R2ZfXDE1rbZyxkVPhQCnyS1ifFkl-EDGNu2uYDe4jh8Hxw4MsroryDpkSz2k6P5Va6Mw==',\n",
       "   'wechat_name': '马前卒工作室'}},\n",
       " {'article': {'abstract': '这些描述在大多数战史中都能看到,但很少见到图像化的描述,下图即为马前卒工作室特地制作: 在这半年里,这五个集团在中央的统...',\n",
       "   'imgs': ['https://img01.sogoucdn.com/net/a/04/link?appid=100520033&url=http://mmbiz.qpic.cn/mmbiz_jpg/q0mibtDcB9p3wTPqDqd897YBwgJgH2vx1yyLpw8yKYOphsQuDu9J3iaCOicbgOUS44nK8tqI7Old6Gs9b8o2hZQBw/0?wx_fmt=jpeg'],\n",
       "   'time': 1547743496,\n",
       "   'title': '马前卒工作室谈淮海战役(中) ——粟裕的“野心”在成长',\n",
       "   'url': 'http://mp.weixin.qq.com/s?src=11&timestamp=1562581978&ver=1716&signature=qvEXDZBQ3-Qe67-3utXL0ffiIyZZqfofYgzjPXnwizGgDlaK1hz80gOTHMikPfLUA8H-rr-dXCEMS2EfZ3KFxdSeLMaC4OaGsmO1gxlL9u2CWtnmgEZKYgE2cWL8NEMq&new=1'},\n",
       "  'gzh': {'headimage': 'http://wx.qlogo.cn/mmhead/Q3auHgzwzM6ggUgyINwX0wbNgibvq0ibddpx3ObLibNOssJzxoVTKQHDA/0',\n",
       "   'isv': 1,\n",
       "   'profile_url': 'http://mp.weixin.qq.com/profile?src=3&timestamp=1562581978&ver=1&signature=rrwTD7PDLmVAJCJ5n8R2ZfXDE1rbZyxkVPhQCnyS1ifFkl-EDGNu2uYDe4jh8Hxw4MsroryDpkSz2k6P5Va6Mw==',\n",
       "   'wechat_name': '马前卒工作室'}},\n",
       " {'article': {'abstract': '但从直接的军事效果说,马前卒工作室还需要指出两个常被忽略的影响:首先,金圆券改法币后,在金圆券尚未崩溃的48年9月10月两...',\n",
       "   'imgs': ['https://img01.sogoucdn.com/net/a/04/link?appid=100520033&url=http://mmbiz.qpic.cn/mmbiz_jpg/q0mibtDcB9p0f1FicicNCSxEp26O7KhiceXGdRY9R1CLhJ7ibjlh8v4NmguOMYgI8362FXH0ia2Mp4icRo9mUzNAAtHfQ/0?wx_fmt=jpeg'],\n",
       "   'time': 1545668751,\n",
       "   'title': '马前卒工作室讲淮海战役(上)——最典型的中国革命战争',\n",
       "   'url': 'http://mp.weixin.qq.com/s?src=11&timestamp=1562581978&ver=1716&signature=qvEXDZBQ3-Qe67-3utXL0ffiIyZZqfofYgzjPXnwizHiK1oL*OD0jOlLnIkdW2ZnF5V3Hm*qIczhOmGRIlVoN0o1Kr1LACWZM8OSKxeZTOetn*1p-jw5Axtgkp5ndBe4&new=1'},\n",
       "  'gzh': {'headimage': 'http://wx.qlogo.cn/mmhead/Q3auHgzwzM6ggUgyINwX0wbNgibvq0ibddpx3ObLibNOssJzxoVTKQHDA/0',\n",
       "   'isv': 1,\n",
       "   'profile_url': 'http://mp.weixin.qq.com/profile?src=3&timestamp=1562581978&ver=1&signature=rrwTD7PDLmVAJCJ5n8R2ZfXDE1rbZyxkVPhQCnyS1ifFkl-EDGNu2uYDe4jh8Hxw4MsroryDpkSz2k6P5Va6Mw==',\n",
       "   'wechat_name': '马前卒工作室'}},\n",
       " {'article': {'abstract': '辽沈战役在开打之前,结果已经差不多定型了.马前卒工作室MQZstuido',\n",
       "   'imgs': ['https://img01.sogoucdn.com/net/a/04/link?appid=100520033&url=http://mmbiz.qpic.cn/mmbiz_jpg/q0mibtDcB9p33GEH4meSAEKfp33vv7nCM0icWblR03AfeUeONEfhSv3jZNSDtJs8WbrZicVPdFySmlobHdVvTKkkg/0?wx_fmt=jpeg'],\n",
       "   'time': 1544545129,\n",
       "   'title': '马前卒工作室回顾辽沈战役(一)——别让我拿到一个省',\n",
       "   'url': 'http://mp.weixin.qq.com/s?src=11&timestamp=1562581978&ver=1716&signature=qvEXDZBQ3-Qe67-3utXL0ffiIyZZqfofYgzjPXnwizGDrnf0RslQi4djSURAed1EzQGYhatEdW4N4uKCNLzZdv-bWEITp4KmGo2j9ko0NwT8MXnheAiFg9NZ03vXLW7L&new=1'},\n",
       "  'gzh': {'headimage': 'http://wx.qlogo.cn/mmhead/Q3auHgzwzM6ggUgyINwX0wbNgibvq0ibddpx3ObLibNOssJzxoVTKQHDA/0',\n",
       "   'isv': 1,\n",
       "   'profile_url': 'http://mp.weixin.qq.com/profile?src=3&timestamp=1562581978&ver=1&signature=rrwTD7PDLmVAJCJ5n8R2ZfXDE1rbZyxkVPhQCnyS1ifFkl-EDGNu2uYDe4jh8Hxw4MsroryDpkSz2k6P5Va6Mw==',\n",
       "   'wechat_name': '马前卒工作室'}},\n",
       " {'article': {'abstract': '(马前卒工作室之前曾有文章介绍豫东战役).豫东战役,解放军一方虽然只是惨胜,但在战术上证明了国民党单个兵团在野战中可以...',\n",
       "   'imgs': ['https://img01.sogoucdn.com/net/a/04/link?appid=100520033&url=http://mmbiz.qpic.cn/mmbiz_jpg/q0mibtDcB9p3ia1rZWiayrZ40ibG3ALCziaEZ7glXjulaibTDALTLKBb77xLFyTlK34IAvNW5TsC1EwGGibJAcnV2BWYg/0?wx_fmt=jpeg'],\n",
       "   'time': 1544803308,\n",
       "   'title': '马前卒工作室回顾辽沈战役(二)——胃口太大 双方害怕',\n",
       "   'url': 'http://mp.weixin.qq.com/s?src=11&timestamp=1562581978&ver=1716&signature=qvEXDZBQ3-Qe67-3utXL0ffiIyZZqfofYgzjPXnwizGgaoGekYgJeIm*mj77cgHX2qt05pMOuwCb-jqdMYXJLi6VzeLjNYVZJb6KYzp**BoIKmfuw6hiKSeFkv9HQeRa&new=1'},\n",
       "  'gzh': {'headimage': 'http://wx.qlogo.cn/mmhead/Q3auHgzwzM6ggUgyINwX0wbNgibvq0ibddpx3ObLibNOssJzxoVTKQHDA/0',\n",
       "   'isv': 1,\n",
       "   'profile_url': 'http://mp.weixin.qq.com/profile?src=3&timestamp=1562581978&ver=1&signature=rrwTD7PDLmVAJCJ5n8R2ZfXDE1rbZyxkVPhQCnyS1ifFkl-EDGNu2uYDe4jh8Hxw4MsroryDpkSz2k6P5Va6Mw==',\n",
       "   'wechat_name': '马前卒工作室'}},\n",
       " {'article': {'abstract': '按:日前马前卒工作室曾发表五四运动百年纪念文《用三十年时间 培育一个新中国》,里面提到清朝和民国的海关问题,指出这个机构...',\n",
       "   'imgs': ['https://img01.sogoucdn.com/net/a/04/link?appid=100520033&url=http://mmbiz.qpic.cn/mmbiz_jpg/q0mibtDcB9p1AG83NYunqnbISmgccT5BWP9bXVmuVlIDv3s36713piapdkDyhgVK7hAibyESyvibINwGiaPmpP0tl8g/0?wx_fmt=jpeg'],\n",
       "   'time': 1556721950,\n",
       "   'title': '要发财,去东方!——马前卒工作室【洋关故事】之一',\n",
       "   'url': 'http://mp.weixin.qq.com/s?src=11&timestamp=1562581978&ver=1716&signature=qvEXDZBQ3-Qe67-3utXL0ffiIyZZqfofYgzjPXnwizFo0*9YHH8vVGdYGAdfnQd5sPpDRjpJ-Ol6ejJtcZKPIzWEVtHv7JF3HnbiDzQ7h7daNnql8twENqCUh4xUHP1a&new=1'},\n",
       "  'gzh': {'headimage': 'http://wx.qlogo.cn/mmhead/Q3auHgzwzM6ggUgyINwX0wbNgibvq0ibddpx3ObLibNOssJzxoVTKQHDA/0',\n",
       "   'isv': 1,\n",
       "   'profile_url': 'http://mp.weixin.qq.com/profile?src=3&timestamp=1562581978&ver=1&signature=rrwTD7PDLmVAJCJ5n8R2ZfXDE1rbZyxkVPhQCnyS1ifFkl-EDGNu2uYDe4jh8Hxw4MsroryDpkSz2k6P5Va6Mw==',\n",
       "   'wechat_name': '马前卒工作室'}},\n",
       " {'article': {'abstract': '按:日前马前卒工作室曾发表五四运动百年纪念文《用三十年时间 培育一个新中国》,里面提到清朝和民国的海关问题,指出这个机构...',\n",
       "   'imgs': ['https://img01.sogoucdn.com/net/a/04/link?appid=100520033&url=http://mmbiz.qpic.cn/mmbiz_jpg/q0mibtDcB9p1AG83NYunqnbISmgccT5BWazoELum0Gdo8zcuXt8hpwVezN7dYh9Dg7DibTXGbxTPZIH9ibyyCgSRQ/0?wx_fmt=jpeg'],\n",
       "   'time': 1556896447,\n",
       "   'title': '与中国无关的三国演义——马前卒工作室【洋关故事】之三',\n",
       "   'url': 'http://mp.weixin.qq.com/s?src=11&timestamp=1562581978&ver=1716&signature=qvEXDZBQ3-Qe67-3utXL0ffiIyZZqfofYgzjPXnwizGzW0tNujEwv8rr567HL4RDE6tbQ9fyojBpRb*bnou2Gebz3lLEehKd-S2GAD6A*AWR9O2N6a9r-w4zpiIAJcjf&new=1'},\n",
       "  'gzh': {'headimage': 'http://wx.qlogo.cn/mmhead/Q3auHgzwzM6ggUgyINwX0wbNgibvq0ibddpx3ObLibNOssJzxoVTKQHDA/0',\n",
       "   'isv': 1,\n",
       "   'profile_url': 'http://mp.weixin.qq.com/profile?src=3&timestamp=1562581978&ver=1&signature=rrwTD7PDLmVAJCJ5n8R2ZfXDE1rbZyxkVPhQCnyS1ifFkl-EDGNu2uYDe4jh8Hxw4MsroryDpkSz2k6P5Va6Mw==',\n",
       "   'wechat_name': '马前卒工作室'}},\n",
       " {'article': {'abstract': '按:日前马前卒工作室曾发表五四运动百年纪念文《用三十年时间 培育一个新中国》,里面提到清朝和民国的海关问题,指出这个机构...',\n",
       "   'imgs': ['https://img01.sogoucdn.com/net/a/04/link?appid=100520033&url=http://mmbiz.qpic.cn/mmbiz_jpg/q0mibtDcB9p1AG83NYunqnbISmgccT5BW8NZyMwNBmpmN5Tw11roJ7iabibZxla5wxvupFfiaLvzMUEan1Fy2FiaqjQ/0?wx_fmt=jpeg'],\n",
       "   'time': 1556811754,\n",
       "   'title': '华人与狗不得当高管——马前卒工作室【洋关故事】之二',\n",
       "   'url': 'http://mp.weixin.qq.com/s?src=11&timestamp=1562581978&ver=1716&signature=qvEXDZBQ3-Qe67-3utXL0ffiIyZZqfofYgzjPXnwizEeM7YcEtVVvhnh9Nybue1l6dNCmVyqbMjmuRhrxtpANv1bSFvwrOf62vPPTb1hxfAzy9AumHt9y4KPXquSfgrX&new=1'},\n",
       "  'gzh': {'headimage': 'http://wx.qlogo.cn/mmhead/Q3auHgzwzM6ggUgyINwX0wbNgibvq0ibddpx3ObLibNOssJzxoVTKQHDA/0',\n",
       "   'isv': 1,\n",
       "   'profile_url': 'http://mp.weixin.qq.com/profile?src=3&timestamp=1562581978&ver=1&signature=rrwTD7PDLmVAJCJ5n8R2ZfXDE1rbZyxkVPhQCnyS1ifFkl-EDGNu2uYDe4jh8Hxw4MsroryDpkSz2k6P5Va6Mw==',\n",
       "   'wechat_name': '马前卒工作室'}},\n",
       " {'article': {'abstract': '没想到1949年春节前就能看到晋绥军的末日.推荐阅读:第3.5场战略决战——1948年中秋速克济南城马前卒工作室讲淮海战役(上)...',\n",
       "   'imgs': ['https://img01.sogoucdn.com/net/a/04/link?appid=100520033&url=http://mmbiz.qpic.cn/mmbiz_jpg/q0mibtDcB9p1c1t1SdhviaKvHibbD0gzp75p0PeyicV8bK43BWPcaTh70RS8tElmKNEYTfPFwM599A2BfZYMxUbODw/0?wx_fmt=jpeg'],\n",
       "   'time': 1554176949,\n",
       "   'title': '丢在天平上的秤砣——马前卒工作室平津战役 (上)',\n",
       "   'url': 'http://mp.weixin.qq.com/s?src=11&timestamp=1562581978&ver=1716&signature=qvEXDZBQ3-Qe67-3utXL0ffiIyZZqfofYgzjPXnwizE*CqEMaFa0mLoI2q3wtznwklJoHj6hEFcMeff9BKYjZQhytcfkw3kKclYw7yegmWHQZrQBCIoYcOKbWGT67q2X&new=1'},\n",
       "  'gzh': {'headimage': 'http://wx.qlogo.cn/mmhead/Q3auHgzwzM6ggUgyINwX0wbNgibvq0ibddpx3ObLibNOssJzxoVTKQHDA/0',\n",
       "   'isv': 1,\n",
       "   'profile_url': 'http://mp.weixin.qq.com/profile?src=3&timestamp=1562581978&ver=1&signature=rrwTD7PDLmVAJCJ5n8R2ZfXDE1rbZyxkVPhQCnyS1ifFkl-EDGNu2uYDe4jh8Hxw4MsroryDpkSz2k6P5Va6Mw==',\n",
       "   'wechat_name': '马前卒工作室'}},\n",
       " {'article': {'abstract': '按:日前马前卒工作室曾发表五四运动百年纪念文《用三十年时间 培育一个新中国》,里面提到清朝和民国的海关问题,指出这个机构...',\n",
       "   'imgs': ['https://img01.sogoucdn.com/net/a/04/link?appid=100520033&url=http://mmbiz.qpic.cn/mmbiz_jpg/q0mibtDcB9p02IH8SUMYXpnkibH2iaIx0G7OXgAXk8hciciccyrHSWvzEn6687jB7qbtiaE226UU2zo4vvk07JAynRiaA/0?wx_fmt=jpeg'],\n",
       "   'time': 1557157807,\n",
       "   'title': '百年沉睡 一朝惊醒——马前卒工作室【洋关故事】之五',\n",
       "   'url': 'http://mp.weixin.qq.com/s?src=11&timestamp=1562581978&ver=1716&signature=qvEXDZBQ3-Qe67-3utXL0ffiIyZZqfofYgzjPXnwizFdJ2RwefAkfdhYwtLL-GhfpkNLTwn6N*QCcmJr2dK0KhBAx5d9NF*iNN0yXkRzDbmkcpfYpDEj1UlyJDkoiPnL&new=1'},\n",
       "  'gzh': {'headimage': 'http://wx.qlogo.cn/mmhead/Q3auHgzwzM6ggUgyINwX0wbNgibvq0ibddpx3ObLibNOssJzxoVTKQHDA/0',\n",
       "   'isv': 1,\n",
       "   'profile_url': 'http://mp.weixin.qq.com/profile?src=3&timestamp=1562581978&ver=1&signature=rrwTD7PDLmVAJCJ5n8R2ZfXDE1rbZyxkVPhQCnyS1ifFkl-EDGNu2uYDe4jh8Hxw4MsroryDpkSz2k6P5Va6Mw==',\n",
       "   'wechat_name': '马前卒工作室'}}]"
      ]
     },
     "execution_count": 25,
     "metadata": {},
     "output_type": "execute_result"
    }
   ],
   "source": [
    "list(ws_api.search_article('马前卒工作室'))"
   ]
  },
  {
   "cell_type": "code",
   "execution_count": null,
   "metadata": {},
   "outputs": [],
   "source": []
  },
  {
   "cell_type": "code",
   "execution_count": null,
   "metadata": {},
   "outputs": [],
   "source": []
  }
 ],
 "metadata": {
  "hide_input": false,
  "kernelspec": {
   "display_name": "Python 3",
   "language": "python",
   "name": "python3"
  },
  "language_info": {
   "codemirror_mode": {
    "name": "ipython",
    "version": 3
   },
   "file_extension": ".py",
   "mimetype": "text/x-python",
   "name": "python",
   "nbconvert_exporter": "python",
   "pygments_lexer": "ipython3",
   "version": "3.6.3"
  },
  "toc": {
   "nav_menu": {
    "height": "241px",
    "width": "184px"
   },
   "number_sections": true,
   "sideBar": false,
   "skip_h1_title": false,
   "title_cell": "Table of Contents",
   "title_sidebar": "Contents",
   "toc_cell": false,
   "toc_position": {
    "height": "225px",
    "left": "691px",
    "top": "66px",
    "width": "495px"
   },
   "toc_section_display": true,
   "toc_window_display": true
  }
 },
 "nbformat": 4,
 "nbformat_minor": 1
}
