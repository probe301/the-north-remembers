{
 "cells": [
  {
   "cell_type": "code",
   "execution_count": null,
   "metadata": {},
   "outputs": [],
   "source": []
  },
  {
   "cell_type": "markdown",
   "metadata": {},
   "source": [
    "# The North Remembers Project"
   ]
  },
  {
   "cell_type": "code",
   "execution_count": 21,
   "metadata": {
    "ExecuteTime": {
     "end_time": "2019-07-02T01:00:40.987394Z",
     "start_time": "2019-07-02T01:00:40.883678Z"
    }
   },
   "outputs": [
    {
     "name": "stdout",
     "output_type": "stream",
     "text": [
      "The autoreload extension is already loaded. To reload it, use:\n",
      "  %reload_ext autoreload\n"
     ]
    }
   ],
   "source": [
    "%load_ext autoreload\n",
    "%autoreload 2"
   ]
  },
  {
   "cell_type": "markdown",
   "metadata": {},
   "source": [
    "### 取舍\n",
    "\n",
    "数据存储用 github, 或者 bitbucket\n",
    "\n",
    "\n",
    "提供导出为 rss, epub, pdf, github 自带检查历史的功能\n",
    "\n",
    "不追求实效性\n",
    "\n",
    "\n",
    "\n",
    "外链图片不作为重点\n",
    "外链图片和视频链接, url 链接, 一并修复, 换行字符串等也一并处理, 七牛云?\n",
    "md 中的 Latex 和 代码检测也在这里修复, pygment"
   ]
  },
  {
   "cell_type": "markdown",
   "metadata": {},
   "source": [
    "### 调用关系\n",
    "\n",
    "\n",
    "\n"
   ]
  },
  {
   "cell_type": "markdown",
   "metadata": {},
   "source": [
    "#### Collector\n",
    "\n",
    "处理用户发出的命令\n",
    "\n",
    "可以是 zhihu answer url, 问题页, 收藏夹页, 需要带有过滤条件\n",
    "用户可能在过滤条件后再做修补删减\n",
    "\n",
    "需要转为具体的爬虫任务, 并创建文件夹\n",
    "单页收集到特定的文件夹, 否则收集到一个自动命名的文件夹\n",
    "\n",
    "在文件夹下生成task\n",
    "\n",
    "Resources\n",
    "global_config\n",
    "task_config (scanlist)\n",
    "\n",
    "read from yaml\n",
    "save to yaml\n",
    "\n",
    "\n",
    "\n",
    "Collector.append(url, opptions)\n",
    "\n",
    "\n",
    "\n",
    "\n",
    "#### Watcher\n",
    "\n",
    "\n",
    "\n",
    "任务调度, 监视文件夹, 根据 task.yaml 抓取页面\n",
    "\n",
    "task.yaml 也记录历史\n",
    "\n",
    "task_type: single_page, \n",
    "update_batch: 10\n",
    "\n",
    "\n",
    "track_new: true\n",
    "\n",
    "\n",
    "通过扫描已有的待抓取任务, 在手动触发, 达到特定时间后, 分派抓取任务\n",
    "\n",
    "Watcher.run()\n",
    "\n",
    "\n",
    "\n",
    "class Page(Model):\n",
    "  task = ForeignKeyField(Task, related_name='task')\n",
    "  watch_date = DateTimeField()\n",
    "  title = CharField(null=True)\n",
    "  author = CharField(null=True)\n",
    "  content = TextField(null=True)\n",
    "  metadata = TextField(null=True)\n",
    "  topic = TextField(null=True)\n",
    "  question = TextField(null=True)\n",
    "  comment = TextField(null=True)\n",
    "\n",
    "  \n",
    "\n",
    "#### Fetcher\n",
    "\n",
    "被调用时, 抓取单一页面内容, 或者抓取一个 url 列表\n",
    "\n",
    "抓取单一页面内容将存为 md, 不存 html\n",
    "\n",
    "\n",
    "页面内容分为元数据 + 文章 + 评论, 评论先放放\n",
    "Fetcher\n",
    "ZhihuAnswerPageList\n",
    "ZhihuAnswerPage\n",
    "ZhihuColumnPage\n",
    "ZhihuColumnPageList\n",
    "\n",
    "\n",
    "\n",
    "#### Cleaner\n",
    "\n",
    "处理, 清理文本的规则\n",
    "\n",
    "\n",
    "\n",
    "Exporter\n",
    "\n",
    "根据 Template 转换为 rss, epub, pdf, 以及 github diff 预览\n",
    "\n",
    "图片转存也算在 Template 里"
   ]
  },
  {
   "cell_type": "code",
   "execution_count": null,
   "metadata": {},
   "outputs": [],
   "source": [
    "描述\n",
    "\n",
    "以更加简洁清晰的排版阅读知乎. (这个需求有简悦)\n",
    "\n",
    "用户指定一个知乎网站上的问题, zhihumark 抓取相应的回答内容, 以 markdown 文档的形式提供给用户阅读和下载. (提供 md 下载没用)\n",
    "\n",
    "\n",
    "\n",
    "\n",
    "\n",
    "功能\n",
    "\n",
    "可以自由定制想抓取的内容, 这包括: 抓取指定答主/收藏夹名/问题/话题下的回答, 抓取赞同数量超过N的回答.\n",
    "可以设置黑名单, 不抓取特定的问题或者答主.\n",
    "抓取评论, 以会话的形式组织起来, 让上下文相关的评论出现在一起, 尽量滤除没有价值的评论.\n",
    "将收集到的一系列文档保存为epub或者pdf, 或者批量下载 markdown 文档, 以便离线阅读.\n",
    "制作成 feed 以便放入 rss 阅读器, 获取实时更新.\n",
    "\n",
    "\n",
    "观念\n",
    "\n",
    "我们也不显示其他人搜索了什么关键字, 获取了什么页面, 下载了哪些电子书, 看到什么取决于你\n",
    "\n",
    "我们相信评论是回答(或文章)可以分割的一部分, 许多评论很水, 有些很有价值.\n",
    "\n",
    "相信评论区是对回答的重要补充, 也有随回答保留的必要, 但需处理评论区良莠不齐, 引用回复混乱的问题.\n",
    "\n",
    "\n",
    "\n",
    "页面设计\n",
    "\n",
    "单页面网站应用, 基本上类似搜索引擎的风格和排版.\n",
    "\n",
    "输入框 - 接受输入ID或URL 答主/收藏夹名/问题名/话题名\n",
    "\n",
    "选项 - 保留最前的n个回答?\n",
    "选项 - 赞同数至少是?\n",
    "选项 - 保留评论? 评论对话中至少有多少 likes\n",
    "屏蔽 - 不感兴趣的话题, 问题, 答主\n",
    "返回 - markdown文件列表\n",
    "\n",
    "批量下载按钮"
   ]
  },
  {
   "cell_type": "code",
   "execution_count": null,
   "metadata": {},
   "outputs": [],
   "source": []
  },
  {
   "cell_type": "code",
   "execution_count": null,
   "metadata": {},
   "outputs": [],
   "source": [
    "ui:\n",
    "login id password\n",
    "collection name (id) in (user, column, collection)\n",
    "save path\n",
    "\n"
   ]
  },
  {
   "cell_type": "code",
   "execution_count": null,
   "metadata": {},
   "outputs": [],
   "source": [
    "\n"
   ]
  },
  {
   "cell_type": "code",
   "execution_count": null,
   "metadata": {},
   "outputs": [],
   "source": []
  },
  {
   "cell_type": "code",
   "execution_count": null,
   "metadata": {},
   "outputs": [],
   "source": []
  },
  {
   "cell_type": "code",
   "execution_count": null,
   "metadata": {},
   "outputs": [],
   "source": []
  },
  {
   "cell_type": "code",
   "execution_count": null,
   "metadata": {},
   "outputs": [],
   "source": []
  },
  {
   "cell_type": "code",
   "execution_count": null,
   "metadata": {},
   "outputs": [],
   "source": []
  },
  {
   "cell_type": "code",
   "execution_count": null,
   "metadata": {},
   "outputs": [],
   "source": []
  },
  {
   "cell_type": "code",
   "execution_count": null,
   "metadata": {},
   "outputs": [],
   "source": []
  },
  {
   "cell_type": "code",
   "execution_count": null,
   "metadata": {},
   "outputs": [],
   "source": []
  },
  {
   "cell_type": "code",
   "execution_count": null,
   "metadata": {},
   "outputs": [],
   "source": []
  },
  {
   "cell_type": "code",
   "execution_count": null,
   "metadata": {},
   "outputs": [],
   "source": []
  },
  {
   "cell_type": "code",
   "execution_count": null,
   "metadata": {},
   "outputs": [],
   "source": []
  },
  {
   "cell_type": "code",
   "execution_count": null,
   "metadata": {},
   "outputs": [],
   "source": []
  },
  {
   "cell_type": "code",
   "execution_count": null,
   "metadata": {},
   "outputs": [],
   "source": []
  },
  {
   "cell_type": "code",
   "execution_count": 1,
   "metadata": {
    "ExecuteTime": {
     "end_time": "2019-06-27T02:00:52.844917Z",
     "start_time": "2019-06-27T02:00:52.727757Z"
    }
   },
   "outputs": [
    {
     "ename": "ModuleNotFoundError",
     "evalue": "No module named 'pylon'",
     "output_type": "error",
     "traceback": [
      "\u001b[1;31m---------------------------------------------------------------------------\u001b[0m",
      "\u001b[1;31mModuleNotFoundError\u001b[0m                       Traceback (most recent call last)",
      "\u001b[1;32m<ipython-input-1-7ed5334a1be0>\u001b[0m in \u001b[0;36m<module>\u001b[1;34m()\u001b[0m\n\u001b[1;32m----> 1\u001b[1;33m \u001b[1;32mfrom\u001b[0m \u001b[0mpylon\u001b[0m \u001b[1;32mimport\u001b[0m \u001b[0mdatalines\u001b[0m\u001b[1;33m\u001b[0m\u001b[0m\n\u001b[0m\u001b[0;32m      2\u001b[0m \u001b[1;32mfrom\u001b[0m \u001b[0mpylon\u001b[0m \u001b[1;32mimport\u001b[0m \u001b[0mgrep_before\u001b[0m\u001b[1;33m\u001b[0m\u001b[0m\n\u001b[0;32m      3\u001b[0m \u001b[1;32mfrom\u001b[0m \u001b[0mpylon\u001b[0m \u001b[1;32mimport\u001b[0m \u001b[0mcreate_logger\u001b[0m\u001b[1;33m\u001b[0m\u001b[0m\n\u001b[0;32m      4\u001b[0m \u001b[1;32mfrom\u001b[0m \u001b[0mdifflib\u001b[0m \u001b[1;32mimport\u001b[0m \u001b[0munified_diff\u001b[0m\u001b[1;33m\u001b[0m\u001b[0m\n\u001b[0;32m      5\u001b[0m \u001b[1;32mdef\u001b[0m \u001b[0mcompare_text\u001b[0m\u001b[1;33m(\u001b[0m\u001b[0mt1\u001b[0m\u001b[1;33m,\u001b[0m \u001b[0mt2\u001b[0m\u001b[1;33m,\u001b[0m \u001b[0mprefix\u001b[0m\u001b[1;33m=\u001b[0m\u001b[1;34m''\u001b[0m\u001b[1;33m)\u001b[0m\u001b[1;33m:\u001b[0m\u001b[1;33m\u001b[0m\u001b[0m\n",
      "\u001b[1;31mModuleNotFoundError\u001b[0m: No module named 'pylon'"
     ]
    }
   ],
   "source": [
    "from pylon import datalines\n",
    "from pylon import grep_before\n",
    "from pylon import create_logger\n",
    "from difflib import unified_diff\n",
    "def compare_text(t1, t2, prefix=''):\n",
    "  changes = [l for l in unified_diff(t1.split('\\n'), t2.split('\\n'))]\n",
    "  for change in changes:\n",
    "    print(prefix + change)\n",
    "  return changes\n",
    "\n",
    "from peewee import fn\n",
    "\n",
    "from models import Task\n",
    "from models import Page"
   ]
  },
  {
   "cell_type": "code",
   "execution_count": 84,
   "metadata": {
    "ExecuteTime": {
     "end_time": "2017-04-19T13:27:37.834791",
     "start_time": "2017-04-19T13:27:37.741543"
    }
   },
   "outputs": [
    {
     "name": "stdout",
     "output_type": "stream",
     "text": [
      "1\n",
      "美国南北战争的真正原因是什么？ - talich的回答\n",
      "历史, 美国, 战争, 美国历史, 美国南北战争, 奴隶制\n",
      "2\n",
      "美国南北战争的真正原因是什么？ - talich的回答\n",
      "历史, 美国, 战争, 美国历史, 美国南北战争, 奴隶制\n",
      "3\n",
      "美国南北战争的真正原因是什么？ - talich的回答\n",
      "历史, 美国, 战争, 美国历史, 美国南北战争, 奴隶制\n",
      "4\n",
      "美国南北战争的真正原因是什么？ - talich的回答\n",
      "历史, 美国, 战争, 美国历史, 美国南北战争, 奴隶制\n",
      "5\n",
      "美国南北战争的真正原因是什么？ - talich的回答\n",
      "历史, 美国, 战争, 美国历史, 美国南北战争, 奴隶制\n",
      "6\n",
      "美国南北战争的真正原因是什么？ - talich的回答\n",
      "历史, 美国, 战争, 美国历史, 美国南北战争, 奴隶制\n",
      "7\n",
      "美国南北战争的真正原因是什么？ - talich的回答\n",
      "历史, 美国, 战争, 美国历史, 美国南北战争, 奴隶制\n",
      "8\n",
      "美国南北战争的真正原因是什么？ - talich的回答\n",
      "历史, 美国, 战争, 美国历史, 美国南北战争, 奴隶制\n",
      "9\n",
      "美国南北战争的真正原因是什么？ - talich的回答\n",
      "历史, 美国, 战争, 美国历史, 美国南北战争, 奴隶制\n"
     ]
    }
   ],
   "source": [
    "def test_fetch_history():\n",
    "  # 美国是不是正在为瓦解中国做准备？ - 张俊麒的回答\n",
    "  # url = 'https://www.zhihu.com/question/40622033/answer/88139460'\n",
    "  \n",
    "  # 有哪些令人拍案叫绝的临场反应？ - 大盗贼霍老爷的回答\n",
    "  url = 'https://www.zhihu.com/question/29125576/answer/54187388'\n",
    "  \n",
    "  # 机器人教育这种不考试、以娱乐为主的教育对于中小学生及幼儿的意义何在？ - 冷哲的回答\"\n",
    "  url = 'https://www.zhihu.com/question/26999365/answer/93421419'\n",
    "  \n",
    "  \n",
    "  # 2016 年，中国房地产泡沫是否会在一两年内破灭，从而引发金融危机？ - 小马的回答\"\n",
    "  url = 'https://www.zhihu.com/question/40910547/answer/123021503'\n",
    "  \n",
    "  # Smart Beta 投资方法 - 陈颖的专栏 量化哥\"\n",
    "  url = 'https://zhuanlan.zhihu.com/p/21936302'\n",
    "  \n",
    "  \n",
    "  # 美国南北战争的真正原因是什么？ - talich的回答\"\n",
    "  url = 'https://www.zhihu.com/question/19679278/answer/15122151'\n",
    "  # query = (Page.select(Page, Task)\n",
    "  #          .join(Task)\n",
    "  #          .where((Task.page_type == 'zhihu_article') & (Page.title.contains('最前沿')))\n",
    "  #          .group_by(Page.task)\n",
    "  #          .having(Page.watch_date == fn.MAX(Page.watch_date))\n",
    "  #          .limit(9999))\n",
    "  t = Task.select().where(Task.url == url).get()\n",
    "  \n",
    "  \n",
    "  contents = []\n",
    "  for page in t.pages:\n",
    "\n",
    "    print(page.version)\n",
    "    print(page.title)\n",
    "    print(page.topic)\n",
    "    contents.append(page.content)\n",
    "#     print(page.content)\n",
    "  return contents\n",
    "contents = test_fetch_history()"
   ]
  },
  {
   "cell_type": "code",
   "execution_count": 79,
   "metadata": {
    "ExecuteTime": {
     "end_time": "2017-04-19T13:23:42.907993",
     "start_time": "2017-04-19T13:23:42.892989"
    },
    "scrolled": true
   },
   "outputs": [
    {
     "name": "stdout",
     "output_type": "stream",
     "text": [
      "['t然而，', '我还是认为，', '政府本来想找到新的经济增长点，', '维持现在的房价不升即贬，', '让居民收入增长到可以承受高房价的地步，', '让这个泡沫慢慢萎缩，', '这样经济就软着陆，', '搞不好还是个U字型增长\\n', '\\n', '\\n', '后来这几年忙了很久政府还是短时间找不到经济新增长点的可能性，', '经济太难看，', '加之换汇和资本外流疯狂（低油价原材料价格使中国贸易顺差每年数千亿美元，', '2015年数据是顺差5950亿美元，', '这也是央行放水干预汇率的底气，', '可是外汇储备仍然一度失速暴减，', '2015年下降5130亿美元，', '人民币还是下跌8%，', '可以估计资本外流速度规模，', '刨除服务业逆差和海外直接投资额，', '约净流出保守估计在[7500-8000]', '(tel:7500-8000)', '亿美元，', '中国外储还有31663亿美元，', '按央行估算保守估计15000亿是安全底线，', '刨除短期不可变现的部分，', '如果按照2015年那个速度规模，', '外汇最多还能支持两年半，', '可这只是美元第一个加息周期后，', '可能还有四到五个周期呦，', '央行喊话，', '人民币没有大规模贬值基础，', '我给翻译一下哈，', '就是“哎，', '老乡们别跑啊，', '哎，', '说的就是你，', '别跑，', '再跑就开枪了”），', '政府想先找一个资本蓄水池，', '让人民币稳定下来，', '股市不行那只好找房地产这个老法子，', '让热钱流回来沉淀在房子上面，', '可能是可笑的阴谋论，', '但实际上这两个月房价大涨，', '外汇储备真的减少速度大为缓解，', '在我看来，', '大多数游走的资本也还是投进了房地产\\n', '\\n', '至于以后，', '用空间换时间，', '未必就等到像互联网一类的新经济增长点了呢？', '科技日新月异不可预测，', '你看工业4.0不就是一个好概念吗？', '所以房子是可以适度上涨的，', '如果新经济真的起来了，', '现在房价是可以支撑的，', '苟且几年，', '人均GDP早就过万美金，', '人民更富有，', '经济抗风险能力会加强，', '政策余地更大\\n', '\\n', '\\n', '某一天真的玩不下去了，', '房地产走到头，', '无非两条路，', '一是政策日本化，', '二是人民币日元化，', '我觉得第一种可能性比较大因为中国经济模式不像俄罗斯，', '可以通过外汇大幅贬值维护经济，', '因为中国是加工成品出口型国家，', '严重依赖外贸，', '而且经济盘子太大，', '不像俄罗斯资源出口型那么没出息，', '（如果人民币大幅贬值，', '一定会带来主要贸易伙伴报复性关税，', '那中国外贸就完了）人民币还是得国际化的，', '还是要有点信誉，', '不可以那么臭不要脸的，', '遇到危机就大幅贬值，', '像俄罗斯那样普京表面强硬，', '可一遇到危机就摆出闭关锁国，', '摆出那种视死如归，', '其实是损害贸易伙伴的不要脸的样子，', '卢布本就没什么信誉，', '中国学他那样人民币国际化就完了，', '一带一路，', '亚投行就都完了，', '所以只能学习日本主动刺破房地产泡沫\\n', '\\n', '既然政府认命经济是L型，', '而不是U型，', '那么不如让全民持有多套物业，', '再征收二三套房产税，', '继承税，', '提高交易税让居民不能卖房子，', '这样房子甩都甩不掉，', '变成政府稳定的税收来源，', '居民变成给国家打工的，', '国家提高福利保证居民生活，', '日本不就是这么干的吗？', '日本利用广场协议，', '日元大幅度升值，', '并购了多少国外优质低价的海外资产，', '又吸引国际多少热钱卖给了他们本国高溢价劣质资产，', '房地产泡沫破烂因为广场协议？', '那日本政府那样玩命一般的加息做什么？', '房地产破灭一举坑杀了多少国际热钱投资？', '他失落都二十年了，', '怎么国民还TM那么有钱，', '那么安定，', '怎么没有变成拉美？', '这个前提是，', '国家得底子厚，', '科技领先，', '社会失去活力，', '但一切变的更稳定，', '更有序，', '现在人均GDP8000美金，', '你觉得可以吗？', '所以政府必须维持房地产市场，', '吸引更多刚需为国接盘，', '不过也不完全是接盘，', '你本来就得要有房子住，', '租房子不也得给房租吗？', '就当国家是包租公呗，', '比原房东肯定友善多了，', '想买了房子就是自己的？', '笑话，', '忘记国家性质了吗？', '忘记党旗颜色了？', '况且，', '即使国家爱民如子，', '不愿意苛加重税，', '50年或70年产权（其实加上施工销售一般到手只有45或65年产权，', '到期自动延续而非免费延续，', '危言耸听是吗，', '去年温州发生的20年产权延期按市价，', '收取房产现今市价33%的事情都忘了吗？', '\\n', '\\n', '![]', '(https://pic1.zhimg.com/50/37361fd5280c36f026172d1256a253a8_b.jpg)', '\\n', '\\n', '。', ' 割。', '\\n', '宏观说完谈谈微观\\n', '\\n', '大家看着那些加大杠杆撬动资金的投机客，', '炒房客，', '花天酒地日子滋润，', '其实不知道他们身负重债，', '压力巨大，', '连环债，', '高利贷的利息不那么好玩的，', '日本也曾有一段时期涩谷一带想打车要付上千美金，', '拿万元大钞点烟，', '地产公司员工年终奖发一年半工资这种盛况，', '可后来呢？', '十分之九的地产企业倒闭，', '地产老板跳楼失踪被杀像下饺子一样，', '借钱买房幻想大东京无限扩张一线城市房价永远不倒的中产阶级，', '牺牲了一辈子幸福，', '打工还债，', '这还是那么民主和那么富裕国家，', '政府强令银行不准许索贷收房，', '给中产阶级缓冲时间，', '真金白银大笔输血僵尸企业，', '缓解连环债务，', '那么在一个贫穷又较为落后的国家呢？', '国家会不会在民怨四起的时候让房地产老板背锅？', '会不会像曹操借军需官人头那样以平民愤？', '投机倒把罪也没取消几年呐，', '杠杆放大的风险导致即使房价下跌20%，', '他们也会纷纷破产，', '就说近的，', '温州鄂尔多斯房价腰斩，', '三亚房价跌去五分之四，', '海口92年房价7000，', '16年大涨好几轮了还是7000，', '连环债，', '温州炒房团倾家荡产多少人，', '连环债又死了多少人，', '当年红极一时的温州炒房团呢？', '那么大阵势，', '那么大水花，', '为什么销声匿迹了？', '是的，', '他们都破产了，', '或者死了，', '加那么大杠杆炒房子，', '下跌10%就快负债，', '15%就爆仓了，', '媒体不报道不代表不存在，', '大家不知道不代表不存在，', '就是这么残酷\\n', '\\n', '还是一句鸡汤，', '都看见的机会肯定不是机会，', '抢中石油，', '抢航运，', '抢大豆大宗期货，', '抢普洱，', '抢兰花，', '抢盐，', '有挣钱的吗？', '有，', '背后炒作的资本，', '和部分先知先觉（走狗屎运）抛售的小百姓，', '可是那些“先知”小老百姓活下来了吗？', '几乎都死在了抄底的路上，', '人的贪欲是无穷的，', '现在就有人卖了好不容易换的美元又去一线城市买房了，', '简直是够了，', '现在两万一平买上海房产的在某一天奔溃前卖掉就一定会活下来？', 'naive，', '他一定会在持币在暴跌的时候冲进去加杠杆买两套，', '什么？', '他会离场？', '笑话，', '如果这个下跌过程长达15年，', '他可以一时理性，', '他可以时时理性吗？', '正所谓会抄底的韭菜才是肥韭菜，', '况且他觉得自己当年逃顶成功，', '眼光如炬，', '巴菲特附体，', '然而历史经验告诉我们所有参加浪潮的小人物，', '最终都会被时代的洪流漩涡吸附，', '再被时代浪潮淹没击碎，', '离开牛市，', '你什么都不是\\n', '\\n', '大家知道媒体11年房市下跌以前，', '普遍的主流论调是什么吗？', '上海两万多，', '苏州5000的时候，', '那就是一线与二三线城市价差太大，', '一线城市下跌是大概率事件，', '现在看起来很可笑对吧？', '但现在上海8万，', '苏州13000时却炒作的一线城市永涨不跌，', '可以涨到80万，', '是避风港，', '是母亲温暖的怀抱和爱的港湾，', '和先前完全相反，', '是不是很讽刺？', '那么未来的某天看现在这种观点就不会觉得可笑了吗？', '而且上海永涨不跌？', '08年上海房价两个月从15000跌到8000的时候没有吗？', '媒体的嘴和老鸨媒婆娼妓一般，', '都是不可信的，', '那些当年疯狂炒作什么一铺养三代的专家媒体呢？', '多少人听了你们的话买铺买到了开发区去了？', '现在跑哪去了？', '你们是沉默了，', '不炒了，', '可你们让套死的人怎么办？', '他们肯定想你们出来和你们谈谈，', '保证不打死你\\n', '\\n', '自08年以后，', '房子就失去了居住属性，', '慢慢变成了大宗商品的一类的投资品，', '石油稀缺性，', '不可再生性，', '远高于房地产，', '应该是只涨不跌吧，', '从20美金涨到140美金，', '可现在只有44美元，', '已经快跌破成本，', '还在下跌，', '你相信所有产油国都应该只赚不赔的逻辑吧，', '可现在沙特呢，', '外汇耗尽，', '债务高企，', '前些年，', '你们能想象吗？', '石油稀缺，', '不可再生，', '经济发展需求越来越大？', '这些言之凿凿看起来很有道理的逻辑支撑住高油价了吗？', '当年加入WTO，', '航运需求大增，', '加上经济全球化，', '贸易只会不断增加，', '这些逻辑支撑住航运泡沫了吗？', '15年，', '改革牛，', '跟国家队炒股，', '居民配置资产需求，', '降息降准，', '货币洪水，', '居民投资渠道狭窄，', '国家承诺托底，', '至少一万点，', '这些逻辑托住了股市高价了吗？', '股市托不住还能托住房市？', '哈哈哈，', '\\n', '\\n', '所以说来说去诸如，', '一线城市房子中附带的教育，', '资源，', '就业前景；', '全国人民都涌入一线城市，', '人口增长；', '土地有限，', '房子是稀缺品；', '人民币会如前三十年哪般贬值，', '收入会如前三十年哪般上涨；', '城市化只完成56%房市还有20年高峰；', '政府不允许房地产下跌，', '说来说去就这些，', '这些逻辑对不对呢，', '有些逻辑是可以证明房子是有价值的，', '不是狗屎和一文不值的，', '但究竟能不能证明房子值这个夸张的价钱，', '别人是这样告诉你了，', '究竟对不对，', '你思考了吗？', '\\n', '\\n', '![]', '(https://pic1.zhimg.com/50/37361fd5280c36f026172d1256a253a8_b.jpg)', '\\n', '\\n', '最后具体谈谈适不适合炒房吧\\n', '\\n', '房子类似在投资领域类似于古董，', '不像债券股票流动性大，', '一旦市场行情走势逆转，', '根本跑不动，', '卖不掉，', '你看虽然上海12年名义房价没有跌多少，', '可是私底下打八折想卖比比皆是，', '可是越打折越卖不掉，', '二手房交易市场迅速萎缩，', '一手房还在蹭蹭蹭的造，', '加上融资成本和利息，', '通货膨胀的贬值，', '现在上海买一套600万的房子贷款400万，', '二十年利息超过300万，', '本息超700万，', '前三年本息合计归还银行约110万，', '其中利息约50多万，', '和60万还款，', '加上各种物业交易和持有成本，', '房子不涨到1200万，', '基本是不赚钱的，', '可是一旦下跌，', '三年内假设房价市场价下跌20%，', '市价接近480万，', '你再打九折成功卖出（包括交易成本，', '这在下跌行情很困难，', '断贷银行拍卖可能7.5折或8折），', '获得432万元，', '三年还欠银行340万本金，', '还剩90万，', '200万首付加上三年支付的50万多万利息，', '也就是说近260万本金损失170万，', '如果年限更久的阴跌，', '比如已经还贷十年，', '那么就不仅血本无归还要负债，', '另外断贷在中国没有个人破产保护制度下，', '房贷个人承担无限连带责任，', '与一切福利信誉生活基本需求挂钩，', '孩子上学看病坐火车全部挂钩，', '危言耸听？', '这就是12年上海高价买房年青人当时真实处境，', '当然他们是咬牙硬抗了，', '如果不是国家死命放水，', '中央层面开启楼市保卫战，', '最终硬抗，', '涨起来了，', '他们就已经完蛋了，', '但如果现在他们选择卖出，', '仍未解套\\n', '\\n', '如果是融资炒房，', '哈哈，', '从98年开始炒北上广房，', '头脑精明，', '眼光独到，', '历次大涨都不拉下的温州人，', '在三地房价上涨近十倍背景下，', '高利贷重压下，', '数千亿融资资本就这样在12年已经彻底全军覆没，', '上一段计算的居民购房用的是银行发放的低息贷款，', '利息普遍低于五厘，', '压力还是巨大，', '可是那些靠融资公司甚至借民间高利贷的炒房客，', '资金成本普遍在二分（这是国家规定的合法利息上限），', '那些巨额不合法资金的利息甚至三分以上，', '也就是房子原价不涨，', '600万房价一年普遍要120万以上的利息，', '一但下跌15%立刻爆仓倾家荡产血本无归，', '这就是为什么温州炒房团千亿巨资全军覆没的原因，', '个人多年打拼赚下来的的厂房，', '资产被银行和配资公司瓜分吃的一干二净，', '身负巨债，', '跑路被杀失踪跳楼，', '不一而足，', '你真的比他们聪明？', '你从98年就看出来房子要暴涨了？', '比他们有门路，', '有技巧，', '有方法，', '有眼光？', '\\n', '\\n', '如果未来刚需自住再跌也不卖，', '那么名义房价越高，', '今后房产税越高，', '交易税更高，', '加上房贷，', '卖出割肉负债，', '捂盘流血，', '自觉变成一茬一茬割不完的韭菜，', '变成社会主义好接盘侠，', '投身炒房之前，', '你这些都考虑清楚了吗？', '当然，', '如果房子从600万，', '涨到1500万你又成功售出，', '就赚大钱了，', '毕竟你加了杠杠，', '200万本钱，', '150万利息，', '换来几倍收益，', '风险与收益并存，', '无利不早起，', '然而，', '这就意味着，', '6万一平的房子涨到15万一平了，', '我不知道未来怎么样，', '不作预测和评价，', '只是，', '真的有点高啊，', '投资前，', '你真的分析清楚现在房市资金构成，', '多大杠杆，', '以及未来十年政策走向了吗？', '冷静下来扪心自问，', '好好思考，', '把房地产看作一个给你放大三倍资金的股票，', '这只股票现价600元，', '自98年房改开拍至今，', '已经涨了十五倍，', '绩优股，', '市盈率80倍-100倍，', '市净率不明，', '国家政策层面支持，', '但流通性极差，', '交易费极高约本金200%，', '未来持有可能有费用，', '每年增发新股股权每年稀释，', '一切就明白了\\n', '\\n', '所以现在买不买房子，', '纯粹看自己内心是不是愿意赌一把的渴望，', '别信那些似是而非逻辑，', '和专家媒体娼妓一般没有廉耻的嘴，', '一句话，', '玩得起这个游戏，', '做好付得起代价的觉悟，', '就堵上身家下场玩两把吧，', '刀口舔血，', '火中取栗，', '富贵险中求未尝不可，', '至于其他买不起也玩不起的吃瓜群众，', '不如搬好小板凳，', '摆好瓜子，', '汽水\\n', '\\n', '\\n', '看他起高楼，', '看他宴宾朋，', '看他楼塌了\\n', '\\n', '![]', '(https://pic1.zhimg.com/50/37361fd5280c36f026172d1256a253a8_b.jpg)', '\\n', '\\n', '因为我工作清闲，', '再加上第一次得到这么多赞，', '所以受宠若惊，', '也在评论区对所有提问的童鞋给予了个人知识局限之内的所有问题，', '做了最详尽最具体的回答，', '个人浅薄的观点已经在评论区说的非常明白，', '大家如果有什么问题可以参考评论区回答，', '之后如果还有问题就隔段时间统一回答了哈，', '大家都对房价问题又爱又恨，', '所以这么多人关注，', '我本人不想下结论，', '只想给大家提供一个思考和看待问题的视角，', '你可以买可以不买，', '可以选择冒险也可以寻求安稳，', '这本就是个人的选择，', '我只希望大家做决定之前可以考虑周全，', '做出符合自己利益的最理性抉择，', '和前因后果的深入的思考，', '享受成果，', '承担责任和代价\\n', '\\n', '\\n', '现在我们都处在一个疯狂的时代，', '希望大家能不骄不躁，', '保持心理和身体的健康，', '做好经济寒冬过冬通缩失业的储备，', '换外汇，', '买小额保险，', '或设立外币境外账户，', '毕竟赚钱的人毕竟是极小部分，', '锅还是得所有老百姓来背，', '但作为小老百姓，', '可以没赚到钱，', '背锅也可以，', '但不能被忽悠乱加杠杆，', '更不能为了贪欲，', '最后家破人亡倾家荡产\\n', '\\n', '天地不仁，', '以万物为刍狗；', '圣人不仁，', '以百姓为刍狗，', '以误解的内涵理解，', '诚哉斯言！', '\\n', '\\n', '祝各位安好。', '\\n', '\\n', '![]', '(https://pic1.zhimg.com/50/37361fd5280c36f026172d1256a253a8_b.jpg)', '\\n', '\\n', '这篇文章已经被分拆成两篇，', '原答案不知不觉写的太长了，', '已经没法阅读，', '所以梳理了一下回答，', '把原答案和评论区回复分成了两篇，', '这样增加可阅读性，', '这篇文章着重想引发大家自己的思考，', '另一篇则主要是评论区对童鞋们相关问题的回复的梳理，', '如果有兴趣可以去看看另一篇答案\\n', '[http://www.zhihu.com/question/50867891/answer/125368246]', '(http://www.zhihu.com/question/50867891/answer/125368246)']\n"
     ]
    }
   ],
   "source": [
    "def split_text(text):\n",
    "  col = []\n",
    "  for sent in re.findall('.*?[！|，|。|？|\\n|；|~|～|：|\\)|\\]]', text):\n",
    "    col.append(sent)\n",
    "  \n",
    "  return col\n",
    "\n",
    "print(split_text(a))"
   ]
  },
  {
   "cell_type": "code",
   "execution_count": 85,
   "metadata": {
    "ExecuteTime": {
     "end_time": "2017-04-19T13:27:40.003674",
     "start_time": "2017-04-19T13:27:39.965599"
    },
    "scrolled": false
   },
   "outputs": [
    {
     "name": "stdout",
     "output_type": "stream",
     "text": [
      "9\n",
      "\n",
      "\n",
      "\n",
      "\n",
      "\n",
      "\n",
      "\n",
      "a!=b on 1 2\n",
      "--- \n",
      "+++ \n",
      "@@ -212,5 +212,5 @@\n",
      " 就有第一次。\n",
      " 第一次大觉醒发生在十八世纪上半页，\n",
      "-当时的牧师们受到欧洲宗 教潮流，\n",
      "+当时的牧师们受到欧洲宗教潮流，\n",
      " 尤其是英国的约翰•卫斯理和他的卫理宗的影响，\n",
      " 走出教堂，\n",
      "@@ -238,7 +238,7 @@\n",
      " 是命定论，\n",
      " 就是人皆有罪，\n",
      "-虽然每人都要寻求救 赎，\n",
      "+虽然每人都要寻求救赎，\n",
      " 但是否能得救，\n",
      "-却是前世命定，\n",
      "+却是上帝早以选定，\n",
      " 无法改变的。\n",
      " 这样一来，\n",
      "@@ -265,5 +265,5 @@\n",
      " 人们开始积极的面对那些所谓的社会上的罪。\n",
      " 比如奴隶制，\n",
      "-就是典型的人所犯下的 罪，\n",
      "+就是典型的人所犯下的罪，\n",
      " 废奴，\n",
      " 也就成为社会完成自身救赎的重要标志。\n",
      "\n",
      "\n",
      "\n",
      "\n",
      "\n",
      "\n",
      "\n",
      "\n",
      "\n",
      "\n",
      "\n",
      "\n",
      "\n",
      "\n",
      "\n",
      "\n",
      "\n",
      "\n",
      "\n",
      "\n",
      "\n",
      "a!=b on 4 5\n",
      "--- \n",
      "+++ \n",
      "@@ -544,5 +544,5 @@\n",
      " \n",
      "\n",
      " \n",
      "\n",
      "-雪 上加霜的是次年的 Dred Scott vs Standford 案。\n",
      "+雪 上加霜的是次年的 Dred Scott vs Stanford 案。\n",
      " 黑奴 Dred Scott 在 1846 年起诉说自己应该是自由人，\n",
      " 理由是他曾随主人前往自由州伊利诺伊州居住，\n",
      "\n",
      "\n",
      "\n",
      "\n",
      "\n",
      "\n",
      "\n",
      "\n",
      "\n",
      "\n",
      "\n",
      "\n",
      "\n",
      "\n",
      "\n",
      "\n",
      "\n",
      "\n",
      "\n",
      "\n",
      "\n",
      "\n",
      "\n",
      "\n",
      "\n",
      "\n",
      "\n",
      "\n"
     ]
    }
   ],
   "source": [
    "print(len(contents))\n",
    "# c1, c2, c3, c4, *_, c7 = contents\n",
    "from difflib import unified_diff\n",
    "def compare_text(t1, t2, prefix=''):\n",
    "  changes = [l for l in unified_diff(t1, t2)]\n",
    "\n",
    "  return changes\n",
    "\n",
    "\n",
    "import re\n",
    "for i, (a, b) in enumerate(zip(contents[:-1], contents[1:])):\n",
    "#   if i == 0:\n",
    "#     continue\n",
    "  if (a!=b):\n",
    "    print('a!=b on', i, i+1)\n",
    "    \n",
    "    pat = re.compile('\\S')\n",
    "    for d in unified_diff(split_text(a), split_text(b), n=2, lineterm=''):\n",
    "      print(d)\n",
    "  \n",
    "  print('\\n\\n\\n\\n\\n\\n')\n",
    "#   if i >= 5:\n",
    "#     break\n",
    "  \n",
    "# compare_text(c1, c2)\n",
    "# compare_text(c2, c3)"
   ]
  },
  {
   "cell_type": "code",
   "execution_count": 1,
   "metadata": {
    "ExecuteTime": {
     "end_time": "2019-06-27T05:03:58.837186Z",
     "start_time": "2019-06-27T05:03:58.810259Z"
    }
   },
   "outputs": [
    {
     "data": {
      "text/plain": [
       "['iesytwe']"
      ]
     },
     "execution_count": 1,
     "metadata": {},
     "output_type": "execute_result"
    }
   ],
   "source": [
    "'iesytwe'.split('?')"
   ]
  },
  {
   "cell_type": "code",
   "execution_count": 23,
   "metadata": {
    "ExecuteTime": {
     "end_time": "2017-04-19T12:37:24.575834",
     "start_time": "2017-04-19T12:37:24.506704"
    },
    "collapsed": true
   },
   "outputs": [],
   "source": [
    "\n",
    "# from unidiff import PatchSet\n",
    "# diff = urllib2.urlopen('https://github.com/matiasb/python-unidiff/pull/3.diff')\n",
    "# encoding = diff.headers.getparam('charset')\n",
    "# patch = PatchSet(diff, encoding=encoding)\n"
   ]
  },
  {
   "cell_type": "code",
   "execution_count": null,
   "metadata": {},
   "outputs": [],
   "source": []
  },
  {
   "cell_type": "code",
   "execution_count": null,
   "metadata": {},
   "outputs": [],
   "source": []
  },
  {
   "cell_type": "code",
   "execution_count": null,
   "metadata": {},
   "outputs": [],
   "source": []
  },
  {
   "cell_type": "code",
   "execution_count": null,
   "metadata": {},
   "outputs": [],
   "source": []
  },
  {
   "cell_type": "code",
   "execution_count": null,
   "metadata": {},
   "outputs": [],
   "source": []
  },
  {
   "cell_type": "code",
   "execution_count": null,
   "metadata": {},
   "outputs": [],
   "source": []
  },
  {
   "cell_type": "code",
   "execution_count": null,
   "metadata": {},
   "outputs": [],
   "source": []
  },
  {
   "cell_type": "code",
   "execution_count": null,
   "metadata": {},
   "outputs": [],
   "source": []
  },
  {
   "cell_type": "markdown",
   "metadata": {},
   "source": [
    "### 原 models test exec\n",
    "\n",
    "\n"
   ]
  },
  {
   "cell_type": "code",
   "execution_count": null,
   "metadata": {},
   "outputs": [],
   "source": [
    "\n",
    "'''\n",
    "####### #######  ###### #######\n",
    "   ##   ##      ##         ##\n",
    "   ##   ######   #####     ##\n",
    "   ##   ##           ##    ##\n",
    "   ##   ####### ######     ##\n",
    "'''\n",
    "\n",
    "def test_new_task():\n",
    "  # url = 'https://www.zhihu.com/question/30595784/answer/49194862'\n",
    "  # 如何看待许知远在青年领袖颁奖典礼上愤怒「砸场」？\n",
    "  url = 'https://www.zhihu.com/question/22316395/answer/100909780'\n",
    "  url = 'https://www.zhihu.com/question/47220155/answer/118154455'\n",
    "  url = 'https://www.zhihu.com/question/49962599/answer/118716273'\n",
    "  url = 'https://zhuanlan.zhihu.com/p/19837940'\n",
    "  url = 'https://zhuanlan.zhihu.com/p/20639779'\n",
    "  url = 'https://zhuanlan.zhihu.com/p/20153329'\n",
    "  url = 'https://zhuanlan.zhihu.com/p/21281864'\n",
    "  url = 'https://zhuanlan.zhihu.com/p/19964142'\n",
    "  task = Task.add(url=url)\n",
    "  print(task)\n",
    "  # task.watch()\n",
    "\n",
    "\n",
    "def test_readd_task():\n",
    "  url = 'http://www.zhihu.com/question/22513722/answer/21967185' # 火车票涨价\n",
    "  task = Task.add(url=url)\n",
    "  task = Task.add(url=url)\n",
    "  url = 'https://www.zhihu.com/question/30957313/answer/50266448' # 古典音乐\n",
    "  task = Task.add(url=url)\n",
    "  url = 'https://www.zhihu.com/question/40056948/answer/110794550' # 四万亿\n",
    "  task = Task.add(url=url)\n",
    "\n",
    "def test_seed_add_tasks():\n",
    "  urls = '''\n",
    "    https://www.zhihu.com/question/40305228/answer/86179116\n",
    "    https://www.zhihu.com/question/36466762/answer/85475145\n",
    "    https://www.zhihu.com/question/33246348/answer/86919689\n",
    "    https://www.zhihu.com/question/39906815/answer/88534869\n",
    "\n",
    "    https://www.zhihu.com/question/40700155/answer/89002644\n",
    "    https://www.zhihu.com/question/36380091/answer/84690117\n",
    "    https://www.zhihu.com/question/33246348/answer/86919689\n",
    "    https://www.zhihu.com/question/35254746/answer/90252213\n",
    "    https://www.zhihu.com/question/23618517/answer/89823915\n",
    "\n",
    "    https://www.zhihu.com/question/40677000/answer/87886574\n",
    "\n",
    "    https://www.zhihu.com/question/41373242/answer/91417985\n",
    "    https://www.zhihu.com/question/47275087/answer/106335325\n",
    "    https://www.zhihu.com/question/47275087/answer/106335325 买不起房是房价太高还是工资太低？\n",
    "    https://www.zhihu.com/question/36129534/answer/91921682  印度经济会在本世纪追上中国吗？\n",
    "    https://www.zhihu.com/question/22513722/answer/21967185  火车票涨价是否能解决春运问题？\n",
    "    https://www.zhihu.com/question/27820755/answer/107267228 裸辞后怎样解释以获工作机会？\n",
    "  '''\n",
    "  for url in datalines(urls):\n",
    "    url = url.split(' ')[0]\n",
    "    task = Task.add(url=url)\n",
    "    task | puts()\n",
    "\n",
    "\n",
    "\n",
    "def test_one_watch():\n",
    "  task = Task.select().order_by(-Task.id).get()\n",
    "  task | puts()\n",
    "  task.watch()\n",
    "\n",
    "def test_another_watch():\n",
    "  url = 'http://www.zhihu.com/question/22513722/answer/21967185' # 火车票涨价\n",
    "  task = Task.select().where(Task.url == url).get()\n",
    "  task | puts()\n",
    "  task.watch()\n",
    "\n",
    "\n",
    "def test_hot_answer():\n",
    "  url = 'http://www.zhihu.com/question/39288165/answer/110207560'\n",
    "  url = 'https://www.zhihu.com/question/50763374/answer/122822226'\n",
    "  url = 'https://www.zhihu.com/question/40910547/answer/123021503'\n",
    "  url = 'https://zhuanlan.zhihu.com/p/21478575'\n",
    "  url = 'https://www.zhihu.com/question/40103788/answer/124499334'\n",
    "  task = Task.add(url=url)\n",
    "  task.watch()\n",
    "\n",
    "\n",
    "  task.last_page.to_local_file(folder='test', fetch_images=False)\n",
    "\n",
    "\n",
    "\n",
    "def test_watch_all():\n",
    "  Task.multiple_watch(sleep_seconds=10, limit=4)\n",
    "\n",
    "\n",
    "def test_report():\n",
    "  Task.report()\n",
    "\n",
    "\n",
    "\n",
    "def test_to_local_file():\n",
    "  # page = Page.select().order_by(-Page.id).get()\n",
    "\n",
    "  # page = Page.select(Page.topic).distinct().where(Page.topic.contains('房')).limit(5)\n",
    "  # q = Page.select(Page.id).distinct()\n",
    "  # for p in q:\n",
    "  #   print(p)\n",
    "  query = (Page.select(Page, Task)\n",
    "           .join(Task)\n",
    "           .where(Page.author == 'chenqin')  # .where(Page.topic.contains('建筑'))\n",
    "           .group_by(Page.task)\n",
    "           .having(Page.watch_date == fn.MAX(Page.watch_date))\n",
    "           .limit(8800))\n",
    "  for page in query:\n",
    "    log(page.title)\n",
    "    # log(page.metadata)\n",
    "    # page.to_local_file(folder='chen', fetch_images=False)\n",
    "# test_to_local_file()\n",
    "\n",
    "def test_tools():\n",
    "  import pylon\n",
    "  pylon.generate_figlet('task', fonts=['space_op'])\n",
    "  pylon.generate_figlet('page', fonts=['space_op'])\n",
    "  pylon.generate_figlet('test', fonts=['space_op'])\n",
    "\n",
    "\n",
    "def test_load_json():\n",
    "  import json\n",
    "\n",
    "  print(json.loads(open('mockup_topic_answers.json', encoding='utf-8').read()))\n",
    "\n",
    "\n",
    "def test_banned_modes():\n",
    "  url = 'https://www.zhihu.com/question/40679967/answer/88310495'\n",
    "  # 政府推出开放小区政策的真正目的是什么？ 2201 孟德尔 回答建议修改：政治敏感\n",
    "  pass\n",
    "\n",
    "\n",
    "def test_query_task():\n",
    "  s = 'https://www.zhihu.com/question/48737226/answer/113036453'\n",
    "  s = 'https://www.zhihu.com/question/47220155/answer/118154455'\n",
    "  s = 'https://www.zhihu.com/question/49545583/answer/116529877'\n",
    "\n",
    "  t = Task.select().where(Task.url == s)\n",
    "  t = t.get()\n",
    "  log(t.title)\n",
    "  log(t.id)\n",
    "\n",
    "\n",
    "\n",
    "\n",
    "\n",
    "\n",
    "def test_explore():\n",
    "  # Tweet.select(fn.COUNT(Tweet.id)).where(Tweet.user == User.id)\n",
    "  query = (Task\n",
    "           .select(Task, fn.COUNT(Page.id).alias('fetched_count'))\n",
    "           .join(Page)\n",
    "           .group_by(Task.title)\n",
    "           .limit(50)\n",
    "           .offset(200)\n",
    "           .order_by(fn.COUNT(Page.id).desc()))\n",
    "\n",
    "  for task in query:\n",
    "    log(task.title + ' : ' + str(task.fetched_count) + '  task_id ' + str(task.id))\n",
    "\n",
    "\n",
    "\n",
    "\n",
    "def test_explore_watching_results_diff():\n",
    "\n",
    "  s = '''\n",
    "  # 美国是不是正在为瓦解中国做准备？ - 张俊麒的回答 : 16  task_id 46\n",
    "  # 为什么很少看到患者砍莆田系医生的报道？ - 玄不救非氪不改命的回答 : 3  task_id 196\n",
    "  # 为什么很难证伪马克思主义理论？ - 玄不救非氪不改命的回答 : 3  task_id 360\n",
    "  # 为什么快速浏览一段内容的时候，很容易看到自己感兴趣的部分？ - 采铜的回答 : 3  task_id 742\n",
    "  # 为什么拿广州恒大淘宝队与中国国家男子足球队做对比？ - 玄不救非氪不改命的回答 : 3  task_id 492\n",
    "  # 如何看待里约奥运陈欣怡药检呈阳性反应？ - 玄不救非氪不改命的回答 : 3  task_id 2393\n",
    "  # 为什么厌恶「国粉」的知乎用户远多于厌恶「毛粉」的？ - chenqin的 : 3  task_id 3313\n",
    "  # 2016 年中国的经济状况很差吗？真实状况是怎样的？ - 垒起善城堡的积木 : 3 task_id 2387\n",
    "  # 如何看待2016年7月人民币贷款增幅里9.8成为房贷？ - 匿名用户的回答 : 3 task_id 2386\n",
    "\n",
    "\n",
    "\n",
    "\n",
    "  # 怎样评价「游戏不汉化就差评」的行为？ - cOMMANDO的回答 : 9  task_id 4471\n",
    "  # 既然有报道说人类的基因片段只占DNA序列总长的不到10%，那么这几个问题怎么解答？ - Mandelbrot的回答 : 9  task_id 676\n",
    "  # 智商低的人真的不适合玩需要动脑子的游戏么？ - 匿名用户的回答 : 9  task_id 3461\n",
    "  # 暴雪，Valve，拳头，谁更厉害？ - cOMMANDO的回答 : 9  task_id 2597\n",
    "  # 有一个稀有的姓是一种怎样的体验？ - 冷哲的回答 : 9  task_id 1041\n",
    "  # 有什么影视作品是当时演员名气不大，现在看来是全明星阵容出演？ - 玄不救非氪不改命的回答 : 9  task_id 484\n",
    "  # 有关白龙尾岛的历史，哪些是有据可查的？ - 书生的回答 : 9  task_id 712\n",
    "  # 有哪些「智商税」？ - 谢熊猫君的回答 : 9  task_id 2406\n",
    "  # 有哪些令人拍案叫绝的临场反应？ - 大盗贼霍老爷的回答 : 9  task_id 4107\n",
    "  # 有哪些可怕的故事？ - 大盗贼霍老爷的回答 : 9  task_id 4137\n",
    "  # 有哪些长得比较逆天的动物？ - Mandelbrot的回答 : 9  task_id 648\n",
    "  # 有文化有多可怕？ - 寺主人的回答 : 9  task_id 5787\n",
    "  # 机器人教育这种不考试、以娱乐为主的教育对于中小学生及幼儿的意义何在？ - 冷哲的回答 : 9  task_id 1015\n",
    "  # 毛花三年打败蒋然后走三十年弯路的目的，都是为后三十年的改革开放走资、大国崛起做铺垫扫平道路的么？ - 书生的回答 : 9  task_id 99\n",
    "  # 水旱蝗汤中的汤指的到底是谁？ - 书生的回答 : 9  task_id 104\n",
    "  # 河南的地理位置那么好，为什么经济落后？ - 大盗贼霍老爷的回答 : 9  task_id 4105\n",
    "  # 為什麼蒋介石被称为运输大队长？求详? - 书生的回答 : 9  task_id 701\n",
    "  # 玩《狼人杀》时你有什么屡试不爽的秘技诀窍？ - 汪诩文的回答 : 9  task_id 3526\n",
    "\n",
    "  现在网络上很多人黑一些伟人，比如说周半期，黑鲁迅。他们是什么心态？ - 书生的回答 : 9  task_id 97\n",
    "  看美剧、英剧学英语有什么有效的方法吗？ - 采铜的回答 : 9  task_id 787\n",
    "  章鱼的智商到底有多高，为什么有人说它们的智商可以统治世界? - Mandelbrot的回答 : 9  task_id 588\n",
    "  类似 AlphaGo 的人工智能在游戏王、万智牌等卡牌游戏中胜率如何？ - 莫名的回答 : 9  task_id 3724\n",
    "  给 59 分强行不给过的老师是一种怎么样的存在？ - chenqin的回答 : 9  task_id 3317\n",
    "  网络上有哪些广为流传的「历史真相」其实是谣言？ - 马前卒的回答 : 9  task_id 5089\n",
    "  美国南北战争的真正原因是什么？ - talich的回答 : 9  task_id 2571\n",
    "  美国发动伊拉克战争的核心原因到底是什么？ - 冷哲的回答 : 9  task_id 1332\n",
    "  美国最高法院大法官 Scalia 的去世将会带来怎样的影响？ - talich的回答 : 9  task_id 4423\n",
    "  美国有人在开车在路上故意把川普的竞选宣传牌碾倒，如何评价这种因为不同政见而破坏对方财物的行为？ - talich的回答 : 9  task_id 4412\n",
    "  装逼成功是怎样一种体验？ - 大盗贼霍老爷的回答 : 9  task_id 4048\n",
    "  谁最应该被印在人民币上面？ - 蜂鸟的回答 : 9  task_id 2274\n",
    "  豆瓣的核心用户都有什么特点？ - 十一点半的回答 : 9  task_id 84\n",
    "  赌场有哪些看似不起眼，实则心机颇深的设计？ - 第一喵的回答 : 9  task_id 3158\n",
    "  赌场有哪些看似不起眼，实则心机颇深的设计？ - 肥肥猫的回答 : 9  task_id 3151\n",
    "  雷锋是个什么样的人，怎么客观评价雷锋？ - 书生的回答 : 9  task_id 96\n",
    "  鲁迅和秋瑾的关系好吗？ - 书生的回答 : 9  task_id 91\n",
    "  1927 年蒋介石为什么要清党？ - 冷哲的回答 : 8  task_id 1415\n",
    "  1949年以后的中国本土设计的建筑中，哪些能称得上是有思想的好建筑？ - Chilly的回答 : 8  task_id 3104\n",
    "  2015 年初，中国制造业形势有多严峻？ - 稻可道 稻子的稻的回答 : 8  task_id 2239\n",
    "  2016 年，中国房地产泡沫是否会在一两年内破灭，从而引发金融危机？ - Bee Mad的回答 : 8  task_id 2104\n",
    "  2016 年，中国房地产泡沫是否会在一两年内破灭，从而引发金融危机？ - 君临的回答 : 8  task_id 2205\n",
    "  2016 年，中国房地产泡沫是否会在一两年内破灭，从而引发金融危机？ - 小马的回答 : 8  task_id 5752\n",
    "  ISIS 是一个什么样的组织？它的资金是哪来的？ - 罗晓川的回答 : 8  task_id 39\n",
    "  Lambda 表达式有何用处？如何使用？ - 涛吴的回答 : 8  task_id 2008\n",
    "  Signal Weighting---基于因子IC的因子权重优化模型 - 陈颖的专栏 量化哥 : 8  task_id 6007\n",
    "  Smart Beta 投资方法 - 陈颖的专栏 量化哥 : 8  task_id 6017\n",
    "  ofo 获滴滴数千万美元C轮投资，然后呢？ - 曲凯的专栏 创投方法论 : 8  task_id 5656\n",
    "  《文明 6 》中的背景音乐都有什么来历？ - PenguinKing的回答 : 8  task_id 6250\n",
    "  《权力的游戏》你觉得最可怜的人是谁？ - 苏鲁的回答 : 8  task_id 4576\n",
    "  《蒋介石日记》和《毛泽东选集》差距有多大？ - 马前卒的回答 : 8  task_id 5355\n",
    "  「心灵鸡汤」式的文章错在哪？ - 赵皓阳的回答 : 8  task_id 584\n",
    "  '''\n",
    "\n",
    "  for line in datalines(s):\n",
    "    task_id = int(line.split('task_id')[-1][1:])\n",
    "    # log(task_id)\n",
    "    task = Task.select().where(Task.id == task_id).get()\n",
    "    log(task)\n",
    "    # log(task.pages)\n",
    "    # log(task.last_page)\n",
    "    contents = [fix_in_compare(p.content) for p in task.pages]\n",
    "    # questions = [fix_in_compare(p.question) for p in task.pages]\n",
    "    titles = [p.title for p in task.pages]\n",
    "\n",
    "    # metas = [p.metadata for p in task.pages]\n",
    "    # for meta in metas:\n",
    "    #   log(meta)\n",
    "    # compare_text_sequence(titles, label='titles')\n",
    "    # compare_text_sequence(questions, label='questions')\n",
    "    compare_text_sequence(contents, label='contents')\n",
    "\n",
    "    log('\\n\\n\\n')\n",
    "\n",
    "\n",
    "\n",
    "def fix_in_compare(text):\n",
    "  import re\n",
    "  img_reg = r'\\n*\\!\\[\\]\\((https?://pic[^()]+?(\\.jpg|\\.png|\\.gif))\\)\\n*'\n",
    "  pattern_img_start_inline = re.compile(img_reg)\n",
    "  def replace_img_start_inline(mat):\n",
    "    # 保证生成的 *.md 图片在新的一行\n",
    "    s = mat.group(0)\n",
    "    while not s.startswith('\\n\\n'):\n",
    "      s = '\\n' + s\n",
    "    while not s.endswith('\\n\\n'):\n",
    "      s = s + '\\n'\n",
    "    return s\n",
    "\n",
    "  text = pattern_img_start_inline.sub(replace_img_start_inline, text)\n",
    "\n",
    "  pattern_img_https = re.compile(r'http://pic(\\d)\\.zhimg\\.com')\n",
    "  text = pattern_img_https.sub(r'https://pic\\1.zhimg.com', text)\n",
    "  return text\n",
    "\n",
    "\n",
    "def compare_text(t1, t2, prefix=''):\n",
    "  import difflib\n",
    "  changes = [l for l in difflib.ndiff(t1.split('\\n'), t2.split('\\n')) if l.startswith(('+ ', '- '))]\n",
    "  for change in changes:\n",
    "    log(prefix + change)\n",
    "  return changes\n",
    "\n",
    "\n",
    "def compare_text_sequence(texts, label=''):\n",
    "  from pylon import dedupe\n",
    "  from pylon import windows\n",
    "\n",
    "  texts = list(dedupe(texts))\n",
    "  if len(texts) > 1:\n",
    "    log('detect changed {}'.format(label))\n",
    "    for t1, t2 in windows(texts, length=2, overlap=1):\n",
    "      compare_text(t1, t2, prefix='  ')\n",
    "  else:\n",
    "    log('nothing changed {}'.format(label))\n",
    "\n",
    "\n",
    "\n",
    "def test_explore_voteup_thanks():\n",
    "  '''感谢赞同比跟文章质量没啥关系'''\n",
    "  query = (Page.select(Page, Task)\n",
    "           .join(Task)\n",
    "           .where((Task.page_type == 'zhihu_answer'))\n",
    "           .group_by(Page.task)\n",
    "           .having(Page.watch_date == fn.MAX(Page.watch_date))\n",
    "           .limit(50)\n",
    "           .order_by(fn.Random())\n",
    "           )\n",
    "\n",
    "  def thanks_voteup_ratio(page):\n",
    "    thanks = int(page.metadata.split('thanks: ')[1].split(' ')[0])\n",
    "    voteup = int(page.metadata.split('voteup: ')[1].split(' ')[0])\n",
    "    return round(thanks / voteup, 3)\n",
    "\n",
    "  # for page in query:\n",
    "  #   log(page.title)\n",
    "\n",
    "  pages = sorted(query, key=thanks_voteup_ratio)\n",
    "  for page in pages:\n",
    "    log(page.title)\n",
    "    log(repr(page.content[:500]))\n",
    "    log(thanks_voteup_ratio(page))\n",
    "    log('-----------------\\n\\n\\n')\n"
   ]
  },
  {
   "cell_type": "code",
   "execution_count": null,
   "metadata": {},
   "outputs": [],
   "source": []
  },
  {
   "cell_type": "code",
   "execution_count": null,
   "metadata": {},
   "outputs": [],
   "source": []
  },
  {
   "cell_type": "markdown",
   "metadata": {
    "ExecuteTime": {
     "end_time": "2019-06-27T07:39:48.453813Z",
     "start_time": "2019-06-27T07:39:48.285298Z"
    }
   },
   "source": [
    "### Test"
   ]
  },
  {
   "cell_type": "code",
   "execution_count": 20,
   "metadata": {
    "ExecuteTime": {
     "end_time": "2019-06-27T07:55:40.704016Z",
     "start_time": "2019-06-27T07:55:40.622234Z"
    }
   },
   "outputs": [],
   "source": [
    "from collector import Collector\n",
    "\n",
    "\n",
    "col = Collector.load(file='config.yaml')"
   ]
  },
  {
   "cell_type": "code",
   "execution_count": 21,
   "metadata": {
    "ExecuteTime": {
     "end_time": "2019-06-27T07:55:41.415503Z",
     "start_time": "2019-06-27T07:55:41.350674Z"
    }
   },
   "outputs": [
    {
     "data": {
      "text/plain": [
       "[OrderedDict([('url', 'https://zhuanlan.zhihu.com/p/41920814'),\n",
       "              ('label', 'testlabel'),\n",
       "              ('once', True)]),\n",
       " OrderedDict([('url', 'https://zhuanlan.zhihu.com/flask'),\n",
       "              ('label', 'HelloFlask'),\n",
       "              ('once', True)])]"
      ]
     },
     "execution_count": 21,
     "metadata": {},
     "output_type": "execute_result"
    }
   ],
   "source": [
    "col.all()"
   ]
  },
  {
   "cell_type": "code",
   "execution_count": 22,
   "metadata": {
    "ExecuteTime": {
     "end_time": "2019-06-27T07:55:42.831570Z",
     "start_time": "2019-06-27T07:55:42.760345Z"
    }
   },
   "outputs": [
    {
     "name": "stdout",
     "output_type": "stream",
     "text": [
      "Watcher add url=https://zhihu.com/question/49545583/answer/116529877 (None)\n"
     ]
    },
    {
     "ename": "NameError",
     "evalue": "name 'Task' is not defined",
     "output_type": "error",
     "traceback": [
      "\u001b[1;31m---------------------------------------------------------------------------\u001b[0m",
      "\u001b[1;31mNameError\u001b[0m                                 Traceback (most recent call last)",
      "\u001b[1;32m<ipython-input-22-81708cac2912>\u001b[0m in \u001b[0;36m<module>\u001b[1;34m()\u001b[0m\n\u001b[1;32m----> 1\u001b[1;33m \u001b[0mcol\u001b[0m\u001b[1;33m.\u001b[0m\u001b[0madd\u001b[0m\u001b[1;33m(\u001b[0m\u001b[1;34m'https://www.zhihu.com/question/49545583/answer/116529877'\u001b[0m\u001b[1;33m)\u001b[0m\u001b[1;33m\u001b[0m\u001b[0m\n\u001b[0m",
      "\u001b[1;32mD:\\Coding\\TheNorthRemembers\\collector.py\u001b[0m in \u001b[0;36madd\u001b[1;34m(self, url, label, options)\u001b[0m\n\u001b[0;32m     76\u001b[0m       \u001b[0mself\u001b[0m\u001b[1;33m.\u001b[0m\u001b[0madd_one_page\u001b[0m\u001b[1;33m(\u001b[0m\u001b[0murl\u001b[0m\u001b[1;33m,\u001b[0m \u001b[0mlabel\u001b[0m\u001b[1;33m=\u001b[0m\u001b[1;32mNone\u001b[0m\u001b[1;33m,\u001b[0m \u001b[0mpage_type\u001b[0m\u001b[1;33m=\u001b[0m\u001b[0mpage_type\u001b[0m\u001b[1;33m)\u001b[0m\u001b[1;33m\u001b[0m\u001b[0m\n\u001b[0;32m     77\u001b[0m     \u001b[1;32mif\u001b[0m \u001b[0mpage_type\u001b[0m \u001b[1;33m==\u001b[0m \u001b[0mPageType\u001b[0m\u001b[1;33m.\u001b[0m\u001b[0mZhihuAnswer\u001b[0m\u001b[1;33m:\u001b[0m\u001b[1;33m\u001b[0m\u001b[0m\n\u001b[1;32m---> 78\u001b[1;33m       \u001b[0mself\u001b[0m\u001b[1;33m.\u001b[0m\u001b[0madd_one_page\u001b[0m\u001b[1;33m(\u001b[0m\u001b[0murl\u001b[0m\u001b[1;33m,\u001b[0m \u001b[0mlabel\u001b[0m\u001b[1;33m=\u001b[0m\u001b[1;32mNone\u001b[0m\u001b[1;33m,\u001b[0m \u001b[0mpage_type\u001b[0m\u001b[1;33m=\u001b[0m\u001b[0mpage_type\u001b[0m\u001b[1;33m)\u001b[0m\u001b[1;33m\u001b[0m\u001b[0m\n\u001b[0m\u001b[0;32m     79\u001b[0m \u001b[1;33m\u001b[0m\u001b[0m\n\u001b[0;32m     80\u001b[0m \u001b[1;33m\u001b[0m\u001b[0m\n",
      "\u001b[1;32mD:\\Coding\\TheNorthRemembers\\collector.py\u001b[0m in \u001b[0;36madd_one_page\u001b[1;34m(self, url, label, page_type, options)\u001b[0m\n\u001b[0;32m     82\u001b[0m     \u001b[0mprint\u001b[0m\u001b[1;33m(\u001b[0m\u001b[1;34m'Watcher add url={url} ({label})'\u001b[0m\u001b[1;33m.\u001b[0m\u001b[0mformat\u001b[0m\u001b[1;33m(\u001b[0m\u001b[1;33m**\u001b[0m\u001b[0mlocals\u001b[0m\u001b[1;33m(\u001b[0m\u001b[1;33m)\u001b[0m\u001b[1;33m)\u001b[0m\u001b[1;33m)\u001b[0m\u001b[1;33m\u001b[0m\u001b[0m\n\u001b[0;32m     83\u001b[0m \u001b[1;33m\u001b[0m\u001b[0m\n\u001b[1;32m---> 84\u001b[1;33m     \u001b[0mtask\u001b[0m \u001b[1;33m=\u001b[0m \u001b[0mTask\u001b[0m\u001b[1;33m.\u001b[0m\u001b[0massenble\u001b[0m\u001b[1;33m(\u001b[0m\u001b[1;33m)\u001b[0m\u001b[1;33m\u001b[0m\u001b[0m\n\u001b[0m\u001b[0;32m     85\u001b[0m     \u001b[0mWatcher\u001b[0m\u001b[1;33m.\u001b[0m\u001b[0mpush\u001b[0m\u001b[1;33m(\u001b[0m\u001b[0mtask\u001b[0m\u001b[1;33m)\u001b[0m\u001b[1;33m\u001b[0m\u001b[0m\n\u001b[0;32m     86\u001b[0m \u001b[1;33m\u001b[0m\u001b[0m\n",
      "\u001b[1;31mNameError\u001b[0m: name 'Task' is not defined"
     ]
    }
   ],
   "source": [
    "col.add('https://www.zhihu.com/question/49545583/answer/116529877')"
   ]
  },
  {
   "cell_type": "code",
   "execution_count": null,
   "metadata": {},
   "outputs": [],
   "source": [
    "col.scan()"
   ]
  },
  {
   "cell_type": "code",
   "execution_count": null,
   "metadata": {},
   "outputs": [],
   "source": [
    "collector.add(weixin_page_url)\n",
    "collector.add(zhihu_column_url)\n",
    "collector.add(zhihu_anwser_id=xxx)\n",
    "collector.add(zhihu_author_id=xxx)\n",
    "collector.add(column_id=xxx)\n",
    "\n",
    "collector.save(file=xxx)\n",
    "...\n",
    "collector.rescan()\n",
    "collector.save(file=xxx)\n",
    "collector = Collector.load(file=xxx.yaml)"
   ]
  },
  {
   "cell_type": "code",
   "execution_count": null,
   "metadata": {},
   "outputs": [],
   "source": []
  },
  {
   "cell_type": "code",
   "execution_count": null,
   "metadata": {},
   "outputs": [],
   "source": []
  },
  {
   "cell_type": "code",
   "execution_count": null,
   "metadata": {},
   "outputs": [],
   "source": []
  },
  {
   "cell_type": "code",
   "execution_count": 101,
   "metadata": {
    "ExecuteTime": {
     "end_time": "2019-07-02T02:09:22.213581Z",
     "start_time": "2019-07-02T02:09:22.014127Z"
    }
   },
   "outputs": [
    {
     "name": "stdout",
     "output_type": "stream",
     "text": [
      "loaded config_data option: \n",
      "{'enabled': True,\n",
      " 'last_update': 'time',\n",
      " 'max_cycle': '1day',\n",
      " 'min_cycle': '3minutes',\n",
      " 'once': False,\n",
      " 'upvote': '>=500',\n",
      " 'weight': 0.5}\n",
      "loaded config_data tasks 6\n",
      "Watcher.add_tasks result: , Counter({'added': 6})\n"
     ]
    }
   ],
   "source": [
    "from watcher import Watcher\n",
    "w = Watcher(r'D:\\Coding\\TheNorthRemembers\\test\\旗舰评论——战略航空军元帅的旗舰')"
   ]
  },
  {
   "cell_type": "code",
   "execution_count": 96,
   "metadata": {
    "ExecuteTime": {
     "end_time": "2019-07-02T02:00:09.336171Z",
     "start_time": "2019-07-02T02:00:09.236457Z"
    }
   },
   "outputs": [
    {
     "data": {
      "text/plain": [
       "<watcher.ZhihuColumnPageTask at 0x1ca805b0ef0>"
      ]
     },
     "execution_count": 96,
     "metadata": {},
     "output_type": "execute_result"
    }
   ],
   "source": [
    "t = w.tasks[3]\n",
    "t\n"
   ]
  },
  {
   "cell_type": "code",
   "execution_count": 102,
   "metadata": {
    "ExecuteTime": {
     "end_time": "2019-07-02T02:10:11.903767Z",
     "start_time": "2019-07-02T02:09:23.965984Z"
    },
    "scrolled": false
   },
   "outputs": [
    {
     "name": "stdout",
     "output_type": "stream",
     "text": [
      "Watcher.watch index task: <Task url=https://zhuanlan.zhihu.com/necromanov> (version 2)\n",
      "    旗舰评论\n",
      "    task add: (13 hours ago) last watch: (9 minutes ago) last change (9 minutes ago) next watch: (6 minutes ago) \n",
      "extract new task {'url': 'https://zhuanlan.zhihu.com/p/58816847', 'tip': '辐射挽歌：永远不要背叛你的核心用户 - Necromanov'}\n",
      "extract new task {'url': 'https://zhuanlan.zhihu.com/p/52440574', 'tip': '涌现式游戏设计：荒野大镖客2和开放世界的未来 - Necromanov'}\n",
      "extract new task {'url': 'https://zhuanlan.zhihu.com/p/44222140', 'tip': '堡垒之夜：游戏付费的第三次革命 - Necromanov'}\n",
      "extract new task {'url': 'https://zhuanlan.zhihu.com/p/36274632', 'tip': '天国拯救：突破惯例 - Necromanov'}\n",
      "extract new task {'url': 'https://zhuanlan.zhihu.com/p/35583292', 'tip': '真三国无双8：开放世界的误区 - Necromanov'}\n",
      "Watcher.add_tasks result: , Counter({'updated': 5})\n",
      "save task: <Task url=https://zhuanlan.zhihu.com/necromanov> (version 3)\n",
      "    旗舰评论\n",
      "    task add: (13 hours ago) last watch: (just now) last change (just now) next watch: (in 3 minutes) \n",
      "Watcher.watch index task done: <Task url=https://zhuanlan.zhihu.com/necromanov> (version 3)\n",
      "    旗舰评论\n",
      "    task add: (13 hours ago) last watch: (just now) last change (just now) next watch: (in 3 minutes) \n",
      "\n",
      "\n",
      "Watcher.watch page task: <Task url=https://zhuanlan.zhihu.com/p/58816847> (version 2)\n",
      "    辐射挽歌：永远不要背叛你的核心用户 - Necromanov\n",
      "    task add: (13 hours ago) last watch: (7 minutes ago) last change (7 minutes ago) next watch: (just now) \n",
      "ZhihuColumnPageTask fetching...\n",
      "write D:\\Coding\\TheNorthRemembers\\test\\旗舰评论——战略航空军元帅的旗舰/辐射挽歌：永远不要背叛你的核心用户 - Necromanov的专栏 旗舰评论——战略航空军元帅的旗舰.md done\n",
      "save task: <Task url=https://zhuanlan.zhihu.com/p/58816847> (version 3)\n",
      "    辐射挽歌：永远不要背叛你的核心用户 - Necromanov\n",
      "    task add: (13 hours ago) last watch: (just now) last change (just now) next watch: (in 3 minutes) \n",
      "Watcher.watch page task done: <Task url=https://zhuanlan.zhihu.com/p/58816847> (version 3)\n",
      "    辐射挽歌：永远不要背叛你的核心用户 - Necromanov\n",
      "    task add: (13 hours ago) last watch: (just now) last change (just now) next watch: (in 2 minutes) \n",
      "\n",
      "\n",
      "Watcher.watch page task: <Task url=https://zhuanlan.zhihu.com/p/52440574> (version 2)\n",
      "    涌现式游戏设计：荒野大镖客2和开放世界的未来 - Necromanov\n",
      "    task add: (13 hours ago) last watch: (7 minutes ago) last change (7 minutes ago) next watch: (seconds ago) \n",
      "ZhihuColumnPageTask fetching...\n",
      "write D:\\Coding\\TheNorthRemembers\\test\\旗舰评论——战略航空军元帅的旗舰/涌现式游戏设计：荒野大镖客2和开放世界的未来 - Necromanov的专栏 旗舰评论——战略航空军元帅的旗舰.md done\n",
      "save task: <Task url=https://zhuanlan.zhihu.com/p/52440574> (version 3)\n",
      "    涌现式游戏设计：荒野大镖客2和开放世界的未来 - Necromanov\n",
      "    task add: (13 hours ago) last watch: (just now) last change (just now) next watch: (in 3 minutes) \n",
      "Watcher.watch page task done: <Task url=https://zhuanlan.zhihu.com/p/52440574> (version 3)\n",
      "    涌现式游戏设计：荒野大镖客2和开放世界的未来 - Necromanov\n",
      "    task add: (13 hours ago) last watch: (just now) last change (just now) next watch: (in 2 minutes) \n",
      "\n",
      "\n",
      "Watcher.watch page task: <Task url=https://zhuanlan.zhihu.com/p/44222140> (version 2)\n",
      "    堡垒之夜：游戏付费的第三次革命 - Necromanov\n",
      "    task add: (13 hours ago) last watch: (7 minutes ago) last change (7 minutes ago) next watch: (seconds ago) \n",
      "ZhihuColumnPageTask fetching...\n",
      "write D:\\Coding\\TheNorthRemembers\\test\\旗舰评论——战略航空军元帅的旗舰/堡垒之夜：游戏付费的第三次革命 - Necromanov的专栏 旗舰评论——战略航空军元帅的旗舰.md done\n",
      "save task: <Task url=https://zhuanlan.zhihu.com/p/44222140> (version 3)\n",
      "    堡垒之夜：游戏付费的第三次革命 - Necromanov\n",
      "    task add: (13 hours ago) last watch: (just now) last change (just now) next watch: (in 3 minutes) \n",
      "Watcher.watch page task done: <Task url=https://zhuanlan.zhihu.com/p/44222140> (version 3)\n",
      "    堡垒之夜：游戏付费的第三次革命 - Necromanov\n",
      "    task add: (13 hours ago) last watch: (just now) last change (just now) next watch: (in 2 minutes) \n",
      "\n",
      "\n",
      "Watcher.watch page task: <Task url=https://zhuanlan.zhihu.com/p/36274632> (version 2)\n",
      "    天国拯救：突破惯例 - Necromanov\n",
      "    task add: (13 hours ago) last watch: (7 minutes ago) last change (7 minutes ago) next watch: (seconds ago) \n",
      "ZhihuColumnPageTask fetching...\n",
      "write D:\\Coding\\TheNorthRemembers\\test\\旗舰评论——战略航空军元帅的旗舰/天国拯救：突破惯例 - Necromanov的专栏 旗舰评论——战略航空军元帅的旗舰.md done\n",
      "save task: <Task url=https://zhuanlan.zhihu.com/p/36274632> (version 3)\n",
      "    天国拯救：突破惯例 - Necromanov\n",
      "    task add: (13 hours ago) last watch: (just now) last change (just now) next watch: (in 3 minutes) \n",
      "Watcher.watch page task done: <Task url=https://zhuanlan.zhihu.com/p/36274632> (version 3)\n",
      "    天国拯救：突破惯例 - Necromanov\n",
      "    task add: (13 hours ago) last watch: (just now) last change (just now) next watch: (in 2 minutes) \n",
      "\n",
      "\n",
      "Watcher.watch page task: <Task url=https://zhuanlan.zhihu.com/p/35583292> (version 2)\n",
      "    真三国无双8：开放世界的误区 - Necromanov\n",
      "    task add: (13 hours ago) last watch: (7 minutes ago) last change (7 minutes ago) next watch: (seconds ago) \n",
      "ZhihuColumnPageTask fetching...\n",
      "write D:\\Coding\\TheNorthRemembers\\test\\旗舰评论——战略航空军元帅的旗舰/真三国无双8：开放世界的误区 - Necromanov的专栏 旗舰评论——战略航空军元帅的旗舰.md done\n",
      "save task: <Task url=https://zhuanlan.zhihu.com/p/35583292> (version 3)\n",
      "    真三国无双8：开放世界的误区 - Necromanov\n",
      "    task add: (13 hours ago) last watch: (just now) last change (just now) next watch: (in 2 minutes) \n",
      "Watcher.watch page task done: <Task url=https://zhuanlan.zhihu.com/p/35583292> (version 3)\n",
      "    真三国无双8：开放世界的误区 - Necromanov\n",
      "    task add: (13 hours ago) last watch: (just now) last change (just now) next watch: (in 2 minutes) \n",
      "\n",
      "\n",
      "save_config_yaml \"D:\\Coding\\TheNorthRemembers\\test\\旗舰评论——战略航空军元帅的旗舰/.task.yaml\" done\n"
     ]
    }
   ],
   "source": [
    "w.watch()"
   ]
  },
  {
   "cell_type": "code",
   "execution_count": 137,
   "metadata": {
    "ExecuteTime": {
     "end_time": "2019-07-01T12:04:51.323256Z",
     "start_time": "2019-07-01T12:04:51.220555Z"
    }
   },
   "outputs": [
    {
     "data": {
      "text/plain": [
       "False"
      ]
     },
     "execution_count": 137,
     "metadata": {},
     "output_type": "execute_result"
    }
   ],
   "source": [
    "w.tasks[2].should_fetch"
   ]
  },
  {
   "cell_type": "markdown",
   "metadata": {},
   "source": [
    "### generate token"
   ]
  },
  {
   "cell_type": "code",
   "execution_count": 58,
   "metadata": {
    "ExecuteTime": {
     "end_time": "2019-06-28T08:01:37.184356Z",
     "start_time": "2019-06-28T08:01:14.553118Z"
    },
    "collapsed": true
   },
   "outputs": [
    {
     "name": "stderr",
     "output_type": "stream",
     "text": [
      "[autoreload of fetcher.zhihu_answer failed: Traceback (most recent call last):\n",
      "  File \"c:\\programdata\\anaconda3\\lib\\site-packages\\IPython\\extensions\\autoreload.py\", line 246, in check\n",
      "    superreload(m, reload, self.old_objects)\n",
      "  File \"c:\\programdata\\anaconda3\\lib\\site-packages\\IPython\\extensions\\autoreload.py\", line 369, in superreload\n",
      "    module = reload(module)\n",
      "  File \"c:\\programdata\\anaconda3\\lib\\imp.py\", line 315, in reload\n",
      "    return importlib.reload(module)\n",
      "  File \"c:\\programdata\\anaconda3\\lib\\importlib\\__init__.py\", line 166, in reload\n",
      "    _bootstrap._exec(spec, module)\n",
      "  File \"<frozen importlib._bootstrap>\", line 618, in _exec\n",
      "  File \"<frozen importlib._bootstrap_external>\", line 678, in exec_module\n",
      "  File \"<frozen importlib._bootstrap>\", line 219, in _call_with_frames_removed\n",
      "  File \"D:\\Coding\\TheNorthRemembers\\fetcher\\zhihu_answer.py\", line 41, in <module>\n",
      "    client.load_token(TOKEN_FILE)\n",
      "  File \"c:\\programdata\\anaconda3\\lib\\site-packages\\zhihu_oauth\\client.py\", line 261, in load_token\n",
      "    self._token = ZhihuToken.from_file(filename)\n",
      "  File \"c:\\programdata\\anaconda3\\lib\\site-packages\\zhihu_oauth\\oauth\\token.py\", line 94, in from_file\n",
      "    with open(filename, 'rb') as f:\n",
      "FileNotFoundError: [Errno 2] No such file or directory: 'token.pkl'\n",
      "]\n"
     ]
    },
    {
     "name": "stdout",
     "output_type": "stream",
     "text": [
      "----- Zhihu OAuth Login -----\n",
      "使用手机号登录的时候请在手机号前加上 +86\n",
      "email/phone: pob301@gmail.com\n",
      "password: p[0]p[0]\n",
      "Need for a captcha, getting it......\n",
      "Please open D:\\Coding\\TheNorthRemembers\\captcha.gif for captcha\n",
      "captcha: MUEK\n",
      "Login success.\n"
     ]
    }
   ],
   "source": [
    "from tools import generate_zhihu_token\n",
    "generate_zhihu_token()"
   ]
  },
  {
   "cell_type": "code",
   "execution_count": 98,
   "metadata": {
    "ExecuteTime": {
     "end_time": "2019-07-02T02:00:57.491075Z",
     "start_time": "2019-07-02T02:00:57.398245Z"
    }
   },
   "outputs": [],
   "source": [
    "log = tools.create_logger('1.txt')"
   ]
  },
  {
   "cell_type": "code",
   "execution_count": 99,
   "metadata": {
    "ExecuteTime": {
     "end_time": "2019-07-02T02:00:58.360869Z",
     "start_time": "2019-07-02T02:00:58.260141Z"
    }
   },
   "outputs": [
    {
     "name": "stdout",
     "output_type": "stream",
     "text": [
      "[0, 1, 2, 3, 4, 5, 6, 7, 8, 9, 10, 11, 12, 13, 14, 15, 16, 17, 18, 19, 20, 21, 22, 23, 24, 25, 26, 27, 28, 29, 30, 31, 32, 33, 34, 35, 36, 37, 38, 39, 40, 41, 42, 43, 44, 45, 46, 47, 48, 49, 50, 51, 52, 53, 54, 55, 56, 57, 58, 59, 60, 61, 62, 63, 64, 65, 66, 67, 68, 69, 70, 71, 72, 73, 74, 75, 76, 77, 78, 79, 80, 81, 82, 83, 84, 85, 86, 87, 88, 89, 90, 91, 92, 93, 94, 95, 96, 97, 98, 99]\n"
     ]
    }
   ],
   "source": [
    "log(list(range(100)))"
   ]
  },
  {
   "cell_type": "code",
   "execution_count": 73,
   "metadata": {
    "ExecuteTime": {
     "end_time": "2019-07-02T01:38:49.802562Z",
     "start_time": "2019-07-02T01:38:49.704818Z"
    }
   },
   "outputs": [
    {
     "name": "stdout",
     "output_type": "stream",
     "text": [
      "[0, 1, 2, 3, 4, 5, 6, 7, 8, 9, 10, 11, 12, 13, 14, 15, 16, 17, 18, 19, 20, 21,\n",
      " 22, 23, 24, 25, 26, 27, 28, 29, 30, 31, 32, 33, 34, 35, 36, 37, 38, 39, 40, 41,\n",
      " 42, 43, 44, 45, 46, 47, 48, 49, 50, 51, 52, 53, 54, 55, 56, 57, 58, 59, 60, 61,\n",
      " 62, 63, 64, 65, 66, 67, 68, 69, 70, 71, 72, 73, 74, 75, 76, 77, 78, 79, 80, 81,\n",
      " 82, 83, 84, 85, 86, 87, 88, 89, 90, 91, 92, 93, 94, 95, 96, 97, 98, 99]\n"
     ]
    },
    {
     "data": {
      "text/plain": [
       "([0,\n",
       "  1,\n",
       "  2,\n",
       "  3,\n",
       "  4,\n",
       "  5,\n",
       "  6,\n",
       "  7,\n",
       "  8,\n",
       "  9,\n",
       "  10,\n",
       "  11,\n",
       "  12,\n",
       "  13,\n",
       "  14,\n",
       "  15,\n",
       "  16,\n",
       "  17,\n",
       "  18,\n",
       "  19,\n",
       "  20,\n",
       "  21,\n",
       "  22,\n",
       "  23,\n",
       "  24,\n",
       "  25,\n",
       "  26,\n",
       "  27,\n",
       "  28,\n",
       "  29,\n",
       "  30,\n",
       "  31,\n",
       "  32,\n",
       "  33,\n",
       "  34,\n",
       "  35,\n",
       "  36,\n",
       "  37,\n",
       "  38,\n",
       "  39,\n",
       "  40,\n",
       "  41,\n",
       "  42,\n",
       "  43,\n",
       "  44,\n",
       "  45,\n",
       "  46,\n",
       "  47,\n",
       "  48,\n",
       "  49,\n",
       "  50,\n",
       "  51,\n",
       "  52,\n",
       "  53,\n",
       "  54,\n",
       "  55,\n",
       "  56,\n",
       "  57,\n",
       "  58,\n",
       "  59,\n",
       "  60,\n",
       "  61,\n",
       "  62,\n",
       "  63,\n",
       "  64,\n",
       "  65,\n",
       "  66,\n",
       "  67,\n",
       "  68,\n",
       "  69,\n",
       "  70,\n",
       "  71,\n",
       "  72,\n",
       "  73,\n",
       "  74,\n",
       "  75,\n",
       "  76,\n",
       "  77,\n",
       "  78,\n",
       "  79,\n",
       "  80,\n",
       "  81,\n",
       "  82,\n",
       "  83,\n",
       "  84,\n",
       "  85,\n",
       "  86,\n",
       "  87,\n",
       "  88,\n",
       "  89,\n",
       "  90,\n",
       "  91,\n",
       "  92,\n",
       "  93,\n",
       "  94,\n",
       "  95,\n",
       "  96,\n",
       "  97,\n",
       "  98,\n",
       "  99],)"
      ]
     },
     "execution_count": 73,
     "metadata": {},
     "output_type": "execute_result"
    }
   ],
   "source": [
    "list(range(100))|log"
   ]
  },
  {
   "cell_type": "code",
   "execution_count": 62,
   "metadata": {
    "ExecuteTime": {
     "end_time": "2019-07-02T01:19:56.881653Z",
     "start_time": "2019-07-02T01:19:56.784894Z"
    }
   },
   "outputs": [
    {
     "data": {
      "text/plain": [
       "'2019-07-02 09:19:56.877664'"
      ]
     },
     "execution_count": 62,
     "metadata": {},
     "output_type": "execute_result"
    }
   ],
   "source": [
    "\n"
   ]
  },
  {
   "cell_type": "code",
   "execution_count": null,
   "metadata": {},
   "outputs": [],
   "source": []
  },
  {
   "cell_type": "code",
   "execution_count": null,
   "metadata": {},
   "outputs": [],
   "source": []
  },
  {
   "cell_type": "code",
   "execution_count": null,
   "metadata": {},
   "outputs": [],
   "source": []
  },
  {
   "cell_type": "code",
   "execution_count": null,
   "metadata": {},
   "outputs": [],
   "source": []
  }
 ],
 "metadata": {
  "hide_input": false,
  "kernelspec": {
   "display_name": "Python 3",
   "language": "python",
   "name": "python3"
  },
  "language_info": {
   "codemirror_mode": {
    "name": "ipython",
    "version": 3
   },
   "file_extension": ".py",
   "mimetype": "text/x-python",
   "name": "python",
   "nbconvert_exporter": "python",
   "pygments_lexer": "ipython3",
   "version": "3.6.3"
  },
  "toc": {
   "nav_menu": {},
   "number_sections": true,
   "sideBar": true,
   "skip_h1_title": false,
   "title_cell": "Table of Contents",
   "title_sidebar": "Contents",
   "toc_cell": false,
   "toc_position": {},
   "toc_section_display": true,
   "toc_window_display": false
  }
 },
 "nbformat": 4,
 "nbformat_minor": 1
}
