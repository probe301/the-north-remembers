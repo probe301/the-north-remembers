{
 "cells": [
  {
   "cell_type": "code",
   "execution_count": null,
   "metadata": {},
   "outputs": [],
   "source": []
  },
  {
   "cell_type": "markdown",
   "metadata": {},
   "source": [
    "# The North Remembers Project"
   ]
  },
  {
   "cell_type": "code",
   "execution_count": 1,
   "metadata": {
    "ExecuteTime": {
     "end_time": "2019-09-07T13:13:10.538549Z",
     "start_time": "2019-09-07T13:13:10.134962Z"
    }
   },
   "outputs": [],
   "source": [
    "%load_ext autoreload\n",
    "%autoreload 2\n",
    "\n",
    "import os\n",
    "import sys\n",
    "import re\n",
    "import random\n",
    "from pprint import pprint\n",
    "from time import sleep\n",
    "import math\n",
    "from itertools import groupby\n",
    "from collections import OrderedDict as odict\n",
    "from pprint import pprint\n",
    "\n",
    "\n",
    "\n",
    "from website.zhihu import zhihu_detect_with_client\n",
    "from website.zhihu import zhihu_detect\n",
    "from website.zhihu import get_comments_api_v4\n",
    "from website.zhihu import get_valuable_conversations_api_v4\n",
    "from website.zhihu import fetch_zhihu_answer\n",
    "from website.zhihu import fetch_zhihu_article\n",
    "import tools\n",
    "\n",
    "from zhihu_oauth import ZhihuClient\n",
    "\n",
    "TOKEN_FILE = 'token.pkl'\n",
    "client = ZhihuClient()\n",
    "client.load_token(TOKEN_FILE)"
   ]
  },
  {
   "cell_type": "markdown",
   "metadata": {},
   "source": [
    "### 取舍\n",
    "\n",
    "数据存储用 github, 或者 bitbucket\n",
    "\n",
    "\n",
    "提供导出为 rss, epub, pdf, github 自带检查历史的功能\n",
    "\n",
    "不追求实效性\n",
    "\n",
    "\n",
    "\n",
    "外链图片不作为重点\n",
    "外链图片和视频链接, url 链接, 一并修复, 换行字符串等也一并处理, 七牛云?\n",
    "md 中的 Latex 和 代码检测也在这里修复, pygment"
   ]
  },
  {
   "cell_type": "markdown",
   "metadata": {},
   "source": [
    "### 调用关系\n",
    "\n",
    "\n",
    "\n"
   ]
  },
  {
   "cell_type": "markdown",
   "metadata": {},
   "source": [
    "#### Collector\n",
    "\n",
    "处理用户发出的命令\n",
    "\n",
    "可以是 zhihu answer url, 问题页, 收藏夹页, 需要带有过滤条件\n",
    "用户可能在过滤条件后再做修补删减\n",
    "\n",
    "需要转为具体的爬虫任务, 并创建文件夹\n",
    "单页收集到特定的文件夹, 否则收集到一个自动命名的文件夹\n",
    "\n",
    "在文件夹下生成task\n",
    "\n",
    "Resources\n",
    "global_config\n",
    "task_config (scanlist)\n",
    "\n",
    "\n",
    "Collector.append(url, options)\n",
    "\n",
    "\n",
    "\n",
    "#### Watcher\n",
    "\n",
    "\n",
    "\n",
    "任务调度, 监视文件夹, 根据 task.yaml 抓取页面\n",
    "\n",
    "task.yaml 也记录历史\n",
    "\n",
    "task_type: single_page, \n",
    "update_batch: 10\n",
    "\n",
    "\n",
    "track_new: true\n",
    "\n",
    "\n",
    "通过扫描已有的待抓取任务, 在手动触发, 达到特定时间后, 分派抓取任务\n",
    "\n",
    "    Watcher\n",
    "        .watch()\n",
    "        .remember()\n",
    "        .status()\n",
    "        .load_config_yaml\n",
    "        .save_config_yaml\n",
    "        .add_task add_tasks\n",
    "\n",
    "\n",
    "\n",
    "Task\n",
    "\n",
    "被调用抓取单一页面内容, 或者抓取一个 url 列表\n",
    "抓取单一页面内容将存为 md, 不存 html\n",
    "\n",
    "    Task\n",
    "        ZhihuAnswerPageTask\n",
    "        ZhihuAnswerIndexTask\n",
    "        ZhihuColumnPageTask\n",
    "        ZhihuColumnIndexTask\n",
    "\n",
    "Task 会使用 Page.save / load\n",
    "\n",
    "    .last_page()\n",
    "    .fetch()\n",
    "    .save() 传递一些参数给 page 如 watch_date\n",
    "    .to_yaml_text()\n",
    "    \n",
    "    .priority\n",
    "    .is_page_type\n",
    "    .should_fetch\n",
    "    .content_is_changed\n",
    "\n",
    "\n",
    "\n",
    "ZhihuColumnPage\n",
    "ZhihuColumnLister\n",
    "\n",
    "\n",
    "Fetcher.request(url) => dict()? Page()\n",
    "\n",
    "Page.write to / load from disk\n",
    "\n",
    "PageTask.run => Fetcher.request(url) => New Page\n",
    "PageTask.update => New Page.write\n",
    "IndexTask.run => Fetcher.request(url) => [New Tasks]\n",
    "\n",
    "\n",
    "Watcher -> PageTask -> Page (tmpl, fetcherAPI)\n",
    "                            ZhihuColumnPage\n",
    "                            ZhihuAnswerPage\n",
    "                            WeixinArticlePage\n",
    "\n",
    "\n",
    "Watcher -> IndexTask -> append more tasks\n",
    "                        ZhihuColumnIndex\n",
    "    \n",
    "\n",
    "\n",
    "\n"
   ]
  },
  {
   "cell_type": "markdown",
   "metadata": {},
   "source": [
    "#### Fetcher\n",
    "\n",
    "Page\n",
    "\n",
    "页面内容分为 元数据 + 文章主体 + 评论, 评论先放放\n",
    "\n",
    "\n",
    "Page.load()  返回一个读盘的页面\n",
    "\n",
    "以md文件为单位\n",
    "\n",
    "    ZhihuColumnPage\n",
    "        .load(path)\n",
    "        .write(path)\n",
    "        .compare()\n",
    "\n",
    "    attr\n",
    "        task = ForeignKeyField(Task, related_name='task')\n",
    "        watch_date = DateTimeField()\n",
    "        title = CharField(null=True)\n",
    "        author = CharField(null=True)\n",
    "        content = TextField(null=True)\n",
    "        metadata = TextField(null=True)\n",
    "        topic = TextField(null=True)\n",
    "        question = TextField(null=True)\n",
    "        comment = TextField(null=True)\n",
    "\n",
    "\n",
    "\n",
    "\n",
    "\n",
    "#### Cleaner\n",
    "\n",
    "处理, 清理文本的规则\n",
    "\n",
    "\n",
    "\n",
    "Exporter\n",
    "\n",
    "根据 Template 转换为 rss, epub, pdf, 以及 github diff 预览\n",
    "\n",
    "图片转存也算在 Template 里"
   ]
  },
  {
   "cell_type": "code",
   "execution_count": null,
   "metadata": {},
   "outputs": [],
   "source": [
    "描述\n",
    "\n",
    "以更加简洁清晰的排版阅读知乎. (这个需求有简悦)\n",
    "\n",
    "用户指定一个知乎网站上的问题, zhihumark 抓取相应的回答内容, 以 markdown 文档的形式提供给用户阅读和下载. (提供 md 下载没用)\n",
    "\n",
    "\n",
    "\n",
    "\n",
    "\n",
    "功能\n",
    "\n",
    "可以自由定制想抓取的内容, 这包括: 抓取指定答主/收藏夹名/问题/话题下的回答, 抓取赞同数量超过N的回答.\n",
    "可以设置黑名单, 不抓取特定的问题或者答主.\n",
    "抓取评论, 以会话的形式组织起来, 让上下文相关的评论出现在一起, 尽量滤除没有价值的评论.\n",
    "将收集到的一系列文档保存为epub或者pdf, 或者批量下载 markdown 文档, 以便离线阅读.\n",
    "制作成 feed 以便放入 rss 阅读器, 获取实时更新.\n",
    "\n",
    "\n",
    "观念\n",
    "\n",
    "我们也不显示其他人搜索了什么关键字, 获取了什么页面, 下载了哪些电子书, 看到什么取决于你\n",
    "\n",
    "我们相信评论是回答(或文章)可以分割的一部分, 许多评论很水, 有些很有价值.\n",
    "\n",
    "相信评论区是对回答的重要补充, 也有随回答保留的必要, 但需处理评论区良莠不齐, 引用回复混乱的问题.\n",
    "\n",
    "\n",
    "\n",
    "页面设计\n",
    "\n",
    "单页面网站应用, 基本上类似搜索引擎的风格和排版.\n",
    "\n",
    "输入框 - 接受输入ID或URL 答主/收藏夹名/问题名/话题名\n",
    "\n",
    "选项 - 保留最前的n个回答?\n",
    "选项 - 赞同数至少是?\n",
    "选项 - 保留评论? 评论对话中至少有多少 likes\n",
    "屏蔽 - 不感兴趣的话题, 问题, 答主\n",
    "返回 - markdown文件列表\n",
    "\n",
    "批量下载按钮"
   ]
  },
  {
   "cell_type": "code",
   "execution_count": null,
   "metadata": {},
   "outputs": [],
   "source": []
  },
  {
   "cell_type": "code",
   "execution_count": null,
   "metadata": {},
   "outputs": [],
   "source": [
    "\n"
   ]
  },
  {
   "cell_type": "code",
   "execution_count": null,
   "metadata": {},
   "outputs": [],
   "source": []
  },
  {
   "cell_type": "code",
   "execution_count": null,
   "metadata": {},
   "outputs": [],
   "source": []
  },
  {
   "cell_type": "code",
   "execution_count": null,
   "metadata": {},
   "outputs": [],
   "source": []
  },
  {
   "cell_type": "code",
   "execution_count": null,
   "metadata": {},
   "outputs": [],
   "source": []
  },
  {
   "cell_type": "code",
   "execution_count": null,
   "metadata": {},
   "outputs": [],
   "source": []
  },
  {
   "cell_type": "code",
   "execution_count": null,
   "metadata": {},
   "outputs": [],
   "source": []
  },
  {
   "cell_type": "code",
   "execution_count": null,
   "metadata": {},
   "outputs": [],
   "source": []
  },
  {
   "cell_type": "code",
   "execution_count": null,
   "metadata": {},
   "outputs": [],
   "source": []
  },
  {
   "cell_type": "code",
   "execution_count": null,
   "metadata": {},
   "outputs": [],
   "source": []
  },
  {
   "cell_type": "code",
   "execution_count": null,
   "metadata": {},
   "outputs": [],
   "source": []
  },
  {
   "cell_type": "code",
   "execution_count": null,
   "metadata": {},
   "outputs": [],
   "source": []
  },
  {
   "cell_type": "code",
   "execution_count": null,
   "metadata": {},
   "outputs": [],
   "source": []
  },
  {
   "cell_type": "code",
   "execution_count": null,
   "metadata": {},
   "outputs": [],
   "source": []
  },
  {
   "cell_type": "code",
   "execution_count": null,
   "metadata": {
    "ExecuteTime": {
     "end_time": "2019-08-31T16:24:52.530811Z",
     "start_time": "2019-08-31T16:24:52.319113Z"
    }
   },
   "outputs": [],
   "source": [
    "import tools\n",
    "tools.generate_ascii_title('flask')"
   ]
  },
  {
   "cell_type": "code",
   "execution_count": null,
   "metadata": {},
   "outputs": [],
   "source": []
  },
  {
   "cell_type": "code",
   "execution_count": null,
   "metadata": {},
   "outputs": [],
   "source": []
  },
  {
   "cell_type": "code",
   "execution_count": null,
   "metadata": {},
   "outputs": [],
   "source": []
  },
  {
   "cell_type": "code",
   "execution_count": null,
   "metadata": {},
   "outputs": [],
   "source": []
  },
  {
   "cell_type": "code",
   "execution_count": null,
   "metadata": {},
   "outputs": [],
   "source": []
  },
  {
   "cell_type": "code",
   "execution_count": null,
   "metadata": {},
   "outputs": [],
   "source": []
  },
  {
   "cell_type": "code",
   "execution_count": null,
   "metadata": {
    "ExecuteTime": {
     "end_time": "2019-09-04T15:18:11.568781Z",
     "start_time": "2019-09-04T15:18:11.413182Z"
    }
   },
   "outputs": [],
   "source": []
  },
  {
   "cell_type": "code",
   "execution_count": null,
   "metadata": {},
   "outputs": [],
   "source": []
  },
  {
   "cell_type": "code",
   "execution_count": null,
   "metadata": {},
   "outputs": [],
   "source": []
  },
  {
   "cell_type": "code",
   "execution_count": null,
   "metadata": {},
   "outputs": [],
   "source": []
  },
  {
   "cell_type": "markdown",
   "metadata": {
    "ExecuteTime": {
     "end_time": "2019-06-27T07:39:48.453813Z",
     "start_time": "2019-06-27T07:39:48.285298Z"
    }
   },
   "source": [
    "### Test Collector"
   ]
  },
  {
   "cell_type": "code",
   "execution_count": 4,
   "metadata": {
    "ExecuteTime": {
     "end_time": "2019-09-07T13:13:44.055070Z",
     "start_time": "2019-09-07T13:13:43.998653Z"
    }
   },
   "outputs": [
    {
     "name": "stdout",
     "output_type": "stream",
     "text": [
      "The autoreload extension is already loaded. To reload it, use:\n",
      "  %reload_ext autoreload\n"
     ]
    }
   ],
   "source": [
    "%load_ext autoreload\n",
    "%autoreload 2"
   ]
  },
  {
   "cell_type": "code",
   "execution_count": null,
   "metadata": {},
   "outputs": [],
   "source": []
  },
  {
   "cell_type": "code",
   "execution_count": 5,
   "metadata": {
    "ExecuteTime": {
     "end_time": "2019-09-07T13:13:46.486134Z",
     "start_time": "2019-09-07T13:13:44.719470Z"
    }
   },
   "outputs": [
    {
     "name": "stdout",
     "output_type": "stream",
     "text": [
      "create new project D:\\DataStore\\Test Collector8 and committed\n",
      "report <Collector #3009843698880 path=`D:\\DataStore\\Test Collector8`> \n",
      "---------------------\n",
      "git log: \n",
      "    5a501f2 init TNR project\n",
      "---------------------\n"
     ]
    }
   ],
   "source": [
    "from collector import Collector\n",
    "\n",
    "col = Collector(project_path='D:\\DataStore\\The North Remembers - Science')\n",
    "\n",
    "\n",
    "col = Collector.create_project(r'D:\\DataStore\\Test Collector8')\n",
    "# col = Collector(project_path='/project')\n",
    "# topic_id = 19644231 # 古建筑\n",
    "# topic_id = 19582176 # 建筑设计\n",
    "# topic_id = 19573393 # 建筑史\n",
    "# topic_id = 19568972 # 建筑学\n",
    "col.report()"
   ]
  },
  {
   "cell_type": "code",
   "execution_count": 6,
   "metadata": {
    "ExecuteTime": {
     "end_time": "2019-09-07T13:14:00.655359Z",
     "start_time": "2019-09-07T13:13:59.737931Z"
    }
   },
   "outputs": [
    {
     "name": "stdout",
     "output_type": "stream",
     "text": [
      "generate_tip get 动物行为和学习\n",
      "generate_tip get Memento\n",
      "generate_tip get 老司机的生物学课堂\n",
      "Watcher path D:\\DataStore\\Test Collector8\\Science\\知乎生物学专栏合集 created\n",
      "Watcher.remember committed: \"create Watcher folder 知乎生物学专栏合集\"\n",
      "\n",
      "<Collector #3009843698880 path=`D:\\DataStore\\Test Collector8`>\n"
     ]
    }
   ],
   "source": [
    "urls = '''\n",
    "https://zhuanlan.zhihu.com/learningtheory #动物行为和学习\n",
    "https://zhuanlan.zhihu.com/memento        #Memento\n",
    "https://zhuanlan.zhihu.com/bioandchill    #老司机的生物学课堂\n",
    "'''.strip().splitlines()\n",
    "\n",
    "col.create_watcher(urls=[l.split(' ')[0]for l in urls], \n",
    "                   folder='知乎生物学专栏合集', \n",
    "                   parent_folder='Science',\n",
    "                   lister_option={'zhihu_min_voteup': 1, 'limit': 2})\n",
    "print(col)"
   ]
  },
  {
   "cell_type": "code",
   "execution_count": 7,
   "metadata": {
    "ExecuteTime": {
     "end_time": "2019-09-07T13:15:19.415695Z",
     "start_time": "2019-09-07T13:14:26.692714Z"
    }
   },
   "outputs": [
    {
     "name": "stdout",
     "output_type": "stream",
     "text": [
      "config `D:\\DataStore\\Test Collector8\\Science\\知乎生物学专栏合集/.task.yaml` loaded: \n",
      "  lister default option: {'enabled': True, 'max_cycle': '30days', 'min_cycle': '12hours', 'weight': 0.5, 'limit': 1, 'zhihu_min_voteup': 1}\n",
      "  page default option: {'enabled': True, 'max_cycle': '180days', 'min_cycle': '45days', 'weight': 0.5}\n",
      "  found 3 lister tasks in config:\n",
      "    lister_task: 知乎专栏 - 动物行为和学习\n",
      "    lister_task: 知乎专栏 - Memento\n",
      "    lister_task: 知乎专栏 - 老司机的生物学课堂\n",
      "  found 0 page tasks in config:\n",
      "\n",
      "watcher add 3 tasks: {'new+prepare': 3}\n",
      "watcher add 0 tasks: {}\n",
      "\n",
      "  ↓ start_watching_once for\n",
      "  <Watcher #3009843698264>\n",
      "      from \"D:\\DataStore\\Test Collector8\\Science\\知乎生物学专栏合集\", 3 tasks\n",
      "    \n",
      "watching listers... should fetch 3 lister tasks\n",
      "\n",
      "request_ZhihuColumnLister column_id, learningtheory\n",
      "detect https://zhuanlan.zhihu.com/p/24675651 狗有情景记忆吗？ - 大哉问\n",
      "Task.run detect new tasks done: 1 tasks\n",
      "watcher add 1 tasks: {'new+prepare': 1}\n",
      "lister task done (1/3): \n",
      "<Task #3009839215728> https://zhuanlan.zhihu.com/learningtheory (ver. 1)\n",
      "    知乎专栏 - 动物行为和学习\n",
      "    taskadd: just now, lastwatch: just now, lastchange: just now, nextwatch: in 12 hours\n",
      "\n",
      "\n",
      "Watcher.remember committed: \"check lister 1/3, 知乎专栏 - 动物行为和学习\"\n",
      "\n",
      "request_ZhihuColumnLister column_id, memento\n",
      "detect https://zhuanlan.zhihu.com/p/30489803 人生赢家永远是人生赢家？ - 陈小伊\n",
      "Task.run detect new tasks done: 1 tasks\n",
      "watcher add 1 tasks: {'new+prepare': 1}\n",
      "lister task done (2/3): \n",
      "<Task #3009850868960> https://zhuanlan.zhihu.com/memento (ver. 1)\n",
      "    知乎专栏 - Memento\n",
      "    taskadd: seconds ago, lastwatch: just now, lastchange: just now, nextwatch: in 12 hours\n",
      "\n",
      "\n",
      "Watcher.remember committed: \"check lister 2/3, 知乎专栏 - Memento\"\n",
      "\n",
      "request_ZhihuColumnLister column_id, bioandchill\n",
      "detect https://zhuanlan.zhihu.com/p/43974249 你被柱状图骗了好多年！统计图表中的大坑！ - 吴思涵\n",
      "Task.run detect new tasks done: 1 tasks\n",
      "watcher add 1 tasks: {'new+prepare': 1}\n",
      "lister task done (3/3): \n",
      "<Task #3009850868344> https://zhuanlan.zhihu.com/bioandchill (ver. 1)\n",
      "    知乎专栏 - 老司机的生物学课堂\n",
      "    taskadd: seconds ago, lastwatch: just now, lastchange: just now, nextwatch: in 12 hours\n",
      "\n",
      "\n",
      "Watcher.remember committed: \"check lister 3/3, 知乎专栏 - 老司机的生物学课堂\"\n",
      "\n",
      "watching pages... should fetch 3 page tasks\n",
      "\n",
      "page task done (1/3): \n",
      "<Task #3009843697872> https://zhuanlan.zhihu.com/p/24675651 (ver. 1)\n",
      "    狗有情景记忆吗？ - 大哉问\n",
      "    taskadd: seconds ago, lastwatch: just now, lastchange: just now, nextwatch: in 2 months\n",
      "\n",
      "\n",
      "page task done (2/3): \n",
      "<Task #3009850754104> https://zhuanlan.zhihu.com/p/30489803 (ver. 1)\n",
      "    人生赢家永远是人生赢家？ - 陈小伊\n",
      "    taskadd: seconds ago, lastwatch: just now, lastchange: just now, nextwatch: in 2 months\n",
      "\n",
      "\n",
      "page task done (3/3): \n",
      "<Task #3009850755840> https://zhuanlan.zhihu.com/p/43974249 (ver. 1)\n",
      "    你被柱状图骗了好多年！统计图表中的大坑！ - 吴思涵\n",
      "    taskadd: seconds ago, lastwatch: just now, lastchange: just now, nextwatch: in 2 months\n",
      "\n",
      "\n",
      "Watcher.remember committed: \"save 3 pages, 狗有情景记忆吗？ - 大哉问,人生赢家永远是人生赢家？ ...,你被柱状图骗了好多年！统计...\"\n",
      "\n",
      "  ↑ start_watching_once done\n",
      "\n"
     ]
    }
   ],
   "source": [
    "col.watching('知乎生物学专栏合集')"
   ]
  },
  {
   "cell_type": "code",
   "execution_count": null,
   "metadata": {},
   "outputs": [],
   "source": []
  },
  {
   "cell_type": "code",
   "execution_count": null,
   "metadata": {},
   "outputs": [],
   "source": []
  },
  {
   "cell_type": "code",
   "execution_count": null,
   "metadata": {},
   "outputs": [],
   "source": []
  },
  {
   "cell_type": "code",
   "execution_count": null,
   "metadata": {
    "ExecuteTime": {
     "end_time": "2019-09-04T17:09:47.335819Z",
     "start_time": "2019-09-04T17:09:47.248054Z"
    }
   },
   "outputs": [],
   "source": [
    "# col = Collector.create_project(r'D:\\DataStore\\Test Collector13')\n",
    "\n",
    "选项分为 \"global_default_option:\" \n",
    "        '''\n",
    "        watcher_config:\n",
    "          folder_path:\n",
    "            default_option:\n",
    "        '''\n",
    "有 / 时自动创建各级路径 如 \"科学/生物学:\"\n",
    "\n",
    "lister_task: 如果时 字符串, 视为简写 url\n",
    "\n",
    "\n",
    "configtext = '''\n",
    "\n",
    "\n",
    "global_default_option:\n",
    "  {}\n",
    "\n",
    "\n",
    "watcher_config:\n",
    "  科学/生物学:\n",
    "    default_option:\n",
    "      lister:\n",
    "        enabled: true\n",
    "        max_cycle: 30days\n",
    "        min_cycle: 12hours\n",
    "        weight: 0.5\n",
    "        limit: 200\n",
    "        zhihu_min_voteup: 1000\n",
    "      page:\n",
    "        enabled: true\n",
    "        max_cycle: 180days\n",
    "        min_cycle: 45days\n",
    "        weight: 0.5\n",
    "    lister_task:\n",
    "        - 'https://zhuanlan.zhihu.com/learningtheory #动物行为和学习'\n",
    "        - 'https://zhuanlan.zhihu.com/memento        #Memento'\n",
    "        - 'https://zhuanlan.zhihu.com/bioandchill    #老司机的生物学课堂'\n",
    "        \n",
    "  科学/<auto>:\n",
    "      default_option: \n",
    "        lister:     \n",
    "          enabled: true\n",
    "          max_cycle: 7days\n",
    "          min_cycle: 12hours\n",
    "          weight: 0.5\n",
    "          limit: 200\n",
    "          zhihu_min_voteup: 500\n",
    "          banned_keywords: 情感, 调查类问题, 有哪些, 文艺表达, 文艺的表达\n",
    "        page: \n",
    "          enabled: true\n",
    "          max_cycle: 180days\n",
    "          min_cycle: 15days\n",
    "          weight: 0.5\n",
    "          \n",
    "      lister_task:\n",
    "        - 'https://zhuanlan.zhihu.com/learningtheory #动物行为和学习'\n",
    "        - 'https://zhuanlan.zhihu.com/memento        #Memento'\n",
    "        - 'https://zhuanlan.zhihu.com/bioandchill    #老司机的生物学课堂'\n",
    "      \n",
    "\n",
    "      \n",
    "'''\n",
    "\n",
    "\n",
    "\n",
    "\n",
    "\n",
    "config = tools.yaml_loads(configtext)\n",
    "col.create_multiple_watchers(config=config)\n"
   ]
  },
  {
   "cell_type": "code",
   "execution_count": null,
   "metadata": {
    "ExecuteTime": {
     "end_time": "2019-09-04T12:43:45.473899Z",
     "start_time": "2019-09-04T12:43:44.100762Z"
    },
    "scrolled": false
   },
   "outputs": [],
   "source": [
    "\n",
    "\n",
    "urls = '''\n",
    "https://zhuanlan.zhihu.com/memento Memento\n",
    "'''.strip().splitlines()\n",
    "\n",
    "col.create_watcher(urls=[l.split(' ')[0]for l in urls], \n",
    "                   tips=[l.split(' ')[1]for l in urls], \n",
    "                   folder='生物学', \n",
    "                   parent_folder='科学',\n",
    "                   lister_option={'zhihu_min_voteup': 100, 'limit': 3})\n",
    "print(col)\n",
    "\n",
    "urls = '''\n",
    "https://zhuanlan.zhihu.com/c_116602381 魔鬼眼中的自然界\n",
    "'''.strip().splitlines()\n",
    "col.create_watcher(urls=[l.split(' ')[0]for l in urls], \n",
    "                   # tips=[l.split(' ')[1]for l in urls], \n",
    "                   # folder=None, \n",
    "                   parent_folder='科学',\n",
    "                   lister_option={'zhihu_min_voteup': 1000, 'limit': 5})\n",
    "print(col)"
   ]
  },
  {
   "cell_type": "code",
   "execution_count": null,
   "metadata": {
    "ExecuteTime": {
     "end_time": "2019-09-04T12:48:42.907765Z",
     "start_time": "2019-09-04T12:48:41.107216Z"
    }
   },
   "outputs": [],
   "source": [
    "urls = [\n",
    "  'https://www.zhihu.com/topic/19577481/top-answers/', # 量子物理\n",
    "  'https://www.zhihu.com/topic/19803067/top-answers/', # 量子通信\n",
    "  'https://www.zhihu.com/topic/19938157/top-answers/', # 量子计算机\n",
    "]\n",
    "\n",
    "col.create_watcher(urls, lister_option={'zhihu_min_voteup': 1000, 'limit': 8})\n",
    "str(col)"
   ]
  },
  {
   "cell_type": "code",
   "execution_count": null,
   "metadata": {
    "ExecuteTime": {
     "end_time": "2019-09-03T05:06:14.838167Z",
     "start_time": "2019-09-03T05:06:14.762364Z"
    }
   },
   "outputs": [],
   "source": []
  },
  {
   "cell_type": "code",
   "execution_count": null,
   "metadata": {
    "ExecuteTime": {
     "end_time": "2019-09-04T13:29:57.912280Z",
     "start_time": "2019-09-04T13:29:57.696114Z"
    }
   },
   "outputs": [],
   "source": [
    "col.report()"
   ]
  },
  {
   "cell_type": "code",
   "execution_count": null,
   "metadata": {
    "ExecuteTime": {
     "end_time": "2019-09-04T13:30:03.218111Z",
     "start_time": "2019-09-04T13:30:02.917275Z"
    },
    "scrolled": false
   },
   "outputs": [],
   "source": [
    "col.watching('知乎话题 - 量子物理, 量子通讯, 量子计算机')"
   ]
  },
  {
   "cell_type": "code",
   "execution_count": null,
   "metadata": {},
   "outputs": [],
   "source": []
  },
  {
   "cell_type": "code",
   "execution_count": null,
   "metadata": {},
   "outputs": [],
   "source": []
  },
  {
   "cell_type": "code",
   "execution_count": null,
   "metadata": {},
   "outputs": [],
   "source": []
  },
  {
   "cell_type": "code",
   "execution_count": null,
   "metadata": {
    "ExecuteTime": {
     "end_time": "2019-09-03T05:05:45.622359Z",
     "start_time": "2019-09-03T05:05:35.345512Z"
    }
   },
   "outputs": [],
   "source": [
    "# from watcher import Watcher\n",
    "\n",
    "# w = Watcher(col.find_watcher_path('知乎专栏 - 魔鬼眼中的自然界'))\n",
    "# for l in w.watch():\n",
    "#   print(l)"
   ]
  },
  {
   "cell_type": "code",
   "execution_count": null,
   "metadata": {},
   "outputs": [],
   "source": []
  },
  {
   "cell_type": "code",
   "execution_count": null,
   "metadata": {},
   "outputs": [],
   "source": [
    "urls = '''\n",
    "https://zhuanlan.zhihu.com/learningtheory #动物行为和学习\n",
    "https://zhuanlan.zhihu.com/memento        #Memento\n",
    "https://zhuanlan.zhihu.com/bioandchill    #老司机的生物学课堂\n",
    "'''.strip().splitlines()\n",
    "\n",
    "col.create_watcher(urls=[l.split(' ')[0]for l in urls], \n",
    "                   folder='知乎生物学专栏合集', \n",
    "                   parent_folder='Science',\n",
    "                   lister_option={'zhihu_min_voteup': 1})\n",
    "print(col)"
   ]
  },
  {
   "cell_type": "code",
   "execution_count": null,
   "metadata": {
    "ExecuteTime": {
     "end_time": "2019-08-30T16:51:04.171708Z",
     "start_time": "2019-08-30T16:51:04.083942Z"
    }
   },
   "outputs": [],
   "source": [
    "# url = 'https://zhuanlan.zhihu.com/wision'\n",
    "# tip = '智堡研究所'\n",
    "# # col.add(url, tip, lister_option=None, page_option=None)\n",
    "# col.add(url, tip)\n",
    "# str(col)"
   ]
  },
  {
   "cell_type": "code",
   "execution_count": null,
   "metadata": {
    "ExecuteTime": {
     "end_time": "2019-09-02T19:13:19.242511Z",
     "start_time": "2019-09-02T19:13:18.271932Z"
    }
   },
   "outputs": [],
   "source": [
    "urls = [\n",
    "  'https://www.zhihu.com/topic/19577481/top-answers/', # 量子物理\n",
    "  'https://www.zhihu.com/topic/19803067/top-answers/', # 量子通信\n",
    "  'https://www.zhihu.com/topic/19938157/top-answers/', # 量子计算机\n",
    "]\n",
    "\n",
    "col.create_watcher(urls, lister_option={'zhihu_min_voteup': 1000})\n",
    "str(col)"
   ]
  },
  {
   "cell_type": "code",
   "execution_count": null,
   "metadata": {
    "ExecuteTime": {
     "end_time": "2019-08-30T16:52:37.344411Z",
     "start_time": "2019-08-30T16:52:37.274603Z"
    }
   },
   "outputs": [],
   "source": []
  },
  {
   "cell_type": "code",
   "execution_count": null,
   "metadata": {
    "ExecuteTime": {
     "end_time": "2019-08-30T16:52:38.498412Z",
     "start_time": "2019-08-30T16:52:38.419617Z"
    }
   },
   "outputs": [],
   "source": []
  },
  {
   "cell_type": "code",
   "execution_count": null,
   "metadata": {},
   "outputs": [],
   "source": [
    "# collector.add(weixin_page_url)\n",
    "# collector.add(zhihu_column_url)\n",
    "# collector.add(zhihu_anwser_id=xxx)\n",
    "# collector.add(zhihu_author_id=xxx)\n",
    "# collector.add(column_id=xxx)\n",
    "\n",
    "# collector.save(file=xxx)\n",
    "# ...\n",
    "# collector.rescan()\n",
    "# collector.save(file=xxx)\n",
    "# collector = Collector.load(file=xxx.yaml)"
   ]
  },
  {
   "cell_type": "code",
   "execution_count": null,
   "metadata": {},
   "outputs": [],
   "source": []
  },
  {
   "cell_type": "code",
   "execution_count": null,
   "metadata": {},
   "outputs": [],
   "source": []
  },
  {
   "cell_type": "code",
   "execution_count": null,
   "metadata": {},
   "outputs": [],
   "source": []
  },
  {
   "cell_type": "code",
   "execution_count": null,
   "metadata": {},
   "outputs": [],
   "source": []
  },
  {
   "cell_type": "code",
   "execution_count": null,
   "metadata": {},
   "outputs": [],
   "source": []
  },
  {
   "cell_type": "code",
   "execution_count": null,
   "metadata": {},
   "outputs": [],
   "source": []
  },
  {
   "cell_type": "code",
   "execution_count": null,
   "metadata": {},
   "outputs": [],
   "source": []
  },
  {
   "cell_type": "code",
   "execution_count": null,
   "metadata": {},
   "outputs": [],
   "source": []
  },
  {
   "cell_type": "markdown",
   "metadata": {},
   "source": [
    "### Test Watcher"
   ]
  },
  {
   "cell_type": "code",
   "execution_count": null,
   "metadata": {
    "ExecuteTime": {
     "end_time": "2019-08-31T09:34:19.244052Z",
     "start_time": "2019-08-31T09:34:19.193209Z"
    }
   },
   "outputs": [],
   "source": [
    "%load_ext autoreload\n",
    "%autoreload 2"
   ]
  },
  {
   "cell_type": "code",
   "execution_count": null,
   "metadata": {
    "ExecuteTime": {
     "end_time": "2019-09-01T15:39:52.718592Z",
     "start_time": "2019-09-01T15:39:52.374521Z"
    },
    "scrolled": false
   },
   "outputs": [],
   "source": [
    "from watcher import Watcher\n",
    "\n",
    "\n",
    "# w = Watcher(r'D:\\DataStore\\The North Remembers - Social\\篝火旁的故事')\n",
    "# w = Watcher(r'D:\\DataStore\\The North Remembers - Social\\沉思的托克维尔')\n",
    "# w = Watcher(r'D:\\DataStore\\The North Remembers - Science\\何为现实？拉普拉斯之妖与薛定谔猫之决战')\n",
    "\n",
    "# w = Watcher(r'D:\\DataStore\\The North Remembers - Art\\知乎话题 - 古建筑, 建筑设计, 建筑史, 建筑学')\n",
    "\n",
    "w = Watcher(r'D:\\DataStore\\test\\机票')\n",
    "# w = Watcher(r'D:\\DataStore\\The North Remembers - Game\\旗舰评论——战略航空军元帅的旗舰')\n",
    "# w = Watcher(r'D:\\DataStore\\test\\经济')\n",
    "# w = Watcher(r'D:\\DataStore\\The North Remembers - Social\\何瑫的写作工坊')\n",
    "# w = Watcher(r'D:\\DataStore\\The North Remembers - Science/知乎话题 - 量子物理, 量子通讯, 量子计算机')\n"
   ]
  },
  {
   "cell_type": "code",
   "execution_count": null,
   "metadata": {
    "ExecuteTime": {
     "end_time": "2019-09-01T15:41:25.940163Z",
     "start_time": "2019-09-01T15:40:06.101914Z"
    },
    "scrolled": false
   },
   "outputs": [],
   "source": [
    "for commit_data in w.watch():\n",
    "  print(commit_data)"
   ]
  },
  {
   "cell_type": "code",
   "execution_count": null,
   "metadata": {},
   "outputs": [],
   "source": []
  },
  {
   "cell_type": "code",
   "execution_count": null,
   "metadata": {},
   "outputs": [],
   "source": []
  },
  {
   "cell_type": "code",
   "execution_count": null,
   "metadata": {},
   "outputs": [],
   "source": []
  },
  {
   "cell_type": "code",
   "execution_count": null,
   "metadata": {
    "ExecuteTime": {
     "end_time": "2019-08-28T06:27:51.264472Z",
     "start_time": "2019-08-28T06:27:51.194688Z"
    }
   },
   "outputs": [],
   "source": [
    "u = 'https://www.zhihu.com/question/19848582/answer/18231808'\n",
    "question = parse_question(u)\n",
    "answer = parse_answer(u)\n",
    "# try:\n",
    "#   title = question.title\n",
    "#   detail = question.detail\n",
    "# except GetDataErrorException:\n",
    "#   # zhihu_oauth.exception.GetDataErrorException:\n",
    "#   # A error happened when get data: 问题不存在\n",
    "#   raise QuestionDeleteError(msg='问题已删除', url=url)\n"
   ]
  },
  {
   "cell_type": "code",
   "execution_count": null,
   "metadata": {
    "ExecuteTime": {
     "end_time": "2019-08-28T06:27:52.466254Z",
     "start_time": "2019-08-28T06:27:51.989621Z"
    }
   },
   "outputs": [],
   "source": [
    "question.title"
   ]
  },
  {
   "cell_type": "code",
   "execution_count": null,
   "metadata": {
    "ExecuteTime": {
     "end_time": "2019-08-28T06:21:42.404885Z",
     "start_time": "2019-08-28T06:21:42.259128Z"
    }
   },
   "outputs": [],
   "source": [
    "# 为什么 9·11 恐怖袭击中双子塔在一段时间的燃烧后倒塌了？\n",
    "fetch_zhihu_answer('https://www.zhihu.com/question/19848582/answer/18231808')"
   ]
  },
  {
   "cell_type": "code",
   "execution_count": null,
   "metadata": {
    "ExecuteTime": {
     "end_time": "2019-08-27T06:44:39.894647Z",
     "start_time": "2019-08-27T06:44:39.824837Z"
    }
   },
   "outputs": [],
   "source": [
    "d = _\n",
    "print(d.get('comments'))"
   ]
  },
  {
   "cell_type": "markdown",
   "metadata": {},
   "source": [
    "### Test Generate Feed "
   ]
  },
  {
   "cell_type": "code",
   "execution_count": null,
   "metadata": {
    "ExecuteTime": {
     "end_time": "2019-09-04T13:33:39.535453Z",
     "start_time": "2019-09-04T13:33:39.237291Z"
    }
   },
   "outputs": [],
   "source": [
    "from collector import Collector\n",
    "from page import Page\n",
    "col = Collector.create_project(r'D:\\DataStore\\Test Collector2')\n",
    "col.report()"
   ]
  },
  {
   "cell_type": "code",
   "execution_count": null,
   "metadata": {
    "ExecuteTime": {
     "end_time": "2019-09-04T13:35:49.898753Z",
     "start_time": "2019-09-04T13:35:49.764735Z"
    },
    "scrolled": false
   },
   "outputs": [],
   "source": [
    "col.generate_feed('知乎话题 - 量子物理, 量子通讯, 量子计算机', limit=1, site='http://xxxx.com/')\n"
   ]
  },
  {
   "cell_type": "code",
   "execution_count": null,
   "metadata": {
    "ExecuteTime": {
     "end_time": "2019-09-04T13:33:43.187639Z",
     "start_time": "2019-09-04T13:33:43.125794Z"
    }
   },
   "outputs": [],
   "source": [
    "page = Page.load(r'D:\\DataStore\\Test Collector2\\知乎话题 - 量子物理, 量子通讯, 量子计算机\\中科院在铁基超导体中发现天使粒子魅影马约拉纳费米子模，什么是马约拉纳费米子模？其发现有何意义？ - 中科院之声的回答.md')"
   ]
  },
  {
   "cell_type": "code",
   "execution_count": null,
   "metadata": {
    "ExecuteTime": {
     "end_time": "2019-09-04T13:35:46.968785Z",
     "start_time": "2019-09-04T13:35:46.875071Z"
    },
    "scrolled": true
   },
   "outputs": [],
   "source": [
    "page.fetch_date"
   ]
  },
  {
   "cell_type": "code",
   "execution_count": null,
   "metadata": {
    "ExecuteTime": {
     "end_time": "2019-08-22T09:59:48.545802Z",
     "start_time": "2019-08-22T09:59:48.479979Z"
    },
    "scrolled": true
   },
   "outputs": [],
   "source": [
    "resp.response"
   ]
  },
  {
   "cell_type": "code",
   "execution_count": null,
   "metadata": {},
   "outputs": [],
   "source": []
  },
  {
   "cell_type": "code",
   "execution_count": null,
   "metadata": {},
   "outputs": [],
   "source": []
  },
  {
   "cell_type": "code",
   "execution_count": null,
   "metadata": {},
   "outputs": [],
   "source": []
  },
  {
   "cell_type": "markdown",
   "metadata": {},
   "source": [
    "### Test Zhihu Fetch Error"
   ]
  },
  {
   "cell_type": "code",
   "execution_count": null,
   "metadata": {
    "ExecuteTime": {
     "end_time": "2019-08-27T06:36:06.533108Z",
     "start_time": "2019-08-27T06:36:06.463294Z"
    }
   },
   "outputs": [],
   "source": [
    "from fetcher_api.zhihu import fetch_zhihu_answer\n",
    "from fetcher_api.zhihu import parse_answer\n",
    "from fetcher_api.zhihu import parse_question"
   ]
  },
  {
   "cell_type": "code",
   "execution_count": null,
   "metadata": {},
   "outputs": [],
   "source": []
  },
  {
   "cell_type": "code",
   "execution_count": null,
   "metadata": {},
   "outputs": [],
   "source": []
  },
  {
   "cell_type": "markdown",
   "metadata": {},
   "source": [
    "### Fetch comments MaxRetryError"
   ]
  },
  {
   "cell_type": "code",
   "execution_count": null,
   "metadata": {
    "ExecuteTime": {
     "end_time": "2019-08-28T06:27:47.338051Z",
     "start_time": "2019-08-28T06:27:47.266245Z"
    }
   },
   "outputs": [],
   "source": [
    "from pprint import pprint\n",
    "from fetcher_api.zhihu import parse_question\n",
    "from fetcher_api.zhihu import parse_answer\n",
    "from fetcher_api.zhihu import zhihu_detect_with_client\n",
    "from fetcher_api.zhihu import zhihu_detect\n",
    "from fetcher_api.zhihu import get_comments_api_v4\n",
    "from fetcher_api.zhihu import get_valuable_conversations_api_v4"
   ]
  },
  {
   "cell_type": "code",
   "execution_count": null,
   "metadata": {},
   "outputs": [],
   "source": []
  },
  {
   "cell_type": "code",
   "execution_count": null,
   "metadata": {},
   "outputs": [],
   "source": []
  },
  {
   "cell_type": "code",
   "execution_count": null,
   "metadata": {},
   "outputs": [],
   "source": []
  },
  {
   "cell_type": "code",
   "execution_count": null,
   "metadata": {},
   "outputs": [],
   "source": [
    "\n",
    "\n"
   ]
  },
  {
   "cell_type": "code",
   "execution_count": null,
   "metadata": {},
   "outputs": [],
   "source": []
  },
  {
   "cell_type": "code",
   "execution_count": null,
   "metadata": {},
   "outputs": [],
   "source": []
  },
  {
   "cell_type": "code",
   "execution_count": null,
   "metadata": {},
   "outputs": [],
   "source": []
  },
  {
   "cell_type": "code",
   "execution_count": null,
   "metadata": {},
   "outputs": [],
   "source": []
  },
  {
   "cell_type": "code",
   "execution_count": null,
   "metadata": {},
   "outputs": [],
   "source": []
  },
  {
   "cell_type": "code",
   "execution_count": null,
   "metadata": {},
   "outputs": [],
   "source": []
  },
  {
   "cell_type": "code",
   "execution_count": null,
   "metadata": {},
   "outputs": [],
   "source": []
  },
  {
   "cell_type": "code",
   "execution_count": null,
   "metadata": {},
   "outputs": [],
   "source": []
  },
  {
   "cell_type": "code",
   "execution_count": null,
   "metadata": {},
   "outputs": [],
   "source": []
  },
  {
   "cell_type": "code",
   "execution_count": null,
   "metadata": {},
   "outputs": [],
   "source": []
  },
  {
   "cell_type": "code",
   "execution_count": null,
   "metadata": {},
   "outputs": [],
   "source": []
  },
  {
   "cell_type": "code",
   "execution_count": null,
   "metadata": {},
   "outputs": [],
   "source": []
  },
  {
   "cell_type": "code",
   "execution_count": null,
   "metadata": {},
   "outputs": [],
   "source": []
  },
  {
   "cell_type": "code",
   "execution_count": null,
   "metadata": {},
   "outputs": [],
   "source": []
  },
  {
   "cell_type": "code",
   "execution_count": null,
   "metadata": {},
   "outputs": [],
   "source": []
  },
  {
   "cell_type": "code",
   "execution_count": null,
   "metadata": {},
   "outputs": [],
   "source": []
  },
  {
   "cell_type": "code",
   "execution_count": null,
   "metadata": {},
   "outputs": [],
   "source": []
  },
  {
   "cell_type": "code",
   "execution_count": null,
   "metadata": {},
   "outputs": [],
   "source": []
  },
  {
   "cell_type": "code",
   "execution_count": null,
   "metadata": {},
   "outputs": [],
   "source": []
  },
  {
   "cell_type": "markdown",
   "metadata": {},
   "source": [
    "### generate token"
   ]
  },
  {
   "cell_type": "code",
   "execution_count": null,
   "metadata": {
    "ExecuteTime": {
     "end_time": "2019-09-07T13:08:13.167934Z",
     "start_time": "2019-09-07T13:08:12.862278Z"
    }
   },
   "outputs": [],
   "source": [
    "from fetcher import generate_zhihu_token\n",
    "generate_zhihu_token()"
   ]
  },
  {
   "cell_type": "code",
   "execution_count": null,
   "metadata": {},
   "outputs": [],
   "source": []
  },
  {
   "cell_type": "code",
   "execution_count": null,
   "metadata": {
    "ExecuteTime": {
     "end_time": "2019-09-04T15:57:55.337569Z",
     "start_time": "2019-09-04T15:57:55.267827Z"
    }
   },
   "outputs": [],
   "source": [
    "client = zhihu.client"
   ]
  },
  {
   "cell_type": "code",
   "execution_count": null,
   "metadata": {
    "ExecuteTime": {
     "end_time": "2019-07-30T06:15:58.154508Z",
     "start_time": "2019-07-30T06:15:58.148523Z"
    }
   },
   "outputs": [],
   "source": [
    "c = client.collection(133030984)\n",
    "int(\"133030984\")"
   ]
  },
  {
   "cell_type": "code",
   "execution_count": null,
   "metadata": {
    "ExecuteTime": {
     "end_time": "2019-07-30T06:16:08.633200Z",
     "start_time": "2019-07-30T06:15:58.828719Z"
    },
    "scrolled": false
   },
   "outputs": [],
   "source": [
    "for ans in c.answers:\n",
    "  print(ans.author.name)"
   ]
  },
  {
   "cell_type": "code",
   "execution_count": null,
   "metadata": {
    "ExecuteTime": {
     "end_time": "2019-09-04T15:58:00.009599Z",
     "start_time": "2019-09-04T15:57:59.920839Z"
    }
   },
   "outputs": [],
   "source": [
    "from zhihu_oauth import ZhihuClient\n",
    "\n",
    "TOKEN_FILE = 'token.pkl'\n",
    "client = ZhihuClient()\n",
    "client.load_token(TOKEN_FILE)\n"
   ]
  },
  {
   "cell_type": "code",
   "execution_count": null,
   "metadata": {
    "ExecuteTime": {
     "end_time": "2019-07-19T05:00:14.139324Z",
     "start_time": "2019-07-19T05:00:14.077492Z"
    }
   },
   "outputs": [],
   "source": [
    "page = client.from_url('https://zhuanlan.zhihu.com/p/37509962')"
   ]
  },
  {
   "cell_type": "code",
   "execution_count": null,
   "metadata": {
    "ExecuteTime": {
     "end_time": "2019-07-19T05:27:57.591947Z",
     "start_time": "2019-07-19T05:27:57.525097Z"
    }
   },
   "outputs": [],
   "source": [
    "from fetcher_api.zhihu import fetch_zhihu_article"
   ]
  },
  {
   "cell_type": "code",
   "execution_count": null,
   "metadata": {
    "ExecuteTime": {
     "end_time": "2019-07-19T05:27:59.863061Z",
     "start_time": "2019-07-19T05:27:58.369270Z"
    },
    "scrolled": true
   },
   "outputs": [],
   "source": [
    "fetch_zhihu_article('https://zhuanlan.zhihu.com/p/37509962')"
   ]
  },
  {
   "cell_type": "code",
   "execution_count": null,
   "metadata": {},
   "outputs": [],
   "source": []
  },
  {
   "cell_type": "code",
   "execution_count": null,
   "metadata": {},
   "outputs": [],
   "source": []
  },
  {
   "cell_type": "code",
   "execution_count": null,
   "metadata": {
    "ExecuteTime": {
     "end_time": "2019-07-08T09:06:32.787716Z",
     "start_time": "2019-07-08T09:06:32.680993Z"
    }
   },
   "outputs": [],
   "source": [
    "import os\n",
    "os.path.basename('D:\\Coding\\TheNorthRemembers\\page.py')"
   ]
  },
  {
   "cell_type": "code",
   "execution_count": null,
   "metadata": {
    "ExecuteTime": {
     "end_time": "2019-07-08T09:06:11.093275Z",
     "start_time": "2019-07-08T09:06:10.984567Z"
    }
   },
   "outputs": [],
   "source": [
    "os.path.__file__"
   ]
  },
  {
   "cell_type": "code",
   "execution_count": null,
   "metadata": {
    "ExecuteTime": {
     "end_time": "2019-07-08T10:32:10.466236Z",
     "start_time": "2019-07-08T10:31:58.545Z"
    }
   },
   "outputs": [],
   "source": [
    "import wechatsogou"
   ]
  },
  {
   "cell_type": "code",
   "execution_count": null,
   "metadata": {
    "ExecuteTime": {
     "end_time": "2019-07-08T10:32:10.471223Z",
     "start_time": "2019-07-08T10:31:59.707Z"
    }
   },
   "outputs": [],
   "source": [
    "ws_api = wechatsogou.WechatSogouAPI()"
   ]
  },
  {
   "cell_type": "code",
   "execution_count": null,
   "metadata": {
    "ExecuteTime": {
     "end_time": "2019-07-08T10:32:24.548522Z",
     "start_time": "2019-07-08T10:32:13.261291Z"
    }
   },
   "outputs": [],
   "source": [
    "ws_api.get_gzh_info('南航青年志愿者')"
   ]
  },
  {
   "cell_type": "code",
   "execution_count": null,
   "metadata": {
    "ExecuteTime": {
     "end_time": "2019-07-08T10:33:00.761669Z",
     "start_time": "2019-07-08T10:32:58.763440Z"
    },
    "scrolled": false
   },
   "outputs": [],
   "source": [
    "list(ws_api.search_article('马前卒工作室'))"
   ]
  },
  {
   "cell_type": "code",
   "execution_count": null,
   "metadata": {
    "ExecuteTime": {
     "end_time": "2019-07-31T04:41:50.594610Z",
     "start_time": "2019-07-31T04:41:50.494868Z"
    }
   },
   "outputs": [],
   "source": [
    "topic_id = 11\n",
    "f'generate_tip {topic_id}'"
   ]
  },
  {
   "cell_type": "code",
   "execution_count": null,
   "metadata": {},
   "outputs": [],
   "source": []
  },
  {
   "cell_type": "code",
   "execution_count": null,
   "metadata": {},
   "outputs": [],
   "source": []
  },
  {
   "cell_type": "code",
   "execution_count": null,
   "metadata": {},
   "outputs": [],
   "source": []
  },
  {
   "cell_type": "code",
   "execution_count": null,
   "metadata": {},
   "outputs": [],
   "source": []
  },
  {
   "cell_type": "code",
   "execution_count": null,
   "metadata": {},
   "outputs": [],
   "source": []
  },
  {
   "cell_type": "code",
   "execution_count": null,
   "metadata": {},
   "outputs": [],
   "source": []
  },
  {
   "cell_type": "code",
   "execution_count": null,
   "metadata": {},
   "outputs": [],
   "source": []
  },
  {
   "cell_type": "code",
   "execution_count": null,
   "metadata": {},
   "outputs": [],
   "source": []
  },
  {
   "cell_type": "code",
   "execution_count": null,
   "metadata": {},
   "outputs": [],
   "source": []
  },
  {
   "cell_type": "code",
   "execution_count": null,
   "metadata": {},
   "outputs": [],
   "source": []
  },
  {
   "cell_type": "code",
   "execution_count": null,
   "metadata": {},
   "outputs": [],
   "source": []
  },
  {
   "cell_type": "code",
   "execution_count": null,
   "metadata": {},
   "outputs": [],
   "source": []
  },
  {
   "cell_type": "code",
   "execution_count": null,
   "metadata": {},
   "outputs": [],
   "source": []
  },
  {
   "cell_type": "code",
   "execution_count": null,
   "metadata": {},
   "outputs": [],
   "source": []
  },
  {
   "cell_type": "code",
   "execution_count": null,
   "metadata": {},
   "outputs": [],
   "source": []
  },
  {
   "cell_type": "code",
   "execution_count": null,
   "metadata": {},
   "outputs": [],
   "source": []
  },
  {
   "cell_type": "code",
   "execution_count": null,
   "metadata": {},
   "outputs": [],
   "source": []
  },
  {
   "cell_type": "code",
   "execution_count": null,
   "metadata": {},
   "outputs": [],
   "source": []
  },
  {
   "cell_type": "code",
   "execution_count": null,
   "metadata": {},
   "outputs": [],
   "source": []
  },
  {
   "cell_type": "markdown",
   "metadata": {},
   "source": [
    "### Playground"
   ]
  },
  {
   "cell_type": "code",
   "execution_count": null,
   "metadata": {
    "ExecuteTime": {
     "end_time": "2019-09-04T15:57:49.247906Z",
     "start_time": "2019-09-04T15:57:49.157127Z"
    }
   },
   "outputs": [],
   "source": []
  },
  {
   "cell_type": "code",
   "execution_count": null,
   "metadata": {
    "ExecuteTime": {
     "end_time": "2019-09-02T20:24:11.294918Z",
     "start_time": "2019-09-02T20:23:50.625254Z"
    }
   },
   "outputs": [],
   "source": [
    "ret = fetch_zhihu_answer('https://www.zhihu.com/question/21567651/answer/56227075')"
   ]
  },
  {
   "cell_type": "code",
   "execution_count": null,
   "metadata": {
    "ExecuteTime": {
     "end_time": "2019-09-02T20:24:31.136946Z",
     "start_time": "2019-09-02T20:24:31.072128Z"
    }
   },
   "outputs": [],
   "source": [
    "ret['answer'].splitlines()"
   ]
  },
  {
   "cell_type": "code",
   "execution_count": null,
   "metadata": {},
   "outputs": [],
   "source": []
  },
  {
   "cell_type": "code",
   "execution_count": null,
   "metadata": {},
   "outputs": [],
   "source": []
  },
  {
   "cell_type": "code",
   "execution_count": null,
   "metadata": {
    "ExecuteTime": {
     "end_time": "2019-08-28T06:21:03.854049Z",
     "start_time": "2019-08-28T06:21:03.719298Z"
    },
    "scrolled": false
   },
   "outputs": [],
   "source": [
    "u = 'https://zhuanlan.zhihu.com/p/30722439'\n",
    "\n",
    "fetch_zhihu_article(u)"
   ]
  },
  {
   "cell_type": "code",
   "execution_count": null,
   "metadata": {
    "ExecuteTime": {
     "end_time": "2019-08-31T10:15:01.399515Z",
     "start_time": "2019-08-31T10:15:01.316709Z"
    }
   },
   "outputs": [],
   "source": [
    "from markdown import markdown\n",
    "from mdx_gfm import GithubFlavoredMarkdownExtension\n",
    "\n",
    "\n",
    "\n",
    "def to_html(full_text, cut=0):\n",
    "  ''' 转换为 html 用于输出 RSS 等\n",
    "      必须有 data['full_text'] 才能 to_html() '''\n",
    "  if cut and len(full_text) > cut:\n",
    "    full_text = full_text[:cut] + f' ... (共 {len(full_text)} 字)'\n",
    "\n",
    "  html = markdown(full_text, output_format='html5', extensions=[GithubFlavoredMarkdownExtension()])\n",
    "  return html"
   ]
  },
  {
   "cell_type": "code",
   "execution_count": null,
   "metadata": {
    "ExecuteTime": {
     "end_time": "2019-09-02T16:18:23.166542Z",
     "start_time": "2019-09-02T16:18:23.112655Z"
    }
   },
   "outputs": [],
   "source": [
    "\n"
   ]
  },
  {
   "cell_type": "code",
   "execution_count": null,
   "metadata": {
    "ExecuteTime": {
     "end_time": "2019-09-02T16:27:21.989187Z",
     "start_time": "2019-09-02T16:27:21.933870Z"
    }
   },
   "outputs": [],
   "source": [
    "sys.argv"
   ]
  },
  {
   "cell_type": "code",
   "execution_count": null,
   "metadata": {
    "ExecuteTime": {
     "end_time": "2019-09-03T05:50:42.925967Z",
     "start_time": "2019-09-03T05:50:42.889071Z"
    }
   },
   "outputs": [],
   "source": [
    "import tools\n",
    "tools.generate_ascii_title('design')"
   ]
  },
  {
   "cell_type": "code",
   "execution_count": null,
   "metadata": {},
   "outputs": [],
   "source": []
  },
  {
   "cell_type": "code",
   "execution_count": null,
   "metadata": {
    "ExecuteTime": {
     "end_time": "2019-09-03T06:00:36.355308Z",
     "start_time": "2019-09-03T06:00:36.328418Z"
    }
   },
   "outputs": [],
   "source": [
    "urls = '''\n",
    "ONES Piece (Zhihu)Design\n",
    "https://zhuanlan.zhihu.com/onespiece\n",
    "\n",
    "'''\n",
    "\n",
    "urls = [u for u in urls.strip().splitlines() if u.startswith('http')]"
   ]
  },
  {
   "cell_type": "code",
   "execution_count": null,
   "metadata": {
    "ExecuteTime": {
     "end_time": "2019-09-03T06:00:38.285873Z",
     "start_time": "2019-09-03T06:00:37.545384Z"
    }
   },
   "outputs": [],
   "source": [
    "for u in urls:\n",
    "  c = client.from_url(u)\n",
    "  d = c.description.replace('\\n', ' ')\n",
    "  print(f'{c.title} - {c.articles_count} - {d}')\n",
    "  print(u)\n"
   ]
  },
  {
   "cell_type": "code",
   "execution_count": null,
   "metadata": {
    "ExecuteTime": {
     "end_time": "2019-09-03T17:06:02.301736Z",
     "start_time": "2019-09-03T17:06:02.193989Z"
    }
   },
   "outputs": [],
   "source": [
    "import tools"
   ]
  },
  {
   "cell_type": "code",
   "execution_count": null,
   "metadata": {
    "ExecuteTime": {
     "end_time": "2019-09-03T17:06:32.259451Z",
     "start_time": "2019-09-03T17:06:32.196603Z"
    }
   },
   "outputs": [],
   "source": [
    "\n",
    "d  = {\"tip\": \"[福利]坚果云+Eagle序列号，内部团购来了... - 酷coo豆\"}\n",
    "tools.yaml_saves(d)"
   ]
  },
  {
   "cell_type": "code",
   "execution_count": null,
   "metadata": {
    "ExecuteTime": {
     "end_time": "2019-09-04T16:08:23.796289Z",
     "start_time": "2019-09-04T16:08:23.734454Z"
    }
   },
   "outputs": [],
   "source": [
    "\n",
    "ban_topics=( )\n",
    "type(ban_topics)"
   ]
  },
  {
   "cell_type": "code",
   "execution_count": null,
   "metadata": {
    "ExecuteTime": {
     "end_time": "2019-09-04T12:29:23.949123Z",
     "start_time": "2019-09-04T12:29:23.885293Z"
    }
   },
   "outputs": [],
   "source": [
    "print(tools.time_now())"
   ]
  },
  {
   "cell_type": "code",
   "execution_count": null,
   "metadata": {
    "ExecuteTime": {
     "end_time": "2019-09-04T15:58:11.932527Z",
     "start_time": "2019-09-04T15:58:11.871717Z"
    }
   },
   "outputs": [],
   "source": [
    "topic = client.from_url('https://www.zhihu.com/topic/19564001/')"
   ]
  },
  {
   "cell_type": "code",
   "execution_count": null,
   "metadata": {
    "ExecuteTime": {
     "end_time": "2019-09-04T16:15:56.047275Z",
     "start_time": "2019-09-04T16:15:55.958504Z"
    }
   },
   "outputs": [],
   "source": [
    "set('')"
   ]
  },
  {
   "cell_type": "code",
   "execution_count": null,
   "metadata": {
    "ExecuteTime": {
     "end_time": "2019-09-04T16:27:22.465830Z",
     "start_time": "2019-09-04T16:27:22.375075Z"
    }
   },
   "outputs": [],
   "source": [
    "banned_keywords = set()\n",
    "\n",
    "any((key in 'ashfasfh') for key in banned_keywords)"
   ]
  },
  {
   "cell_type": "code",
   "execution_count": null,
   "metadata": {
    "ExecuteTime": {
     "end_time": "2019-09-04T16:03:20.302803Z",
     "start_time": "2019-09-04T16:03:17.450138Z"
    },
    "scrolled": false
   },
   "outputs": [],
   "source": [
    "for i, answer in tools.enumer(topic.best_answers, first=30):\n",
    "  topics = ' '.join(t.name for t in answer.question.topics)\n",
    "  ratio = answer.voteup_count / answer.thanks_count\n",
    "  result = f'''\n",
    "  {answer.question.title} 赞{answer.voteup_count} 谢{answer.thanks_count} ({ratio:.2f})\n",
    "  {topics}'''\n",
    "  print(result)"
   ]
  },
  {
   "cell_type": "code",
   "execution_count": null,
   "metadata": {
    "ExecuteTime": {
     "end_time": "2019-09-05T02:10:22.765149Z",
     "start_time": "2019-09-05T02:10:22.691372Z"
    }
   },
   "outputs": [],
   "source": [
    "from IPython.core.interactiveshell import InteractiveShell\n",
    "InteractiveShell.ast_node_interactivity = \"all\""
   ]
  },
  {
   "cell_type": "code",
   "execution_count": null,
   "metadata": {
    "ExecuteTime": {
     "end_time": "2019-09-05T02:42:22.957931Z",
     "start_time": "2019-09-05T02:42:22.876149Z"
    }
   },
   "outputs": [],
   "source": [
    "f = '《史记》记载孔子将原有的三千首有余的《诗经》删除，只剩三百零五篇。并说“诗三百，一言以蔽之，思无邪”可为什么还有《野有死麕》这样的略有点太过于开放、露骨的诗歌存在？ - kim vic的回答.md'\n",
    "\n",
    "def filename(name): \n",
    "  # name = remove_invalid_char(self.metadata['title']) + '.md'\n",
    "  enlen = lambda t: tools.encode_len(t, encode='utf-8')\n",
    "  if  enlen(name) > 255:  \n",
    "    # Linux 视为 ext4 格式, 需要 filename 不超过 255 字符\n",
    "    parts = name.split(' ')\n",
    "    long_part_index = parts.index(max(parts, key=enlen))\n",
    "    limit = enlen(parts[long_part_index]) - (enlen(name) - 255)\n",
    "    parts[long_part_index] = tools.truncate(parts[long_part_index], limit=limit, encode='utf-8')\n",
    "    return ' '.join(parts)\n",
    "  else:\n",
    "    return name\n",
    "\n",
    "\n",
    "filename(f), tools.encode_len(filename(f), 'utf-8')"
   ]
  },
  {
   "cell_type": "code",
   "execution_count": null,
   "metadata": {
    "ExecuteTime": {
     "end_time": "2019-09-05T02:39:29.930172Z",
     "start_time": "2019-09-05T02:39:29.849401Z"
    }
   },
   "outputs": [],
   "source": []
  }
 ],
 "metadata": {
  "hide_input": false,
  "kernelspec": {
   "display_name": "Python 3",
   "language": "python",
   "name": "python3"
  },
  "language_info": {
   "codemirror_mode": {
    "name": "ipython",
    "version": 3
   },
   "file_extension": ".py",
   "mimetype": "text/x-python",
   "name": "python",
   "nbconvert_exporter": "python",
   "pygments_lexer": "ipython3",
   "version": "3.6.3"
  },
  "toc": {
   "nav_menu": {
    "height": "316px",
    "width": "434px"
   },
   "number_sections": true,
   "sideBar": false,
   "skip_h1_title": false,
   "title_cell": "Table of Contents",
   "title_sidebar": "Contents",
   "toc_cell": false,
   "toc_position": {
    "height": "47px",
    "left": "681px",
    "top": "32px",
    "width": "159px"
   },
   "toc_section_display": false,
   "toc_window_display": true
  }
 },
 "nbformat": 4,
 "nbformat_minor": 1
}
